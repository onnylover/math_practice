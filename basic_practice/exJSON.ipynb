{
 "metadata": {
  "language_info": {
   "codemirror_mode": {
    "name": "ipython",
    "version": 3
   },
   "file_extension": ".py",
   "mimetype": "text/x-python",
   "name": "python",
   "nbconvert_exporter": "python",
   "pygments_lexer": "ipython3",
   "version": "3.8.8"
  },
  "orig_nbformat": 2,
  "kernelspec": {
   "name": "python388jvsc74a57bd0a4503c66061154845d9feebd31ca779b200feb9d7f34a6bcb97185d9ee5f3fa3",
   "display_name": "Python 3.8.8 64-bit ('base': conda)"
  }
 },
 "nbformat": 4,
 "nbformat_minor": 2,
 "cells": [
  {
   "source": [
    "## What is JSON?\n",
    "    - JavaScript Object Notation"
   ],
   "cell_type": "markdown",
   "metadata": {}
  },
  {
   "cell_type": "code",
   "execution_count": 14,
   "metadata": {},
   "outputs": [],
   "source": [
    "import json"
   ]
  },
  {
   "source": [
    "### python JSON to dict"
   ],
   "cell_type": "markdown",
   "metadata": {}
  },
  {
   "cell_type": "code",
   "execution_count": 9,
   "metadata": {},
   "outputs": [],
   "source": [
    "person = '''{\"name\":\"JJ\",\n",
    "          \"languages\":[\"English\",\"Chinese\"]}'''"
   ]
  },
  {
   "cell_type": "code",
   "execution_count": 10,
   "metadata": {},
   "outputs": [],
   "source": [
    "# load JSON (need str dtype)\n",
    "person_dict = json.loads(person)"
   ]
  },
  {
   "cell_type": "code",
   "execution_count": 11,
   "metadata": {},
   "outputs": [
    {
     "output_type": "stream",
     "name": "stdout",
     "text": [
      "{'name': 'JJ', 'languages': ['English', 'Chinese']}\n"
     ]
    }
   ],
   "source": [
    "print(person_dict)"
   ]
  },
  {
   "cell_type": "code",
   "execution_count": 12,
   "metadata": {},
   "outputs": [
    {
     "output_type": "stream",
     "name": "stdout",
     "text": [
      "JJ\n"
     ]
    }
   ],
   "source": [
    "print(person_dict[\"name\"])"
   ]
  },
  {
   "cell_type": "code",
   "execution_count": 13,
   "metadata": {},
   "outputs": [
    {
     "output_type": "stream",
     "name": "stdout",
     "text": [
      "['English', 'Chinese']\n"
     ]
    }
   ],
   "source": [
    "print(person_dict[\"languages\"])"
   ]
  },
  {
   "source": [
    "### python read JSON "
   ],
   "cell_type": "markdown",
   "metadata": {}
  },
  {
   "cell_type": "code",
   "execution_count": 22,
   "metadata": {},
   "outputs": [
    {
     "output_type": "stream",
     "name": "stdout",
     "text": [
      "{'name”:”DINGDONG”,”languages': ['English', 'Chinese']}\n"
     ]
    }
   ],
   "source": [
    "import json\n",
    "\n",
    "with open(\"person.json\") as f:\n",
    "    data = json.load(f)\n",
    "\n",
    "print(data)"
   ]
  },
  {
   "source": [
    "### convert Dict to JSON"
   ],
   "cell_type": "markdown",
   "metadata": {}
  },
  {
   "cell_type": "code",
   "execution_count": 20,
   "metadata": {},
   "outputs": [
    {
     "output_type": "stream",
     "name": "stdout",
     "text": [
      "{\"name\": \"JUNE\", \"age\": 12, \"children\": null}\n"
     ]
    }
   ],
   "source": [
    "import json\n",
    "\n",
    "person_dict = {\n",
    "    \"name\":\"JUNE\",\n",
    "    \"age\":12,\n",
    "    \"children\" : None\n",
    "}\n",
    "# convert python data type to json type\n",
    "# ----------------------------\n",
    "#   python          JSON\n",
    "# ----------------------------\n",
    "#   dict            object\n",
    "#   list,tuple      arrary\n",
    "#   str             string\n",
    "#   int,float       number\n",
    "# ----------------------------\n",
    "\n",
    "person_json = json.dumps(person_dict)\n",
    "print(person_json)"
   ]
  },
  {
   "source": [
    "### Writing JSON to a file"
   ],
   "cell_type": "markdown",
   "metadata": {}
  },
  {
   "cell_type": "code",
   "execution_count": 24,
   "metadata": {},
   "outputs": [],
   "source": [
    "import json\n",
    "\n",
    "person_dict = {\"name\":\"May\",\n",
    "          \"languages\":[\"Korean\",\"Chinese\"],\n",
    "          \"married\" : True,\n",
    "          \"age\":33\n",
    "          }\n",
    "# write only\n",
    "with open(\"person1.json\", \"w\") as f:\n",
    "    # dumps(target, file_name)\n",
    "    json.dump(person_dict, f)\n",
    "\n"
   ]
  },
  {
   "cell_type": "code",
   "execution_count": null,
   "metadata": {},
   "outputs": [],
   "source": []
  }
 ]
}