{
 "metadata": {
  "language_info": {
   "codemirror_mode": {
    "name": "ipython",
    "version": 3
   },
   "file_extension": ".py",
   "mimetype": "text/x-python",
   "name": "python",
   "nbconvert_exporter": "python",
   "pygments_lexer": "ipython3",
   "version": "3.8.8"
  },
  "orig_nbformat": 2,
  "kernelspec": {
   "name": "python388jvsc74a57bd0a4503c66061154845d9feebd31ca779b200feb9d7f34a6bcb97185d9ee5f3fa3",
   "display_name": "Python 3.8.8 64-bit ('base': conda)"
  }
 },
 "nbformat": 4,
 "nbformat_minor": 2,
 "cells": [
  {
   "source": [
    "## Check Numpy version"
   ],
   "cell_type": "markdown",
   "metadata": {}
  },
  {
   "cell_type": "code",
   "execution_count": 245,
   "metadata": {},
   "outputs": [],
   "source": [
    "import numpy as np\n",
    "import pandas as pd"
   ]
  },
  {
   "cell_type": "code",
   "execution_count": 246,
   "metadata": {},
   "outputs": [
    {
     "output_type": "stream",
     "name": "stdout",
     "text": [
      "1.2.3\n1.19.2\n"
     ]
    }
   ],
   "source": [
    "# jupyter nb print last one\n",
    "print(pd.__version__)\n",
    "print(np.__version__)"
   ]
  },
  {
   "cell_type": "code",
   "execution_count": 247,
   "metadata": {},
   "outputs": [
    {
     "output_type": "stream",
     "name": "stdout",
     "text": [
      "\u001b[33mDEPRECATION: Python 2.7 reached the end of its life on January 1st, 2020. Please upgrade your Python as Python 2.7 is no longer maintained. pip 21.0 will drop support for Python 2.7 in January 2021. More details about Python 2 support in pip can be found at https://pip.pypa.io/en/latest/development/release-process/#python-2-support pip 21.0 will remove support for this functionality.\u001b[0m\n",
      "Package             Version\n",
      "------------------- -----------\n",
      "appdirs             1.4.4\n",
      "configparser        4.0.2\n",
      "contextlib2         0.6.0.post1\n",
      "distlib             0.3.1\n",
      "filelock            3.0.12\n",
      "importlib-metadata  2.1.1\n",
      "importlib-resources 3.3.1\n",
      "pathlib2            2.3.5\n",
      "pip                 20.3.4\n",
      "pygame              2.0.1\n",
      "scandir             1.10.0\n",
      "setuptools          41.2.0\n",
      "singledispatch      3.6.1\n",
      "six                 1.15.0\n",
      "typing              3.7.4.3\n",
      "virtualenv          20.4.3\n",
      "zipp                1.2.0\n"
     ]
    }
   ],
   "source": [
    "!pip list"
   ]
  },
  {
   "source": [],
   "cell_type": "markdown",
   "metadata": {}
  },
  {
   "source": [
    "### create ndarray"
   ],
   "cell_type": "markdown",
   "metadata": {}
  },
  {
   "cell_type": "code",
   "execution_count": 248,
   "metadata": {},
   "outputs": [],
   "source": [
    "arr = np.array([1,2,3,4],dtype=int)"
   ]
  },
  {
   "cell_type": "code",
   "execution_count": 249,
   "metadata": {},
   "outputs": [
    {
     "output_type": "execute_result",
     "data": {
      "text/plain": [
       "numpy.ndarray"
      ]
     },
     "metadata": {},
     "execution_count": 249
    }
   ],
   "source": [
    "type(arr)"
   ]
  },
  {
   "cell_type": "code",
   "execution_count": 250,
   "metadata": {},
   "outputs": [
    {
     "output_type": "execute_result",
     "data": {
      "text/plain": [
       "(4,)"
      ]
     },
     "metadata": {},
     "execution_count": 250
    }
   ],
   "source": [
    "arr.shape"
   ]
  },
  {
   "cell_type": "code",
   "execution_count": 251,
   "metadata": {},
   "outputs": [
    {
     "output_type": "execute_result",
     "data": {
      "text/plain": [
       "array([1, 2, 3, 4])"
      ]
     },
     "metadata": {},
     "execution_count": 251
    }
   ],
   "source": [
    "arr"
   ]
  },
  {
   "cell_type": "code",
   "execution_count": 252,
   "metadata": {},
   "outputs": [],
   "source": [
    "# python에서 list를 먼저 만들고, 이후에 np.arrary 로 타입 설정 해야 np에서 사용가능함\n",
    "# shape 는 ndarray에서만 보이기 때문에 추후 주의 할 것\n",
    "\n",
    "# 1차원 리스트\n",
    "myList = [1,2,3,4]\n",
    "# ndarray 로 전환시 소수점으로 변경\n",
    "arr = np.array(myList,dtype=float)"
   ]
  },
  {
   "cell_type": "code",
   "execution_count": 253,
   "metadata": {},
   "outputs": [
    {
     "output_type": "execute_result",
     "data": {
      "text/plain": [
       "array([1., 2., 3., 4.])"
      ]
     },
     "metadata": {},
     "execution_count": 253
    }
   ],
   "source": [
    "arr"
   ]
  },
  {
   "cell_type": "code",
   "execution_count": 254,
   "metadata": {},
   "outputs": [],
   "source": [
    "# Quiz -> 소수를 정수로 전환할때는 그냥 버림 처리 되어버림\n",
    "myList = [1.6, 2.6, 3.6, 4.6]\n",
    "arr2 = np.array(myList,dtype=int)"
   ]
  },
  {
   "cell_type": "code",
   "execution_count": 255,
   "metadata": {},
   "outputs": [
    {
     "output_type": "execute_result",
     "data": {
      "text/plain": [
       "array([1, 2, 3, 4])"
      ]
     },
     "metadata": {},
     "execution_count": 255
    }
   ],
   "source": [
    "arr2"
   ]
  },
  {
   "cell_type": "code",
   "execution_count": 256,
   "metadata": {},
   "outputs": [],
   "source": [
    "# 2차원 리스트\n",
    "\n",
    "myList2 = [[1,2,3,4],\n",
    "           [5,6,7,8]]\n",
    "myList3 = [[1.3,2,3,4],\n",
    "           [5,6,7,8]]"
   ]
  },
  {
   "cell_type": "code",
   "execution_count": 257,
   "metadata": {},
   "outputs": [
    {
     "output_type": "execute_result",
     "data": {
      "text/plain": [
       "[[1.3, 2, 3, 4], [5, 6, 7, 8]]"
      ]
     },
     "metadata": {},
     "execution_count": 257
    }
   ],
   "source": [
    "myList2\n",
    "myList3"
   ]
  },
  {
   "cell_type": "code",
   "execution_count": 258,
   "metadata": {},
   "outputs": [],
   "source": [
    "# ndarray 로 전환시 데이터 타입은 기존 속성을 따라감 (한개만 소수가 있으면 소수를 따라감)\n",
    "arr = np.array(myList2)\n",
    "arr3 = np.array(myList3)"
   ]
  },
  {
   "cell_type": "code",
   "execution_count": 259,
   "metadata": {},
   "outputs": [
    {
     "output_type": "stream",
     "name": "stdout",
     "text": [
      "[[1 2 3 4]\n [5 6 7 8]]\n(2, 4)\n<class 'numpy.int64'>\n[[1.3 2.  3.  4. ]\n [5.  6.  7.  8. ]]\n(2, 4)\n<class 'numpy.float64'>\n"
     ]
    }
   ],
   "source": [
    "print(arr)\n",
    "print(arr.shape)\n",
    "print(type(arr[0][0]))\n",
    "print(arr3)\n",
    "print(arr3.shape)\n",
    "print(type(arr3[0][0]))"
   ]
  },
  {
   "cell_type": "code",
   "execution_count": 260,
   "metadata": {},
   "outputs": [],
   "source": [
    "# 문자열이 포함될 경우 전체 문자열로 변경됨\n",
    "\n",
    "myList = [1,3.14,\"hello\",\"1234\"]"
   ]
  },
  {
   "cell_type": "code",
   "execution_count": 261,
   "metadata": {},
   "outputs": [
    {
     "output_type": "stream",
     "name": "stdout",
     "text": [
      "[1, 3.14, 'hello', '1234']\n<class 'list'>\n"
     ]
    }
   ],
   "source": [
    "print(myList)\n",
    "print(type(myList))"
   ]
  },
  {
   "cell_type": "code",
   "execution_count": 262,
   "metadata": {},
   "outputs": [],
   "source": [
    "arr = np.array(myList)"
   ]
  },
  {
   "cell_type": "code",
   "execution_count": 263,
   "metadata": {},
   "outputs": [
    {
     "output_type": "execute_result",
     "data": {
      "text/plain": [
       "array(['1', '3.14', 'hello', '1234'], dtype='<U32')"
      ]
     },
     "metadata": {},
     "execution_count": 263
    }
   ],
   "source": [
    "arr"
   ]
  },
  {
   "cell_type": "code",
   "execution_count": 264,
   "metadata": {},
   "outputs": [
    {
     "output_type": "stream",
     "name": "stdout",
     "text": [
      "13.14\n4.140000000000001\n"
     ]
    }
   ],
   "source": [
    "# str add\n",
    "print(arr[0]+arr[1])\n",
    "# changed dtype 형변환\n",
    "print(float(arr[0])+float(arr[1]))"
   ]
  },
  {
   "source": [
    "### Slicing\n",
    "#### selecting part of array"
   ],
   "cell_type": "markdown",
   "metadata": {}
  },
  {
   "source": [
    "#### 1D array"
   ],
   "cell_type": "markdown",
   "metadata": {}
  },
  {
   "cell_type": "code",
   "execution_count": 265,
   "metadata": {},
   "outputs": [
    {
     "output_type": "execute_result",
     "data": {
      "text/plain": [
       "(10,)"
      ]
     },
     "metadata": {},
     "execution_count": 265
    }
   ],
   "source": [
    "arr = np.array([0,1,2,3,4,5,6,7,8,9])\n",
    "arr.shape"
   ]
  },
  {
   "cell_type": "code",
   "execution_count": 266,
   "metadata": {},
   "outputs": [
    {
     "output_type": "error",
     "ename": "IndexError",
     "evalue": "index 10 is out of bounds for axis 0 with size 10",
     "traceback": [
      "\u001b[0;31m---------------------------------------------------------------------------\u001b[0m",
      "\u001b[0;31mIndexError\u001b[0m                                Traceback (most recent call last)",
      "\u001b[0;32m<ipython-input-266-ff656e92d79c>\u001b[0m in \u001b[0;36m<module>\u001b[0;34m\u001b[0m\n\u001b[0;32m----> 1\u001b[0;31m \u001b[0marr\u001b[0m\u001b[0;34m[\u001b[0m\u001b[0;36m10\u001b[0m\u001b[0;34m]\u001b[0m\u001b[0;34m\u001b[0m\u001b[0;34m\u001b[0m\u001b[0m\n\u001b[0m",
      "\u001b[0;31mIndexError\u001b[0m: index 10 is out of bounds for axis 0 with size 10"
     ]
    }
   ],
   "source": [
    "arr[10]"
   ]
  },
  {
   "cell_type": "code",
   "execution_count": 53,
   "metadata": {},
   "outputs": [
    {
     "output_type": "error",
     "ename": "IndexError",
     "evalue": "index -11 is out of bounds for axis 0 with size 10",
     "traceback": [
      "\u001b[0;31m---------------------------------------------------------------------------\u001b[0m",
      "\u001b[0;31mIndexError\u001b[0m                                Traceback (most recent call last)",
      "\u001b[0;32m<ipython-input-53-91f133f07612>\u001b[0m in \u001b[0;36m<module>\u001b[0;34m\u001b[0m\n\u001b[0;32m----> 1\u001b[0;31m \u001b[0marr\u001b[0m\u001b[0;34m[\u001b[0m\u001b[0;34m-\u001b[0m\u001b[0;36m11\u001b[0m\u001b[0;34m]\u001b[0m\u001b[0;34m\u001b[0m\u001b[0;34m\u001b[0m\u001b[0m\n\u001b[0m",
      "\u001b[0;31mIndexError\u001b[0m: index -11 is out of bounds for axis 0 with size 10"
     ]
    }
   ],
   "source": [
    "arr[-11]"
   ]
  },
  {
   "source": [
    "#### 2D array"
   ],
   "cell_type": "markdown",
   "metadata": {}
  },
  {
   "cell_type": "code",
   "execution_count": 55,
   "metadata": {},
   "outputs": [],
   "source": [
    "arr2d = np.array([[1,2,3,4],[5,6,7,8],[9,10,11,12]])"
   ]
  },
  {
   "cell_type": "code",
   "execution_count": 56,
   "metadata": {},
   "outputs": [
    {
     "output_type": "execute_result",
     "data": {
      "text/plain": [
       "array([[ 1,  2,  3,  4],\n",
       "       [ 5,  6,  7,  8],\n",
       "       [ 9, 10, 11, 12]])"
      ]
     },
     "metadata": {},
     "execution_count": 56
    }
   ],
   "source": [
    "arr2d"
   ]
  },
  {
   "cell_type": "code",
   "execution_count": 81,
   "metadata": {},
   "outputs": [],
   "source": [
    "# 한방에 할 수 있음\n",
    "# arange (start_num, end_num, default strat_num=0)\n",
    "arr2d = np.array(np.arange(1,13).reshape(3,4))"
   ]
  },
  {
   "cell_type": "code",
   "execution_count": 82,
   "metadata": {},
   "outputs": [
    {
     "output_type": "execute_result",
     "data": {
      "text/plain": [
       "array([[ 1,  2,  3,  4],\n",
       "       [ 5,  6,  7,  8],\n",
       "       [ 9, 10, 11, 12]])"
      ]
     },
     "metadata": {},
     "execution_count": 82
    }
   ],
   "source": [
    "arr2d"
   ]
  },
  {
   "cell_type": "code",
   "execution_count": 84,
   "metadata": {},
   "outputs": [
    {
     "output_type": "stream",
     "name": "stdout",
     "text": [
      "3\n11\n"
     ]
    }
   ],
   "source": [
    "print(arr2d[0,2])\n",
    "print(arr2d[2,2])"
   ]
  },
  {
   "source": [
    "#### 1d slicing"
   ],
   "cell_type": "markdown",
   "metadata": {}
  },
  {
   "cell_type": "code",
   "execution_count": 97,
   "metadata": {},
   "outputs": [],
   "source": [
    "arr1d = np.array(np.arange(1,13))"
   ]
  },
  {
   "cell_type": "code",
   "execution_count": 98,
   "metadata": {},
   "outputs": [
    {
     "output_type": "stream",
     "name": "stdout",
     "text": [
      "[ 2  3  4  5  6  7  8  9 10 11 12]\n[ 2  3  4  5  6  7  8  9 10]\n[ 1  2  3  4  5  6  7  8  9 10 11]\n[ 1  2  3  4  5  6  7  8  9 10 11]\n[ 1  2  3  4  5  6  7  8  9 10]\n"
     ]
    }
   ],
   "source": [
    "# 구간 추출 = 시작값(이상):종료값(미만)\n",
    "# 시작값이 없으면 처음부터\n",
    "# 종료값이 없으면 끝까지\n",
    "print(arr1d[1:])\n",
    "print(arr1d[1:10])\n",
    "print(arr1d[:11])\n",
    "print(arr1d[:-1])\n",
    "print(arr1d[:-2])"
   ]
  },
  {
   "source": [
    "#### 2d slicing"
   ],
   "cell_type": "markdown",
   "metadata": {}
  },
  {
   "cell_type": "code",
   "execution_count": 99,
   "metadata": {},
   "outputs": [],
   "source": [
    "arr2d = np.array(np.arange(1,13).reshape(3,4))"
   ]
  },
  {
   "cell_type": "code",
   "execution_count": 100,
   "metadata": {},
   "outputs": [
    {
     "output_type": "execute_result",
     "data": {
      "text/plain": [
       "array([[ 1,  2,  3,  4],\n",
       "       [ 5,  6,  7,  8],\n",
       "       [ 9, 10, 11, 12]])"
      ]
     },
     "metadata": {},
     "execution_count": 100
    }
   ],
   "source": [
    "arr2d"
   ]
  },
  {
   "cell_type": "code",
   "execution_count": 104,
   "metadata": {},
   "outputs": [
    {
     "output_type": "stream",
     "name": "stdout",
     "text": [
      "[5 6 7 8]\n[5 6 7 8]\n(4,)\n"
     ]
    }
   ],
   "source": [
    "# 특정 행 전체\n",
    "# 행, 열(리스트 범위 재설정, : 전체)\n",
    "print(arr2d[1])\n",
    "print(arr2d[1,:])\n",
    "print(arr2d[1,:].shape)"
   ]
  },
  {
   "cell_type": "code",
   "execution_count": 114,
   "metadata": {},
   "outputs": [
    {
     "output_type": "execute_result",
     "data": {
      "text/plain": [
       "array([[2, 3],\n",
       "       [6, 7]])"
      ]
     },
     "metadata": {},
     "execution_count": 114
    }
   ],
   "source": [
    "# 행에 대해서 시작:종료, 열에 대해서 시작:종료로 복합적으로 사용\n",
    "\n",
    "arr2d[:2,1:3]"
   ]
  },
  {
   "cell_type": "code",
   "execution_count": 161,
   "metadata": {},
   "outputs": [
    {
     "output_type": "stream",
     "name": "stdout",
     "text": [
      "[[ 1  2  3  4  5]\n [ 6  7  8  9 10]\n [11 12 13 14 15]\n [16 17 18 19 20]\n [21 22 23 24 25]]\n[[12 13 14]\n [17 18 19]\n [22 23 24]]\n"
     ]
    },
    {
     "output_type": "execute_result",
     "data": {
      "text/plain": [
       "''"
      ]
     },
     "metadata": {},
     "execution_count": 161
    }
   ],
   "source": [
    "# 5*5 배열, 11-36\n",
    "\n",
    "my2dArr = np.array(np.arange(1,26).reshape(5,5))\n",
    "print(my2dArr)\n",
    "print(my2dArr[2:,1:4])\n",
    "\"\""
   ]
  },
  {
   "source": [
    "### Fancy indexing\n",
    "#### find out specific index value"
   ],
   "cell_type": "markdown",
   "metadata": {}
  },
  {
   "cell_type": "code",
   "execution_count": 123,
   "metadata": {},
   "outputs": [],
   "source": [
    "# 1D fancy indexing\n",
    "my1dArr = np.array(np.arange(1,10))"
   ]
  },
  {
   "cell_type": "code",
   "execution_count": 124,
   "metadata": {},
   "outputs": [
    {
     "output_type": "execute_result",
     "data": {
      "text/plain": [
       "array([1, 2, 3, 4, 5, 6, 7, 8, 9])"
      ]
     },
     "metadata": {},
     "execution_count": 124
    }
   ],
   "source": [
    "my1dArr"
   ]
  },
  {
   "cell_type": "code",
   "execution_count": 125,
   "metadata": {},
   "outputs": [
    {
     "output_type": "execute_result",
     "data": {
      "text/plain": [
       "array([1, 3, 5])"
      ]
     },
     "metadata": {},
     "execution_count": 125
    }
   ],
   "source": [
    "idx = [0, 2, 4]\n",
    "arr1d[idx]"
   ]
  },
  {
   "cell_type": "code",
   "execution_count": 128,
   "metadata": {},
   "outputs": [],
   "source": [
    "# 2D fancy indexing\n",
    "my2dArr = np.array(np.arange(1,13).reshape(3,4))"
   ]
  },
  {
   "cell_type": "code",
   "execution_count": 129,
   "metadata": {},
   "outputs": [
    {
     "output_type": "execute_result",
     "data": {
      "text/plain": [
       "array([[ 1,  2,  3,  4],\n",
       "       [ 5,  6,  7,  8],\n",
       "       [ 9, 10, 11, 12]])"
      ]
     },
     "metadata": {},
     "execution_count": 129
    }
   ],
   "source": [
    "my2dArr"
   ]
  },
  {
   "cell_type": "code",
   "execution_count": 133,
   "metadata": {},
   "outputs": [
    {
     "output_type": "stream",
     "name": "stdout",
     "text": [
      "[[1 3 4]\n [5 7 8]]\n[[1 2 3]\n [5 6 7]]\n"
     ]
    }
   ],
   "source": [
    "# 연속적이지 않은 값을 추출 할때 적합함\n",
    "idx = [0,2,3]\n",
    "print(my2dArr[:2,idx])\n"
   ]
  },
  {
   "source": [
    "### Boolean indexing\n",
    "#### using bool condition, find out what need"
   ],
   "cell_type": "markdown",
   "metadata": {}
  },
  {
   "cell_type": "code",
   "execution_count": 134,
   "metadata": {},
   "outputs": [],
   "source": [
    "arr = np.array(np.arange(1,8))"
   ]
  },
  {
   "cell_type": "code",
   "execution_count": 135,
   "metadata": {},
   "outputs": [
    {
     "output_type": "execute_result",
     "data": {
      "text/plain": [
       "array([1, 2, 3, 4, 5, 6, 7])"
      ]
     },
     "metadata": {},
     "execution_count": 135
    }
   ],
   "source": [
    "arr"
   ]
  },
  {
   "cell_type": "code",
   "execution_count": 136,
   "metadata": {},
   "outputs": [],
   "source": [
    "arr2d = np.array(np.arange(1,13).reshape(3,4))"
   ]
  },
  {
   "cell_type": "code",
   "execution_count": 153,
   "metadata": {},
   "outputs": [
    {
     "output_type": "execute_result",
     "data": {
      "text/plain": [
       "array([[ 1,  2,  3,  4],\n",
       "       [ 5,  6,  7,  8],\n",
       "       [ 9, 10, 11, 12]])"
      ]
     },
     "metadata": {},
     "execution_count": 153
    }
   ],
   "source": [
    "arr2d"
   ]
  },
  {
   "cell_type": "code",
   "execution_count": 139,
   "metadata": {},
   "outputs": [],
   "source": [
    "# True 값이 있는 경우는 해당 인덱스의 값은 추출함\n",
    "myTureFalse = [True, False, True, False, False, False, False]"
   ]
  },
  {
   "cell_type": "code",
   "execution_count": 140,
   "metadata": {},
   "outputs": [
    {
     "output_type": "execute_result",
     "data": {
      "text/plain": [
       "array([1, 3])"
      ]
     },
     "metadata": {},
     "execution_count": 140
    }
   ],
   "source": [
    "arr[myTureFalse]"
   ]
  },
  {
   "cell_type": "code",
   "execution_count": 155,
   "metadata": {},
   "outputs": [],
   "source": [
    "myTureFalse2d = [[True, False, True, False],[True, False, True, False],[False, False, False, False]]\n",
    "test2d = np.array(myTureFalse2d)"
   ]
  },
  {
   "cell_type": "code",
   "execution_count": 157,
   "metadata": {},
   "outputs": [
    {
     "output_type": "execute_result",
     "data": {
      "text/plain": [
       "array([1, 3, 5, 7])"
      ]
     },
     "metadata": {},
     "execution_count": 157
    }
   ],
   "source": [
    "# arr2d[myTureFalse2d]\n",
    "arr2d[test2d]"
   ]
  },
  {
   "source": [
    "### Condition filter (<, >, =, <=, =>)"
   ],
   "cell_type": "markdown",
   "metadata": {}
  },
  {
   "cell_type": "code",
   "execution_count": 150,
   "metadata": {},
   "outputs": [],
   "source": [
    "condi = arr2d > 2"
   ]
  },
  {
   "cell_type": "code",
   "execution_count": 151,
   "metadata": {},
   "outputs": [
    {
     "output_type": "execute_result",
     "data": {
      "text/plain": [
       "array([ 3,  4,  5,  6,  7,  8,  9, 10, 11, 12])"
      ]
     },
     "metadata": {},
     "execution_count": 151
    }
   ],
   "source": [
    "arr2d[condi]"
   ]
  },
  {
   "cell_type": "code",
   "execution_count": 158,
   "metadata": {},
   "outputs": [
    {
     "output_type": "execute_result",
     "data": {
      "text/plain": [
       "array([ 3,  4,  5,  6,  7,  8,  9, 10, 11, 12])"
      ]
     },
     "metadata": {},
     "execution_count": 158
    }
   ],
   "source": [
    "# 조건필터의 값을 바로 인덱스에 바로 넣어도 됨 (객체화)\n",
    "arr2d[arr2d > 2]"
   ]
  },
  {
   "cell_type": "code",
   "execution_count": 160,
   "metadata": {},
   "outputs": [
    {
     "output_type": "execute_result",
     "data": {
      "text/plain": [
       "array([[1, 2],\n",
       "       [3, 4]])"
      ]
     },
     "metadata": {},
     "execution_count": 160
    }
   ],
   "source": [
    "arr2d[arr2d < 5].reshape(2,-1)"
   ]
  },
  {
   "source": [
    "## Arange?\n",
    "### = array + range"
   ],
   "cell_type": "markdown",
   "metadata": {}
  },
  {
   "cell_type": "code",
   "execution_count": null,
   "metadata": {},
   "outputs": [],
   "source": [
    "arr = [1,2,3,4,5,6,7,8,9,10]"
   ]
  },
  {
   "cell_type": "code",
   "execution_count": 162,
   "metadata": {},
   "outputs": [
    {
     "output_type": "execute_result",
     "data": {
      "text/plain": [
       "array([ 1,  2,  3,  4,  5,  6,  7,  8,  9, 10])"
      ]
     },
     "metadata": {},
     "execution_count": 162
    }
   ],
   "source": [
    "# arange (start, stop, default strat_num=0)\n",
    "# start = include index\n",
    "# stop = exclude index\n",
    "\n",
    "arr = np.arange(stop=11, start=1)\n",
    "arr"
   ]
  },
  {
   "cell_type": "code",
   "execution_count": 164,
   "metadata": {},
   "outputs": [
    {
     "output_type": "execute_result",
     "data": {
      "text/plain": [
       "array([1, 3, 5, 7, 9])"
      ]
     },
     "metadata": {},
     "execution_count": 164
    }
   ],
   "source": [
    "# make odd num ndarray\n",
    "# arange(start, stop, step)\n",
    "# 매개변수를 name으로 명시하는 경우는 순서를 임의로 하고자 할때\n",
    "arr = np.arange(1,11,2)\n",
    "arr"
   ]
  },
  {
   "source": [
    "### range = in python grammar"
   ],
   "cell_type": "markdown",
   "metadata": {}
  },
  {
   "cell_type": "code",
   "execution_count": 170,
   "metadata": {},
   "outputs": [
    {
     "output_type": "stream",
     "name": "stdout",
     "text": [
      "range(1, 11)\n"
     ]
    }
   ],
   "source": [
    "# when define range, it has not made values yet.\n",
    "# It really makes values in for or while method.\n",
    "test = range(1,11)\n",
    "test2 = range(1,11,2)\n",
    "print(test)"
   ]
  },
  {
   "cell_type": "code",
   "execution_count": 171,
   "metadata": {},
   "outputs": [
    {
     "output_type": "stream",
     "name": "stdout",
     "text": [
      "1\n2\n3\n4\n5\n6\n7\n8\n9\n10\n"
     ]
    }
   ],
   "source": [
    "for i in test :\n",
    "    print(i)"
   ]
  },
  {
   "cell_type": "code",
   "execution_count": 172,
   "metadata": {},
   "outputs": [
    {
     "output_type": "stream",
     "name": "stdout",
     "text": [
      "1\n3\n5\n7\n9\n"
     ]
    }
   ],
   "source": [
    "for i in test2 : \n",
    "    print(i)"
   ]
  },
  {
   "source": [
    "## ndArray sorting\n",
    "### 1d sorting"
   ],
   "cell_type": "markdown",
   "metadata": {}
  },
  {
   "cell_type": "code",
   "execution_count": 173,
   "metadata": {},
   "outputs": [],
   "source": [
    "arr = np.array([1,10,5,8,2,4,3,6,7,9])"
   ]
  },
  {
   "cell_type": "code",
   "execution_count": 181,
   "metadata": {},
   "outputs": [],
   "source": [
    "# asc\n",
    "mySort_asc = np.sort(arr)"
   ]
  },
  {
   "cell_type": "code",
   "execution_count": 182,
   "metadata": {},
   "outputs": [
    {
     "output_type": "execute_result",
     "data": {
      "text/plain": [
       "array([ 1, 10,  5,  8,  2,  4,  3,  6,  7,  9])"
      ]
     },
     "metadata": {},
     "execution_count": 182
    }
   ],
   "source": [
    "arr"
   ]
  },
  {
   "cell_type": "code",
   "execution_count": 183,
   "metadata": {},
   "outputs": [
    {
     "output_type": "execute_result",
     "data": {
      "text/plain": [
       "array([ 1,  2,  3,  4,  5,  6,  7,  8,  9, 10])"
      ]
     },
     "metadata": {},
     "execution_count": 183
    }
   ],
   "source": [
    "mySort_asc"
   ]
  },
  {
   "cell_type": "code",
   "execution_count": 184,
   "metadata": {},
   "outputs": [],
   "source": [
    "# desc \n",
    "mySort_desc = np.sort(arr)[::-1]"
   ]
  },
  {
   "cell_type": "code",
   "execution_count": 185,
   "metadata": {},
   "outputs": [
    {
     "output_type": "execute_result",
     "data": {
      "text/plain": [
       "array([10,  9,  8,  7,  6,  5,  4,  3,  2,  1])"
      ]
     },
     "metadata": {},
     "execution_count": 185
    }
   ],
   "source": [
    "mySort_desc"
   ]
  },
  {
   "source": [
    "#### 2d sorting"
   ],
   "cell_type": "markdown",
   "metadata": {}
  },
  {
   "cell_type": "code",
   "execution_count": 186,
   "metadata": {},
   "outputs": [],
   "source": [
    "arr2d = np.array([[5,6,7,8],[4,3,2,1],[10,9,12,11]])"
   ]
  },
  {
   "cell_type": "code",
   "execution_count": 187,
   "metadata": {},
   "outputs": [
    {
     "output_type": "execute_result",
     "data": {
      "text/plain": [
       "array([[ 5,  6,  7,  8],\n",
       "       [ 4,  3,  2,  1],\n",
       "       [10,  9, 12, 11]])"
      ]
     },
     "metadata": {},
     "execution_count": 187
    }
   ],
   "source": [
    "arr2d"
   ]
  },
  {
   "cell_type": "code",
   "execution_count": 191,
   "metadata": {},
   "outputs": [
    {
     "output_type": "stream",
     "name": "stdout",
     "text": [
      "[[ 5  6  7  8]\n [ 4  3  2  1]\n [10  9 12 11]]\n[[ 5  6  7  8]\n [ 1  2  3  4]\n [ 9 10 11 12]]\n[[ 4  3  2  1]\n [ 5  6  7  8]\n [10  9 12 11]]\n[[ 9 10 11 12]\n [ 1  2  3  4]\n [ 5  6  7  8]]\n[[10  9 12 11]\n [ 5  6  7  8]\n [ 4  3  2  1]]\n"
     ]
    }
   ],
   "source": [
    "# axis 값으로 행(1), 열(0)에 대해서 구분됨\n",
    "# 행 : 행 안에서 정렬\n",
    "# 열 : 열 안에서 정렬\n",
    "print(arr2d)\n",
    "print(np.sort(arr2d, axis=1))\n",
    "print(np.sort(arr2d, axis=0))\n",
    "print(np.sort(arr2d, axis=1)[::-1])\n",
    "print(np.sort(arr2d, axis=0)[::-1])"
   ]
  },
  {
   "source": [
    "### argsort -> return index"
   ],
   "cell_type": "markdown",
   "metadata": {}
  },
  {
   "cell_type": "code",
   "execution_count": 193,
   "metadata": {},
   "outputs": [],
   "source": [
    "arr2d = np.array([[5,6,7,8],[4,3,2,1],[10,9,12,11]])"
   ]
  },
  {
   "cell_type": "code",
   "execution_count": 194,
   "metadata": {},
   "outputs": [
    {
     "output_type": "execute_result",
     "data": {
      "text/plain": [
       "array([[ 5,  6,  7,  8],\n",
       "       [ 4,  3,  2,  1],\n",
       "       [10,  9, 12, 11]])"
      ]
     },
     "metadata": {},
     "execution_count": 194
    }
   ],
   "source": [
    "arr2d"
   ]
  },
  {
   "cell_type": "code",
   "execution_count": 195,
   "metadata": {},
   "outputs": [
    {
     "output_type": "execute_result",
     "data": {
      "text/plain": [
       "array([[0, 1, 2, 3],\n",
       "       [3, 2, 1, 0],\n",
       "       [1, 0, 3, 2]])"
      ]
     },
     "metadata": {},
     "execution_count": 195
    }
   ],
   "source": [
    "# 행/열 정렬에 대한 인덱스 값을 리턴 해줌\n",
    "np.argsort(arr2d,axis=1)"
   ]
  },
  {
   "source": [
    "## Calculate by numpy\n",
    "### matrix plus / minus"
   ],
   "cell_type": "markdown",
   "metadata": {}
  },
  {
   "cell_type": "code",
   "execution_count": 198,
   "metadata": {},
   "outputs": [],
   "source": [
    "# 덧셈\n",
    "a = np.array([[1,2,3],\n",
    "            [2,3,4]])"
   ]
  },
  {
   "cell_type": "code",
   "execution_count": 199,
   "metadata": {},
   "outputs": [],
   "source": [
    "b = np.array([[3,4,5],\n",
    "            [3,5,7]])"
   ]
  },
  {
   "cell_type": "code",
   "execution_count": 200,
   "metadata": {},
   "outputs": [
    {
     "output_type": "execute_result",
     "data": {
      "text/plain": [
       "array([[ 4,  6,  8],\n",
       "       [ 5,  8, 11]])"
      ]
     },
     "metadata": {},
     "execution_count": 200
    }
   ],
   "source": [
    "a+b"
   ]
  },
  {
   "cell_type": "code",
   "execution_count": 203,
   "metadata": {},
   "outputs": [],
   "source": [
    "a = np.array([[1,2,3],\n",
    "            [2,3,4]])"
   ]
  },
  {
   "cell_type": "code",
   "execution_count": 204,
   "metadata": {},
   "outputs": [],
   "source": [
    "b = np.array([[1,2],\n",
    "            [3,4],\n",
    "            [5,6]])"
   ]
  },
  {
   "cell_type": "code",
   "execution_count": 205,
   "metadata": {},
   "outputs": [
    {
     "output_type": "error",
     "ename": "ValueError",
     "evalue": "operands could not be broadcast together with shapes (2,3) (3,2) ",
     "traceback": [
      "\u001b[0;31m---------------------------------------------------------------------------\u001b[0m",
      "\u001b[0;31mValueError\u001b[0m                                Traceback (most recent call last)",
      "\u001b[0;32m<ipython-input-205-ca730b97bf8a>\u001b[0m in \u001b[0;36m<module>\u001b[0;34m\u001b[0m\n\u001b[0;32m----> 1\u001b[0;31m \u001b[0ma\u001b[0m\u001b[0;34m+\u001b[0m\u001b[0mb\u001b[0m\u001b[0;34m\u001b[0m\u001b[0;34m\u001b[0m\u001b[0m\n\u001b[0m",
      "\u001b[0;31mValueError\u001b[0m: operands could not be broadcast together with shapes (2,3) (3,2) "
     ]
    }
   ],
   "source": [
    "# matrix shape error\n",
    "a+b"
   ]
  },
  {
   "cell_type": "code",
   "execution_count": 206,
   "metadata": {},
   "outputs": [
    {
     "output_type": "execute_result",
     "data": {
      "text/plain": [
       "array([[ 1,  2,  3,  4,  5],\n",
       "       [ 6,  7,  8,  9, 10],\n",
       "       [11, 12, 13, 14, 15],\n",
       "       [16, 17, 18, 19, 20],\n",
       "       [21, 22, 23, 24, 25]])"
      ]
     },
     "metadata": {},
     "execution_count": 206
    }
   ],
   "source": [
    "# np.sum\n",
    "a = np.array(np.arange(1,26).reshape(5,5))\n",
    "a"
   ]
  },
  {
   "cell_type": "code",
   "execution_count": 207,
   "metadata": {},
   "outputs": [
    {
     "output_type": "stream",
     "name": "stdout",
     "text": [
      "[55 60 65 70 75]\n[ 15  40  65  90 115]\n"
     ]
    }
   ],
   "source": [
    "# 같은 행(가로) 다 더함\n",
    "print(np.sum(a, axis=1))\n",
    "# 같은 열(세로) 다 더함\n",
    "print(np.sum(a, axis=0))"
   ]
  },
  {
   "source": [
    "### matrix multiple"
   ],
   "cell_type": "markdown",
   "metadata": {}
  },
  {
   "cell_type": "code",
   "execution_count": 213,
   "metadata": {},
   "outputs": [],
   "source": [
    "a = np.array([[1,2,3],\n",
    "            [2,3,4]])"
   ]
  },
  {
   "cell_type": "code",
   "execution_count": 214,
   "metadata": {},
   "outputs": [],
   "source": [
    "b = np.array([[3,4,5],\n",
    "            [3,5,7]])"
   ]
  },
  {
   "cell_type": "code",
   "execution_count": 215,
   "metadata": {},
   "outputs": [
    {
     "output_type": "execute_result",
     "data": {
      "text/plain": [
       "((2, 3), (2, 3))"
      ]
     },
     "metadata": {},
     "execution_count": 215
    }
   ],
   "source": [
    "a.shape, b.shape"
   ]
  },
  {
   "cell_type": "code",
   "execution_count": 216,
   "metadata": {},
   "outputs": [
    {
     "output_type": "execute_result",
     "data": {
      "text/plain": [
       "array([[ 3,  8, 15],\n",
       "       [ 6, 15, 28]])"
      ]
     },
     "metadata": {},
     "execution_count": 216
    }
   ],
   "source": [
    "# shape 가 같은 경우\n",
    "# 같은 위치의 값을 곱함\n",
    "# Hadamard multiple\n",
    "a*b"
   ]
  },
  {
   "cell_type": "code",
   "execution_count": 217,
   "metadata": {},
   "outputs": [],
   "source": [
    "# shape 가 다른경우\n",
    "a = np.array(np.arange(1,10).reshape(3,3))\n",
    "b = np.array(np.arange(1,7).reshape(3,2))"
   ]
  },
  {
   "cell_type": "code",
   "execution_count": 219,
   "metadata": {},
   "outputs": [
    {
     "output_type": "execute_result",
     "data": {
      "text/plain": [
       "((3, 3), (3, 2))"
      ]
     },
     "metadata": {},
     "execution_count": 219
    }
   ],
   "source": [
    "a.shape, b.shape"
   ]
  },
  {
   "cell_type": "code",
   "execution_count": 220,
   "metadata": {},
   "outputs": [
    {
     "output_type": "execute_result",
     "data": {
      "text/plain": [
       "array([[ 22,  28],\n",
       "       [ 49,  64],\n",
       "       [ 76, 100]])"
      ]
     },
     "metadata": {},
     "execution_count": 220
    }
   ],
   "source": [
    "# define way 1\n",
    "np.dot(a,b)"
   ]
  },
  {
   "cell_type": "code",
   "execution_count": 221,
   "metadata": {},
   "outputs": [
    {
     "output_type": "execute_result",
     "data": {
      "text/plain": [
       "array([[ 22,  28],\n",
       "       [ 49,  64],\n",
       "       [ 76, 100]])"
      ]
     },
     "metadata": {},
     "execution_count": 221
    }
   ],
   "source": [
    "# define way 2\n",
    "a.dot(b)"
   ]
  },
  {
   "source": [
    "## Broadcasting"
   ],
   "cell_type": "markdown",
   "metadata": {}
  },
  {
   "cell_type": "code",
   "execution_count": 228,
   "metadata": {},
   "outputs": [],
   "source": [
    "a = np.array([[1,2,3],\n",
    "            [2,3,4]])"
   ]
  },
  {
   "cell_type": "code",
   "execution_count": 229,
   "metadata": {},
   "outputs": [],
   "source": [
    "b = np.array([[3,3,3],\n",
    "            [3,3,3]])"
   ]
  },
  {
   "cell_type": "code",
   "execution_count": 230,
   "metadata": {},
   "outputs": [
    {
     "output_type": "execute_result",
     "data": {
      "text/plain": [
       "array([[4, 5, 6],\n",
       "       [5, 6, 7]])"
      ]
     },
     "metadata": {},
     "execution_count": 230
    }
   ],
   "source": [
    "a+b"
   ]
  },
  {
   "cell_type": "code",
   "execution_count": 231,
   "metadata": {},
   "outputs": [
    {
     "output_type": "execute_result",
     "data": {
      "text/plain": [
       "array([[4, 5, 6],\n",
       "       [5, 6, 7]])"
      ]
     },
     "metadata": {},
     "execution_count": 231
    }
   ],
   "source": [
    "a+3"
   ]
  },
  {
   "cell_type": "code",
   "execution_count": 232,
   "metadata": {},
   "outputs": [
    {
     "output_type": "execute_result",
     "data": {
      "text/plain": [
       "array([[0.33333333, 0.66666667, 1.        ],\n",
       "       [0.66666667, 1.        , 1.33333333]])"
      ]
     },
     "metadata": {},
     "execution_count": 232
    }
   ],
   "source": [
    "a/3"
   ]
  },
  {
   "cell_type": "code",
   "execution_count": 238,
   "metadata": {},
   "outputs": [],
   "source": [
    "a = np.array([[1,2,3],\n",
    "            [2,3,4]])"
   ]
  },
  {
   "cell_type": "code",
   "execution_count": 239,
   "metadata": {},
   "outputs": [],
   "source": [
    "b = np.array([[1],\n",
    "            [2]])"
   ]
  },
  {
   "cell_type": "code",
   "execution_count": 240,
   "metadata": {},
   "outputs": [
    {
     "output_type": "execute_result",
     "data": {
      "text/plain": [
       "((2, 3), (2, 1))"
      ]
     },
     "metadata": {},
     "execution_count": 240
    }
   ],
   "source": [
    "a.shape, b.shape"
   ]
  },
  {
   "cell_type": "code",
   "execution_count": 241,
   "metadata": {},
   "outputs": [
    {
     "output_type": "execute_result",
     "data": {
      "text/plain": [
       "array([[1, 2, 3],\n",
       "       [4, 6, 8]])"
      ]
     },
     "metadata": {},
     "execution_count": 241
    }
   ],
   "source": [
    "# for each low calculate by broadcating\n",
    "a*b"
   ]
  },
  {
   "cell_type": "code",
   "execution_count": 242,
   "metadata": {},
   "outputs": [],
   "source": [
    "a = np.array([[1,2,3],\n",
    "            [2,3,4]])"
   ]
  },
  {
   "cell_type": "code",
   "execution_count": 243,
   "metadata": {},
   "outputs": [],
   "source": [
    "b = np.array([1,2,3])"
   ]
  },
  {
   "cell_type": "code",
   "execution_count": 244,
   "metadata": {},
   "outputs": [
    {
     "output_type": "execute_result",
     "data": {
      "text/plain": [
       "array([[ 1,  4,  9],\n",
       "       [ 2,  6, 12]])"
      ]
     },
     "metadata": {},
     "execution_count": 244
    }
   ],
   "source": [
    "# for each column calculate by broadcating\n",
    "a*b"
   ]
  },
  {
   "cell_type": "code",
   "execution_count": null,
   "metadata": {},
   "outputs": [],
   "source": []
  },
  {
   "cell_type": "code",
   "execution_count": null,
   "metadata": {},
   "outputs": [],
   "source": []
  },
  {
   "cell_type": "code",
   "execution_count": null,
   "metadata": {},
   "outputs": [],
   "source": []
  }
 ]
}