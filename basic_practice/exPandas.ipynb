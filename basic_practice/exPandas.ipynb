{
 "metadata": {
  "language_info": {
   "codemirror_mode": {
    "name": "ipython",
    "version": 3
   },
   "file_extension": ".py",
   "mimetype": "text/x-python",
   "name": "python",
   "nbconvert_exporter": "python",
   "pygments_lexer": "ipython3",
   "version": "3.8.8"
  },
  "orig_nbformat": 2,
  "kernelspec": {
   "name": "python388jvsc74a57bd0a4503c66061154845d9feebd31ca779b200feb9d7f34a6bcb97185d9ee5f3fa3",
   "display_name": "Python 3.8.8 64-bit ('base': conda)"
  }
 },
 "nbformat": 4,
 "nbformat_minor": 2,
 "cells": [
  {
   "source": [
    "## Knowing Series and DataFrame of pandas"
   ],
   "cell_type": "markdown",
   "metadata": {}
  },
  {
   "source": [
    "### Series\n",
    "#### Series = 1D, 1Column\n"
   ],
   "cell_type": "markdown",
   "metadata": {}
  },
  {
   "cell_type": "code",
   "execution_count": 33,
   "metadata": {},
   "outputs": [],
   "source": [
    "import pandas as pd"
   ]
  },
  {
   "cell_type": "code",
   "execution_count": 35,
   "metadata": {},
   "outputs": [],
   "source": [
    "# pandas nomally use int64 datatype (should confirm size of memory)\n",
    "myList = [1,2,3,4]\n",
    "test = pd.Series(myList)"
   ]
  },
  {
   "cell_type": "code",
   "execution_count": 37,
   "metadata": {},
   "outputs": [
    {
     "output_type": "stream",
     "name": "stdout",
     "text": [
      "<class 'pandas.core.series.Series'>\n"
     ]
    }
   ],
   "source": [
    "print(type(test))"
   ]
  },
  {
   "source": [
    "### DataFrame"
   ],
   "cell_type": "markdown",
   "metadata": {}
  },
  {
   "cell_type": "code",
   "execution_count": 39,
   "metadata": {},
   "outputs": [],
   "source": [
    "# Way1 : List\n",
    "company1 = [[\"Samsung\", 2000, \"Smartphone\"],\n",
    "            [\"Hyundai\", 1000, \"Mobility\"],\n",
    "            [\"Naver\", 500, \"Portal\"]]"
   ]
  },
  {
   "cell_type": "code",
   "execution_count": 41,
   "metadata": {},
   "outputs": [
    {
     "output_type": "stream",
     "name": "stdout",
     "text": [
      "<class 'pandas.core.frame.DataFrame'>\n         0     1           2\n0  Samsung  2000  Smartphone\n1  Hyundai  1000    Mobility\n2    Naver   500      Portal\n"
     ]
    }
   ],
   "source": [
    "df1 = pd.DataFrame(company1)\n",
    "print(type(df1))\n",
    "print(df1)"
   ]
  },
  {
   "cell_type": "code",
   "execution_count": 43,
   "metadata": {},
   "outputs": [],
   "source": [
    "df1.columns = [\"C_name\",\"Netsale\",\"M_busniess\"]"
   ]
  },
  {
   "cell_type": "code",
   "execution_count": 45,
   "metadata": {},
   "outputs": [
    {
     "output_type": "execute_result",
     "data": {
      "text/plain": [
       "    C_name  Netsale  M_busniess\n",
       "0  Samsung     2000  Smartphone\n",
       "1  Hyundai     1000    Mobility\n",
       "2    Naver      500      Portal"
      ],
      "text/html": "<div>\n<style scoped>\n    .dataframe tbody tr th:only-of-type {\n        vertical-align: middle;\n    }\n\n    .dataframe tbody tr th {\n        vertical-align: top;\n    }\n\n    .dataframe thead th {\n        text-align: right;\n    }\n</style>\n<table border=\"1\" class=\"dataframe\">\n  <thead>\n    <tr style=\"text-align: right;\">\n      <th></th>\n      <th>C_name</th>\n      <th>Netsale</th>\n      <th>M_busniess</th>\n    </tr>\n  </thead>\n  <tbody>\n    <tr>\n      <th>0</th>\n      <td>Samsung</td>\n      <td>2000</td>\n      <td>Smartphone</td>\n    </tr>\n    <tr>\n      <th>1</th>\n      <td>Hyundai</td>\n      <td>1000</td>\n      <td>Mobility</td>\n    </tr>\n    <tr>\n      <th>2</th>\n      <td>Naver</td>\n      <td>500</td>\n      <td>Portal</td>\n    </tr>\n  </tbody>\n</table>\n</div>"
     },
     "metadata": {},
     "execution_count": 45
    }
   ],
   "source": [
    "df1"
   ]
  },
  {
   "cell_type": "code",
   "execution_count": 47,
   "metadata": {},
   "outputs": [],
   "source": [
    "# Way  2 : Dictionary"
   ]
  },
  {
   "cell_type": "code",
   "execution_count": 49,
   "metadata": {},
   "outputs": [],
   "source": [
    "company2 = {\n",
    "    \"C_name\":[\"Samsung\",\"Hyundai\",\"Naver\"],\n",
    "    \"Netsale\" : [2000,1000,500],\n",
    "    \"M_busniess\" : [\"Smartphone\",\"Mobility\",\"Portal\"]\n",
    "}"
   ]
  },
  {
   "cell_type": "code",
   "execution_count": 51,
   "metadata": {},
   "outputs": [],
   "source": [
    "df2 = pd.DataFrame(company2)"
   ]
  },
  {
   "cell_type": "code",
   "execution_count": 53,
   "metadata": {},
   "outputs": [
    {
     "output_type": "execute_result",
     "data": {
      "text/plain": [
       "    C_name  Netsale  M_busniess\n",
       "0  Samsung     2000  Smartphone\n",
       "1  Hyundai     1000    Mobility\n",
       "2    Naver      500      Portal"
      ],
      "text/html": "<div>\n<style scoped>\n    .dataframe tbody tr th:only-of-type {\n        vertical-align: middle;\n    }\n\n    .dataframe tbody tr th {\n        vertical-align: top;\n    }\n\n    .dataframe thead th {\n        text-align: right;\n    }\n</style>\n<table border=\"1\" class=\"dataframe\">\n  <thead>\n    <tr style=\"text-align: right;\">\n      <th></th>\n      <th>C_name</th>\n      <th>Netsale</th>\n      <th>M_busniess</th>\n    </tr>\n  </thead>\n  <tbody>\n    <tr>\n      <th>0</th>\n      <td>Samsung</td>\n      <td>2000</td>\n      <td>Smartphone</td>\n    </tr>\n    <tr>\n      <th>1</th>\n      <td>Hyundai</td>\n      <td>1000</td>\n      <td>Mobility</td>\n    </tr>\n    <tr>\n      <th>2</th>\n      <td>Naver</td>\n      <td>500</td>\n      <td>Portal</td>\n    </tr>\n  </tbody>\n</table>\n</div>"
     },
     "metadata": {},
     "execution_count": 53
    }
   ],
   "source": [
    "df2"
   ]
  },
  {
   "source": [
    "### change index to name of specific column (index를 특정 column으로 지정하기)"
   ],
   "cell_type": "markdown",
   "metadata": {}
  },
  {
   "cell_type": "code",
   "execution_count": 55,
   "metadata": {},
   "outputs": [],
   "source": [
    "df1.index = df1[\"C_name\"]"
   ]
  },
  {
   "cell_type": "code",
   "execution_count": 57,
   "metadata": {},
   "outputs": [
    {
     "output_type": "execute_result",
     "data": {
      "text/plain": [
       "          C_name  Netsale  M_busniess\n",
       "C_name                               \n",
       "Samsung  Samsung     2000  Smartphone\n",
       "Hyundai  Hyundai     1000    Mobility\n",
       "Naver      Naver      500      Portal"
      ],
      "text/html": "<div>\n<style scoped>\n    .dataframe tbody tr th:only-of-type {\n        vertical-align: middle;\n    }\n\n    .dataframe tbody tr th {\n        vertical-align: top;\n    }\n\n    .dataframe thead th {\n        text-align: right;\n    }\n</style>\n<table border=\"1\" class=\"dataframe\">\n  <thead>\n    <tr style=\"text-align: right;\">\n      <th></th>\n      <th>C_name</th>\n      <th>Netsale</th>\n      <th>M_busniess</th>\n    </tr>\n    <tr>\n      <th>C_name</th>\n      <th></th>\n      <th></th>\n      <th></th>\n    </tr>\n  </thead>\n  <tbody>\n    <tr>\n      <th>Samsung</th>\n      <td>Samsung</td>\n      <td>2000</td>\n      <td>Smartphone</td>\n    </tr>\n    <tr>\n      <th>Hyundai</th>\n      <td>Hyundai</td>\n      <td>1000</td>\n      <td>Mobility</td>\n    </tr>\n    <tr>\n      <th>Naver</th>\n      <td>Naver</td>\n      <td>500</td>\n      <td>Portal</td>\n    </tr>\n  </tbody>\n</table>\n</div>"
     },
     "metadata": {},
     "execution_count": 57
    }
   ],
   "source": [
    "df1"
   ]
  },
  {
   "cell_type": "code",
   "execution_count": 59,
   "metadata": {},
   "outputs": [
    {
     "output_type": "stream",
     "name": "stdout",
     "text": [
      "C_name\nSamsung    2000\nHyundai    1000\nNaver       500\nName: Netsale, dtype: int64\n\n<class 'pandas.core.series.Series'>\n"
     ]
    }
   ],
   "source": [
    "print(df1[\"Netsale\"])\n",
    "print()\n",
    "print(type(df1[\"Netsale\"]))"
   ]
  },
  {
   "source": [
    "## Loading(Calling) from csv file\n",
    "    - comma separated values"
   ],
   "cell_type": "markdown",
   "metadata": {}
  },
  {
   "cell_type": "code",
   "execution_count": 61,
   "metadata": {},
   "outputs": [
    {
     "output_type": "execute_result",
     "data": {
      "text/plain": [
       "     기관명    소계  2013년도 이전  2014년  2015년  2016년\n",
       "0    강남구  2780       1292    430    584    932\n",
       "1    강동구   773        379     99    155    377\n",
       "2    강북구   748        369    120    138    204\n",
       "3    강서구   884        388    258    184     81\n",
       "4    관악구  1496        846    260    390    613\n",
       "5    광진구   707        573     78     53    174\n",
       "6    구로구  1561       1142    173    246    323\n",
       "7    금천구  1015        674     51    269    354\n",
       "8    노원구  1265        542     57    451    516\n",
       "9    도봉구   485        238    159     42    386\n",
       "10  동대문구  1294       1070     23    198    579\n",
       "11   동작구  1091        544    341    103    314\n",
       "12   마포구   574        314    118    169    379\n",
       "13  서대문구   962        844     50     68    292\n",
       "14   서초구  1930       1406    157    336    398\n",
       "15   성동구  1062        730     91    241    265\n",
       "16   성북구  1464       1009     78    360    204\n",
       "17   송파구   618        529     21     68    463\n",
       "18   양천구  2034       1843    142     30    467\n",
       "19  영등포구   904        495    214    195    373\n",
       "20   용산구  1624       1368    218    112    398\n",
       "21   은평구  1873       1138    224    278    468\n",
       "22   종로구  1002        464    314    211    630\n",
       "23    중구   671        413    190     72    348\n",
       "24   중랑구   660        509    121    177    109"
      ],
      "text/html": "<div>\n<style scoped>\n    .dataframe tbody tr th:only-of-type {\n        vertical-align: middle;\n    }\n\n    .dataframe tbody tr th {\n        vertical-align: top;\n    }\n\n    .dataframe thead th {\n        text-align: right;\n    }\n</style>\n<table border=\"1\" class=\"dataframe\">\n  <thead>\n    <tr style=\"text-align: right;\">\n      <th></th>\n      <th>기관명</th>\n      <th>소계</th>\n      <th>2013년도 이전</th>\n      <th>2014년</th>\n      <th>2015년</th>\n      <th>2016년</th>\n    </tr>\n  </thead>\n  <tbody>\n    <tr>\n      <th>0</th>\n      <td>강남구</td>\n      <td>2780</td>\n      <td>1292</td>\n      <td>430</td>\n      <td>584</td>\n      <td>932</td>\n    </tr>\n    <tr>\n      <th>1</th>\n      <td>강동구</td>\n      <td>773</td>\n      <td>379</td>\n      <td>99</td>\n      <td>155</td>\n      <td>377</td>\n    </tr>\n    <tr>\n      <th>2</th>\n      <td>강북구</td>\n      <td>748</td>\n      <td>369</td>\n      <td>120</td>\n      <td>138</td>\n      <td>204</td>\n    </tr>\n    <tr>\n      <th>3</th>\n      <td>강서구</td>\n      <td>884</td>\n      <td>388</td>\n      <td>258</td>\n      <td>184</td>\n      <td>81</td>\n    </tr>\n    <tr>\n      <th>4</th>\n      <td>관악구</td>\n      <td>1496</td>\n      <td>846</td>\n      <td>260</td>\n      <td>390</td>\n      <td>613</td>\n    </tr>\n    <tr>\n      <th>5</th>\n      <td>광진구</td>\n      <td>707</td>\n      <td>573</td>\n      <td>78</td>\n      <td>53</td>\n      <td>174</td>\n    </tr>\n    <tr>\n      <th>6</th>\n      <td>구로구</td>\n      <td>1561</td>\n      <td>1142</td>\n      <td>173</td>\n      <td>246</td>\n      <td>323</td>\n    </tr>\n    <tr>\n      <th>7</th>\n      <td>금천구</td>\n      <td>1015</td>\n      <td>674</td>\n      <td>51</td>\n      <td>269</td>\n      <td>354</td>\n    </tr>\n    <tr>\n      <th>8</th>\n      <td>노원구</td>\n      <td>1265</td>\n      <td>542</td>\n      <td>57</td>\n      <td>451</td>\n      <td>516</td>\n    </tr>\n    <tr>\n      <th>9</th>\n      <td>도봉구</td>\n      <td>485</td>\n      <td>238</td>\n      <td>159</td>\n      <td>42</td>\n      <td>386</td>\n    </tr>\n    <tr>\n      <th>10</th>\n      <td>동대문구</td>\n      <td>1294</td>\n      <td>1070</td>\n      <td>23</td>\n      <td>198</td>\n      <td>579</td>\n    </tr>\n    <tr>\n      <th>11</th>\n      <td>동작구</td>\n      <td>1091</td>\n      <td>544</td>\n      <td>341</td>\n      <td>103</td>\n      <td>314</td>\n    </tr>\n    <tr>\n      <th>12</th>\n      <td>마포구</td>\n      <td>574</td>\n      <td>314</td>\n      <td>118</td>\n      <td>169</td>\n      <td>379</td>\n    </tr>\n    <tr>\n      <th>13</th>\n      <td>서대문구</td>\n      <td>962</td>\n      <td>844</td>\n      <td>50</td>\n      <td>68</td>\n      <td>292</td>\n    </tr>\n    <tr>\n      <th>14</th>\n      <td>서초구</td>\n      <td>1930</td>\n      <td>1406</td>\n      <td>157</td>\n      <td>336</td>\n      <td>398</td>\n    </tr>\n    <tr>\n      <th>15</th>\n      <td>성동구</td>\n      <td>1062</td>\n      <td>730</td>\n      <td>91</td>\n      <td>241</td>\n      <td>265</td>\n    </tr>\n    <tr>\n      <th>16</th>\n      <td>성북구</td>\n      <td>1464</td>\n      <td>1009</td>\n      <td>78</td>\n      <td>360</td>\n      <td>204</td>\n    </tr>\n    <tr>\n      <th>17</th>\n      <td>송파구</td>\n      <td>618</td>\n      <td>529</td>\n      <td>21</td>\n      <td>68</td>\n      <td>463</td>\n    </tr>\n    <tr>\n      <th>18</th>\n      <td>양천구</td>\n      <td>2034</td>\n      <td>1843</td>\n      <td>142</td>\n      <td>30</td>\n      <td>467</td>\n    </tr>\n    <tr>\n      <th>19</th>\n      <td>영등포구</td>\n      <td>904</td>\n      <td>495</td>\n      <td>214</td>\n      <td>195</td>\n      <td>373</td>\n    </tr>\n    <tr>\n      <th>20</th>\n      <td>용산구</td>\n      <td>1624</td>\n      <td>1368</td>\n      <td>218</td>\n      <td>112</td>\n      <td>398</td>\n    </tr>\n    <tr>\n      <th>21</th>\n      <td>은평구</td>\n      <td>1873</td>\n      <td>1138</td>\n      <td>224</td>\n      <td>278</td>\n      <td>468</td>\n    </tr>\n    <tr>\n      <th>22</th>\n      <td>종로구</td>\n      <td>1002</td>\n      <td>464</td>\n      <td>314</td>\n      <td>211</td>\n      <td>630</td>\n    </tr>\n    <tr>\n      <th>23</th>\n      <td>중구</td>\n      <td>671</td>\n      <td>413</td>\n      <td>190</td>\n      <td>72</td>\n      <td>348</td>\n    </tr>\n    <tr>\n      <th>24</th>\n      <td>중랑구</td>\n      <td>660</td>\n      <td>509</td>\n      <td>121</td>\n      <td>177</td>\n      <td>109</td>\n    </tr>\n  </tbody>\n</table>\n</div>"
     },
     "metadata": {},
     "execution_count": 61
    }
   ],
   "source": [
    "# file path from localfile\n",
    "filePath = \"/Volumes/Geozedo60/Python/bit/datamath/practice/DataScience/data/01. CCTV_in_Seoul.csv\"\n",
    "pd.read_csv(filePath)"
   ]
  },
  {
   "cell_type": "code",
   "execution_count": 63,
   "metadata": {},
   "outputs": [
    {
     "output_type": "execute_result",
     "data": {
      "text/plain": [
       "     기관명    소계  2013년도 이전  2014년  2015년  2016년\n",
       "0    강남구  2780       1292    430    584    932\n",
       "1    강동구   773        379     99    155    377\n",
       "2    강북구   748        369    120    138    204\n",
       "3    강서구   884        388    258    184     81\n",
       "4    관악구  1496        846    260    390    613\n",
       "5    광진구   707        573     78     53    174\n",
       "6    구로구  1561       1142    173    246    323\n",
       "7    금천구  1015        674     51    269    354\n",
       "8    노원구  1265        542     57    451    516\n",
       "9    도봉구   485        238    159     42    386\n",
       "10  동대문구  1294       1070     23    198    579\n",
       "11   동작구  1091        544    341    103    314\n",
       "12   마포구   574        314    118    169    379\n",
       "13  서대문구   962        844     50     68    292\n",
       "14   서초구  1930       1406    157    336    398\n",
       "15   성동구  1062        730     91    241    265\n",
       "16   성북구  1464       1009     78    360    204\n",
       "17   송파구   618        529     21     68    463\n",
       "18   양천구  2034       1843    142     30    467\n",
       "19  영등포구   904        495    214    195    373\n",
       "20   용산구  1624       1368    218    112    398\n",
       "21   은평구  1873       1138    224    278    468\n",
       "22   종로구  1002        464    314    211    630\n",
       "23    중구   671        413    190     72    348\n",
       "24   중랑구   660        509    121    177    109"
      ],
      "text/html": "<div>\n<style scoped>\n    .dataframe tbody tr th:only-of-type {\n        vertical-align: middle;\n    }\n\n    .dataframe tbody tr th {\n        vertical-align: top;\n    }\n\n    .dataframe thead th {\n        text-align: right;\n    }\n</style>\n<table border=\"1\" class=\"dataframe\">\n  <thead>\n    <tr style=\"text-align: right;\">\n      <th></th>\n      <th>기관명</th>\n      <th>소계</th>\n      <th>2013년도 이전</th>\n      <th>2014년</th>\n      <th>2015년</th>\n      <th>2016년</th>\n    </tr>\n  </thead>\n  <tbody>\n    <tr>\n      <th>0</th>\n      <td>강남구</td>\n      <td>2780</td>\n      <td>1292</td>\n      <td>430</td>\n      <td>584</td>\n      <td>932</td>\n    </tr>\n    <tr>\n      <th>1</th>\n      <td>강동구</td>\n      <td>773</td>\n      <td>379</td>\n      <td>99</td>\n      <td>155</td>\n      <td>377</td>\n    </tr>\n    <tr>\n      <th>2</th>\n      <td>강북구</td>\n      <td>748</td>\n      <td>369</td>\n      <td>120</td>\n      <td>138</td>\n      <td>204</td>\n    </tr>\n    <tr>\n      <th>3</th>\n      <td>강서구</td>\n      <td>884</td>\n      <td>388</td>\n      <td>258</td>\n      <td>184</td>\n      <td>81</td>\n    </tr>\n    <tr>\n      <th>4</th>\n      <td>관악구</td>\n      <td>1496</td>\n      <td>846</td>\n      <td>260</td>\n      <td>390</td>\n      <td>613</td>\n    </tr>\n    <tr>\n      <th>5</th>\n      <td>광진구</td>\n      <td>707</td>\n      <td>573</td>\n      <td>78</td>\n      <td>53</td>\n      <td>174</td>\n    </tr>\n    <tr>\n      <th>6</th>\n      <td>구로구</td>\n      <td>1561</td>\n      <td>1142</td>\n      <td>173</td>\n      <td>246</td>\n      <td>323</td>\n    </tr>\n    <tr>\n      <th>7</th>\n      <td>금천구</td>\n      <td>1015</td>\n      <td>674</td>\n      <td>51</td>\n      <td>269</td>\n      <td>354</td>\n    </tr>\n    <tr>\n      <th>8</th>\n      <td>노원구</td>\n      <td>1265</td>\n      <td>542</td>\n      <td>57</td>\n      <td>451</td>\n      <td>516</td>\n    </tr>\n    <tr>\n      <th>9</th>\n      <td>도봉구</td>\n      <td>485</td>\n      <td>238</td>\n      <td>159</td>\n      <td>42</td>\n      <td>386</td>\n    </tr>\n    <tr>\n      <th>10</th>\n      <td>동대문구</td>\n      <td>1294</td>\n      <td>1070</td>\n      <td>23</td>\n      <td>198</td>\n      <td>579</td>\n    </tr>\n    <tr>\n      <th>11</th>\n      <td>동작구</td>\n      <td>1091</td>\n      <td>544</td>\n      <td>341</td>\n      <td>103</td>\n      <td>314</td>\n    </tr>\n    <tr>\n      <th>12</th>\n      <td>마포구</td>\n      <td>574</td>\n      <td>314</td>\n      <td>118</td>\n      <td>169</td>\n      <td>379</td>\n    </tr>\n    <tr>\n      <th>13</th>\n      <td>서대문구</td>\n      <td>962</td>\n      <td>844</td>\n      <td>50</td>\n      <td>68</td>\n      <td>292</td>\n    </tr>\n    <tr>\n      <th>14</th>\n      <td>서초구</td>\n      <td>1930</td>\n      <td>1406</td>\n      <td>157</td>\n      <td>336</td>\n      <td>398</td>\n    </tr>\n    <tr>\n      <th>15</th>\n      <td>성동구</td>\n      <td>1062</td>\n      <td>730</td>\n      <td>91</td>\n      <td>241</td>\n      <td>265</td>\n    </tr>\n    <tr>\n      <th>16</th>\n      <td>성북구</td>\n      <td>1464</td>\n      <td>1009</td>\n      <td>78</td>\n      <td>360</td>\n      <td>204</td>\n    </tr>\n    <tr>\n      <th>17</th>\n      <td>송파구</td>\n      <td>618</td>\n      <td>529</td>\n      <td>21</td>\n      <td>68</td>\n      <td>463</td>\n    </tr>\n    <tr>\n      <th>18</th>\n      <td>양천구</td>\n      <td>2034</td>\n      <td>1843</td>\n      <td>142</td>\n      <td>30</td>\n      <td>467</td>\n    </tr>\n    <tr>\n      <th>19</th>\n      <td>영등포구</td>\n      <td>904</td>\n      <td>495</td>\n      <td>214</td>\n      <td>195</td>\n      <td>373</td>\n    </tr>\n    <tr>\n      <th>20</th>\n      <td>용산구</td>\n      <td>1624</td>\n      <td>1368</td>\n      <td>218</td>\n      <td>112</td>\n      <td>398</td>\n    </tr>\n    <tr>\n      <th>21</th>\n      <td>은평구</td>\n      <td>1873</td>\n      <td>1138</td>\n      <td>224</td>\n      <td>278</td>\n      <td>468</td>\n    </tr>\n    <tr>\n      <th>22</th>\n      <td>종로구</td>\n      <td>1002</td>\n      <td>464</td>\n      <td>314</td>\n      <td>211</td>\n      <td>630</td>\n    </tr>\n    <tr>\n      <th>23</th>\n      <td>중구</td>\n      <td>671</td>\n      <td>413</td>\n      <td>190</td>\n      <td>72</td>\n      <td>348</td>\n    </tr>\n    <tr>\n      <th>24</th>\n      <td>중랑구</td>\n      <td>660</td>\n      <td>509</td>\n      <td>121</td>\n      <td>177</td>\n      <td>109</td>\n    </tr>\n  </tbody>\n</table>\n</div>"
     },
     "metadata": {},
     "execution_count": 63
    }
   ],
   "source": [
    "# load from http\n",
    "# https 는 token 이슈가 있기도함\n",
    "# github 는 raw link로 사용하면 가능함\n",
    "# filePath = \"https://github.com/PinkWink/DataScience/blob/master/data/01.%20CCTV_in_Seoul.csv\"\n",
    "filePath1 = \"https://raw.githubusercontent.com/PinkWink/DataScience/master/data/01.%20CCTV_in_Seoul.csv\"\n",
    "# pd.read_csv(filePath)\n",
    "pd.read_csv(filePath1)"
   ]
  },
  {
   "cell_type": "code",
   "execution_count": 65,
   "metadata": {},
   "outputs": [
    {
     "output_type": "execute_result",
     "data": {
      "text/plain": [
       "          기간   자치구       세대        인구     인구.1     인구.2     인구.3     인구.4  \\\n",
       "0         기간   자치구       세대        합계       합계       합계      한국인      한국인   \n",
       "1         기간   자치구       세대         계       남자       여자        계       남자   \n",
       "2   2017.1/4    합계  4202888  10197604  5000005  5197599  9926968  4871560   \n",
       "3   2017.1/4   종로구    72654    162820    79675    83145   153589    75611   \n",
       "4   2017.1/4    중구    59481    133240    65790    67450   124312    61656   \n",
       "5   2017.1/4   용산구   106544    244203   119132   125071   229456   111167   \n",
       "6   2017.1/4   성동구   130868    311244   153768   157476   303380   150076   \n",
       "7   2017.1/4   광진구   158960    372164   180992   191172   357211   174599   \n",
       "8   2017.1/4  동대문구   159839    369496   182932   186564   354079   177021   \n",
       "9   2017.1/4   중랑구   177548    414503   206102   208401   409882   204265   \n",
       "10  2017.1/4   성북구   188512    461260   224076   237184   449773   219545   \n",
       "11  2017.1/4   강북구   141554    330192   161686   168506   326686   160353   \n",
       "12  2017.1/4   도봉구   136613    348646   171026   177620   346629   170289   \n",
       "13  2017.1/4   노원구   219957    569384   276823   292561   565565   275211   \n",
       "14  2017.1/4   은평구   201869    494388   240220   254168   489943   238337   \n",
       "15  2017.1/4  서대문구   137207    327163   156765   170398   314982   152613   \n",
       "16  2017.1/4   마포구   169404    389649   185889   203760   378566   181346   \n",
       "17  2017.1/4   양천구   176921    479978   237117   242861   475949   235278   \n",
       "18  2017.1/4   강서구   247696    603772   294433   309339   597248   291249   \n",
       "19  2017.1/4   구로구   172272    447874   224436   223438   416487   207114   \n",
       "20  2017.1/4   금천구   105146    255082   130558   124524   236353   120334   \n",
       "21  2017.1/4  영등포구   165462    402985   202573   200412   368072   183705   \n",
       "22  2017.1/4   동작구   173033    412520   201217   211303   400456   195775   \n",
       "23  2017.1/4   관악구   253826    525515   264763   260752   507203   256090   \n",
       "24  2017.1/4   서초구   173856    450310   216264   234046   445994   214036   \n",
       "25  2017.1/4   강남구   234107    570500   273301   297199   565550   270726   \n",
       "26  2017.1/4   송파구   259883    667483   325040   342443   660584   321676   \n",
       "27  2017.1/4   강동구   179676    453233   225427   227806   449019   223488   \n",
       "28       NaN   NaN      NaN       NaN      NaN      NaN      NaN      NaN   \n",
       "\n",
       "       인구.5    인구.6    인구.7    인구.8  세대당인구  65세이상고령자  \n",
       "0       한국인   등록외국인   등록외국인   등록외국인  세대당인구  65세이상고령자  \n",
       "1        여자       계      남자      여자  세대당인구  65세이상고령자  \n",
       "2   5055408  270636  128445  142191   2.36   1321458  \n",
       "3     77978    9231    4064    5167   2.11     25425  \n",
       "4     62656    8928    4134    4794   2.09     20764  \n",
       "5    118289   14747    7965    6782   2.15     36231  \n",
       "6    153304    7864    3692    4172   2.32     39997  \n",
       "7    182612   14953    6393    8560   2.25     42214  \n",
       "8    177058   15417    5911    9506   2.22     54173  \n",
       "9    205617    4621    1837    2784   2.31     56774  \n",
       "10   230228   11487    4531    6956   2.39     64692  \n",
       "11   166333    3506    1333    2173   2.31     54813  \n",
       "12   176340    2017     737    1280   2.54     51312  \n",
       "13   290354    3819    1612    2207   2.57     71941  \n",
       "14   251606    4445    1883    2562   2.43     72334  \n",
       "15   162369   12181    4152    8029    2.3     48161  \n",
       "16   197220   11083    4543    6540   2.23     48765  \n",
       "17   240671    4029    1839    2190   2.69     52975  \n",
       "18   305999    6524    3184    3340   2.41     72548  \n",
       "19   209373   31387   17322   14065   2.42     56833  \n",
       "20   116019   18729   10224    8505   2.25     32970  \n",
       "21   184367   34913   18868   16045   2.22     52413  \n",
       "22   204681   12064    5442    6622   2.31     56013  \n",
       "23   251113   18312    8673    9639      2     68082  \n",
       "24   231958    4316    2228    2088   2.57     51733  \n",
       "25   294824    4950    2575    2375   2.42     63167  \n",
       "26   338908    6899    3364    3535   2.54     72506  \n",
       "27   225531    4214    1939    2275    2.5     54622  \n",
       "28      NaN     NaN     NaN     NaN    NaN       NaN  "
      ],
      "text/html": "<div>\n<style scoped>\n    .dataframe tbody tr th:only-of-type {\n        vertical-align: middle;\n    }\n\n    .dataframe tbody tr th {\n        vertical-align: top;\n    }\n\n    .dataframe thead th {\n        text-align: right;\n    }\n</style>\n<table border=\"1\" class=\"dataframe\">\n  <thead>\n    <tr style=\"text-align: right;\">\n      <th></th>\n      <th>기간</th>\n      <th>자치구</th>\n      <th>세대</th>\n      <th>인구</th>\n      <th>인구.1</th>\n      <th>인구.2</th>\n      <th>인구.3</th>\n      <th>인구.4</th>\n      <th>인구.5</th>\n      <th>인구.6</th>\n      <th>인구.7</th>\n      <th>인구.8</th>\n      <th>세대당인구</th>\n      <th>65세이상고령자</th>\n    </tr>\n  </thead>\n  <tbody>\n    <tr>\n      <th>0</th>\n      <td>기간</td>\n      <td>자치구</td>\n      <td>세대</td>\n      <td>합계</td>\n      <td>합계</td>\n      <td>합계</td>\n      <td>한국인</td>\n      <td>한국인</td>\n      <td>한국인</td>\n      <td>등록외국인</td>\n      <td>등록외국인</td>\n      <td>등록외국인</td>\n      <td>세대당인구</td>\n      <td>65세이상고령자</td>\n    </tr>\n    <tr>\n      <th>1</th>\n      <td>기간</td>\n      <td>자치구</td>\n      <td>세대</td>\n      <td>계</td>\n      <td>남자</td>\n      <td>여자</td>\n      <td>계</td>\n      <td>남자</td>\n      <td>여자</td>\n      <td>계</td>\n      <td>남자</td>\n      <td>여자</td>\n      <td>세대당인구</td>\n      <td>65세이상고령자</td>\n    </tr>\n    <tr>\n      <th>2</th>\n      <td>2017.1/4</td>\n      <td>합계</td>\n      <td>4202888</td>\n      <td>10197604</td>\n      <td>5000005</td>\n      <td>5197599</td>\n      <td>9926968</td>\n      <td>4871560</td>\n      <td>5055408</td>\n      <td>270636</td>\n      <td>128445</td>\n      <td>142191</td>\n      <td>2.36</td>\n      <td>1321458</td>\n    </tr>\n    <tr>\n      <th>3</th>\n      <td>2017.1/4</td>\n      <td>종로구</td>\n      <td>72654</td>\n      <td>162820</td>\n      <td>79675</td>\n      <td>83145</td>\n      <td>153589</td>\n      <td>75611</td>\n      <td>77978</td>\n      <td>9231</td>\n      <td>4064</td>\n      <td>5167</td>\n      <td>2.11</td>\n      <td>25425</td>\n    </tr>\n    <tr>\n      <th>4</th>\n      <td>2017.1/4</td>\n      <td>중구</td>\n      <td>59481</td>\n      <td>133240</td>\n      <td>65790</td>\n      <td>67450</td>\n      <td>124312</td>\n      <td>61656</td>\n      <td>62656</td>\n      <td>8928</td>\n      <td>4134</td>\n      <td>4794</td>\n      <td>2.09</td>\n      <td>20764</td>\n    </tr>\n    <tr>\n      <th>5</th>\n      <td>2017.1/4</td>\n      <td>용산구</td>\n      <td>106544</td>\n      <td>244203</td>\n      <td>119132</td>\n      <td>125071</td>\n      <td>229456</td>\n      <td>111167</td>\n      <td>118289</td>\n      <td>14747</td>\n      <td>7965</td>\n      <td>6782</td>\n      <td>2.15</td>\n      <td>36231</td>\n    </tr>\n    <tr>\n      <th>6</th>\n      <td>2017.1/4</td>\n      <td>성동구</td>\n      <td>130868</td>\n      <td>311244</td>\n      <td>153768</td>\n      <td>157476</td>\n      <td>303380</td>\n      <td>150076</td>\n      <td>153304</td>\n      <td>7864</td>\n      <td>3692</td>\n      <td>4172</td>\n      <td>2.32</td>\n      <td>39997</td>\n    </tr>\n    <tr>\n      <th>7</th>\n      <td>2017.1/4</td>\n      <td>광진구</td>\n      <td>158960</td>\n      <td>372164</td>\n      <td>180992</td>\n      <td>191172</td>\n      <td>357211</td>\n      <td>174599</td>\n      <td>182612</td>\n      <td>14953</td>\n      <td>6393</td>\n      <td>8560</td>\n      <td>2.25</td>\n      <td>42214</td>\n    </tr>\n    <tr>\n      <th>8</th>\n      <td>2017.1/4</td>\n      <td>동대문구</td>\n      <td>159839</td>\n      <td>369496</td>\n      <td>182932</td>\n      <td>186564</td>\n      <td>354079</td>\n      <td>177021</td>\n      <td>177058</td>\n      <td>15417</td>\n      <td>5911</td>\n      <td>9506</td>\n      <td>2.22</td>\n      <td>54173</td>\n    </tr>\n    <tr>\n      <th>9</th>\n      <td>2017.1/4</td>\n      <td>중랑구</td>\n      <td>177548</td>\n      <td>414503</td>\n      <td>206102</td>\n      <td>208401</td>\n      <td>409882</td>\n      <td>204265</td>\n      <td>205617</td>\n      <td>4621</td>\n      <td>1837</td>\n      <td>2784</td>\n      <td>2.31</td>\n      <td>56774</td>\n    </tr>\n    <tr>\n      <th>10</th>\n      <td>2017.1/4</td>\n      <td>성북구</td>\n      <td>188512</td>\n      <td>461260</td>\n      <td>224076</td>\n      <td>237184</td>\n      <td>449773</td>\n      <td>219545</td>\n      <td>230228</td>\n      <td>11487</td>\n      <td>4531</td>\n      <td>6956</td>\n      <td>2.39</td>\n      <td>64692</td>\n    </tr>\n    <tr>\n      <th>11</th>\n      <td>2017.1/4</td>\n      <td>강북구</td>\n      <td>141554</td>\n      <td>330192</td>\n      <td>161686</td>\n      <td>168506</td>\n      <td>326686</td>\n      <td>160353</td>\n      <td>166333</td>\n      <td>3506</td>\n      <td>1333</td>\n      <td>2173</td>\n      <td>2.31</td>\n      <td>54813</td>\n    </tr>\n    <tr>\n      <th>12</th>\n      <td>2017.1/4</td>\n      <td>도봉구</td>\n      <td>136613</td>\n      <td>348646</td>\n      <td>171026</td>\n      <td>177620</td>\n      <td>346629</td>\n      <td>170289</td>\n      <td>176340</td>\n      <td>2017</td>\n      <td>737</td>\n      <td>1280</td>\n      <td>2.54</td>\n      <td>51312</td>\n    </tr>\n    <tr>\n      <th>13</th>\n      <td>2017.1/4</td>\n      <td>노원구</td>\n      <td>219957</td>\n      <td>569384</td>\n      <td>276823</td>\n      <td>292561</td>\n      <td>565565</td>\n      <td>275211</td>\n      <td>290354</td>\n      <td>3819</td>\n      <td>1612</td>\n      <td>2207</td>\n      <td>2.57</td>\n      <td>71941</td>\n    </tr>\n    <tr>\n      <th>14</th>\n      <td>2017.1/4</td>\n      <td>은평구</td>\n      <td>201869</td>\n      <td>494388</td>\n      <td>240220</td>\n      <td>254168</td>\n      <td>489943</td>\n      <td>238337</td>\n      <td>251606</td>\n      <td>4445</td>\n      <td>1883</td>\n      <td>2562</td>\n      <td>2.43</td>\n      <td>72334</td>\n    </tr>\n    <tr>\n      <th>15</th>\n      <td>2017.1/4</td>\n      <td>서대문구</td>\n      <td>137207</td>\n      <td>327163</td>\n      <td>156765</td>\n      <td>170398</td>\n      <td>314982</td>\n      <td>152613</td>\n      <td>162369</td>\n      <td>12181</td>\n      <td>4152</td>\n      <td>8029</td>\n      <td>2.3</td>\n      <td>48161</td>\n    </tr>\n    <tr>\n      <th>16</th>\n      <td>2017.1/4</td>\n      <td>마포구</td>\n      <td>169404</td>\n      <td>389649</td>\n      <td>185889</td>\n      <td>203760</td>\n      <td>378566</td>\n      <td>181346</td>\n      <td>197220</td>\n      <td>11083</td>\n      <td>4543</td>\n      <td>6540</td>\n      <td>2.23</td>\n      <td>48765</td>\n    </tr>\n    <tr>\n      <th>17</th>\n      <td>2017.1/4</td>\n      <td>양천구</td>\n      <td>176921</td>\n      <td>479978</td>\n      <td>237117</td>\n      <td>242861</td>\n      <td>475949</td>\n      <td>235278</td>\n      <td>240671</td>\n      <td>4029</td>\n      <td>1839</td>\n      <td>2190</td>\n      <td>2.69</td>\n      <td>52975</td>\n    </tr>\n    <tr>\n      <th>18</th>\n      <td>2017.1/4</td>\n      <td>강서구</td>\n      <td>247696</td>\n      <td>603772</td>\n      <td>294433</td>\n      <td>309339</td>\n      <td>597248</td>\n      <td>291249</td>\n      <td>305999</td>\n      <td>6524</td>\n      <td>3184</td>\n      <td>3340</td>\n      <td>2.41</td>\n      <td>72548</td>\n    </tr>\n    <tr>\n      <th>19</th>\n      <td>2017.1/4</td>\n      <td>구로구</td>\n      <td>172272</td>\n      <td>447874</td>\n      <td>224436</td>\n      <td>223438</td>\n      <td>416487</td>\n      <td>207114</td>\n      <td>209373</td>\n      <td>31387</td>\n      <td>17322</td>\n      <td>14065</td>\n      <td>2.42</td>\n      <td>56833</td>\n    </tr>\n    <tr>\n      <th>20</th>\n      <td>2017.1/4</td>\n      <td>금천구</td>\n      <td>105146</td>\n      <td>255082</td>\n      <td>130558</td>\n      <td>124524</td>\n      <td>236353</td>\n      <td>120334</td>\n      <td>116019</td>\n      <td>18729</td>\n      <td>10224</td>\n      <td>8505</td>\n      <td>2.25</td>\n      <td>32970</td>\n    </tr>\n    <tr>\n      <th>21</th>\n      <td>2017.1/4</td>\n      <td>영등포구</td>\n      <td>165462</td>\n      <td>402985</td>\n      <td>202573</td>\n      <td>200412</td>\n      <td>368072</td>\n      <td>183705</td>\n      <td>184367</td>\n      <td>34913</td>\n      <td>18868</td>\n      <td>16045</td>\n      <td>2.22</td>\n      <td>52413</td>\n    </tr>\n    <tr>\n      <th>22</th>\n      <td>2017.1/4</td>\n      <td>동작구</td>\n      <td>173033</td>\n      <td>412520</td>\n      <td>201217</td>\n      <td>211303</td>\n      <td>400456</td>\n      <td>195775</td>\n      <td>204681</td>\n      <td>12064</td>\n      <td>5442</td>\n      <td>6622</td>\n      <td>2.31</td>\n      <td>56013</td>\n    </tr>\n    <tr>\n      <th>23</th>\n      <td>2017.1/4</td>\n      <td>관악구</td>\n      <td>253826</td>\n      <td>525515</td>\n      <td>264763</td>\n      <td>260752</td>\n      <td>507203</td>\n      <td>256090</td>\n      <td>251113</td>\n      <td>18312</td>\n      <td>8673</td>\n      <td>9639</td>\n      <td>2</td>\n      <td>68082</td>\n    </tr>\n    <tr>\n      <th>24</th>\n      <td>2017.1/4</td>\n      <td>서초구</td>\n      <td>173856</td>\n      <td>450310</td>\n      <td>216264</td>\n      <td>234046</td>\n      <td>445994</td>\n      <td>214036</td>\n      <td>231958</td>\n      <td>4316</td>\n      <td>2228</td>\n      <td>2088</td>\n      <td>2.57</td>\n      <td>51733</td>\n    </tr>\n    <tr>\n      <th>25</th>\n      <td>2017.1/4</td>\n      <td>강남구</td>\n      <td>234107</td>\n      <td>570500</td>\n      <td>273301</td>\n      <td>297199</td>\n      <td>565550</td>\n      <td>270726</td>\n      <td>294824</td>\n      <td>4950</td>\n      <td>2575</td>\n      <td>2375</td>\n      <td>2.42</td>\n      <td>63167</td>\n    </tr>\n    <tr>\n      <th>26</th>\n      <td>2017.1/4</td>\n      <td>송파구</td>\n      <td>259883</td>\n      <td>667483</td>\n      <td>325040</td>\n      <td>342443</td>\n      <td>660584</td>\n      <td>321676</td>\n      <td>338908</td>\n      <td>6899</td>\n      <td>3364</td>\n      <td>3535</td>\n      <td>2.54</td>\n      <td>72506</td>\n    </tr>\n    <tr>\n      <th>27</th>\n      <td>2017.1/4</td>\n      <td>강동구</td>\n      <td>179676</td>\n      <td>453233</td>\n      <td>225427</td>\n      <td>227806</td>\n      <td>449019</td>\n      <td>223488</td>\n      <td>225531</td>\n      <td>4214</td>\n      <td>1939</td>\n      <td>2275</td>\n      <td>2.5</td>\n      <td>54622</td>\n    </tr>\n    <tr>\n      <th>28</th>\n      <td>NaN</td>\n      <td>NaN</td>\n      <td>NaN</td>\n      <td>NaN</td>\n      <td>NaN</td>\n      <td>NaN</td>\n      <td>NaN</td>\n      <td>NaN</td>\n      <td>NaN</td>\n      <td>NaN</td>\n      <td>NaN</td>\n      <td>NaN</td>\n      <td>NaN</td>\n      <td>NaN</td>\n    </tr>\n  </tbody>\n</table>\n</div>"
     },
     "metadata": {},
     "execution_count": 65
    }
   ],
   "source": [
    "# load from excel\n",
    "filePath = \"/Volumes/Geozedo60/Python/bit/datamath/practice/DataScience/data/01. population_in_Seoul.xls\"\n",
    "pd.read_excel(filePath)"
   ]
  },
  {
   "cell_type": "code",
   "execution_count": 67,
   "metadata": {},
   "outputs": [],
   "source": [
    "filePath = \"/Volumes/Geozedo60/Python/bit/datamath/practice/DataScience/data/01. CCTV_in_Seoul.csv\"\n",
    "df = pd.read_csv(filePath)"
   ]
  },
  {
   "cell_type": "code",
   "execution_count": 69,
   "metadata": {},
   "outputs": [
    {
     "output_type": "execute_result",
     "data": {
      "text/plain": [
       "pandas.core.frame.DataFrame"
      ]
     },
     "metadata": {},
     "execution_count": 69
    }
   ],
   "source": [
    "type(df)"
   ]
  },
  {
   "cell_type": "code",
   "execution_count": 71,
   "metadata": {},
   "outputs": [
    {
     "output_type": "execute_result",
     "data": {
      "text/plain": [
       "   기관명    소계  2013년도 이전  2014년  2015년  2016년\n",
       "0  강남구  2780       1292    430    584    932\n",
       "1  강동구   773        379     99    155    377\n",
       "2  강북구   748        369    120    138    204\n",
       "3  강서구   884        388    258    184     81\n",
       "4  관악구  1496        846    260    390    613"
      ],
      "text/html": "<div>\n<style scoped>\n    .dataframe tbody tr th:only-of-type {\n        vertical-align: middle;\n    }\n\n    .dataframe tbody tr th {\n        vertical-align: top;\n    }\n\n    .dataframe thead th {\n        text-align: right;\n    }\n</style>\n<table border=\"1\" class=\"dataframe\">\n  <thead>\n    <tr style=\"text-align: right;\">\n      <th></th>\n      <th>기관명</th>\n      <th>소계</th>\n      <th>2013년도 이전</th>\n      <th>2014년</th>\n      <th>2015년</th>\n      <th>2016년</th>\n    </tr>\n  </thead>\n  <tbody>\n    <tr>\n      <th>0</th>\n      <td>강남구</td>\n      <td>2780</td>\n      <td>1292</td>\n      <td>430</td>\n      <td>584</td>\n      <td>932</td>\n    </tr>\n    <tr>\n      <th>1</th>\n      <td>강동구</td>\n      <td>773</td>\n      <td>379</td>\n      <td>99</td>\n      <td>155</td>\n      <td>377</td>\n    </tr>\n    <tr>\n      <th>2</th>\n      <td>강북구</td>\n      <td>748</td>\n      <td>369</td>\n      <td>120</td>\n      <td>138</td>\n      <td>204</td>\n    </tr>\n    <tr>\n      <th>3</th>\n      <td>강서구</td>\n      <td>884</td>\n      <td>388</td>\n      <td>258</td>\n      <td>184</td>\n      <td>81</td>\n    </tr>\n    <tr>\n      <th>4</th>\n      <td>관악구</td>\n      <td>1496</td>\n      <td>846</td>\n      <td>260</td>\n      <td>390</td>\n      <td>613</td>\n    </tr>\n  </tbody>\n</table>\n</div>"
     },
     "metadata": {},
     "execution_count": 71
    }
   ],
   "source": [
    "df.head()"
   ]
  },
  {
   "cell_type": "code",
   "execution_count": 73,
   "metadata": {},
   "outputs": [
    {
     "output_type": "execute_result",
     "data": {
      "text/plain": [
       "    기관명    소계  2013년도 이전  2014년  2015년  2016년\n",
       "20  용산구  1624       1368    218    112    398\n",
       "21  은평구  1873       1138    224    278    468\n",
       "22  종로구  1002        464    314    211    630\n",
       "23   중구   671        413    190     72    348\n",
       "24  중랑구   660        509    121    177    109"
      ],
      "text/html": "<div>\n<style scoped>\n    .dataframe tbody tr th:only-of-type {\n        vertical-align: middle;\n    }\n\n    .dataframe tbody tr th {\n        vertical-align: top;\n    }\n\n    .dataframe thead th {\n        text-align: right;\n    }\n</style>\n<table border=\"1\" class=\"dataframe\">\n  <thead>\n    <tr style=\"text-align: right;\">\n      <th></th>\n      <th>기관명</th>\n      <th>소계</th>\n      <th>2013년도 이전</th>\n      <th>2014년</th>\n      <th>2015년</th>\n      <th>2016년</th>\n    </tr>\n  </thead>\n  <tbody>\n    <tr>\n      <th>20</th>\n      <td>용산구</td>\n      <td>1624</td>\n      <td>1368</td>\n      <td>218</td>\n      <td>112</td>\n      <td>398</td>\n    </tr>\n    <tr>\n      <th>21</th>\n      <td>은평구</td>\n      <td>1873</td>\n      <td>1138</td>\n      <td>224</td>\n      <td>278</td>\n      <td>468</td>\n    </tr>\n    <tr>\n      <th>22</th>\n      <td>종로구</td>\n      <td>1002</td>\n      <td>464</td>\n      <td>314</td>\n      <td>211</td>\n      <td>630</td>\n    </tr>\n    <tr>\n      <th>23</th>\n      <td>중구</td>\n      <td>671</td>\n      <td>413</td>\n      <td>190</td>\n      <td>72</td>\n      <td>348</td>\n    </tr>\n    <tr>\n      <th>24</th>\n      <td>중랑구</td>\n      <td>660</td>\n      <td>509</td>\n      <td>121</td>\n      <td>177</td>\n      <td>109</td>\n    </tr>\n  </tbody>\n</table>\n</div>"
     },
     "metadata": {},
     "execution_count": 73
    }
   ],
   "source": [
    "df.tail()"
   ]
  },
  {
   "cell_type": "code",
   "execution_count": 75,
   "metadata": {},
   "outputs": [
    {
     "output_type": "execute_result",
     "data": {
      "text/plain": [
       "Index(['기관명', '소계', '2013년도 이전', '2014년', '2015년', '2016년'], dtype='object')"
      ]
     },
     "metadata": {},
     "execution_count": 75
    }
   ],
   "source": [
    "df.columns"
   ]
  },
  {
   "cell_type": "code",
   "execution_count": 77,
   "metadata": {},
   "outputs": [],
   "source": [
    "new_col = ['기관명', '소계', '2013년이전', '2014년', '2015년', '2016년']"
   ]
  },
  {
   "cell_type": "code",
   "execution_count": 79,
   "metadata": {},
   "outputs": [],
   "source": [
    "df.columns = new_col"
   ]
  },
  {
   "cell_type": "code",
   "execution_count": 81,
   "metadata": {},
   "outputs": [
    {
     "output_type": "execute_result",
     "data": {
      "text/plain": [
       "Index(['기관명', '소계', '2013년이전', '2014년', '2015년', '2016년'], dtype='object')"
      ]
     },
     "metadata": {},
     "execution_count": 81
    }
   ],
   "source": [
    "df.columns"
   ]
  },
  {
   "cell_type": "code",
   "execution_count": 83,
   "metadata": {},
   "outputs": [
    {
     "output_type": "execute_result",
     "data": {
      "text/plain": [
       "RangeIndex(start=0, stop=25, step=1)"
      ]
     },
     "metadata": {},
     "execution_count": 83
    }
   ],
   "source": [
    "df.index"
   ]
  },
  {
   "cell_type": "code",
   "execution_count": 85,
   "metadata": {},
   "outputs": [
    {
     "output_type": "stream",
     "name": "stdout",
     "text": [
      "<class 'pandas.core.frame.DataFrame'>\nRangeIndex: 25 entries, 0 to 24\nData columns (total 6 columns):\n #   Column   Non-Null Count  Dtype \n---  ------   --------------  ----- \n 0   기관명      25 non-null     object\n 1   소계       25 non-null     int64 \n 2   2013년이전  25 non-null     int64 \n 3   2014년    25 non-null     int64 \n 4   2015년    25 non-null     int64 \n 5   2016년    25 non-null     int64 \ndtypes: int64(5), object(1)\nmemory usage: 1.3+ KB\n"
     ]
    }
   ],
   "source": [
    "df.info()"
   ]
  },
  {
   "cell_type": "code",
   "execution_count": 87,
   "metadata": {},
   "outputs": [
    {
     "output_type": "execute_result",
     "data": {
      "text/plain": [
       "                소계      2013년이전       2014년       2015년       2016년\n",
       "count    25.000000    25.000000   25.000000   25.000000   25.000000\n",
       "mean   1179.080000   764.760000  159.480000  205.200000  385.880000\n",
       "std     556.728983   415.510257  104.132976  137.877059  182.479981\n",
       "min     485.000000   238.000000   21.000000   30.000000   81.000000\n",
       "25%     748.000000   464.000000   78.000000  103.000000  292.000000\n",
       "50%    1015.000000   573.000000  142.000000  184.000000  377.000000\n",
       "75%    1496.000000  1070.000000  218.000000  269.000000  467.000000\n",
       "max    2780.000000  1843.000000  430.000000  584.000000  932.000000"
      ],
      "text/html": "<div>\n<style scoped>\n    .dataframe tbody tr th:only-of-type {\n        vertical-align: middle;\n    }\n\n    .dataframe tbody tr th {\n        vertical-align: top;\n    }\n\n    .dataframe thead th {\n        text-align: right;\n    }\n</style>\n<table border=\"1\" class=\"dataframe\">\n  <thead>\n    <tr style=\"text-align: right;\">\n      <th></th>\n      <th>소계</th>\n      <th>2013년이전</th>\n      <th>2014년</th>\n      <th>2015년</th>\n      <th>2016년</th>\n    </tr>\n  </thead>\n  <tbody>\n    <tr>\n      <th>count</th>\n      <td>25.000000</td>\n      <td>25.000000</td>\n      <td>25.000000</td>\n      <td>25.000000</td>\n      <td>25.000000</td>\n    </tr>\n    <tr>\n      <th>mean</th>\n      <td>1179.080000</td>\n      <td>764.760000</td>\n      <td>159.480000</td>\n      <td>205.200000</td>\n      <td>385.880000</td>\n    </tr>\n    <tr>\n      <th>std</th>\n      <td>556.728983</td>\n      <td>415.510257</td>\n      <td>104.132976</td>\n      <td>137.877059</td>\n      <td>182.479981</td>\n    </tr>\n    <tr>\n      <th>min</th>\n      <td>485.000000</td>\n      <td>238.000000</td>\n      <td>21.000000</td>\n      <td>30.000000</td>\n      <td>81.000000</td>\n    </tr>\n    <tr>\n      <th>25%</th>\n      <td>748.000000</td>\n      <td>464.000000</td>\n      <td>78.000000</td>\n      <td>103.000000</td>\n      <td>292.000000</td>\n    </tr>\n    <tr>\n      <th>50%</th>\n      <td>1015.000000</td>\n      <td>573.000000</td>\n      <td>142.000000</td>\n      <td>184.000000</td>\n      <td>377.000000</td>\n    </tr>\n    <tr>\n      <th>75%</th>\n      <td>1496.000000</td>\n      <td>1070.000000</td>\n      <td>218.000000</td>\n      <td>269.000000</td>\n      <td>467.000000</td>\n    </tr>\n    <tr>\n      <th>max</th>\n      <td>2780.000000</td>\n      <td>1843.000000</td>\n      <td>430.000000</td>\n      <td>584.000000</td>\n      <td>932.000000</td>\n    </tr>\n  </tbody>\n</table>\n</div>"
     },
     "metadata": {},
     "execution_count": 87
    }
   ],
   "source": [
    "df.describe()"
   ]
  },
  {
   "cell_type": "code",
   "execution_count": 89,
   "metadata": {},
   "outputs": [
    {
     "output_type": "execute_result",
     "data": {
      "text/plain": [
       "(25, 6)"
      ]
     },
     "metadata": {},
     "execution_count": 89
    }
   ],
   "source": [
    "df.shape"
   ]
  },
  {
   "source": [
    "### Data sorting"
   ],
   "cell_type": "markdown",
   "metadata": {}
  },
  {
   "cell_type": "code",
   "execution_count": 91,
   "metadata": {},
   "outputs": [
    {
     "output_type": "execute_result",
     "data": {
      "text/plain": [
       "     기관명    소계  2013년이전  2014년  2015년  2016년\n",
       "0    강남구  2780     1292    430    584    932\n",
       "1    강동구   773      379     99    155    377\n",
       "2    강북구   748      369    120    138    204\n",
       "3    강서구   884      388    258    184     81\n",
       "4    관악구  1496      846    260    390    613\n",
       "5    광진구   707      573     78     53    174\n",
       "6    구로구  1561     1142    173    246    323\n",
       "7    금천구  1015      674     51    269    354\n",
       "8    노원구  1265      542     57    451    516\n",
       "9    도봉구   485      238    159     42    386\n",
       "10  동대문구  1294     1070     23    198    579\n",
       "11   동작구  1091      544    341    103    314\n",
       "12   마포구   574      314    118    169    379\n",
       "13  서대문구   962      844     50     68    292\n",
       "14   서초구  1930     1406    157    336    398\n",
       "15   성동구  1062      730     91    241    265\n",
       "16   성북구  1464     1009     78    360    204\n",
       "17   송파구   618      529     21     68    463\n",
       "18   양천구  2034     1843    142     30    467\n",
       "19  영등포구   904      495    214    195    373\n",
       "20   용산구  1624     1368    218    112    398\n",
       "21   은평구  1873     1138    224    278    468\n",
       "22   종로구  1002      464    314    211    630\n",
       "23    중구   671      413    190     72    348\n",
       "24   중랑구   660      509    121    177    109"
      ],
      "text/html": "<div>\n<style scoped>\n    .dataframe tbody tr th:only-of-type {\n        vertical-align: middle;\n    }\n\n    .dataframe tbody tr th {\n        vertical-align: top;\n    }\n\n    .dataframe thead th {\n        text-align: right;\n    }\n</style>\n<table border=\"1\" class=\"dataframe\">\n  <thead>\n    <tr style=\"text-align: right;\">\n      <th></th>\n      <th>기관명</th>\n      <th>소계</th>\n      <th>2013년이전</th>\n      <th>2014년</th>\n      <th>2015년</th>\n      <th>2016년</th>\n    </tr>\n  </thead>\n  <tbody>\n    <tr>\n      <th>0</th>\n      <td>강남구</td>\n      <td>2780</td>\n      <td>1292</td>\n      <td>430</td>\n      <td>584</td>\n      <td>932</td>\n    </tr>\n    <tr>\n      <th>1</th>\n      <td>강동구</td>\n      <td>773</td>\n      <td>379</td>\n      <td>99</td>\n      <td>155</td>\n      <td>377</td>\n    </tr>\n    <tr>\n      <th>2</th>\n      <td>강북구</td>\n      <td>748</td>\n      <td>369</td>\n      <td>120</td>\n      <td>138</td>\n      <td>204</td>\n    </tr>\n    <tr>\n      <th>3</th>\n      <td>강서구</td>\n      <td>884</td>\n      <td>388</td>\n      <td>258</td>\n      <td>184</td>\n      <td>81</td>\n    </tr>\n    <tr>\n      <th>4</th>\n      <td>관악구</td>\n      <td>1496</td>\n      <td>846</td>\n      <td>260</td>\n      <td>390</td>\n      <td>613</td>\n    </tr>\n    <tr>\n      <th>5</th>\n      <td>광진구</td>\n      <td>707</td>\n      <td>573</td>\n      <td>78</td>\n      <td>53</td>\n      <td>174</td>\n    </tr>\n    <tr>\n      <th>6</th>\n      <td>구로구</td>\n      <td>1561</td>\n      <td>1142</td>\n      <td>173</td>\n      <td>246</td>\n      <td>323</td>\n    </tr>\n    <tr>\n      <th>7</th>\n      <td>금천구</td>\n      <td>1015</td>\n      <td>674</td>\n      <td>51</td>\n      <td>269</td>\n      <td>354</td>\n    </tr>\n    <tr>\n      <th>8</th>\n      <td>노원구</td>\n      <td>1265</td>\n      <td>542</td>\n      <td>57</td>\n      <td>451</td>\n      <td>516</td>\n    </tr>\n    <tr>\n      <th>9</th>\n      <td>도봉구</td>\n      <td>485</td>\n      <td>238</td>\n      <td>159</td>\n      <td>42</td>\n      <td>386</td>\n    </tr>\n    <tr>\n      <th>10</th>\n      <td>동대문구</td>\n      <td>1294</td>\n      <td>1070</td>\n      <td>23</td>\n      <td>198</td>\n      <td>579</td>\n    </tr>\n    <tr>\n      <th>11</th>\n      <td>동작구</td>\n      <td>1091</td>\n      <td>544</td>\n      <td>341</td>\n      <td>103</td>\n      <td>314</td>\n    </tr>\n    <tr>\n      <th>12</th>\n      <td>마포구</td>\n      <td>574</td>\n      <td>314</td>\n      <td>118</td>\n      <td>169</td>\n      <td>379</td>\n    </tr>\n    <tr>\n      <th>13</th>\n      <td>서대문구</td>\n      <td>962</td>\n      <td>844</td>\n      <td>50</td>\n      <td>68</td>\n      <td>292</td>\n    </tr>\n    <tr>\n      <th>14</th>\n      <td>서초구</td>\n      <td>1930</td>\n      <td>1406</td>\n      <td>157</td>\n      <td>336</td>\n      <td>398</td>\n    </tr>\n    <tr>\n      <th>15</th>\n      <td>성동구</td>\n      <td>1062</td>\n      <td>730</td>\n      <td>91</td>\n      <td>241</td>\n      <td>265</td>\n    </tr>\n    <tr>\n      <th>16</th>\n      <td>성북구</td>\n      <td>1464</td>\n      <td>1009</td>\n      <td>78</td>\n      <td>360</td>\n      <td>204</td>\n    </tr>\n    <tr>\n      <th>17</th>\n      <td>송파구</td>\n      <td>618</td>\n      <td>529</td>\n      <td>21</td>\n      <td>68</td>\n      <td>463</td>\n    </tr>\n    <tr>\n      <th>18</th>\n      <td>양천구</td>\n      <td>2034</td>\n      <td>1843</td>\n      <td>142</td>\n      <td>30</td>\n      <td>467</td>\n    </tr>\n    <tr>\n      <th>19</th>\n      <td>영등포구</td>\n      <td>904</td>\n      <td>495</td>\n      <td>214</td>\n      <td>195</td>\n      <td>373</td>\n    </tr>\n    <tr>\n      <th>20</th>\n      <td>용산구</td>\n      <td>1624</td>\n      <td>1368</td>\n      <td>218</td>\n      <td>112</td>\n      <td>398</td>\n    </tr>\n    <tr>\n      <th>21</th>\n      <td>은평구</td>\n      <td>1873</td>\n      <td>1138</td>\n      <td>224</td>\n      <td>278</td>\n      <td>468</td>\n    </tr>\n    <tr>\n      <th>22</th>\n      <td>종로구</td>\n      <td>1002</td>\n      <td>464</td>\n      <td>314</td>\n      <td>211</td>\n      <td>630</td>\n    </tr>\n    <tr>\n      <th>23</th>\n      <td>중구</td>\n      <td>671</td>\n      <td>413</td>\n      <td>190</td>\n      <td>72</td>\n      <td>348</td>\n    </tr>\n    <tr>\n      <th>24</th>\n      <td>중랑구</td>\n      <td>660</td>\n      <td>509</td>\n      <td>121</td>\n      <td>177</td>\n      <td>109</td>\n    </tr>\n  </tbody>\n</table>\n</div>"
     },
     "metadata": {},
     "execution_count": 91
    }
   ],
   "source": [
    "# asc\n",
    "df.sort_index()"
   ]
  },
  {
   "cell_type": "code",
   "execution_count": 93,
   "metadata": {},
   "outputs": [
    {
     "output_type": "execute_result",
     "data": {
      "text/plain": [
       "     기관명    소계  2013년이전  2014년  2015년  2016년\n",
       "24   중랑구   660      509    121    177    109\n",
       "23    중구   671      413    190     72    348\n",
       "22   종로구  1002      464    314    211    630\n",
       "21   은평구  1873     1138    224    278    468\n",
       "20   용산구  1624     1368    218    112    398\n",
       "19  영등포구   904      495    214    195    373\n",
       "18   양천구  2034     1843    142     30    467\n",
       "17   송파구   618      529     21     68    463\n",
       "16   성북구  1464     1009     78    360    204\n",
       "15   성동구  1062      730     91    241    265\n",
       "14   서초구  1930     1406    157    336    398\n",
       "13  서대문구   962      844     50     68    292\n",
       "12   마포구   574      314    118    169    379\n",
       "11   동작구  1091      544    341    103    314\n",
       "10  동대문구  1294     1070     23    198    579\n",
       "9    도봉구   485      238    159     42    386\n",
       "8    노원구  1265      542     57    451    516\n",
       "7    금천구  1015      674     51    269    354\n",
       "6    구로구  1561     1142    173    246    323\n",
       "5    광진구   707      573     78     53    174\n",
       "4    관악구  1496      846    260    390    613\n",
       "3    강서구   884      388    258    184     81\n",
       "2    강북구   748      369    120    138    204\n",
       "1    강동구   773      379     99    155    377\n",
       "0    강남구  2780     1292    430    584    932"
      ],
      "text/html": "<div>\n<style scoped>\n    .dataframe tbody tr th:only-of-type {\n        vertical-align: middle;\n    }\n\n    .dataframe tbody tr th {\n        vertical-align: top;\n    }\n\n    .dataframe thead th {\n        text-align: right;\n    }\n</style>\n<table border=\"1\" class=\"dataframe\">\n  <thead>\n    <tr style=\"text-align: right;\">\n      <th></th>\n      <th>기관명</th>\n      <th>소계</th>\n      <th>2013년이전</th>\n      <th>2014년</th>\n      <th>2015년</th>\n      <th>2016년</th>\n    </tr>\n  </thead>\n  <tbody>\n    <tr>\n      <th>24</th>\n      <td>중랑구</td>\n      <td>660</td>\n      <td>509</td>\n      <td>121</td>\n      <td>177</td>\n      <td>109</td>\n    </tr>\n    <tr>\n      <th>23</th>\n      <td>중구</td>\n      <td>671</td>\n      <td>413</td>\n      <td>190</td>\n      <td>72</td>\n      <td>348</td>\n    </tr>\n    <tr>\n      <th>22</th>\n      <td>종로구</td>\n      <td>1002</td>\n      <td>464</td>\n      <td>314</td>\n      <td>211</td>\n      <td>630</td>\n    </tr>\n    <tr>\n      <th>21</th>\n      <td>은평구</td>\n      <td>1873</td>\n      <td>1138</td>\n      <td>224</td>\n      <td>278</td>\n      <td>468</td>\n    </tr>\n    <tr>\n      <th>20</th>\n      <td>용산구</td>\n      <td>1624</td>\n      <td>1368</td>\n      <td>218</td>\n      <td>112</td>\n      <td>398</td>\n    </tr>\n    <tr>\n      <th>19</th>\n      <td>영등포구</td>\n      <td>904</td>\n      <td>495</td>\n      <td>214</td>\n      <td>195</td>\n      <td>373</td>\n    </tr>\n    <tr>\n      <th>18</th>\n      <td>양천구</td>\n      <td>2034</td>\n      <td>1843</td>\n      <td>142</td>\n      <td>30</td>\n      <td>467</td>\n    </tr>\n    <tr>\n      <th>17</th>\n      <td>송파구</td>\n      <td>618</td>\n      <td>529</td>\n      <td>21</td>\n      <td>68</td>\n      <td>463</td>\n    </tr>\n    <tr>\n      <th>16</th>\n      <td>성북구</td>\n      <td>1464</td>\n      <td>1009</td>\n      <td>78</td>\n      <td>360</td>\n      <td>204</td>\n    </tr>\n    <tr>\n      <th>15</th>\n      <td>성동구</td>\n      <td>1062</td>\n      <td>730</td>\n      <td>91</td>\n      <td>241</td>\n      <td>265</td>\n    </tr>\n    <tr>\n      <th>14</th>\n      <td>서초구</td>\n      <td>1930</td>\n      <td>1406</td>\n      <td>157</td>\n      <td>336</td>\n      <td>398</td>\n    </tr>\n    <tr>\n      <th>13</th>\n      <td>서대문구</td>\n      <td>962</td>\n      <td>844</td>\n      <td>50</td>\n      <td>68</td>\n      <td>292</td>\n    </tr>\n    <tr>\n      <th>12</th>\n      <td>마포구</td>\n      <td>574</td>\n      <td>314</td>\n      <td>118</td>\n      <td>169</td>\n      <td>379</td>\n    </tr>\n    <tr>\n      <th>11</th>\n      <td>동작구</td>\n      <td>1091</td>\n      <td>544</td>\n      <td>341</td>\n      <td>103</td>\n      <td>314</td>\n    </tr>\n    <tr>\n      <th>10</th>\n      <td>동대문구</td>\n      <td>1294</td>\n      <td>1070</td>\n      <td>23</td>\n      <td>198</td>\n      <td>579</td>\n    </tr>\n    <tr>\n      <th>9</th>\n      <td>도봉구</td>\n      <td>485</td>\n      <td>238</td>\n      <td>159</td>\n      <td>42</td>\n      <td>386</td>\n    </tr>\n    <tr>\n      <th>8</th>\n      <td>노원구</td>\n      <td>1265</td>\n      <td>542</td>\n      <td>57</td>\n      <td>451</td>\n      <td>516</td>\n    </tr>\n    <tr>\n      <th>7</th>\n      <td>금천구</td>\n      <td>1015</td>\n      <td>674</td>\n      <td>51</td>\n      <td>269</td>\n      <td>354</td>\n    </tr>\n    <tr>\n      <th>6</th>\n      <td>구로구</td>\n      <td>1561</td>\n      <td>1142</td>\n      <td>173</td>\n      <td>246</td>\n      <td>323</td>\n    </tr>\n    <tr>\n      <th>5</th>\n      <td>광진구</td>\n      <td>707</td>\n      <td>573</td>\n      <td>78</td>\n      <td>53</td>\n      <td>174</td>\n    </tr>\n    <tr>\n      <th>4</th>\n      <td>관악구</td>\n      <td>1496</td>\n      <td>846</td>\n      <td>260</td>\n      <td>390</td>\n      <td>613</td>\n    </tr>\n    <tr>\n      <th>3</th>\n      <td>강서구</td>\n      <td>884</td>\n      <td>388</td>\n      <td>258</td>\n      <td>184</td>\n      <td>81</td>\n    </tr>\n    <tr>\n      <th>2</th>\n      <td>강북구</td>\n      <td>748</td>\n      <td>369</td>\n      <td>120</td>\n      <td>138</td>\n      <td>204</td>\n    </tr>\n    <tr>\n      <th>1</th>\n      <td>강동구</td>\n      <td>773</td>\n      <td>379</td>\n      <td>99</td>\n      <td>155</td>\n      <td>377</td>\n    </tr>\n    <tr>\n      <th>0</th>\n      <td>강남구</td>\n      <td>2780</td>\n      <td>1292</td>\n      <td>430</td>\n      <td>584</td>\n      <td>932</td>\n    </tr>\n  </tbody>\n</table>\n</div>"
     },
     "metadata": {},
     "execution_count": 93
    }
   ],
   "source": [
    "# desc\n",
    "df.sort_index(ascending=False)"
   ]
  },
  {
   "cell_type": "code",
   "execution_count": 95,
   "metadata": {},
   "outputs": [
    {
     "output_type": "execute_result",
     "data": {
      "text/plain": [
       "     기관명    소계  2013년이전  2014년  2015년  2016년\n",
       "0    강남구  2780     1292    430    584    932\n",
       "18   양천구  2034     1843    142     30    467\n",
       "14   서초구  1930     1406    157    336    398\n",
       "21   은평구  1873     1138    224    278    468\n",
       "20   용산구  1624     1368    218    112    398\n",
       "6    구로구  1561     1142    173    246    323\n",
       "4    관악구  1496      846    260    390    613\n",
       "16   성북구  1464     1009     78    360    204\n",
       "10  동대문구  1294     1070     23    198    579\n",
       "8    노원구  1265      542     57    451    516\n",
       "11   동작구  1091      544    341    103    314\n",
       "15   성동구  1062      730     91    241    265\n",
       "7    금천구  1015      674     51    269    354\n",
       "22   종로구  1002      464    314    211    630\n",
       "13  서대문구   962      844     50     68    292\n",
       "19  영등포구   904      495    214    195    373\n",
       "3    강서구   884      388    258    184     81\n",
       "1    강동구   773      379     99    155    377\n",
       "2    강북구   748      369    120    138    204\n",
       "5    광진구   707      573     78     53    174\n",
       "23    중구   671      413    190     72    348\n",
       "24   중랑구   660      509    121    177    109\n",
       "17   송파구   618      529     21     68    463\n",
       "12   마포구   574      314    118    169    379\n",
       "9    도봉구   485      238    159     42    386"
      ],
      "text/html": "<div>\n<style scoped>\n    .dataframe tbody tr th:only-of-type {\n        vertical-align: middle;\n    }\n\n    .dataframe tbody tr th {\n        vertical-align: top;\n    }\n\n    .dataframe thead th {\n        text-align: right;\n    }\n</style>\n<table border=\"1\" class=\"dataframe\">\n  <thead>\n    <tr style=\"text-align: right;\">\n      <th></th>\n      <th>기관명</th>\n      <th>소계</th>\n      <th>2013년이전</th>\n      <th>2014년</th>\n      <th>2015년</th>\n      <th>2016년</th>\n    </tr>\n  </thead>\n  <tbody>\n    <tr>\n      <th>0</th>\n      <td>강남구</td>\n      <td>2780</td>\n      <td>1292</td>\n      <td>430</td>\n      <td>584</td>\n      <td>932</td>\n    </tr>\n    <tr>\n      <th>18</th>\n      <td>양천구</td>\n      <td>2034</td>\n      <td>1843</td>\n      <td>142</td>\n      <td>30</td>\n      <td>467</td>\n    </tr>\n    <tr>\n      <th>14</th>\n      <td>서초구</td>\n      <td>1930</td>\n      <td>1406</td>\n      <td>157</td>\n      <td>336</td>\n      <td>398</td>\n    </tr>\n    <tr>\n      <th>21</th>\n      <td>은평구</td>\n      <td>1873</td>\n      <td>1138</td>\n      <td>224</td>\n      <td>278</td>\n      <td>468</td>\n    </tr>\n    <tr>\n      <th>20</th>\n      <td>용산구</td>\n      <td>1624</td>\n      <td>1368</td>\n      <td>218</td>\n      <td>112</td>\n      <td>398</td>\n    </tr>\n    <tr>\n      <th>6</th>\n      <td>구로구</td>\n      <td>1561</td>\n      <td>1142</td>\n      <td>173</td>\n      <td>246</td>\n      <td>323</td>\n    </tr>\n    <tr>\n      <th>4</th>\n      <td>관악구</td>\n      <td>1496</td>\n      <td>846</td>\n      <td>260</td>\n      <td>390</td>\n      <td>613</td>\n    </tr>\n    <tr>\n      <th>16</th>\n      <td>성북구</td>\n      <td>1464</td>\n      <td>1009</td>\n      <td>78</td>\n      <td>360</td>\n      <td>204</td>\n    </tr>\n    <tr>\n      <th>10</th>\n      <td>동대문구</td>\n      <td>1294</td>\n      <td>1070</td>\n      <td>23</td>\n      <td>198</td>\n      <td>579</td>\n    </tr>\n    <tr>\n      <th>8</th>\n      <td>노원구</td>\n      <td>1265</td>\n      <td>542</td>\n      <td>57</td>\n      <td>451</td>\n      <td>516</td>\n    </tr>\n    <tr>\n      <th>11</th>\n      <td>동작구</td>\n      <td>1091</td>\n      <td>544</td>\n      <td>341</td>\n      <td>103</td>\n      <td>314</td>\n    </tr>\n    <tr>\n      <th>15</th>\n      <td>성동구</td>\n      <td>1062</td>\n      <td>730</td>\n      <td>91</td>\n      <td>241</td>\n      <td>265</td>\n    </tr>\n    <tr>\n      <th>7</th>\n      <td>금천구</td>\n      <td>1015</td>\n      <td>674</td>\n      <td>51</td>\n      <td>269</td>\n      <td>354</td>\n    </tr>\n    <tr>\n      <th>22</th>\n      <td>종로구</td>\n      <td>1002</td>\n      <td>464</td>\n      <td>314</td>\n      <td>211</td>\n      <td>630</td>\n    </tr>\n    <tr>\n      <th>13</th>\n      <td>서대문구</td>\n      <td>962</td>\n      <td>844</td>\n      <td>50</td>\n      <td>68</td>\n      <td>292</td>\n    </tr>\n    <tr>\n      <th>19</th>\n      <td>영등포구</td>\n      <td>904</td>\n      <td>495</td>\n      <td>214</td>\n      <td>195</td>\n      <td>373</td>\n    </tr>\n    <tr>\n      <th>3</th>\n      <td>강서구</td>\n      <td>884</td>\n      <td>388</td>\n      <td>258</td>\n      <td>184</td>\n      <td>81</td>\n    </tr>\n    <tr>\n      <th>1</th>\n      <td>강동구</td>\n      <td>773</td>\n      <td>379</td>\n      <td>99</td>\n      <td>155</td>\n      <td>377</td>\n    </tr>\n    <tr>\n      <th>2</th>\n      <td>강북구</td>\n      <td>748</td>\n      <td>369</td>\n      <td>120</td>\n      <td>138</td>\n      <td>204</td>\n    </tr>\n    <tr>\n      <th>5</th>\n      <td>광진구</td>\n      <td>707</td>\n      <td>573</td>\n      <td>78</td>\n      <td>53</td>\n      <td>174</td>\n    </tr>\n    <tr>\n      <th>23</th>\n      <td>중구</td>\n      <td>671</td>\n      <td>413</td>\n      <td>190</td>\n      <td>72</td>\n      <td>348</td>\n    </tr>\n    <tr>\n      <th>24</th>\n      <td>중랑구</td>\n      <td>660</td>\n      <td>509</td>\n      <td>121</td>\n      <td>177</td>\n      <td>109</td>\n    </tr>\n    <tr>\n      <th>17</th>\n      <td>송파구</td>\n      <td>618</td>\n      <td>529</td>\n      <td>21</td>\n      <td>68</td>\n      <td>463</td>\n    </tr>\n    <tr>\n      <th>12</th>\n      <td>마포구</td>\n      <td>574</td>\n      <td>314</td>\n      <td>118</td>\n      <td>169</td>\n      <td>379</td>\n    </tr>\n    <tr>\n      <th>9</th>\n      <td>도봉구</td>\n      <td>485</td>\n      <td>238</td>\n      <td>159</td>\n      <td>42</td>\n      <td>386</td>\n    </tr>\n  </tbody>\n</table>\n</div>"
     },
     "metadata": {},
     "execution_count": 95
    }
   ],
   "source": [
    "df.sort_values(by=\"소계\",ascending=False)"
   ]
  },
  {
   "cell_type": "code",
   "execution_count": 97,
   "metadata": {},
   "outputs": [
    {
     "output_type": "execute_result",
     "data": {
      "text/plain": [
       "     기관명    소계  2013년이전  2014년  2015년  2016년\n",
       "9    도봉구   485      238    159     42    386\n",
       "12   마포구   574      314    118    169    379\n",
       "17   송파구   618      529     21     68    463\n",
       "24   중랑구   660      509    121    177    109\n",
       "23    중구   671      413    190     72    348\n",
       "5    광진구   707      573     78     53    174\n",
       "2    강북구   748      369    120    138    204\n",
       "1    강동구   773      379     99    155    377\n",
       "3    강서구   884      388    258    184     81\n",
       "19  영등포구   904      495    214    195    373\n",
       "13  서대문구   962      844     50     68    292\n",
       "22   종로구  1002      464    314    211    630\n",
       "7    금천구  1015      674     51    269    354\n",
       "15   성동구  1062      730     91    241    265\n",
       "11   동작구  1091      544    341    103    314\n",
       "8    노원구  1265      542     57    451    516\n",
       "10  동대문구  1294     1070     23    198    579\n",
       "16   성북구  1464     1009     78    360    204\n",
       "4    관악구  1496      846    260    390    613\n",
       "6    구로구  1561     1142    173    246    323\n",
       "20   용산구  1624     1368    218    112    398\n",
       "21   은평구  1873     1138    224    278    468\n",
       "14   서초구  1930     1406    157    336    398\n",
       "18   양천구  2034     1843    142     30    467\n",
       "0    강남구  2780     1292    430    584    932"
      ],
      "text/html": "<div>\n<style scoped>\n    .dataframe tbody tr th:only-of-type {\n        vertical-align: middle;\n    }\n\n    .dataframe tbody tr th {\n        vertical-align: top;\n    }\n\n    .dataframe thead th {\n        text-align: right;\n    }\n</style>\n<table border=\"1\" class=\"dataframe\">\n  <thead>\n    <tr style=\"text-align: right;\">\n      <th></th>\n      <th>기관명</th>\n      <th>소계</th>\n      <th>2013년이전</th>\n      <th>2014년</th>\n      <th>2015년</th>\n      <th>2016년</th>\n    </tr>\n  </thead>\n  <tbody>\n    <tr>\n      <th>9</th>\n      <td>도봉구</td>\n      <td>485</td>\n      <td>238</td>\n      <td>159</td>\n      <td>42</td>\n      <td>386</td>\n    </tr>\n    <tr>\n      <th>12</th>\n      <td>마포구</td>\n      <td>574</td>\n      <td>314</td>\n      <td>118</td>\n      <td>169</td>\n      <td>379</td>\n    </tr>\n    <tr>\n      <th>17</th>\n      <td>송파구</td>\n      <td>618</td>\n      <td>529</td>\n      <td>21</td>\n      <td>68</td>\n      <td>463</td>\n    </tr>\n    <tr>\n      <th>24</th>\n      <td>중랑구</td>\n      <td>660</td>\n      <td>509</td>\n      <td>121</td>\n      <td>177</td>\n      <td>109</td>\n    </tr>\n    <tr>\n      <th>23</th>\n      <td>중구</td>\n      <td>671</td>\n      <td>413</td>\n      <td>190</td>\n      <td>72</td>\n      <td>348</td>\n    </tr>\n    <tr>\n      <th>5</th>\n      <td>광진구</td>\n      <td>707</td>\n      <td>573</td>\n      <td>78</td>\n      <td>53</td>\n      <td>174</td>\n    </tr>\n    <tr>\n      <th>2</th>\n      <td>강북구</td>\n      <td>748</td>\n      <td>369</td>\n      <td>120</td>\n      <td>138</td>\n      <td>204</td>\n    </tr>\n    <tr>\n      <th>1</th>\n      <td>강동구</td>\n      <td>773</td>\n      <td>379</td>\n      <td>99</td>\n      <td>155</td>\n      <td>377</td>\n    </tr>\n    <tr>\n      <th>3</th>\n      <td>강서구</td>\n      <td>884</td>\n      <td>388</td>\n      <td>258</td>\n      <td>184</td>\n      <td>81</td>\n    </tr>\n    <tr>\n      <th>19</th>\n      <td>영등포구</td>\n      <td>904</td>\n      <td>495</td>\n      <td>214</td>\n      <td>195</td>\n      <td>373</td>\n    </tr>\n    <tr>\n      <th>13</th>\n      <td>서대문구</td>\n      <td>962</td>\n      <td>844</td>\n      <td>50</td>\n      <td>68</td>\n      <td>292</td>\n    </tr>\n    <tr>\n      <th>22</th>\n      <td>종로구</td>\n      <td>1002</td>\n      <td>464</td>\n      <td>314</td>\n      <td>211</td>\n      <td>630</td>\n    </tr>\n    <tr>\n      <th>7</th>\n      <td>금천구</td>\n      <td>1015</td>\n      <td>674</td>\n      <td>51</td>\n      <td>269</td>\n      <td>354</td>\n    </tr>\n    <tr>\n      <th>15</th>\n      <td>성동구</td>\n      <td>1062</td>\n      <td>730</td>\n      <td>91</td>\n      <td>241</td>\n      <td>265</td>\n    </tr>\n    <tr>\n      <th>11</th>\n      <td>동작구</td>\n      <td>1091</td>\n      <td>544</td>\n      <td>341</td>\n      <td>103</td>\n      <td>314</td>\n    </tr>\n    <tr>\n      <th>8</th>\n      <td>노원구</td>\n      <td>1265</td>\n      <td>542</td>\n      <td>57</td>\n      <td>451</td>\n      <td>516</td>\n    </tr>\n    <tr>\n      <th>10</th>\n      <td>동대문구</td>\n      <td>1294</td>\n      <td>1070</td>\n      <td>23</td>\n      <td>198</td>\n      <td>579</td>\n    </tr>\n    <tr>\n      <th>16</th>\n      <td>성북구</td>\n      <td>1464</td>\n      <td>1009</td>\n      <td>78</td>\n      <td>360</td>\n      <td>204</td>\n    </tr>\n    <tr>\n      <th>4</th>\n      <td>관악구</td>\n      <td>1496</td>\n      <td>846</td>\n      <td>260</td>\n      <td>390</td>\n      <td>613</td>\n    </tr>\n    <tr>\n      <th>6</th>\n      <td>구로구</td>\n      <td>1561</td>\n      <td>1142</td>\n      <td>173</td>\n      <td>246</td>\n      <td>323</td>\n    </tr>\n    <tr>\n      <th>20</th>\n      <td>용산구</td>\n      <td>1624</td>\n      <td>1368</td>\n      <td>218</td>\n      <td>112</td>\n      <td>398</td>\n    </tr>\n    <tr>\n      <th>21</th>\n      <td>은평구</td>\n      <td>1873</td>\n      <td>1138</td>\n      <td>224</td>\n      <td>278</td>\n      <td>468</td>\n    </tr>\n    <tr>\n      <th>14</th>\n      <td>서초구</td>\n      <td>1930</td>\n      <td>1406</td>\n      <td>157</td>\n      <td>336</td>\n      <td>398</td>\n    </tr>\n    <tr>\n      <th>18</th>\n      <td>양천구</td>\n      <td>2034</td>\n      <td>1843</td>\n      <td>142</td>\n      <td>30</td>\n      <td>467</td>\n    </tr>\n    <tr>\n      <th>0</th>\n      <td>강남구</td>\n      <td>2780</td>\n      <td>1292</td>\n      <td>430</td>\n      <td>584</td>\n      <td>932</td>\n    </tr>\n  </tbody>\n</table>\n</div>"
     },
     "metadata": {},
     "execution_count": 97
    }
   ],
   "source": [
    "df.sort_values(\"소계\")"
   ]
  },
  {
   "source": [
    "### Data sorting : multi"
   ],
   "cell_type": "markdown",
   "metadata": {}
  },
  {
   "cell_type": "code",
   "execution_count": 99,
   "metadata": {},
   "outputs": [
    {
     "output_type": "execute_result",
     "data": {
      "text/plain": [
       "     기관명    소계  2013년이전  2014년  2015년  2016년\n",
       "9    도봉구   485      238    159     42    386\n",
       "12   마포구   574      314    118    169    379\n",
       "17   송파구   618      529     21     68    463\n",
       "24   중랑구   660      509    121    177    109\n",
       "23    중구   671      413    190     72    348\n",
       "5    광진구   707      573     78     53    174\n",
       "2    강북구   748      369    120    138    204\n",
       "1    강동구   773      379     99    155    377\n",
       "3    강서구   884      388    258    184     81\n",
       "19  영등포구   904      495    214    195    373\n",
       "13  서대문구   962      844     50     68    292\n",
       "22   종로구  1002      464    314    211    630\n",
       "7    금천구  1015      674     51    269    354\n",
       "15   성동구  1062      730     91    241    265\n",
       "11   동작구  1091      544    341    103    314\n",
       "8    노원구  1265      542     57    451    516\n",
       "10  동대문구  1294     1070     23    198    579\n",
       "16   성북구  1464     1009     78    360    204\n",
       "4    관악구  1496      846    260    390    613\n",
       "6    구로구  1561     1142    173    246    323\n",
       "20   용산구  1624     1368    218    112    398\n",
       "21   은평구  1873     1138    224    278    468\n",
       "14   서초구  1930     1406    157    336    398\n",
       "18   양천구  2034     1843    142     30    467\n",
       "0    강남구  2780     1292    430    584    932"
      ],
      "text/html": "<div>\n<style scoped>\n    .dataframe tbody tr th:only-of-type {\n        vertical-align: middle;\n    }\n\n    .dataframe tbody tr th {\n        vertical-align: top;\n    }\n\n    .dataframe thead th {\n        text-align: right;\n    }\n</style>\n<table border=\"1\" class=\"dataframe\">\n  <thead>\n    <tr style=\"text-align: right;\">\n      <th></th>\n      <th>기관명</th>\n      <th>소계</th>\n      <th>2013년이전</th>\n      <th>2014년</th>\n      <th>2015년</th>\n      <th>2016년</th>\n    </tr>\n  </thead>\n  <tbody>\n    <tr>\n      <th>9</th>\n      <td>도봉구</td>\n      <td>485</td>\n      <td>238</td>\n      <td>159</td>\n      <td>42</td>\n      <td>386</td>\n    </tr>\n    <tr>\n      <th>12</th>\n      <td>마포구</td>\n      <td>574</td>\n      <td>314</td>\n      <td>118</td>\n      <td>169</td>\n      <td>379</td>\n    </tr>\n    <tr>\n      <th>17</th>\n      <td>송파구</td>\n      <td>618</td>\n      <td>529</td>\n      <td>21</td>\n      <td>68</td>\n      <td>463</td>\n    </tr>\n    <tr>\n      <th>24</th>\n      <td>중랑구</td>\n      <td>660</td>\n      <td>509</td>\n      <td>121</td>\n      <td>177</td>\n      <td>109</td>\n    </tr>\n    <tr>\n      <th>23</th>\n      <td>중구</td>\n      <td>671</td>\n      <td>413</td>\n      <td>190</td>\n      <td>72</td>\n      <td>348</td>\n    </tr>\n    <tr>\n      <th>5</th>\n      <td>광진구</td>\n      <td>707</td>\n      <td>573</td>\n      <td>78</td>\n      <td>53</td>\n      <td>174</td>\n    </tr>\n    <tr>\n      <th>2</th>\n      <td>강북구</td>\n      <td>748</td>\n      <td>369</td>\n      <td>120</td>\n      <td>138</td>\n      <td>204</td>\n    </tr>\n    <tr>\n      <th>1</th>\n      <td>강동구</td>\n      <td>773</td>\n      <td>379</td>\n      <td>99</td>\n      <td>155</td>\n      <td>377</td>\n    </tr>\n    <tr>\n      <th>3</th>\n      <td>강서구</td>\n      <td>884</td>\n      <td>388</td>\n      <td>258</td>\n      <td>184</td>\n      <td>81</td>\n    </tr>\n    <tr>\n      <th>19</th>\n      <td>영등포구</td>\n      <td>904</td>\n      <td>495</td>\n      <td>214</td>\n      <td>195</td>\n      <td>373</td>\n    </tr>\n    <tr>\n      <th>13</th>\n      <td>서대문구</td>\n      <td>962</td>\n      <td>844</td>\n      <td>50</td>\n      <td>68</td>\n      <td>292</td>\n    </tr>\n    <tr>\n      <th>22</th>\n      <td>종로구</td>\n      <td>1002</td>\n      <td>464</td>\n      <td>314</td>\n      <td>211</td>\n      <td>630</td>\n    </tr>\n    <tr>\n      <th>7</th>\n      <td>금천구</td>\n      <td>1015</td>\n      <td>674</td>\n      <td>51</td>\n      <td>269</td>\n      <td>354</td>\n    </tr>\n    <tr>\n      <th>15</th>\n      <td>성동구</td>\n      <td>1062</td>\n      <td>730</td>\n      <td>91</td>\n      <td>241</td>\n      <td>265</td>\n    </tr>\n    <tr>\n      <th>11</th>\n      <td>동작구</td>\n      <td>1091</td>\n      <td>544</td>\n      <td>341</td>\n      <td>103</td>\n      <td>314</td>\n    </tr>\n    <tr>\n      <th>8</th>\n      <td>노원구</td>\n      <td>1265</td>\n      <td>542</td>\n      <td>57</td>\n      <td>451</td>\n      <td>516</td>\n    </tr>\n    <tr>\n      <th>10</th>\n      <td>동대문구</td>\n      <td>1294</td>\n      <td>1070</td>\n      <td>23</td>\n      <td>198</td>\n      <td>579</td>\n    </tr>\n    <tr>\n      <th>16</th>\n      <td>성북구</td>\n      <td>1464</td>\n      <td>1009</td>\n      <td>78</td>\n      <td>360</td>\n      <td>204</td>\n    </tr>\n    <tr>\n      <th>4</th>\n      <td>관악구</td>\n      <td>1496</td>\n      <td>846</td>\n      <td>260</td>\n      <td>390</td>\n      <td>613</td>\n    </tr>\n    <tr>\n      <th>6</th>\n      <td>구로구</td>\n      <td>1561</td>\n      <td>1142</td>\n      <td>173</td>\n      <td>246</td>\n      <td>323</td>\n    </tr>\n    <tr>\n      <th>20</th>\n      <td>용산구</td>\n      <td>1624</td>\n      <td>1368</td>\n      <td>218</td>\n      <td>112</td>\n      <td>398</td>\n    </tr>\n    <tr>\n      <th>21</th>\n      <td>은평구</td>\n      <td>1873</td>\n      <td>1138</td>\n      <td>224</td>\n      <td>278</td>\n      <td>468</td>\n    </tr>\n    <tr>\n      <th>14</th>\n      <td>서초구</td>\n      <td>1930</td>\n      <td>1406</td>\n      <td>157</td>\n      <td>336</td>\n      <td>398</td>\n    </tr>\n    <tr>\n      <th>18</th>\n      <td>양천구</td>\n      <td>2034</td>\n      <td>1843</td>\n      <td>142</td>\n      <td>30</td>\n      <td>467</td>\n    </tr>\n    <tr>\n      <th>0</th>\n      <td>강남구</td>\n      <td>2780</td>\n      <td>1292</td>\n      <td>430</td>\n      <td>584</td>\n      <td>932</td>\n    </tr>\n  </tbody>\n</table>\n</div>"
     },
     "metadata": {},
     "execution_count": 99
    }
   ],
   "source": [
    "# 동일한 조건이 있을 경우 세분화 시키는 방법\n",
    "# \"소계\" 동일한 값이 있는 경우 -> \"2015년\"\n",
    "df.sort_values(by=[\"소계\",\"2015년\"])\n"
   ]
  },
  {
   "cell_type": "code",
   "execution_count": 101,
   "metadata": {},
   "outputs": [
    {
     "output_type": "execute_result",
     "data": {
      "text/plain": [
       "0     430\n",
       "1      99\n",
       "2     120\n",
       "3     258\n",
       "4     260\n",
       "5      78\n",
       "6     173\n",
       "7      51\n",
       "8      57\n",
       "9     159\n",
       "10     23\n",
       "11    341\n",
       "12    118\n",
       "13     50\n",
       "14    157\n",
       "15     91\n",
       "16     78\n",
       "17     21\n",
       "18    142\n",
       "19    214\n",
       "20    218\n",
       "21    224\n",
       "22    314\n",
       "23    190\n",
       "24    121\n",
       "Name: 2014년, dtype: int64"
      ]
     },
     "metadata": {},
     "execution_count": 101
    }
   ],
   "source": [
    "df[\"2014년\"]"
   ]
  },
  {
   "cell_type": "code",
   "execution_count": 103,
   "metadata": {},
   "outputs": [
    {
     "output_type": "execute_result",
     "data": {
      "text/plain": [
       "0     2780\n",
       "1      773\n",
       "2      748\n",
       "3      884\n",
       "4     1496\n",
       "5      707\n",
       "6     1561\n",
       "7     1015\n",
       "8     1265\n",
       "9      485\n",
       "10    1294\n",
       "11    1091\n",
       "12     574\n",
       "13     962\n",
       "14    1930\n",
       "15    1062\n",
       "16    1464\n",
       "17     618\n",
       "18    2034\n",
       "19     904\n",
       "20    1624\n",
       "21    1873\n",
       "22    1002\n",
       "23     671\n",
       "24     660\n",
       "Name: 소계, dtype: int64"
      ]
     },
     "metadata": {},
     "execution_count": 103
    }
   ],
   "source": [
    "df.소계"
   ]
  },
  {
   "source": [
    "### Range set on DataFrame"
   ],
   "cell_type": "markdown",
   "metadata": {}
  },
  {
   "cell_type": "code",
   "execution_count": 105,
   "metadata": {},
   "outputs": [
    {
     "output_type": "execute_result",
     "data": {
      "text/plain": [
       "(25, 6)"
      ]
     },
     "metadata": {},
     "execution_count": 105
    }
   ],
   "source": [
    "df.shape"
   ]
  },
  {
   "cell_type": "code",
   "execution_count": 107,
   "metadata": {},
   "outputs": [],
   "source": [
    "test = df[:5]"
   ]
  },
  {
   "cell_type": "code",
   "execution_count": 109,
   "metadata": {},
   "outputs": [
    {
     "output_type": "execute_result",
     "data": {
      "text/plain": [
       "(5, 4)"
      ]
     },
     "metadata": {},
     "execution_count": 109
    }
   ],
   "source": [
    "test.shape"
   ]
  },
  {
   "source": [
    "### LOC"
   ],
   "cell_type": "markdown",
   "metadata": {}
  },
  {
   "cell_type": "code",
   "execution_count": 131,
   "metadata": {},
   "outputs": [
    {
     "output_type": "execute_result",
     "data": {
      "text/plain": [
       "0     430\n",
       "1     100\n",
       "2     120\n",
       "3     258\n",
       "4     260\n",
       "5      78\n",
       "6     173\n",
       "7      51\n",
       "8      57\n",
       "9     159\n",
       "10     23\n",
       "11    341\n",
       "12    118\n",
       "13     50\n",
       "14    157\n",
       "15     91\n",
       "16     78\n",
       "17     21\n",
       "18    142\n",
       "19    214\n",
       "20    218\n",
       "21    224\n",
       "22    314\n",
       "23    190\n",
       "24    121\n",
       "Name: 2014년, dtype: int64"
      ]
     },
     "metadata": {},
     "execution_count": 131
    }
   ],
   "source": [
    "# 모든 행의 2014년 자료\n",
    "df.loc[:,\"2014년\"]"
   ]
  },
  {
   "cell_type": "code",
   "execution_count": 82,
   "metadata": {},
   "outputs": [
    {
     "output_type": "execute_result",
     "data": {
      "text/plain": [
       "5      78\n",
       "6     173\n",
       "7      51\n",
       "8      57\n",
       "9     159\n",
       "10     23\n",
       "Name: 2014년, dtype: int64"
      ]
     },
     "metadata": {},
     "execution_count": 82
    }
   ],
   "source": [
    "# 특정 행의 2014년 자료\n",
    "df.loc[5:10,\"2014년\"]"
   ]
  },
  {
   "cell_type": "code",
   "execution_count": 84,
   "metadata": {},
   "outputs": [
    {
     "output_type": "execute_result",
     "data": {
      "text/plain": [
       "     기관명    소계  2013년이전  2014년  2015년  2016년\n",
       "0    강남구  2780     1292    430    584    932\n",
       "1    강동구   773      379     99    155    377\n",
       "2    강북구   748      369    120    138    204\n",
       "3    강서구   884      388    258    184     81\n",
       "4    관악구  1496      846    260    390    613\n",
       "5    광진구   707      573     78     53    174\n",
       "6    구로구  1561     1142    173    246    323\n",
       "7    금천구  1015      674     51    269    354\n",
       "8    노원구  1265      542     57    451    516\n",
       "9    도봉구   485      238    159     42    386\n",
       "10  동대문구  1294     1070     23    198    579\n",
       "11   동작구  1091      544    341    103    314\n",
       "12   마포구   574      314    118    169    379\n",
       "13  서대문구   962      844     50     68    292\n",
       "14   서초구  1930     1406    157    336    398\n",
       "15   성동구  1062      730     91    241    265\n",
       "16   성북구  1464     1009     78    360    204\n",
       "17   송파구   618      529     21     68    463\n",
       "18   양천구  2034     1843    142     30    467\n",
       "19  영등포구   904      495    214    195    373\n",
       "20   용산구  1624     1368    218    112    398\n",
       "21   은평구  1873     1138    224    278    468\n",
       "22   종로구  1002      464    314    211    630\n",
       "23    중구   671      413    190     72    348\n",
       "24   중랑구   660      509    121    177    109"
      ],
      "text/html": "<div>\n<style scoped>\n    .dataframe tbody tr th:only-of-type {\n        vertical-align: middle;\n    }\n\n    .dataframe tbody tr th {\n        vertical-align: top;\n    }\n\n    .dataframe thead th {\n        text-align: right;\n    }\n</style>\n<table border=\"1\" class=\"dataframe\">\n  <thead>\n    <tr style=\"text-align: right;\">\n      <th></th>\n      <th>기관명</th>\n      <th>소계</th>\n      <th>2013년이전</th>\n      <th>2014년</th>\n      <th>2015년</th>\n      <th>2016년</th>\n    </tr>\n  </thead>\n  <tbody>\n    <tr>\n      <th>0</th>\n      <td>강남구</td>\n      <td>2780</td>\n      <td>1292</td>\n      <td>430</td>\n      <td>584</td>\n      <td>932</td>\n    </tr>\n    <tr>\n      <th>1</th>\n      <td>강동구</td>\n      <td>773</td>\n      <td>379</td>\n      <td>99</td>\n      <td>155</td>\n      <td>377</td>\n    </tr>\n    <tr>\n      <th>2</th>\n      <td>강북구</td>\n      <td>748</td>\n      <td>369</td>\n      <td>120</td>\n      <td>138</td>\n      <td>204</td>\n    </tr>\n    <tr>\n      <th>3</th>\n      <td>강서구</td>\n      <td>884</td>\n      <td>388</td>\n      <td>258</td>\n      <td>184</td>\n      <td>81</td>\n    </tr>\n    <tr>\n      <th>4</th>\n      <td>관악구</td>\n      <td>1496</td>\n      <td>846</td>\n      <td>260</td>\n      <td>390</td>\n      <td>613</td>\n    </tr>\n    <tr>\n      <th>5</th>\n      <td>광진구</td>\n      <td>707</td>\n      <td>573</td>\n      <td>78</td>\n      <td>53</td>\n      <td>174</td>\n    </tr>\n    <tr>\n      <th>6</th>\n      <td>구로구</td>\n      <td>1561</td>\n      <td>1142</td>\n      <td>173</td>\n      <td>246</td>\n      <td>323</td>\n    </tr>\n    <tr>\n      <th>7</th>\n      <td>금천구</td>\n      <td>1015</td>\n      <td>674</td>\n      <td>51</td>\n      <td>269</td>\n      <td>354</td>\n    </tr>\n    <tr>\n      <th>8</th>\n      <td>노원구</td>\n      <td>1265</td>\n      <td>542</td>\n      <td>57</td>\n      <td>451</td>\n      <td>516</td>\n    </tr>\n    <tr>\n      <th>9</th>\n      <td>도봉구</td>\n      <td>485</td>\n      <td>238</td>\n      <td>159</td>\n      <td>42</td>\n      <td>386</td>\n    </tr>\n    <tr>\n      <th>10</th>\n      <td>동대문구</td>\n      <td>1294</td>\n      <td>1070</td>\n      <td>23</td>\n      <td>198</td>\n      <td>579</td>\n    </tr>\n    <tr>\n      <th>11</th>\n      <td>동작구</td>\n      <td>1091</td>\n      <td>544</td>\n      <td>341</td>\n      <td>103</td>\n      <td>314</td>\n    </tr>\n    <tr>\n      <th>12</th>\n      <td>마포구</td>\n      <td>574</td>\n      <td>314</td>\n      <td>118</td>\n      <td>169</td>\n      <td>379</td>\n    </tr>\n    <tr>\n      <th>13</th>\n      <td>서대문구</td>\n      <td>962</td>\n      <td>844</td>\n      <td>50</td>\n      <td>68</td>\n      <td>292</td>\n    </tr>\n    <tr>\n      <th>14</th>\n      <td>서초구</td>\n      <td>1930</td>\n      <td>1406</td>\n      <td>157</td>\n      <td>336</td>\n      <td>398</td>\n    </tr>\n    <tr>\n      <th>15</th>\n      <td>성동구</td>\n      <td>1062</td>\n      <td>730</td>\n      <td>91</td>\n      <td>241</td>\n      <td>265</td>\n    </tr>\n    <tr>\n      <th>16</th>\n      <td>성북구</td>\n      <td>1464</td>\n      <td>1009</td>\n      <td>78</td>\n      <td>360</td>\n      <td>204</td>\n    </tr>\n    <tr>\n      <th>17</th>\n      <td>송파구</td>\n      <td>618</td>\n      <td>529</td>\n      <td>21</td>\n      <td>68</td>\n      <td>463</td>\n    </tr>\n    <tr>\n      <th>18</th>\n      <td>양천구</td>\n      <td>2034</td>\n      <td>1843</td>\n      <td>142</td>\n      <td>30</td>\n      <td>467</td>\n    </tr>\n    <tr>\n      <th>19</th>\n      <td>영등포구</td>\n      <td>904</td>\n      <td>495</td>\n      <td>214</td>\n      <td>195</td>\n      <td>373</td>\n    </tr>\n    <tr>\n      <th>20</th>\n      <td>용산구</td>\n      <td>1624</td>\n      <td>1368</td>\n      <td>218</td>\n      <td>112</td>\n      <td>398</td>\n    </tr>\n    <tr>\n      <th>21</th>\n      <td>은평구</td>\n      <td>1873</td>\n      <td>1138</td>\n      <td>224</td>\n      <td>278</td>\n      <td>468</td>\n    </tr>\n    <tr>\n      <th>22</th>\n      <td>종로구</td>\n      <td>1002</td>\n      <td>464</td>\n      <td>314</td>\n      <td>211</td>\n      <td>630</td>\n    </tr>\n    <tr>\n      <th>23</th>\n      <td>중구</td>\n      <td>671</td>\n      <td>413</td>\n      <td>190</td>\n      <td>72</td>\n      <td>348</td>\n    </tr>\n    <tr>\n      <th>24</th>\n      <td>중랑구</td>\n      <td>660</td>\n      <td>509</td>\n      <td>121</td>\n      <td>177</td>\n      <td>109</td>\n    </tr>\n  </tbody>\n</table>\n</div>"
     },
     "metadata": {},
     "execution_count": 84
    }
   ],
   "source": [
    "df"
   ]
  },
  {
   "cell_type": "code",
   "execution_count": 86,
   "metadata": {},
   "outputs": [],
   "source": [
    "df_2 = df.loc[6:9,[\"기관명\",\"2014년\",\"2015년\"]]\n",
    "df_3 = df.loc[6:9,\"2014년\":\"2016년\"]"
   ]
  },
  {
   "cell_type": "code",
   "execution_count": 88,
   "metadata": {},
   "outputs": [
    {
     "output_type": "stream",
     "name": "stdout",
     "text": [
      "   기관명  2014년  2015년\n6  구로구    173    246\n7  금천구     51    269\n8  노원구     57    451\n9  도봉구    159     42\n\n(4, 3)\n\n   2014년  2015년  2016년\n6    173    246    323\n7     51    269    354\n8     57    451    516\n9    159     42    386\n\n(4, 3)\n"
     ]
    }
   ],
   "source": [
    "print(df_2)\n",
    "print()\n",
    "print(df_2.shape)\n",
    "print()\n",
    "print(df_3)\n",
    "print()\n",
    "print(df_3.shape)\n"
   ]
  },
  {
   "cell_type": "code",
   "execution_count": 90,
   "metadata": {},
   "outputs": [],
   "source": [
    "# slice 데이터 타입으로 객체 선언해서 사용할 수 있음\n",
    "needidx = slice(6,9)\n",
    "needcol = [\"기관명\",\"2014년\",\"2015년\"]\n",
    "df_4 = df.loc[needidx,needcol]"
   ]
  },
  {
   "source": [
    "### iloc (position search)"
   ],
   "cell_type": "markdown",
   "metadata": {}
  },
  {
   "cell_type": "code",
   "execution_count": 92,
   "metadata": {},
   "outputs": [
    {
     "output_type": "execute_result",
     "data": {
      "text/plain": [
       "     기관명  2013년이전\n",
       "0    강남구     1292\n",
       "1    강동구      379\n",
       "2    강북구      369\n",
       "3    강서구      388\n",
       "4    관악구      846\n",
       "5    광진구      573\n",
       "6    구로구     1142\n",
       "7    금천구      674\n",
       "8    노원구      542\n",
       "9    도봉구      238\n",
       "10  동대문구     1070\n",
       "11   동작구      544\n",
       "12   마포구      314\n",
       "13  서대문구      844\n",
       "14   서초구     1406\n",
       "15   성동구      730\n",
       "16   성북구     1009\n",
       "17   송파구      529\n",
       "18   양천구     1843\n",
       "19  영등포구      495\n",
       "20   용산구     1368\n",
       "21   은평구     1138\n",
       "22   종로구      464\n",
       "23    중구      413\n",
       "24   중랑구      509"
      ],
      "text/html": "<div>\n<style scoped>\n    .dataframe tbody tr th:only-of-type {\n        vertical-align: middle;\n    }\n\n    .dataframe tbody tr th {\n        vertical-align: top;\n    }\n\n    .dataframe thead th {\n        text-align: right;\n    }\n</style>\n<table border=\"1\" class=\"dataframe\">\n  <thead>\n    <tr style=\"text-align: right;\">\n      <th></th>\n      <th>기관명</th>\n      <th>2013년이전</th>\n    </tr>\n  </thead>\n  <tbody>\n    <tr>\n      <th>0</th>\n      <td>강남구</td>\n      <td>1292</td>\n    </tr>\n    <tr>\n      <th>1</th>\n      <td>강동구</td>\n      <td>379</td>\n    </tr>\n    <tr>\n      <th>2</th>\n      <td>강북구</td>\n      <td>369</td>\n    </tr>\n    <tr>\n      <th>3</th>\n      <td>강서구</td>\n      <td>388</td>\n    </tr>\n    <tr>\n      <th>4</th>\n      <td>관악구</td>\n      <td>846</td>\n    </tr>\n    <tr>\n      <th>5</th>\n      <td>광진구</td>\n      <td>573</td>\n    </tr>\n    <tr>\n      <th>6</th>\n      <td>구로구</td>\n      <td>1142</td>\n    </tr>\n    <tr>\n      <th>7</th>\n      <td>금천구</td>\n      <td>674</td>\n    </tr>\n    <tr>\n      <th>8</th>\n      <td>노원구</td>\n      <td>542</td>\n    </tr>\n    <tr>\n      <th>9</th>\n      <td>도봉구</td>\n      <td>238</td>\n    </tr>\n    <tr>\n      <th>10</th>\n      <td>동대문구</td>\n      <td>1070</td>\n    </tr>\n    <tr>\n      <th>11</th>\n      <td>동작구</td>\n      <td>544</td>\n    </tr>\n    <tr>\n      <th>12</th>\n      <td>마포구</td>\n      <td>314</td>\n    </tr>\n    <tr>\n      <th>13</th>\n      <td>서대문구</td>\n      <td>844</td>\n    </tr>\n    <tr>\n      <th>14</th>\n      <td>서초구</td>\n      <td>1406</td>\n    </tr>\n    <tr>\n      <th>15</th>\n      <td>성동구</td>\n      <td>730</td>\n    </tr>\n    <tr>\n      <th>16</th>\n      <td>성북구</td>\n      <td>1009</td>\n    </tr>\n    <tr>\n      <th>17</th>\n      <td>송파구</td>\n      <td>529</td>\n    </tr>\n    <tr>\n      <th>18</th>\n      <td>양천구</td>\n      <td>1843</td>\n    </tr>\n    <tr>\n      <th>19</th>\n      <td>영등포구</td>\n      <td>495</td>\n    </tr>\n    <tr>\n      <th>20</th>\n      <td>용산구</td>\n      <td>1368</td>\n    </tr>\n    <tr>\n      <th>21</th>\n      <td>은평구</td>\n      <td>1138</td>\n    </tr>\n    <tr>\n      <th>22</th>\n      <td>종로구</td>\n      <td>464</td>\n    </tr>\n    <tr>\n      <th>23</th>\n      <td>중구</td>\n      <td>413</td>\n    </tr>\n    <tr>\n      <th>24</th>\n      <td>중랑구</td>\n      <td>509</td>\n    </tr>\n  </tbody>\n</table>\n</div>"
     },
     "metadata": {},
     "execution_count": 92
    }
   ],
   "source": [
    "# column index instaed of column name\n",
    "df.iloc[:,[0,2]]"
   ]
  },
  {
   "cell_type": "code",
   "execution_count": 94,
   "metadata": {},
   "outputs": [
    {
     "output_type": "execute_result",
     "data": {
      "text/plain": [
       "     기관명    소계  2013년이전\n",
       "0    강남구  2780     1292\n",
       "1    강동구   773      379\n",
       "2    강북구   748      369\n",
       "3    강서구   884      388\n",
       "4    관악구  1496      846\n",
       "5    광진구   707      573\n",
       "6    구로구  1561     1142\n",
       "7    금천구  1015      674\n",
       "8    노원구  1265      542\n",
       "9    도봉구   485      238\n",
       "10  동대문구  1294     1070\n",
       "11   동작구  1091      544\n",
       "12   마포구   574      314\n",
       "13  서대문구   962      844\n",
       "14   서초구  1930     1406\n",
       "15   성동구  1062      730\n",
       "16   성북구  1464     1009\n",
       "17   송파구   618      529\n",
       "18   양천구  2034     1843\n",
       "19  영등포구   904      495\n",
       "20   용산구  1624     1368\n",
       "21   은평구  1873     1138\n",
       "22   종로구  1002      464\n",
       "23    중구   671      413\n",
       "24   중랑구   660      509"
      ],
      "text/html": "<div>\n<style scoped>\n    .dataframe tbody tr th:only-of-type {\n        vertical-align: middle;\n    }\n\n    .dataframe tbody tr th {\n        vertical-align: top;\n    }\n\n    .dataframe thead th {\n        text-align: right;\n    }\n</style>\n<table border=\"1\" class=\"dataframe\">\n  <thead>\n    <tr style=\"text-align: right;\">\n      <th></th>\n      <th>기관명</th>\n      <th>소계</th>\n      <th>2013년이전</th>\n    </tr>\n  </thead>\n  <tbody>\n    <tr>\n      <th>0</th>\n      <td>강남구</td>\n      <td>2780</td>\n      <td>1292</td>\n    </tr>\n    <tr>\n      <th>1</th>\n      <td>강동구</td>\n      <td>773</td>\n      <td>379</td>\n    </tr>\n    <tr>\n      <th>2</th>\n      <td>강북구</td>\n      <td>748</td>\n      <td>369</td>\n    </tr>\n    <tr>\n      <th>3</th>\n      <td>강서구</td>\n      <td>884</td>\n      <td>388</td>\n    </tr>\n    <tr>\n      <th>4</th>\n      <td>관악구</td>\n      <td>1496</td>\n      <td>846</td>\n    </tr>\n    <tr>\n      <th>5</th>\n      <td>광진구</td>\n      <td>707</td>\n      <td>573</td>\n    </tr>\n    <tr>\n      <th>6</th>\n      <td>구로구</td>\n      <td>1561</td>\n      <td>1142</td>\n    </tr>\n    <tr>\n      <th>7</th>\n      <td>금천구</td>\n      <td>1015</td>\n      <td>674</td>\n    </tr>\n    <tr>\n      <th>8</th>\n      <td>노원구</td>\n      <td>1265</td>\n      <td>542</td>\n    </tr>\n    <tr>\n      <th>9</th>\n      <td>도봉구</td>\n      <td>485</td>\n      <td>238</td>\n    </tr>\n    <tr>\n      <th>10</th>\n      <td>동대문구</td>\n      <td>1294</td>\n      <td>1070</td>\n    </tr>\n    <tr>\n      <th>11</th>\n      <td>동작구</td>\n      <td>1091</td>\n      <td>544</td>\n    </tr>\n    <tr>\n      <th>12</th>\n      <td>마포구</td>\n      <td>574</td>\n      <td>314</td>\n    </tr>\n    <tr>\n      <th>13</th>\n      <td>서대문구</td>\n      <td>962</td>\n      <td>844</td>\n    </tr>\n    <tr>\n      <th>14</th>\n      <td>서초구</td>\n      <td>1930</td>\n      <td>1406</td>\n    </tr>\n    <tr>\n      <th>15</th>\n      <td>성동구</td>\n      <td>1062</td>\n      <td>730</td>\n    </tr>\n    <tr>\n      <th>16</th>\n      <td>성북구</td>\n      <td>1464</td>\n      <td>1009</td>\n    </tr>\n    <tr>\n      <th>17</th>\n      <td>송파구</td>\n      <td>618</td>\n      <td>529</td>\n    </tr>\n    <tr>\n      <th>18</th>\n      <td>양천구</td>\n      <td>2034</td>\n      <td>1843</td>\n    </tr>\n    <tr>\n      <th>19</th>\n      <td>영등포구</td>\n      <td>904</td>\n      <td>495</td>\n    </tr>\n    <tr>\n      <th>20</th>\n      <td>용산구</td>\n      <td>1624</td>\n      <td>1368</td>\n    </tr>\n    <tr>\n      <th>21</th>\n      <td>은평구</td>\n      <td>1873</td>\n      <td>1138</td>\n    </tr>\n    <tr>\n      <th>22</th>\n      <td>종로구</td>\n      <td>1002</td>\n      <td>464</td>\n    </tr>\n    <tr>\n      <th>23</th>\n      <td>중구</td>\n      <td>671</td>\n      <td>413</td>\n    </tr>\n    <tr>\n      <th>24</th>\n      <td>중랑구</td>\n      <td>660</td>\n      <td>509</td>\n    </tr>\n  </tbody>\n</table>\n</div>"
     },
     "metadata": {},
     "execution_count": 94
    }
   ],
   "source": [
    "# column index instaed of column name\n",
    "# exclude stop num\n",
    "df.iloc[:,0:3]"
   ]
  },
  {
   "cell_type": "code",
   "execution_count": 96,
   "metadata": {},
   "outputs": [
    {
     "output_type": "execute_result",
     "data": {
      "text/plain": [
       "   기관명   소계  2013년이전\n",
       "1  강동구  773      379\n",
       "2  강북구  748      369"
      ],
      "text/html": "<div>\n<style scoped>\n    .dataframe tbody tr th:only-of-type {\n        vertical-align: middle;\n    }\n\n    .dataframe tbody tr th {\n        vertical-align: top;\n    }\n\n    .dataframe thead th {\n        text-align: right;\n    }\n</style>\n<table border=\"1\" class=\"dataframe\">\n  <thead>\n    <tr style=\"text-align: right;\">\n      <th></th>\n      <th>기관명</th>\n      <th>소계</th>\n      <th>2013년이전</th>\n    </tr>\n  </thead>\n  <tbody>\n    <tr>\n      <th>1</th>\n      <td>강동구</td>\n      <td>773</td>\n      <td>379</td>\n    </tr>\n    <tr>\n      <th>2</th>\n      <td>강북구</td>\n      <td>748</td>\n      <td>369</td>\n    </tr>\n  </tbody>\n</table>\n</div>"
     },
     "metadata": {},
     "execution_count": 96
    }
   ],
   "source": [
    "# start_index, stop_index, start_column, stop_column\n",
    "df.iloc[1:3,0:3]"
   ]
  },
  {
   "source": [
    "### Boolean indexing"
   ],
   "cell_type": "markdown",
   "metadata": {}
  },
  {
   "cell_type": "code",
   "execution_count": 98,
   "metadata": {},
   "outputs": [
    {
     "output_type": "execute_result",
     "data": {
      "text/plain": [
       "     기관명    소계  2013년이전  2014년  2015년  2016년\n",
       "0    강남구  2780     1292    430    584    932\n",
       "1    강동구   773      379     99    155    377\n",
       "2    강북구   748      369    120    138    204\n",
       "3    강서구   884      388    258    184     81\n",
       "4    관악구  1496      846    260    390    613\n",
       "5    광진구   707      573     78     53    174\n",
       "6    구로구  1561     1142    173    246    323\n",
       "7    금천구  1015      674     51    269    354\n",
       "8    노원구  1265      542     57    451    516\n",
       "9    도봉구   485      238    159     42    386\n",
       "10  동대문구  1294     1070     23    198    579\n",
       "11   동작구  1091      544    341    103    314\n",
       "12   마포구   574      314    118    169    379\n",
       "13  서대문구   962      844     50     68    292\n",
       "14   서초구  1930     1406    157    336    398\n",
       "15   성동구  1062      730     91    241    265\n",
       "16   성북구  1464     1009     78    360    204\n",
       "17   송파구   618      529     21     68    463\n",
       "18   양천구  2034     1843    142     30    467\n",
       "19  영등포구   904      495    214    195    373\n",
       "20   용산구  1624     1368    218    112    398\n",
       "21   은평구  1873     1138    224    278    468\n",
       "22   종로구  1002      464    314    211    630\n",
       "23    중구   671      413    190     72    348\n",
       "24   중랑구   660      509    121    177    109"
      ],
      "text/html": "<div>\n<style scoped>\n    .dataframe tbody tr th:only-of-type {\n        vertical-align: middle;\n    }\n\n    .dataframe tbody tr th {\n        vertical-align: top;\n    }\n\n    .dataframe thead th {\n        text-align: right;\n    }\n</style>\n<table border=\"1\" class=\"dataframe\">\n  <thead>\n    <tr style=\"text-align: right;\">\n      <th></th>\n      <th>기관명</th>\n      <th>소계</th>\n      <th>2013년이전</th>\n      <th>2014년</th>\n      <th>2015년</th>\n      <th>2016년</th>\n    </tr>\n  </thead>\n  <tbody>\n    <tr>\n      <th>0</th>\n      <td>강남구</td>\n      <td>2780</td>\n      <td>1292</td>\n      <td>430</td>\n      <td>584</td>\n      <td>932</td>\n    </tr>\n    <tr>\n      <th>1</th>\n      <td>강동구</td>\n      <td>773</td>\n      <td>379</td>\n      <td>99</td>\n      <td>155</td>\n      <td>377</td>\n    </tr>\n    <tr>\n      <th>2</th>\n      <td>강북구</td>\n      <td>748</td>\n      <td>369</td>\n      <td>120</td>\n      <td>138</td>\n      <td>204</td>\n    </tr>\n    <tr>\n      <th>3</th>\n      <td>강서구</td>\n      <td>884</td>\n      <td>388</td>\n      <td>258</td>\n      <td>184</td>\n      <td>81</td>\n    </tr>\n    <tr>\n      <th>4</th>\n      <td>관악구</td>\n      <td>1496</td>\n      <td>846</td>\n      <td>260</td>\n      <td>390</td>\n      <td>613</td>\n    </tr>\n    <tr>\n      <th>5</th>\n      <td>광진구</td>\n      <td>707</td>\n      <td>573</td>\n      <td>78</td>\n      <td>53</td>\n      <td>174</td>\n    </tr>\n    <tr>\n      <th>6</th>\n      <td>구로구</td>\n      <td>1561</td>\n      <td>1142</td>\n      <td>173</td>\n      <td>246</td>\n      <td>323</td>\n    </tr>\n    <tr>\n      <th>7</th>\n      <td>금천구</td>\n      <td>1015</td>\n      <td>674</td>\n      <td>51</td>\n      <td>269</td>\n      <td>354</td>\n    </tr>\n    <tr>\n      <th>8</th>\n      <td>노원구</td>\n      <td>1265</td>\n      <td>542</td>\n      <td>57</td>\n      <td>451</td>\n      <td>516</td>\n    </tr>\n    <tr>\n      <th>9</th>\n      <td>도봉구</td>\n      <td>485</td>\n      <td>238</td>\n      <td>159</td>\n      <td>42</td>\n      <td>386</td>\n    </tr>\n    <tr>\n      <th>10</th>\n      <td>동대문구</td>\n      <td>1294</td>\n      <td>1070</td>\n      <td>23</td>\n      <td>198</td>\n      <td>579</td>\n    </tr>\n    <tr>\n      <th>11</th>\n      <td>동작구</td>\n      <td>1091</td>\n      <td>544</td>\n      <td>341</td>\n      <td>103</td>\n      <td>314</td>\n    </tr>\n    <tr>\n      <th>12</th>\n      <td>마포구</td>\n      <td>574</td>\n      <td>314</td>\n      <td>118</td>\n      <td>169</td>\n      <td>379</td>\n    </tr>\n    <tr>\n      <th>13</th>\n      <td>서대문구</td>\n      <td>962</td>\n      <td>844</td>\n      <td>50</td>\n      <td>68</td>\n      <td>292</td>\n    </tr>\n    <tr>\n      <th>14</th>\n      <td>서초구</td>\n      <td>1930</td>\n      <td>1406</td>\n      <td>157</td>\n      <td>336</td>\n      <td>398</td>\n    </tr>\n    <tr>\n      <th>15</th>\n      <td>성동구</td>\n      <td>1062</td>\n      <td>730</td>\n      <td>91</td>\n      <td>241</td>\n      <td>265</td>\n    </tr>\n    <tr>\n      <th>16</th>\n      <td>성북구</td>\n      <td>1464</td>\n      <td>1009</td>\n      <td>78</td>\n      <td>360</td>\n      <td>204</td>\n    </tr>\n    <tr>\n      <th>17</th>\n      <td>송파구</td>\n      <td>618</td>\n      <td>529</td>\n      <td>21</td>\n      <td>68</td>\n      <td>463</td>\n    </tr>\n    <tr>\n      <th>18</th>\n      <td>양천구</td>\n      <td>2034</td>\n      <td>1843</td>\n      <td>142</td>\n      <td>30</td>\n      <td>467</td>\n    </tr>\n    <tr>\n      <th>19</th>\n      <td>영등포구</td>\n      <td>904</td>\n      <td>495</td>\n      <td>214</td>\n      <td>195</td>\n      <td>373</td>\n    </tr>\n    <tr>\n      <th>20</th>\n      <td>용산구</td>\n      <td>1624</td>\n      <td>1368</td>\n      <td>218</td>\n      <td>112</td>\n      <td>398</td>\n    </tr>\n    <tr>\n      <th>21</th>\n      <td>은평구</td>\n      <td>1873</td>\n      <td>1138</td>\n      <td>224</td>\n      <td>278</td>\n      <td>468</td>\n    </tr>\n    <tr>\n      <th>22</th>\n      <td>종로구</td>\n      <td>1002</td>\n      <td>464</td>\n      <td>314</td>\n      <td>211</td>\n      <td>630</td>\n    </tr>\n    <tr>\n      <th>23</th>\n      <td>중구</td>\n      <td>671</td>\n      <td>413</td>\n      <td>190</td>\n      <td>72</td>\n      <td>348</td>\n    </tr>\n    <tr>\n      <th>24</th>\n      <td>중랑구</td>\n      <td>660</td>\n      <td>509</td>\n      <td>121</td>\n      <td>177</td>\n      <td>109</td>\n    </tr>\n  </tbody>\n</table>\n</div>"
     },
     "metadata": {},
     "execution_count": 98
    }
   ],
   "source": [
    "df"
   ]
  },
  {
   "cell_type": "code",
   "execution_count": 100,
   "metadata": {},
   "outputs": [
    {
     "output_type": "execute_result",
     "data": {
      "text/plain": [
       "0     False\n",
       "1      True\n",
       "2      True\n",
       "3      True\n",
       "4     False\n",
       "5      True\n",
       "6     False\n",
       "7     False\n",
       "8     False\n",
       "9      True\n",
       "10    False\n",
       "11    False\n",
       "12     True\n",
       "13     True\n",
       "14    False\n",
       "15    False\n",
       "16    False\n",
       "17     True\n",
       "18    False\n",
       "19     True\n",
       "20    False\n",
       "21    False\n",
       "22    False\n",
       "23     True\n",
       "24     True\n",
       "Name: 소계, dtype: bool"
      ]
     },
     "metadata": {},
     "execution_count": 100
    }
   ],
   "source": [
    "# making boolean pd\n",
    "df[\"소계\"] < 1000"
   ]
  },
  {
   "cell_type": "code",
   "execution_count": 102,
   "metadata": {},
   "outputs": [
    {
     "output_type": "execute_result",
     "data": {
      "text/plain": [
       "     기관명   소계  2013년이전  2014년  2015년  2016년\n",
       "1    강동구  773      379     99    155    377\n",
       "2    강북구  748      369    120    138    204\n",
       "3    강서구  884      388    258    184     81\n",
       "5    광진구  707      573     78     53    174\n",
       "9    도봉구  485      238    159     42    386\n",
       "12   마포구  574      314    118    169    379\n",
       "13  서대문구  962      844     50     68    292\n",
       "17   송파구  618      529     21     68    463\n",
       "19  영등포구  904      495    214    195    373\n",
       "23    중구  671      413    190     72    348\n",
       "24   중랑구  660      509    121    177    109"
      ],
      "text/html": "<div>\n<style scoped>\n    .dataframe tbody tr th:only-of-type {\n        vertical-align: middle;\n    }\n\n    .dataframe tbody tr th {\n        vertical-align: top;\n    }\n\n    .dataframe thead th {\n        text-align: right;\n    }\n</style>\n<table border=\"1\" class=\"dataframe\">\n  <thead>\n    <tr style=\"text-align: right;\">\n      <th></th>\n      <th>기관명</th>\n      <th>소계</th>\n      <th>2013년이전</th>\n      <th>2014년</th>\n      <th>2015년</th>\n      <th>2016년</th>\n    </tr>\n  </thead>\n  <tbody>\n    <tr>\n      <th>1</th>\n      <td>강동구</td>\n      <td>773</td>\n      <td>379</td>\n      <td>99</td>\n      <td>155</td>\n      <td>377</td>\n    </tr>\n    <tr>\n      <th>2</th>\n      <td>강북구</td>\n      <td>748</td>\n      <td>369</td>\n      <td>120</td>\n      <td>138</td>\n      <td>204</td>\n    </tr>\n    <tr>\n      <th>3</th>\n      <td>강서구</td>\n      <td>884</td>\n      <td>388</td>\n      <td>258</td>\n      <td>184</td>\n      <td>81</td>\n    </tr>\n    <tr>\n      <th>5</th>\n      <td>광진구</td>\n      <td>707</td>\n      <td>573</td>\n      <td>78</td>\n      <td>53</td>\n      <td>174</td>\n    </tr>\n    <tr>\n      <th>9</th>\n      <td>도봉구</td>\n      <td>485</td>\n      <td>238</td>\n      <td>159</td>\n      <td>42</td>\n      <td>386</td>\n    </tr>\n    <tr>\n      <th>12</th>\n      <td>마포구</td>\n      <td>574</td>\n      <td>314</td>\n      <td>118</td>\n      <td>169</td>\n      <td>379</td>\n    </tr>\n    <tr>\n      <th>13</th>\n      <td>서대문구</td>\n      <td>962</td>\n      <td>844</td>\n      <td>50</td>\n      <td>68</td>\n      <td>292</td>\n    </tr>\n    <tr>\n      <th>17</th>\n      <td>송파구</td>\n      <td>618</td>\n      <td>529</td>\n      <td>21</td>\n      <td>68</td>\n      <td>463</td>\n    </tr>\n    <tr>\n      <th>19</th>\n      <td>영등포구</td>\n      <td>904</td>\n      <td>495</td>\n      <td>214</td>\n      <td>195</td>\n      <td>373</td>\n    </tr>\n    <tr>\n      <th>23</th>\n      <td>중구</td>\n      <td>671</td>\n      <td>413</td>\n      <td>190</td>\n      <td>72</td>\n      <td>348</td>\n    </tr>\n    <tr>\n      <th>24</th>\n      <td>중랑구</td>\n      <td>660</td>\n      <td>509</td>\n      <td>121</td>\n      <td>177</td>\n      <td>109</td>\n    </tr>\n  </tbody>\n</table>\n</div>"
     },
     "metadata": {},
     "execution_count": 102
    }
   ],
   "source": [
    "# boolean pd로 필터해서 추출\n",
    "df[df[\"소계\"]<1000]"
   ]
  },
  {
   "cell_type": "code",
   "execution_count": 104,
   "metadata": {},
   "outputs": [
    {
     "output_type": "execute_result",
     "data": {
      "text/plain": [
       "     기관명  2013년이전  2014년\n",
       "1    강동구      379     99\n",
       "2    강북구      369    120\n",
       "3    강서구      388    258\n",
       "5    광진구      573     78\n",
       "9    도봉구      238    159\n",
       "12   마포구      314    118\n",
       "13  서대문구      844     50\n",
       "17   송파구      529     21\n",
       "19  영등포구      495    214\n",
       "23    중구      413    190\n",
       "24   중랑구      509    121"
      ],
      "text/html": "<div>\n<style scoped>\n    .dataframe tbody tr th:only-of-type {\n        vertical-align: middle;\n    }\n\n    .dataframe tbody tr th {\n        vertical-align: top;\n    }\n\n    .dataframe thead th {\n        text-align: right;\n    }\n</style>\n<table border=\"1\" class=\"dataframe\">\n  <thead>\n    <tr style=\"text-align: right;\">\n      <th></th>\n      <th>기관명</th>\n      <th>2013년이전</th>\n      <th>2014년</th>\n    </tr>\n  </thead>\n  <tbody>\n    <tr>\n      <th>1</th>\n      <td>강동구</td>\n      <td>379</td>\n      <td>99</td>\n    </tr>\n    <tr>\n      <th>2</th>\n      <td>강북구</td>\n      <td>369</td>\n      <td>120</td>\n    </tr>\n    <tr>\n      <th>3</th>\n      <td>강서구</td>\n      <td>388</td>\n      <td>258</td>\n    </tr>\n    <tr>\n      <th>5</th>\n      <td>광진구</td>\n      <td>573</td>\n      <td>78</td>\n    </tr>\n    <tr>\n      <th>9</th>\n      <td>도봉구</td>\n      <td>238</td>\n      <td>159</td>\n    </tr>\n    <tr>\n      <th>12</th>\n      <td>마포구</td>\n      <td>314</td>\n      <td>118</td>\n    </tr>\n    <tr>\n      <th>13</th>\n      <td>서대문구</td>\n      <td>844</td>\n      <td>50</td>\n    </tr>\n    <tr>\n      <th>17</th>\n      <td>송파구</td>\n      <td>529</td>\n      <td>21</td>\n    </tr>\n    <tr>\n      <th>19</th>\n      <td>영등포구</td>\n      <td>495</td>\n      <td>214</td>\n    </tr>\n    <tr>\n      <th>23</th>\n      <td>중구</td>\n      <td>413</td>\n      <td>190</td>\n    </tr>\n    <tr>\n      <th>24</th>\n      <td>중랑구</td>\n      <td>509</td>\n      <td>121</td>\n    </tr>\n  </tbody>\n</table>\n</div>"
     },
     "metadata": {},
     "execution_count": 104
    }
   ],
   "source": [
    "# raw filter : \"소계\" <1000\n",
    "# column filter : \"기관명\",\"2013년이전\",\"2014년\"\n",
    "\n",
    "df[df[\"소계\"]<1000][[\"기관명\",\"2013년이전\",\"2014년\"]]"
   ]
  },
  {
   "source": [
    "## search by isin"
   ],
   "cell_type": "markdown",
   "metadata": {}
  },
  {
   "cell_type": "code",
   "execution_count": 136,
   "metadata": {},
   "outputs": [
    {
     "output_type": "execute_result",
     "data": {
      "text/plain": [
       "     Unnamed: 0   y   x      ID\n",
       "0             0   0   7      철원\n",
       "1             1   0   8      화천\n",
       "2             2   0   9      양구\n",
       "3             3   0  10  고성(강원)\n",
       "4             4   1   3      양주\n",
       "..          ...  ..  ..     ...\n",
       "247         247  24   2      장흥\n",
       "248         248  24   3      보성\n",
       "249         249  25   2      완도\n",
       "250         250  25   5      제주\n",
       "251         251  26   5     서귀포\n",
       "\n",
       "[252 rows x 4 columns]"
      ],
      "text/html": "<div>\n<style scoped>\n    .dataframe tbody tr th:only-of-type {\n        vertical-align: middle;\n    }\n\n    .dataframe tbody tr th {\n        vertical-align: top;\n    }\n\n    .dataframe thead th {\n        text-align: right;\n    }\n</style>\n<table border=\"1\" class=\"dataframe\">\n  <thead>\n    <tr style=\"text-align: right;\">\n      <th></th>\n      <th>Unnamed: 0</th>\n      <th>y</th>\n      <th>x</th>\n      <th>ID</th>\n    </tr>\n  </thead>\n  <tbody>\n    <tr>\n      <th>0</th>\n      <td>0</td>\n      <td>0</td>\n      <td>7</td>\n      <td>철원</td>\n    </tr>\n    <tr>\n      <th>1</th>\n      <td>1</td>\n      <td>0</td>\n      <td>8</td>\n      <td>화천</td>\n    </tr>\n    <tr>\n      <th>2</th>\n      <td>2</td>\n      <td>0</td>\n      <td>9</td>\n      <td>양구</td>\n    </tr>\n    <tr>\n      <th>3</th>\n      <td>3</td>\n      <td>0</td>\n      <td>10</td>\n      <td>고성(강원)</td>\n    </tr>\n    <tr>\n      <th>4</th>\n      <td>4</td>\n      <td>1</td>\n      <td>3</td>\n      <td>양주</td>\n    </tr>\n    <tr>\n      <th>...</th>\n      <td>...</td>\n      <td>...</td>\n      <td>...</td>\n      <td>...</td>\n    </tr>\n    <tr>\n      <th>247</th>\n      <td>247</td>\n      <td>24</td>\n      <td>2</td>\n      <td>장흥</td>\n    </tr>\n    <tr>\n      <th>248</th>\n      <td>248</td>\n      <td>24</td>\n      <td>3</td>\n      <td>보성</td>\n    </tr>\n    <tr>\n      <th>249</th>\n      <td>249</td>\n      <td>25</td>\n      <td>2</td>\n      <td>완도</td>\n    </tr>\n    <tr>\n      <th>250</th>\n      <td>250</td>\n      <td>25</td>\n      <td>5</td>\n      <td>제주</td>\n    </tr>\n    <tr>\n      <th>251</th>\n      <td>251</td>\n      <td>26</td>\n      <td>5</td>\n      <td>서귀포</td>\n    </tr>\n  </tbody>\n</table>\n<p>252 rows × 4 columns</p>\n</div>"
     },
     "metadata": {},
     "execution_count": 136
    }
   ],
   "source": [
    "filePath = \"/Volumes/Geozedo60/Python/bit/datamath/practice/DataScience/data/05. draw_korea.csv\"\n",
    "df = pd.read_csv(filePath)\n",
    "df"
   ]
  },
  {
   "cell_type": "code",
   "execution_count": 138,
   "metadata": {},
   "outputs": [
    {
     "output_type": "execute_result",
     "data": {
      "text/plain": [
       "0      False\n",
       "1      False\n",
       "2       True\n",
       "3      False\n",
       "4      False\n",
       "       ...  \n",
       "247    False\n",
       "248    False\n",
       "249    False\n",
       "250     True\n",
       "251    False\n",
       "Name: ID, Length: 252, dtype: bool"
      ]
     },
     "metadata": {},
     "execution_count": 138
    }
   ],
   "source": [
    "# set target list\n",
    "# make boolean index with t.list\n",
    "myID = [\"제주\",\"양구\"]\n",
    "df[\"ID\"].isin(myID)"
   ]
  },
  {
   "cell_type": "code",
   "execution_count": 139,
   "metadata": {},
   "outputs": [
    {
     "output_type": "execute_result",
     "data": {
      "text/plain": [
       "     Unnamed: 0   y  x  ID\n",
       "2             2   0  9  양구\n",
       "250         250  25  5  제주"
      ],
      "text/html": "<div>\n<style scoped>\n    .dataframe tbody tr th:only-of-type {\n        vertical-align: middle;\n    }\n\n    .dataframe tbody tr th {\n        vertical-align: top;\n    }\n\n    .dataframe thead th {\n        text-align: right;\n    }\n</style>\n<table border=\"1\" class=\"dataframe\">\n  <thead>\n    <tr style=\"text-align: right;\">\n      <th></th>\n      <th>Unnamed: 0</th>\n      <th>y</th>\n      <th>x</th>\n      <th>ID</th>\n    </tr>\n  </thead>\n  <tbody>\n    <tr>\n      <th>2</th>\n      <td>2</td>\n      <td>0</td>\n      <td>9</td>\n      <td>양구</td>\n    </tr>\n    <tr>\n      <th>250</th>\n      <td>250</td>\n      <td>25</td>\n      <td>5</td>\n      <td>제주</td>\n    </tr>\n  </tbody>\n</table>\n</div>"
     },
     "metadata": {},
     "execution_count": 139
    }
   ],
   "source": [
    "df[df[\"ID\"].isin(myID)]"
   ]
  },
  {
   "cell_type": "code",
   "execution_count": 140,
   "metadata": {},
   "outputs": [
    {
     "output_type": "execute_result",
     "data": {
      "text/plain": [
       "      y  x  ID\n",
       "2     0  9  양구\n",
       "250  25  5  제주"
      ],
      "text/html": "<div>\n<style scoped>\n    .dataframe tbody tr th:only-of-type {\n        vertical-align: middle;\n    }\n\n    .dataframe tbody tr th {\n        vertical-align: top;\n    }\n\n    .dataframe thead th {\n        text-align: right;\n    }\n</style>\n<table border=\"1\" class=\"dataframe\">\n  <thead>\n    <tr style=\"text-align: right;\">\n      <th></th>\n      <th>y</th>\n      <th>x</th>\n      <th>ID</th>\n    </tr>\n  </thead>\n  <tbody>\n    <tr>\n      <th>2</th>\n      <td>0</td>\n      <td>9</td>\n      <td>양구</td>\n    </tr>\n    <tr>\n      <th>250</th>\n      <td>25</td>\n      <td>5</td>\n      <td>제주</td>\n    </tr>\n  </tbody>\n</table>\n</div>"
     },
     "metadata": {},
     "execution_count": 140
    }
   ],
   "source": [
    "# 특정 대상으로 할때 리스트 처리\n",
    "df.loc[df[\"ID\"].is음in(myID),[\"y\",\"x\",\"ID\"]]"
   ]
  },
  {
   "cell_type": "code",
   "execution_count": 142,
   "metadata": {},
   "outputs": [
    {
     "output_type": "execute_result",
     "data": {
      "text/plain": [
       "      y  x  ID\n",
       "2     0  9  양구\n",
       "250  25  5  제주"
      ],
      "text/html": "<div>\n<style scoped>\n    .dataframe tbody tr th:only-of-type {\n        vertical-align: middle;\n    }\n\n    .dataframe tbody tr th {\n        vertical-align: top;\n    }\n\n    .dataframe thead th {\n        text-align: right;\n    }\n</style>\n<table border=\"1\" class=\"dataframe\">\n  <thead>\n    <tr style=\"text-align: right;\">\n      <th></th>\n      <th>y</th>\n      <th>x</th>\n      <th>ID</th>\n    </tr>\n  </thead>\n  <tbody>\n    <tr>\n      <th>2</th>\n      <td>0</td>\n      <td>9</td>\n      <td>양구</td>\n    </tr>\n    <tr>\n      <th>250</th>\n      <td>25</td>\n      <td>5</td>\n      <td>제주</td>\n    </tr>\n  </tbody>\n</table>\n</div>"
     },
     "metadata": {},
     "execution_count": 142
    }
   ],
   "source": [
    "# 특정 구간으로 할때는 슬라이싱, 괄호 없음 \n",
    "df.loc[df[\"ID\"].isin(myID),\"y\":\"ID\"]"
   ]
  },
  {
   "cell_type": "code",
   "execution_count": 9,
   "metadata": {},
   "outputs": [
    {
     "output_type": "execute_result",
     "data": {
      "text/plain": [
       "     Unnamed: 0      y      x     ID\n",
       "0         False  False  False  False\n",
       "1         False  False  False  False\n",
       "2         False  False  False  False\n",
       "3         False  False  False  False\n",
       "4         False  False  False  False\n",
       "..          ...    ...    ...    ...\n",
       "247       False  False  False  False\n",
       "248       False  False  False  False\n",
       "249       False  False  False  False\n",
       "250       False  False  False  False\n",
       "251       False  False  False  False\n",
       "\n",
       "[252 rows x 4 columns]"
      ],
      "text/html": "<div>\n<style scoped>\n    .dataframe tbody tr th:only-of-type {\n        vertical-align: middle;\n    }\n\n    .dataframe tbody tr th {\n        vertical-align: top;\n    }\n\n    .dataframe thead th {\n        text-align: right;\n    }\n</style>\n<table border=\"1\" class=\"dataframe\">\n  <thead>\n    <tr style=\"text-align: right;\">\n      <th></th>\n      <th>Unnamed: 0</th>\n      <th>y</th>\n      <th>x</th>\n      <th>ID</th>\n    </tr>\n  </thead>\n  <tbody>\n    <tr>\n      <th>0</th>\n      <td>False</td>\n      <td>False</td>\n      <td>False</td>\n      <td>False</td>\n    </tr>\n    <tr>\n      <th>1</th>\n      <td>False</td>\n      <td>False</td>\n      <td>False</td>\n      <td>False</td>\n    </tr>\n    <tr>\n      <th>2</th>\n      <td>False</td>\n      <td>False</td>\n      <td>False</td>\n      <td>False</td>\n    </tr>\n    <tr>\n      <th>3</th>\n      <td>False</td>\n      <td>False</td>\n      <td>False</td>\n      <td>False</td>\n    </tr>\n    <tr>\n      <th>4</th>\n      <td>False</td>\n      <td>False</td>\n      <td>False</td>\n      <td>False</td>\n    </tr>\n    <tr>\n      <th>...</th>\n      <td>...</td>\n      <td>...</td>\n      <td>...</td>\n      <td>...</td>\n    </tr>\n    <tr>\n      <th>247</th>\n      <td>False</td>\n      <td>False</td>\n      <td>False</td>\n      <td>False</td>\n    </tr>\n    <tr>\n      <th>248</th>\n      <td>False</td>\n      <td>False</td>\n      <td>False</td>\n      <td>False</td>\n    </tr>\n    <tr>\n      <th>249</th>\n      <td>False</td>\n      <td>False</td>\n      <td>False</td>\n      <td>False</td>\n    </tr>\n    <tr>\n      <th>250</th>\n      <td>False</td>\n      <td>False</td>\n      <td>False</td>\n      <td>False</td>\n    </tr>\n    <tr>\n      <th>251</th>\n      <td>False</td>\n      <td>False</td>\n      <td>False</td>\n      <td>False</td>\n    </tr>\n  </tbody>\n</table>\n<p>252 rows × 4 columns</p>\n</div>"
     },
     "metadata": {},
     "execution_count": 9
    }
   ],
   "source": [
    "# check missing value\n",
    "df.isna()"
   ]
  },
  {
   "cell_type": "code",
   "execution_count": 143,
   "metadata": {},
   "outputs": [
    {
     "output_type": "execute_result",
     "data": {
      "text/plain": [
       "     Unnamed: 0      y      x     ID\n",
       "0         False  False  False  False\n",
       "1         False  False  False  False\n",
       "2         False  False  False  False\n",
       "3         False  False  False  False\n",
       "4         False  False  False  False\n",
       "..          ...    ...    ...    ...\n",
       "247       False  False  False  False\n",
       "248       False  False  False  False\n",
       "249       False  False  False  False\n",
       "250       False  False  False  False\n",
       "251       False  False  False  False\n",
       "\n",
       "[252 rows x 4 columns]"
      ],
      "text/html": "<div>\n<style scoped>\n    .dataframe tbody tr th:only-of-type {\n        vertical-align: middle;\n    }\n\n    .dataframe tbody tr th {\n        vertical-align: top;\n    }\n\n    .dataframe thead th {\n        text-align: right;\n    }\n</style>\n<table border=\"1\" class=\"dataframe\">\n  <thead>\n    <tr style=\"text-align: right;\">\n      <th></th>\n      <th>Unnamed: 0</th>\n      <th>y</th>\n      <th>x</th>\n      <th>ID</th>\n    </tr>\n  </thead>\n  <tbody>\n    <tr>\n      <th>0</th>\n      <td>False</td>\n      <td>False</td>\n      <td>False</td>\n      <td>False</td>\n    </tr>\n    <tr>\n      <th>1</th>\n      <td>False</td>\n      <td>False</td>\n      <td>False</td>\n      <td>False</td>\n    </tr>\n    <tr>\n      <th>2</th>\n      <td>False</td>\n      <td>False</td>\n      <td>False</td>\n      <td>False</td>\n    </tr>\n    <tr>\n      <th>3</th>\n      <td>False</td>\n      <td>False</td>\n      <td>False</td>\n      <td>False</td>\n    </tr>\n    <tr>\n      <th>4</th>\n      <td>False</td>\n      <td>False</td>\n      <td>False</td>\n      <td>False</td>\n    </tr>\n    <tr>\n      <th>...</th>\n      <td>...</td>\n      <td>...</td>\n      <td>...</td>\n      <td>...</td>\n    </tr>\n    <tr>\n      <th>247</th>\n      <td>False</td>\n      <td>False</td>\n      <td>False</td>\n      <td>False</td>\n    </tr>\n    <tr>\n      <th>248</th>\n      <td>False</td>\n      <td>False</td>\n      <td>False</td>\n      <td>False</td>\n    </tr>\n    <tr>\n      <th>249</th>\n      <td>False</td>\n      <td>False</td>\n      <td>False</td>\n      <td>False</td>\n    </tr>\n    <tr>\n      <th>250</th>\n      <td>False</td>\n      <td>False</td>\n      <td>False</td>\n      <td>False</td>\n    </tr>\n    <tr>\n      <th>251</th>\n      <td>False</td>\n      <td>False</td>\n      <td>False</td>\n      <td>False</td>\n    </tr>\n  </tbody>\n</table>\n<p>252 rows × 4 columns</p>\n</div>"
     },
     "metadata": {},
     "execution_count": 143
    }
   ],
   "source": [
    "df.isnull()"
   ]
  },
  {
   "cell_type": "code",
   "execution_count": 144,
   "metadata": {},
   "outputs": [
    {
     "output_type": "execute_result",
     "data": {
      "text/plain": [
       "     Unnamed: 0   y   x      ID\n",
       "0             0   0   7      철원\n",
       "1             1   0   8      화천\n",
       "2             2   0   9      양구\n",
       "3             3   0  10  고성(강원)\n",
       "4             4   1   3      양주\n",
       "..          ...  ..  ..     ...\n",
       "247         247  24   2      장흥\n",
       "248         248  24   3      보성\n",
       "249         249  25   2      완도\n",
       "250         250  25   5      제주\n",
       "251         251  26   5     서귀포\n",
       "\n",
       "[252 rows x 4 columns]"
      ],
      "text/html": "<div>\n<style scoped>\n    .dataframe tbody tr th:only-of-type {\n        vertical-align: middle;\n    }\n\n    .dataframe tbody tr th {\n        vertical-align: top;\n    }\n\n    .dataframe thead th {\n        text-align: right;\n    }\n</style>\n<table border=\"1\" class=\"dataframe\">\n  <thead>\n    <tr style=\"text-align: right;\">\n      <th></th>\n      <th>Unnamed: 0</th>\n      <th>y</th>\n      <th>x</th>\n      <th>ID</th>\n    </tr>\n  </thead>\n  <tbody>\n    <tr>\n      <th>0</th>\n      <td>0</td>\n      <td>0</td>\n      <td>7</td>\n      <td>철원</td>\n    </tr>\n    <tr>\n      <th>1</th>\n      <td>1</td>\n      <td>0</td>\n      <td>8</td>\n      <td>화천</td>\n    </tr>\n    <tr>\n      <th>2</th>\n      <td>2</td>\n      <td>0</td>\n      <td>9</td>\n      <td>양구</td>\n    </tr>\n    <tr>\n      <th>3</th>\n      <td>3</td>\n      <td>0</td>\n      <td>10</td>\n      <td>고성(강원)</td>\n    </tr>\n    <tr>\n      <th>4</th>\n      <td>4</td>\n      <td>1</td>\n      <td>3</td>\n      <td>양주</td>\n    </tr>\n    <tr>\n      <th>...</th>\n      <td>...</td>\n      <td>...</td>\n      <td>...</td>\n      <td>...</td>\n    </tr>\n    <tr>\n      <th>247</th>\n      <td>247</td>\n      <td>24</td>\n      <td>2</td>\n      <td>장흥</td>\n    </tr>\n    <tr>\n      <th>248</th>\n      <td>248</td>\n      <td>24</td>\n      <td>3</td>\n      <td>보성</td>\n    </tr>\n    <tr>\n      <th>249</th>\n      <td>249</td>\n      <td>25</td>\n      <td>2</td>\n      <td>완도</td>\n    </tr>\n    <tr>\n      <th>250</th>\n      <td>250</td>\n      <td>25</td>\n      <td>5</td>\n      <td>제주</td>\n    </tr>\n    <tr>\n      <th>251</th>\n      <td>251</td>\n      <td>26</td>\n      <td>5</td>\n      <td>서귀포</td>\n    </tr>\n  </tbody>\n</table>\n<p>252 rows × 4 columns</p>\n</div>"
     },
     "metadata": {},
     "execution_count": 144
    }
   ],
   "source": [
    "df"
   ]
  },
  {
   "source": [
    "## copy DataFrame\n"
   ],
   "cell_type": "markdown",
   "metadata": {}
  },
  {
   "cell_type": "code",
   "execution_count": 115,
   "metadata": {},
   "outputs": [],
   "source": [
    "filePath = \"/Volumes/Geozedo60/Python/bit/datamath/practice/DataScience/data/01. CCTV_in_Seoul.csv\"\n",
    "df = pd.read_csv(filePath)\n",
    "new_df = df"
   ]
  },
  {
   "cell_type": "code",
   "execution_count": 116,
   "metadata": {},
   "outputs": [
    {
     "output_type": "stream",
     "name": "stdout",
     "text": [
      "0x7f9900288700\n0x7f9900288700\n"
     ]
    }
   ],
   "source": [
    "print(hex(id(new_df)))\n",
    "print(hex(id(df)))"
   ]
  },
  {
   "cell_type": "code",
   "execution_count": 117,
   "metadata": {},
   "outputs": [],
   "source": [
    "copy_df = df.copy()"
   ]
  },
  {
   "cell_type": "code",
   "execution_count": 118,
   "metadata": {},
   "outputs": [
    {
     "output_type": "stream",
     "name": "stdout",
     "text": [
      "0x7f99002aa3a0\n0x7f9900288700\n"
     ]
    }
   ],
   "source": [
    "print(hex(id(copy_df)))\n",
    "print(hex(id(df)))"
   ]
  },
  {
   "cell_type": "code",
   "execution_count": 119,
   "metadata": {},
   "outputs": [],
   "source": [
    "copy_df[\"기관명\"]=0"
   ]
  },
  {
   "cell_type": "code",
   "execution_count": 120,
   "metadata": {},
   "outputs": [
    {
     "output_type": "execute_result",
     "data": {
      "text/plain": [
       "    기관명    소계  2013년도 이전  2014년  2015년  2016년\n",
       "0     0  2780       1292    430    584    932\n",
       "1     0   773        379     99    155    377\n",
       "2     0   748        369    120    138    204\n",
       "3     0   884        388    258    184     81\n",
       "4     0  1496        846    260    390    613\n",
       "5     0   707        573     78     53    174\n",
       "6     0  1561       1142    173    246    323\n",
       "7     0  1015        674     51    269    354\n",
       "8     0  1265        542     57    451    516\n",
       "9     0   485        238    159     42    386\n",
       "10    0  1294       1070     23    198    579\n",
       "11    0  1091        544    341    103    314\n",
       "12    0   574        314    118    169    379\n",
       "13    0   962        844     50     68    292\n",
       "14    0  1930       1406    157    336    398\n",
       "15    0  1062        730     91    241    265\n",
       "16    0  1464       1009     78    360    204\n",
       "17    0   618        529     21     68    463\n",
       "18    0  2034       1843    142     30    467\n",
       "19    0   904        495    214    195    373\n",
       "20    0  1624       1368    218    112    398\n",
       "21    0  1873       1138    224    278    468\n",
       "22    0  1002        464    314    211    630\n",
       "23    0   671        413    190     72    348\n",
       "24    0   660        509    121    177    109"
      ],
      "text/html": "<div>\n<style scoped>\n    .dataframe tbody tr th:only-of-type {\n        vertical-align: middle;\n    }\n\n    .dataframe tbody tr th {\n        vertical-align: top;\n    }\n\n    .dataframe thead th {\n        text-align: right;\n    }\n</style>\n<table border=\"1\" class=\"dataframe\">\n  <thead>\n    <tr style=\"text-align: right;\">\n      <th></th>\n      <th>기관명</th>\n      <th>소계</th>\n      <th>2013년도 이전</th>\n      <th>2014년</th>\n      <th>2015년</th>\n      <th>2016년</th>\n    </tr>\n  </thead>\n  <tbody>\n    <tr>\n      <th>0</th>\n      <td>0</td>\n      <td>2780</td>\n      <td>1292</td>\n      <td>430</td>\n      <td>584</td>\n      <td>932</td>\n    </tr>\n    <tr>\n      <th>1</th>\n      <td>0</td>\n      <td>773</td>\n      <td>379</td>\n      <td>99</td>\n      <td>155</td>\n      <td>377</td>\n    </tr>\n    <tr>\n      <th>2</th>\n      <td>0</td>\n      <td>748</td>\n      <td>369</td>\n      <td>120</td>\n      <td>138</td>\n      <td>204</td>\n    </tr>\n    <tr>\n      <th>3</th>\n      <td>0</td>\n      <td>884</td>\n      <td>388</td>\n      <td>258</td>\n      <td>184</td>\n      <td>81</td>\n    </tr>\n    <tr>\n      <th>4</th>\n      <td>0</td>\n      <td>1496</td>\n      <td>846</td>\n      <td>260</td>\n      <td>390</td>\n      <td>613</td>\n    </tr>\n    <tr>\n      <th>5</th>\n      <td>0</td>\n      <td>707</td>\n      <td>573</td>\n      <td>78</td>\n      <td>53</td>\n      <td>174</td>\n    </tr>\n    <tr>\n      <th>6</th>\n      <td>0</td>\n      <td>1561</td>\n      <td>1142</td>\n      <td>173</td>\n      <td>246</td>\n      <td>323</td>\n    </tr>\n    <tr>\n      <th>7</th>\n      <td>0</td>\n      <td>1015</td>\n      <td>674</td>\n      <td>51</td>\n      <td>269</td>\n      <td>354</td>\n    </tr>\n    <tr>\n      <th>8</th>\n      <td>0</td>\n      <td>1265</td>\n      <td>542</td>\n      <td>57</td>\n      <td>451</td>\n      <td>516</td>\n    </tr>\n    <tr>\n      <th>9</th>\n      <td>0</td>\n      <td>485</td>\n      <td>238</td>\n      <td>159</td>\n      <td>42</td>\n      <td>386</td>\n    </tr>\n    <tr>\n      <th>10</th>\n      <td>0</td>\n      <td>1294</td>\n      <td>1070</td>\n      <td>23</td>\n      <td>198</td>\n      <td>579</td>\n    </tr>\n    <tr>\n      <th>11</th>\n      <td>0</td>\n      <td>1091</td>\n      <td>544</td>\n      <td>341</td>\n      <td>103</td>\n      <td>314</td>\n    </tr>\n    <tr>\n      <th>12</th>\n      <td>0</td>\n      <td>574</td>\n      <td>314</td>\n      <td>118</td>\n      <td>169</td>\n      <td>379</td>\n    </tr>\n    <tr>\n      <th>13</th>\n      <td>0</td>\n      <td>962</td>\n      <td>844</td>\n      <td>50</td>\n      <td>68</td>\n      <td>292</td>\n    </tr>\n    <tr>\n      <th>14</th>\n      <td>0</td>\n      <td>1930</td>\n      <td>1406</td>\n      <td>157</td>\n      <td>336</td>\n      <td>398</td>\n    </tr>\n    <tr>\n      <th>15</th>\n      <td>0</td>\n      <td>1062</td>\n      <td>730</td>\n      <td>91</td>\n      <td>241</td>\n      <td>265</td>\n    </tr>\n    <tr>\n      <th>16</th>\n      <td>0</td>\n      <td>1464</td>\n      <td>1009</td>\n      <td>78</td>\n      <td>360</td>\n      <td>204</td>\n    </tr>\n    <tr>\n      <th>17</th>\n      <td>0</td>\n      <td>618</td>\n      <td>529</td>\n      <td>21</td>\n      <td>68</td>\n      <td>463</td>\n    </tr>\n    <tr>\n      <th>18</th>\n      <td>0</td>\n      <td>2034</td>\n      <td>1843</td>\n      <td>142</td>\n      <td>30</td>\n      <td>467</td>\n    </tr>\n    <tr>\n      <th>19</th>\n      <td>0</td>\n      <td>904</td>\n      <td>495</td>\n      <td>214</td>\n      <td>195</td>\n      <td>373</td>\n    </tr>\n    <tr>\n      <th>20</th>\n      <td>0</td>\n      <td>1624</td>\n      <td>1368</td>\n      <td>218</td>\n      <td>112</td>\n      <td>398</td>\n    </tr>\n    <tr>\n      <th>21</th>\n      <td>0</td>\n      <td>1873</td>\n      <td>1138</td>\n      <td>224</td>\n      <td>278</td>\n      <td>468</td>\n    </tr>\n    <tr>\n      <th>22</th>\n      <td>0</td>\n      <td>1002</td>\n      <td>464</td>\n      <td>314</td>\n      <td>211</td>\n      <td>630</td>\n    </tr>\n    <tr>\n      <th>23</th>\n      <td>0</td>\n      <td>671</td>\n      <td>413</td>\n      <td>190</td>\n      <td>72</td>\n      <td>348</td>\n    </tr>\n    <tr>\n      <th>24</th>\n      <td>0</td>\n      <td>660</td>\n      <td>509</td>\n      <td>121</td>\n      <td>177</td>\n      <td>109</td>\n    </tr>\n  </tbody>\n</table>\n</div>"
     },
     "metadata": {},
     "execution_count": 120
    }
   ],
   "source": [
    "copy_df"
   ]
  },
  {
   "cell_type": "code",
   "execution_count": 121,
   "metadata": {},
   "outputs": [
    {
     "output_type": "execute_result",
     "data": {
      "text/plain": [
       "     기관명    소계  2013년도 이전  2014년  2015년  2016년\n",
       "0    강남구  2780       1292    430    584    932\n",
       "1    강동구   773        379     99    155    377\n",
       "2    강북구   748        369    120    138    204\n",
       "3    강서구   884        388    258    184     81\n",
       "4    관악구  1496        846    260    390    613\n",
       "5    광진구   707        573     78     53    174\n",
       "6    구로구  1561       1142    173    246    323\n",
       "7    금천구  1015        674     51    269    354\n",
       "8    노원구  1265        542     57    451    516\n",
       "9    도봉구   485        238    159     42    386\n",
       "10  동대문구  1294       1070     23    198    579\n",
       "11   동작구  1091        544    341    103    314\n",
       "12   마포구   574        314    118    169    379\n",
       "13  서대문구   962        844     50     68    292\n",
       "14   서초구  1930       1406    157    336    398\n",
       "15   성동구  1062        730     91    241    265\n",
       "16   성북구  1464       1009     78    360    204\n",
       "17   송파구   618        529     21     68    463\n",
       "18   양천구  2034       1843    142     30    467\n",
       "19  영등포구   904        495    214    195    373\n",
       "20   용산구  1624       1368    218    112    398\n",
       "21   은평구  1873       1138    224    278    468\n",
       "22   종로구  1002        464    314    211    630\n",
       "23    중구   671        413    190     72    348\n",
       "24   중랑구   660        509    121    177    109"
      ],
      "text/html": "<div>\n<style scoped>\n    .dataframe tbody tr th:only-of-type {\n        vertical-align: middle;\n    }\n\n    .dataframe tbody tr th {\n        vertical-align: top;\n    }\n\n    .dataframe thead th {\n        text-align: right;\n    }\n</style>\n<table border=\"1\" class=\"dataframe\">\n  <thead>\n    <tr style=\"text-align: right;\">\n      <th></th>\n      <th>기관명</th>\n      <th>소계</th>\n      <th>2013년도 이전</th>\n      <th>2014년</th>\n      <th>2015년</th>\n      <th>2016년</th>\n    </tr>\n  </thead>\n  <tbody>\n    <tr>\n      <th>0</th>\n      <td>강남구</td>\n      <td>2780</td>\n      <td>1292</td>\n      <td>430</td>\n      <td>584</td>\n      <td>932</td>\n    </tr>\n    <tr>\n      <th>1</th>\n      <td>강동구</td>\n      <td>773</td>\n      <td>379</td>\n      <td>99</td>\n      <td>155</td>\n      <td>377</td>\n    </tr>\n    <tr>\n      <th>2</th>\n      <td>강북구</td>\n      <td>748</td>\n      <td>369</td>\n      <td>120</td>\n      <td>138</td>\n      <td>204</td>\n    </tr>\n    <tr>\n      <th>3</th>\n      <td>강서구</td>\n      <td>884</td>\n      <td>388</td>\n      <td>258</td>\n      <td>184</td>\n      <td>81</td>\n    </tr>\n    <tr>\n      <th>4</th>\n      <td>관악구</td>\n      <td>1496</td>\n      <td>846</td>\n      <td>260</td>\n      <td>390</td>\n      <td>613</td>\n    </tr>\n    <tr>\n      <th>5</th>\n      <td>광진구</td>\n      <td>707</td>\n      <td>573</td>\n      <td>78</td>\n      <td>53</td>\n      <td>174</td>\n    </tr>\n    <tr>\n      <th>6</th>\n      <td>구로구</td>\n      <td>1561</td>\n      <td>1142</td>\n      <td>173</td>\n      <td>246</td>\n      <td>323</td>\n    </tr>\n    <tr>\n      <th>7</th>\n      <td>금천구</td>\n      <td>1015</td>\n      <td>674</td>\n      <td>51</td>\n      <td>269</td>\n      <td>354</td>\n    </tr>\n    <tr>\n      <th>8</th>\n      <td>노원구</td>\n      <td>1265</td>\n      <td>542</td>\n      <td>57</td>\n      <td>451</td>\n      <td>516</td>\n    </tr>\n    <tr>\n      <th>9</th>\n      <td>도봉구</td>\n      <td>485</td>\n      <td>238</td>\n      <td>159</td>\n      <td>42</td>\n      <td>386</td>\n    </tr>\n    <tr>\n      <th>10</th>\n      <td>동대문구</td>\n      <td>1294</td>\n      <td>1070</td>\n      <td>23</td>\n      <td>198</td>\n      <td>579</td>\n    </tr>\n    <tr>\n      <th>11</th>\n      <td>동작구</td>\n      <td>1091</td>\n      <td>544</td>\n      <td>341</td>\n      <td>103</td>\n      <td>314</td>\n    </tr>\n    <tr>\n      <th>12</th>\n      <td>마포구</td>\n      <td>574</td>\n      <td>314</td>\n      <td>118</td>\n      <td>169</td>\n      <td>379</td>\n    </tr>\n    <tr>\n      <th>13</th>\n      <td>서대문구</td>\n      <td>962</td>\n      <td>844</td>\n      <td>50</td>\n      <td>68</td>\n      <td>292</td>\n    </tr>\n    <tr>\n      <th>14</th>\n      <td>서초구</td>\n      <td>1930</td>\n      <td>1406</td>\n      <td>157</td>\n      <td>336</td>\n      <td>398</td>\n    </tr>\n    <tr>\n      <th>15</th>\n      <td>성동구</td>\n      <td>1062</td>\n      <td>730</td>\n      <td>91</td>\n      <td>241</td>\n      <td>265</td>\n    </tr>\n    <tr>\n      <th>16</th>\n      <td>성북구</td>\n      <td>1464</td>\n      <td>1009</td>\n      <td>78</td>\n      <td>360</td>\n      <td>204</td>\n    </tr>\n    <tr>\n      <th>17</th>\n      <td>송파구</td>\n      <td>618</td>\n      <td>529</td>\n      <td>21</td>\n      <td>68</td>\n      <td>463</td>\n    </tr>\n    <tr>\n      <th>18</th>\n      <td>양천구</td>\n      <td>2034</td>\n      <td>1843</td>\n      <td>142</td>\n      <td>30</td>\n      <td>467</td>\n    </tr>\n    <tr>\n      <th>19</th>\n      <td>영등포구</td>\n      <td>904</td>\n      <td>495</td>\n      <td>214</td>\n      <td>195</td>\n      <td>373</td>\n    </tr>\n    <tr>\n      <th>20</th>\n      <td>용산구</td>\n      <td>1624</td>\n      <td>1368</td>\n      <td>218</td>\n      <td>112</td>\n      <td>398</td>\n    </tr>\n    <tr>\n      <th>21</th>\n      <td>은평구</td>\n      <td>1873</td>\n      <td>1138</td>\n      <td>224</td>\n      <td>278</td>\n      <td>468</td>\n    </tr>\n    <tr>\n      <th>22</th>\n      <td>종로구</td>\n      <td>1002</td>\n      <td>464</td>\n      <td>314</td>\n      <td>211</td>\n      <td>630</td>\n    </tr>\n    <tr>\n      <th>23</th>\n      <td>중구</td>\n      <td>671</td>\n      <td>413</td>\n      <td>190</td>\n      <td>72</td>\n      <td>348</td>\n    </tr>\n    <tr>\n      <th>24</th>\n      <td>중랑구</td>\n      <td>660</td>\n      <td>509</td>\n      <td>121</td>\n      <td>177</td>\n      <td>109</td>\n    </tr>\n  </tbody>\n</table>\n</div>"
     },
     "metadata": {},
     "execution_count": 121
    }
   ],
   "source": [
    "df"
   ]
  },
  {
   "source": [
    "## append new index"
   ],
   "cell_type": "markdown",
   "metadata": {}
  },
  {
   "cell_type": "code",
   "execution_count": 124,
   "metadata": {},
   "outputs": [
    {
     "output_type": "execute_result",
     "data": {
      "text/plain": [
       "     기관명    소계  2013년도 이전  2014년  2015년  2016년\n",
       "0    강남구  2780       1292    430    584    932\n",
       "1    강동구   773        379     99    155    377\n",
       "2    강북구   748        369    120    138    204\n",
       "3    강서구   884        388    258    184     81\n",
       "4    관악구  1496        846    260    390    613\n",
       "5    광진구   707        573     78     53    174\n",
       "6    구로구  1561       1142    173    246    323\n",
       "7    금천구  1015        674     51    269    354\n",
       "8    노원구  1265        542     57    451    516\n",
       "9    도봉구   485        238    159     42    386\n",
       "10  동대문구  1294       1070     23    198    579\n",
       "11   동작구  1091        544    341    103    314\n",
       "12   마포구   574        314    118    169    379\n",
       "13  서대문구   962        844     50     68    292\n",
       "14   서초구  1930       1406    157    336    398\n",
       "15   성동구  1062        730     91    241    265\n",
       "16   성북구  1464       1009     78    360    204\n",
       "17   송파구   618        529     21     68    463\n",
       "18   양천구  2034       1843    142     30    467\n",
       "19  영등포구   904        495    214    195    373\n",
       "20   용산구  1624       1368    218    112    398\n",
       "21   은평구  1873       1138    224    278    468\n",
       "22   종로구  1002        464    314    211    630\n",
       "23    중구   671        413    190     72    348\n",
       "24   중랑구   660        509    121    177    109\n",
       "25  광진구2   420        100    100    100    120"
      ],
      "text/html": "<div>\n<style scoped>\n    .dataframe tbody tr th:only-of-type {\n        vertical-align: middle;\n    }\n\n    .dataframe tbody tr th {\n        vertical-align: top;\n    }\n\n    .dataframe thead th {\n        text-align: right;\n    }\n</style>\n<table border=\"1\" class=\"dataframe\">\n  <thead>\n    <tr style=\"text-align: right;\">\n      <th></th>\n      <th>기관명</th>\n      <th>소계</th>\n      <th>2013년도 이전</th>\n      <th>2014년</th>\n      <th>2015년</th>\n      <th>2016년</th>\n    </tr>\n  </thead>\n  <tbody>\n    <tr>\n      <th>0</th>\n      <td>강남구</td>\n      <td>2780</td>\n      <td>1292</td>\n      <td>430</td>\n      <td>584</td>\n      <td>932</td>\n    </tr>\n    <tr>\n      <th>1</th>\n      <td>강동구</td>\n      <td>773</td>\n      <td>379</td>\n      <td>99</td>\n      <td>155</td>\n      <td>377</td>\n    </tr>\n    <tr>\n      <th>2</th>\n      <td>강북구</td>\n      <td>748</td>\n      <td>369</td>\n      <td>120</td>\n      <td>138</td>\n      <td>204</td>\n    </tr>\n    <tr>\n      <th>3</th>\n      <td>강서구</td>\n      <td>884</td>\n      <td>388</td>\n      <td>258</td>\n      <td>184</td>\n      <td>81</td>\n    </tr>\n    <tr>\n      <th>4</th>\n      <td>관악구</td>\n      <td>1496</td>\n      <td>846</td>\n      <td>260</td>\n      <td>390</td>\n      <td>613</td>\n    </tr>\n    <tr>\n      <th>5</th>\n      <td>광진구</td>\n      <td>707</td>\n      <td>573</td>\n      <td>78</td>\n      <td>53</td>\n      <td>174</td>\n    </tr>\n    <tr>\n      <th>6</th>\n      <td>구로구</td>\n      <td>1561</td>\n      <td>1142</td>\n      <td>173</td>\n      <td>246</td>\n      <td>323</td>\n    </tr>\n    <tr>\n      <th>7</th>\n      <td>금천구</td>\n      <td>1015</td>\n      <td>674</td>\n      <td>51</td>\n      <td>269</td>\n      <td>354</td>\n    </tr>\n    <tr>\n      <th>8</th>\n      <td>노원구</td>\n      <td>1265</td>\n      <td>542</td>\n      <td>57</td>\n      <td>451</td>\n      <td>516</td>\n    </tr>\n    <tr>\n      <th>9</th>\n      <td>도봉구</td>\n      <td>485</td>\n      <td>238</td>\n      <td>159</td>\n      <td>42</td>\n      <td>386</td>\n    </tr>\n    <tr>\n      <th>10</th>\n      <td>동대문구</td>\n      <td>1294</td>\n      <td>1070</td>\n      <td>23</td>\n      <td>198</td>\n      <td>579</td>\n    </tr>\n    <tr>\n      <th>11</th>\n      <td>동작구</td>\n      <td>1091</td>\n      <td>544</td>\n      <td>341</td>\n      <td>103</td>\n      <td>314</td>\n    </tr>\n    <tr>\n      <th>12</th>\n      <td>마포구</td>\n      <td>574</td>\n      <td>314</td>\n      <td>118</td>\n      <td>169</td>\n      <td>379</td>\n    </tr>\n    <tr>\n      <th>13</th>\n      <td>서대문구</td>\n      <td>962</td>\n      <td>844</td>\n      <td>50</td>\n      <td>68</td>\n      <td>292</td>\n    </tr>\n    <tr>\n      <th>14</th>\n      <td>서초구</td>\n      <td>1930</td>\n      <td>1406</td>\n      <td>157</td>\n      <td>336</td>\n      <td>398</td>\n    </tr>\n    <tr>\n      <th>15</th>\n      <td>성동구</td>\n      <td>1062</td>\n      <td>730</td>\n      <td>91</td>\n      <td>241</td>\n      <td>265</td>\n    </tr>\n    <tr>\n      <th>16</th>\n      <td>성북구</td>\n      <td>1464</td>\n      <td>1009</td>\n      <td>78</td>\n      <td>360</td>\n      <td>204</td>\n    </tr>\n    <tr>\n      <th>17</th>\n      <td>송파구</td>\n      <td>618</td>\n      <td>529</td>\n      <td>21</td>\n      <td>68</td>\n      <td>463</td>\n    </tr>\n    <tr>\n      <th>18</th>\n      <td>양천구</td>\n      <td>2034</td>\n      <td>1843</td>\n      <td>142</td>\n      <td>30</td>\n      <td>467</td>\n    </tr>\n    <tr>\n      <th>19</th>\n      <td>영등포구</td>\n      <td>904</td>\n      <td>495</td>\n      <td>214</td>\n      <td>195</td>\n      <td>373</td>\n    </tr>\n    <tr>\n      <th>20</th>\n      <td>용산구</td>\n      <td>1624</td>\n      <td>1368</td>\n      <td>218</td>\n      <td>112</td>\n      <td>398</td>\n    </tr>\n    <tr>\n      <th>21</th>\n      <td>은평구</td>\n      <td>1873</td>\n      <td>1138</td>\n      <td>224</td>\n      <td>278</td>\n      <td>468</td>\n    </tr>\n    <tr>\n      <th>22</th>\n      <td>종로구</td>\n      <td>1002</td>\n      <td>464</td>\n      <td>314</td>\n      <td>211</td>\n      <td>630</td>\n    </tr>\n    <tr>\n      <th>23</th>\n      <td>중구</td>\n      <td>671</td>\n      <td>413</td>\n      <td>190</td>\n      <td>72</td>\n      <td>348</td>\n    </tr>\n    <tr>\n      <th>24</th>\n      <td>중랑구</td>\n      <td>660</td>\n      <td>509</td>\n      <td>121</td>\n      <td>177</td>\n      <td>109</td>\n    </tr>\n    <tr>\n      <th>25</th>\n      <td>광진구2</td>\n      <td>420</td>\n      <td>100</td>\n      <td>100</td>\n      <td>100</td>\n      <td>120</td>\n    </tr>\n  </tbody>\n</table>\n</div>"
     },
     "metadata": {},
     "execution_count": 124
    }
   ],
   "source": [
    "# append new raw : use dictionary\n",
    "df.append({\n",
    "    \"기관명\" : \"광진구2\",\n",
    "    \"소계\" : 420,\n",
    "    \"2013년도 이전\" : 100,\n",
    "    \"2014년\" : 100,\n",
    "    \"2015년\" : 100,\n",
    "    \"2016년\" : 120\n",
    "}, ignore_index=True)"
   ]
  },
  {
   "cell_type": "code",
   "execution_count": 126,
   "metadata": {},
   "outputs": [
    {
     "output_type": "execute_result",
     "data": {
      "text/plain": [
       "     기관명    소계  2013년도 이전  2014년  2015년  2016년  2021년\n",
       "0    강남구  2780       1292    430    584    932    150\n",
       "1    강동구   773        379     99    155    377    150\n",
       "2    강북구   748        369    120    138    204    150\n",
       "3    강서구   884        388    258    184     81    150\n",
       "4    관악구  1496        846    260    390    613    150\n",
       "5    광진구   707        573     78     53    174    150\n",
       "6    구로구  1561       1142    173    246    323    150\n",
       "7    금천구  1015        674     51    269    354    150\n",
       "8    노원구  1265        542     57    451    516    150\n",
       "9    도봉구   485        238    159     42    386    150\n",
       "10  동대문구  1294       1070     23    198    579    150\n",
       "11   동작구  1091        544    341    103    314    150\n",
       "12   마포구   574        314    118    169    379    150\n",
       "13  서대문구   962        844     50     68    292    150\n",
       "14   서초구  1930       1406    157    336    398    150\n",
       "15   성동구  1062        730     91    241    265    150\n",
       "16   성북구  1464       1009     78    360    204    150\n",
       "17   송파구   618        529     21     68    463    150\n",
       "18   양천구  2034       1843    142     30    467    150\n",
       "19  영등포구   904        495    214    195    373    150\n",
       "20   용산구  1624       1368    218    112    398    150\n",
       "21   은평구  1873       1138    224    278    468    150\n",
       "22   종로구  1002        464    314    211    630    150\n",
       "23    중구   671        413    190     72    348    150\n",
       "24   중랑구   660        509    121    177    109    150"
      ],
      "text/html": "<div>\n<style scoped>\n    .dataframe tbody tr th:only-of-type {\n        vertical-align: middle;\n    }\n\n    .dataframe tbody tr th {\n        vertical-align: top;\n    }\n\n    .dataframe thead th {\n        text-align: right;\n    }\n</style>\n<table border=\"1\" class=\"dataframe\">\n  <thead>\n    <tr style=\"text-align: right;\">\n      <th></th>\n      <th>기관명</th>\n      <th>소계</th>\n      <th>2013년도 이전</th>\n      <th>2014년</th>\n      <th>2015년</th>\n      <th>2016년</th>\n      <th>2021년</th>\n    </tr>\n  </thead>\n  <tbody>\n    <tr>\n      <th>0</th>\n      <td>강남구</td>\n      <td>2780</td>\n      <td>1292</td>\n      <td>430</td>\n      <td>584</td>\n      <td>932</td>\n      <td>150</td>\n    </tr>\n    <tr>\n      <th>1</th>\n      <td>강동구</td>\n      <td>773</td>\n      <td>379</td>\n      <td>99</td>\n      <td>155</td>\n      <td>377</td>\n      <td>150</td>\n    </tr>\n    <tr>\n      <th>2</th>\n      <td>강북구</td>\n      <td>748</td>\n      <td>369</td>\n      <td>120</td>\n      <td>138</td>\n      <td>204</td>\n      <td>150</td>\n    </tr>\n    <tr>\n      <th>3</th>\n      <td>강서구</td>\n      <td>884</td>\n      <td>388</td>\n      <td>258</td>\n      <td>184</td>\n      <td>81</td>\n      <td>150</td>\n    </tr>\n    <tr>\n      <th>4</th>\n      <td>관악구</td>\n      <td>1496</td>\n      <td>846</td>\n      <td>260</td>\n      <td>390</td>\n      <td>613</td>\n      <td>150</td>\n    </tr>\n    <tr>\n      <th>5</th>\n      <td>광진구</td>\n      <td>707</td>\n      <td>573</td>\n      <td>78</td>\n      <td>53</td>\n      <td>174</td>\n      <td>150</td>\n    </tr>\n    <tr>\n      <th>6</th>\n      <td>구로구</td>\n      <td>1561</td>\n      <td>1142</td>\n      <td>173</td>\n      <td>246</td>\n      <td>323</td>\n      <td>150</td>\n    </tr>\n    <tr>\n      <th>7</th>\n      <td>금천구</td>\n      <td>1015</td>\n      <td>674</td>\n      <td>51</td>\n      <td>269</td>\n      <td>354</td>\n      <td>150</td>\n    </tr>\n    <tr>\n      <th>8</th>\n      <td>노원구</td>\n      <td>1265</td>\n      <td>542</td>\n      <td>57</td>\n      <td>451</td>\n      <td>516</td>\n      <td>150</td>\n    </tr>\n    <tr>\n      <th>9</th>\n      <td>도봉구</td>\n      <td>485</td>\n      <td>238</td>\n      <td>159</td>\n      <td>42</td>\n      <td>386</td>\n      <td>150</td>\n    </tr>\n    <tr>\n      <th>10</th>\n      <td>동대문구</td>\n      <td>1294</td>\n      <td>1070</td>\n      <td>23</td>\n      <td>198</td>\n      <td>579</td>\n      <td>150</td>\n    </tr>\n    <tr>\n      <th>11</th>\n      <td>동작구</td>\n      <td>1091</td>\n      <td>544</td>\n      <td>341</td>\n      <td>103</td>\n      <td>314</td>\n      <td>150</td>\n    </tr>\n    <tr>\n      <th>12</th>\n      <td>마포구</td>\n      <td>574</td>\n      <td>314</td>\n      <td>118</td>\n      <td>169</td>\n      <td>379</td>\n      <td>150</td>\n    </tr>\n    <tr>\n      <th>13</th>\n      <td>서대문구</td>\n      <td>962</td>\n      <td>844</td>\n      <td>50</td>\n      <td>68</td>\n      <td>292</td>\n      <td>150</td>\n    </tr>\n    <tr>\n      <th>14</th>\n      <td>서초구</td>\n      <td>1930</td>\n      <td>1406</td>\n      <td>157</td>\n      <td>336</td>\n      <td>398</td>\n      <td>150</td>\n    </tr>\n    <tr>\n      <th>15</th>\n      <td>성동구</td>\n      <td>1062</td>\n      <td>730</td>\n      <td>91</td>\n      <td>241</td>\n      <td>265</td>\n      <td>150</td>\n    </tr>\n    <tr>\n      <th>16</th>\n      <td>성북구</td>\n      <td>1464</td>\n      <td>1009</td>\n      <td>78</td>\n      <td>360</td>\n      <td>204</td>\n      <td>150</td>\n    </tr>\n    <tr>\n      <th>17</th>\n      <td>송파구</td>\n      <td>618</td>\n      <td>529</td>\n      <td>21</td>\n      <td>68</td>\n      <td>463</td>\n      <td>150</td>\n    </tr>\n    <tr>\n      <th>18</th>\n      <td>양천구</td>\n      <td>2034</td>\n      <td>1843</td>\n      <td>142</td>\n      <td>30</td>\n      <td>467</td>\n      <td>150</td>\n    </tr>\n    <tr>\n      <th>19</th>\n      <td>영등포구</td>\n      <td>904</td>\n      <td>495</td>\n      <td>214</td>\n      <td>195</td>\n      <td>373</td>\n      <td>150</td>\n    </tr>\n    <tr>\n      <th>20</th>\n      <td>용산구</td>\n      <td>1624</td>\n      <td>1368</td>\n      <td>218</td>\n      <td>112</td>\n      <td>398</td>\n      <td>150</td>\n    </tr>\n    <tr>\n      <th>21</th>\n      <td>은평구</td>\n      <td>1873</td>\n      <td>1138</td>\n      <td>224</td>\n      <td>278</td>\n      <td>468</td>\n      <td>150</td>\n    </tr>\n    <tr>\n      <th>22</th>\n      <td>종로구</td>\n      <td>1002</td>\n      <td>464</td>\n      <td>314</td>\n      <td>211</td>\n      <td>630</td>\n      <td>150</td>\n    </tr>\n    <tr>\n      <th>23</th>\n      <td>중구</td>\n      <td>671</td>\n      <td>413</td>\n      <td>190</td>\n      <td>72</td>\n      <td>348</td>\n      <td>150</td>\n    </tr>\n    <tr>\n      <th>24</th>\n      <td>중랑구</td>\n      <td>660</td>\n      <td>509</td>\n      <td>121</td>\n      <td>177</td>\n      <td>109</td>\n      <td>150</td>\n    </tr>\n  </tbody>\n</table>\n</div>"
     },
     "metadata": {},
     "execution_count": 126
    }
   ],
   "source": [
    "# append new column : \n",
    "df[\"2021년\"] = 150\n",
    "df"
   ]
  },
  {
   "cell_type": "code",
   "execution_count": 129,
   "metadata": {},
   "outputs": [],
   "source": [
    "# append new data between index 0-1\n",
    "new_data = {\n",
    "    \"기관명\" : \"구로구2\",\n",
    "    \"소계\" : 420,\n",
    "    \"2013년도 이전\" : 100,\n",
    "    \"2014년\" : 100,\n",
    "    \"2015년\" : 100,\n",
    "    \"2016년\" : 120,\n",
    "    \"2021년\" : 150\n",
    "    }\n",
    "# where want to append data\n",
    "idx = 1\n",
    "temp1 = df[df.index<idx]\n",
    "temp2 = df[df.index>idx]\n",
    "df = temp1.append(new_data, ignore_index=True).append(temp2, ignore_index=True)"
   ]
  },
  {
   "cell_type": "code",
   "execution_count": 130,
   "metadata": {},
   "outputs": [
    {
     "output_type": "execute_result",
     "data": {
      "text/plain": [
       "     기관명    소계  2013년도 이전  2014년  2015년  2016년  2021년\n",
       "0    강남구  2780       1292    430    584    932  150.0\n",
       "1   구로구2   420        100    100    100    120  150.0\n",
       "2    강북구   748        369    120    138    204  150.0\n",
       "3    강서구   884        388    258    184     81  150.0\n",
       "4    관악구  1496        846    260    390    613  150.0\n",
       "5    광진구   707        573     78     53    174  150.0\n",
       "6    구로구  1561       1142    173    246    323  150.0\n",
       "7    금천구  1015        674     51    269    354  150.0\n",
       "8    노원구  1265        542     57    451    516  150.0\n",
       "9    도봉구   485        238    159     42    386  150.0\n",
       "10  동대문구  1294       1070     23    198    579  150.0\n",
       "11   동작구  1091        544    341    103    314  150.0\n",
       "12   마포구   574        314    118    169    379  150.0\n",
       "13  서대문구   962        844     50     68    292  150.0\n",
       "14   서초구  1930       1406    157    336    398  150.0\n",
       "15   성동구  1062        730     91    241    265  150.0\n",
       "16   성북구  1464       1009     78    360    204  150.0\n",
       "17   송파구   618        529     21     68    463  150.0\n",
       "18   양천구  2034       1843    142     30    467  150.0\n",
       "19  영등포구   904        495    214    195    373  150.0\n",
       "20   용산구  1624       1368    218    112    398  150.0\n",
       "21   은평구  1873       1138    224    278    468  150.0\n",
       "22   종로구  1002        464    314    211    630  150.0\n",
       "23    중구   671        413    190     72    348  150.0\n",
       "24   중랑구   660        509    121    177    109  150.0"
      ],
      "text/html": "<div>\n<style scoped>\n    .dataframe tbody tr th:only-of-type {\n        vertical-align: middle;\n    }\n\n    .dataframe tbody tr th {\n        vertical-align: top;\n    }\n\n    .dataframe thead th {\n        text-align: right;\n    }\n</style>\n<table border=\"1\" class=\"dataframe\">\n  <thead>\n    <tr style=\"text-align: right;\">\n      <th></th>\n      <th>기관명</th>\n      <th>소계</th>\n      <th>2013년도 이전</th>\n      <th>2014년</th>\n      <th>2015년</th>\n      <th>2016년</th>\n      <th>2021년</th>\n    </tr>\n  </thead>\n  <tbody>\n    <tr>\n      <th>0</th>\n      <td>강남구</td>\n      <td>2780</td>\n      <td>1292</td>\n      <td>430</td>\n      <td>584</td>\n      <td>932</td>\n      <td>150.0</td>\n    </tr>\n    <tr>\n      <th>1</th>\n      <td>구로구2</td>\n      <td>420</td>\n      <td>100</td>\n      <td>100</td>\n      <td>100</td>\n      <td>120</td>\n      <td>150.0</td>\n    </tr>\n    <tr>\n      <th>2</th>\n      <td>강북구</td>\n      <td>748</td>\n      <td>369</td>\n      <td>120</td>\n      <td>138</td>\n      <td>204</td>\n      <td>150.0</td>\n    </tr>\n    <tr>\n      <th>3</th>\n      <td>강서구</td>\n      <td>884</td>\n      <td>388</td>\n      <td>258</td>\n      <td>184</td>\n      <td>81</td>\n      <td>150.0</td>\n    </tr>\n    <tr>\n      <th>4</th>\n      <td>관악구</td>\n      <td>1496</td>\n      <td>846</td>\n      <td>260</td>\n      <td>390</td>\n      <td>613</td>\n      <td>150.0</td>\n    </tr>\n    <tr>\n      <th>5</th>\n      <td>광진구</td>\n      <td>707</td>\n      <td>573</td>\n      <td>78</td>\n      <td>53</td>\n      <td>174</td>\n      <td>150.0</td>\n    </tr>\n    <tr>\n      <th>6</th>\n      <td>구로구</td>\n      <td>1561</td>\n      <td>1142</td>\n      <td>173</td>\n      <td>246</td>\n      <td>323</td>\n      <td>150.0</td>\n    </tr>\n    <tr>\n      <th>7</th>\n      <td>금천구</td>\n      <td>1015</td>\n      <td>674</td>\n      <td>51</td>\n      <td>269</td>\n      <td>354</td>\n      <td>150.0</td>\n    </tr>\n    <tr>\n      <th>8</th>\n      <td>노원구</td>\n      <td>1265</td>\n      <td>542</td>\n      <td>57</td>\n      <td>451</td>\n      <td>516</td>\n      <td>150.0</td>\n    </tr>\n    <tr>\n      <th>9</th>\n      <td>도봉구</td>\n      <td>485</td>\n      <td>238</td>\n      <td>159</td>\n      <td>42</td>\n      <td>386</td>\n      <td>150.0</td>\n    </tr>\n    <tr>\n      <th>10</th>\n      <td>동대문구</td>\n      <td>1294</td>\n      <td>1070</td>\n      <td>23</td>\n      <td>198</td>\n      <td>579</td>\n      <td>150.0</td>\n    </tr>\n    <tr>\n      <th>11</th>\n      <td>동작구</td>\n      <td>1091</td>\n      <td>544</td>\n      <td>341</td>\n      <td>103</td>\n      <td>314</td>\n      <td>150.0</td>\n    </tr>\n    <tr>\n      <th>12</th>\n      <td>마포구</td>\n      <td>574</td>\n      <td>314</td>\n      <td>118</td>\n      <td>169</td>\n      <td>379</td>\n      <td>150.0</td>\n    </tr>\n    <tr>\n      <th>13</th>\n      <td>서대문구</td>\n      <td>962</td>\n      <td>844</td>\n      <td>50</td>\n      <td>68</td>\n      <td>292</td>\n      <td>150.0</td>\n    </tr>\n    <tr>\n      <th>14</th>\n      <td>서초구</td>\n      <td>1930</td>\n      <td>1406</td>\n      <td>157</td>\n      <td>336</td>\n      <td>398</td>\n      <td>150.0</td>\n    </tr>\n    <tr>\n      <th>15</th>\n      <td>성동구</td>\n      <td>1062</td>\n      <td>730</td>\n      <td>91</td>\n      <td>241</td>\n      <td>265</td>\n      <td>150.0</td>\n    </tr>\n    <tr>\n      <th>16</th>\n      <td>성북구</td>\n      <td>1464</td>\n      <td>1009</td>\n      <td>78</td>\n      <td>360</td>\n      <td>204</td>\n      <td>150.0</td>\n    </tr>\n    <tr>\n      <th>17</th>\n      <td>송파구</td>\n      <td>618</td>\n      <td>529</td>\n      <td>21</td>\n      <td>68</td>\n      <td>463</td>\n      <td>150.0</td>\n    </tr>\n    <tr>\n      <th>18</th>\n      <td>양천구</td>\n      <td>2034</td>\n      <td>1843</td>\n      <td>142</td>\n      <td>30</td>\n      <td>467</td>\n      <td>150.0</td>\n    </tr>\n    <tr>\n      <th>19</th>\n      <td>영등포구</td>\n      <td>904</td>\n      <td>495</td>\n      <td>214</td>\n      <td>195</td>\n      <td>373</td>\n      <td>150.0</td>\n    </tr>\n    <tr>\n      <th>20</th>\n      <td>용산구</td>\n      <td>1624</td>\n      <td>1368</td>\n      <td>218</td>\n      <td>112</td>\n      <td>398</td>\n      <td>150.0</td>\n    </tr>\n    <tr>\n      <th>21</th>\n      <td>은평구</td>\n      <td>1873</td>\n      <td>1138</td>\n      <td>224</td>\n      <td>278</td>\n      <td>468</td>\n      <td>150.0</td>\n    </tr>\n    <tr>\n      <th>22</th>\n      <td>종로구</td>\n      <td>1002</td>\n      <td>464</td>\n      <td>314</td>\n      <td>211</td>\n      <td>630</td>\n      <td>150.0</td>\n    </tr>\n    <tr>\n      <th>23</th>\n      <td>중구</td>\n      <td>671</td>\n      <td>413</td>\n      <td>190</td>\n      <td>72</td>\n      <td>348</td>\n      <td>150.0</td>\n    </tr>\n    <tr>\n      <th>24</th>\n      <td>중랑구</td>\n      <td>660</td>\n      <td>509</td>\n      <td>121</td>\n      <td>177</td>\n      <td>109</td>\n      <td>150.0</td>\n    </tr>\n  </tbody>\n</table>\n</div>"
     },
     "metadata": {},
     "execution_count": 130
    }
   ],
   "source": [
    "df"
   ]
  },
  {
   "source": [
    "#### korean idol brand rank (csv)\n",
    "#### korean idol income and famliy num (csv)"
   ],
   "cell_type": "markdown",
   "metadata": {}
  },
  {
   "cell_type": "code",
   "execution_count": 1,
   "metadata": {},
   "outputs": [],
   "source": [
    "import pandas as pd"
   ]
  },
  {
   "cell_type": "code",
   "execution_count": 20,
   "metadata": {},
   "outputs": [],
   "source": [
    "df = pd.read_csv(\"http://bit.ly/ds-korean-idol\")\n",
    "df2 = pd.read_csv(\"http://bit.ly/ds-korean-idol-2\")"
   ]
  },
  {
   "cell_type": "code",
   "execution_count": 3,
   "metadata": {},
   "outputs": [
    {
     "output_type": "execute_result",
     "data": {
      "text/plain": [
       "     이름     그룹  소속사  성별        생년월일      키 혈액형   브랜드평판지수\n",
       "0    지민  방탄소년단  빅히트  남자  1995-10-13  173.6   A  10523260\n",
       "1  지드래곤     빅뱅   YG  남자  1988-08-18  177.0   A   9916947\n",
       "2  강다니엘    NaN  커넥트  남자  1996-12-10  180.0   A   8273745\n",
       "3     뷔  방탄소년단  빅히트  남자  1995-12-30  178.0  AB   8073501\n",
       "4    화사    마마무  RBW  여자  1995-07-23  162.1   A   7650928"
      ],
      "text/html": "<div>\n<style scoped>\n    .dataframe tbody tr th:only-of-type {\n        vertical-align: middle;\n    }\n\n    .dataframe tbody tr th {\n        vertical-align: top;\n    }\n\n    .dataframe thead th {\n        text-align: right;\n    }\n</style>\n<table border=\"1\" class=\"dataframe\">\n  <thead>\n    <tr style=\"text-align: right;\">\n      <th></th>\n      <th>이름</th>\n      <th>그룹</th>\n      <th>소속사</th>\n      <th>성별</th>\n      <th>생년월일</th>\n      <th>키</th>\n      <th>혈액형</th>\n      <th>브랜드평판지수</th>\n    </tr>\n  </thead>\n  <tbody>\n    <tr>\n      <th>0</th>\n      <td>지민</td>\n      <td>방탄소년단</td>\n      <td>빅히트</td>\n      <td>남자</td>\n      <td>1995-10-13</td>\n      <td>173.6</td>\n      <td>A</td>\n      <td>10523260</td>\n    </tr>\n    <tr>\n      <th>1</th>\n      <td>지드래곤</td>\n      <td>빅뱅</td>\n      <td>YG</td>\n      <td>남자</td>\n      <td>1988-08-18</td>\n      <td>177.0</td>\n      <td>A</td>\n      <td>9916947</td>\n    </tr>\n    <tr>\n      <th>2</th>\n      <td>강다니엘</td>\n      <td>NaN</td>\n      <td>커넥트</td>\n      <td>남자</td>\n      <td>1996-12-10</td>\n      <td>180.0</td>\n      <td>A</td>\n      <td>8273745</td>\n    </tr>\n    <tr>\n      <th>3</th>\n      <td>뷔</td>\n      <td>방탄소년단</td>\n      <td>빅히트</td>\n      <td>남자</td>\n      <td>1995-12-30</td>\n      <td>178.0</td>\n      <td>AB</td>\n      <td>8073501</td>\n    </tr>\n    <tr>\n      <th>4</th>\n      <td>화사</td>\n      <td>마마무</td>\n      <td>RBW</td>\n      <td>여자</td>\n      <td>1995-07-23</td>\n      <td>162.1</td>\n      <td>A</td>\n      <td>7650928</td>\n    </tr>\n  </tbody>\n</table>\n</div>"
     },
     "metadata": {},
     "execution_count": 3
    }
   ],
   "source": [
    "df.head()"
   ]
  },
  {
   "cell_type": "code",
   "execution_count": 4,
   "metadata": {},
   "outputs": [
    {
     "output_type": "execute_result",
     "data": {
      "text/plain": [
       "     이름     그룹   소속사  성별        생년월일      키 혈액형  브랜드평판지수\n",
       "10   태연   소녀시대    SM  여자  1989-03-09    NaN   A  3918661\n",
       "11  차은우   아스트로  판타지오  남자  1997-03-30  183.0   B  3506027\n",
       "12   백호   뉴이스트  플레디스  남자  1995-07-21  175.0  AB  3301654\n",
       "13   JR   뉴이스트  플레디스  남자  1995-06-08  176.0   O  3274137\n",
       "14   슈가  방탄소년단   빅히트  남자  1993-03-09  174.0   O  2925442"
      ],
      "text/html": "<div>\n<style scoped>\n    .dataframe tbody tr th:only-of-type {\n        vertical-align: middle;\n    }\n\n    .dataframe tbody tr th {\n        vertical-align: top;\n    }\n\n    .dataframe thead th {\n        text-align: right;\n    }\n</style>\n<table border=\"1\" class=\"dataframe\">\n  <thead>\n    <tr style=\"text-align: right;\">\n      <th></th>\n      <th>이름</th>\n      <th>그룹</th>\n      <th>소속사</th>\n      <th>성별</th>\n      <th>생년월일</th>\n      <th>키</th>\n      <th>혈액형</th>\n      <th>브랜드평판지수</th>\n    </tr>\n  </thead>\n  <tbody>\n    <tr>\n      <th>10</th>\n      <td>태연</td>\n      <td>소녀시대</td>\n      <td>SM</td>\n      <td>여자</td>\n      <td>1989-03-09</td>\n      <td>NaN</td>\n      <td>A</td>\n      <td>3918661</td>\n    </tr>\n    <tr>\n      <th>11</th>\n      <td>차은우</td>\n      <td>아스트로</td>\n      <td>판타지오</td>\n      <td>남자</td>\n      <td>1997-03-30</td>\n      <td>183.0</td>\n      <td>B</td>\n      <td>3506027</td>\n    </tr>\n    <tr>\n      <th>12</th>\n      <td>백호</td>\n      <td>뉴이스트</td>\n      <td>플레디스</td>\n      <td>남자</td>\n      <td>1995-07-21</td>\n      <td>175.0</td>\n      <td>AB</td>\n      <td>3301654</td>\n    </tr>\n    <tr>\n      <th>13</th>\n      <td>JR</td>\n      <td>뉴이스트</td>\n      <td>플레디스</td>\n      <td>남자</td>\n      <td>1995-06-08</td>\n      <td>176.0</td>\n      <td>O</td>\n      <td>3274137</td>\n    </tr>\n    <tr>\n      <th>14</th>\n      <td>슈가</td>\n      <td>방탄소년단</td>\n      <td>빅히트</td>\n      <td>남자</td>\n      <td>1993-03-09</td>\n      <td>174.0</td>\n      <td>O</td>\n      <td>2925442</td>\n    </tr>\n  </tbody>\n</table>\n</div>"
     },
     "metadata": {},
     "execution_count": 4
    }
   ],
   "source": [
    "df.tail()"
   ]
  },
  {
   "cell_type": "code",
   "execution_count": 5,
   "metadata": {},
   "outputs": [],
   "source": [
    "df_copy = df.copy()"
   ]
  },
  {
   "cell_type": "code",
   "execution_count": 6,
   "metadata": {},
   "outputs": [
    {
     "output_type": "execute_result",
     "data": {
      "text/plain": [
       "      이름     그룹      소속사  성별        생년월일      키 혈액형   브랜드평판지수\n",
       "0     지민  방탄소년단      빅히트  남자  1995-10-13  173.6   A  10523260\n",
       "1   지드래곤     빅뱅       YG  남자  1988-08-18  177.0   A   9916947\n",
       "2   강다니엘    NaN      커넥트  남자  1996-12-10  180.0   A   8273745\n",
       "3      뷔  방탄소년단      빅히트  남자  1995-12-30  178.0  AB   8073501\n",
       "4     화사    마마무      RBW  여자  1995-07-23  162.1   A   7650928\n",
       "5     정국  방탄소년단      빅히트  남자  1997-09-01  178.0   A   5208335\n",
       "6     민현   뉴이스트     플레디스  남자  1995-08-09  182.3   O   4989792\n",
       "7     소연    아이들       큐브  여자  1998-08-26    NaN   B   4668615\n",
       "8      진  방탄소년단      빅히트  남자  1992-12-04  179.2   O   4570308\n",
       "9    하성운     핫샷  스타크루이엔티  남자  1994-03-22  167.1   A   4036489\n",
       "10    태연   소녀시대       SM  여자  1989-03-09    NaN   A   3918661\n",
       "11   차은우   아스트로     판타지오  남자  1997-03-30  183.0   B   3506027\n",
       "12    백호   뉴이스트     플레디스  남자  1995-07-21  175.0  AB   3301654\n",
       "13    JR   뉴이스트     플레디스  남자  1995-06-08  176.0   O   3274137\n",
       "14    슈가  방탄소년단      빅히트  남자  1993-03-09  174.0   O   2925442"
      ],
      "text/html": "<div>\n<style scoped>\n    .dataframe tbody tr th:only-of-type {\n        vertical-align: middle;\n    }\n\n    .dataframe tbody tr th {\n        vertical-align: top;\n    }\n\n    .dataframe thead th {\n        text-align: right;\n    }\n</style>\n<table border=\"1\" class=\"dataframe\">\n  <thead>\n    <tr style=\"text-align: right;\">\n      <th></th>\n      <th>이름</th>\n      <th>그룹</th>\n      <th>소속사</th>\n      <th>성별</th>\n      <th>생년월일</th>\n      <th>키</th>\n      <th>혈액형</th>\n      <th>브랜드평판지수</th>\n    </tr>\n  </thead>\n  <tbody>\n    <tr>\n      <th>0</th>\n      <td>지민</td>\n      <td>방탄소년단</td>\n      <td>빅히트</td>\n      <td>남자</td>\n      <td>1995-10-13</td>\n      <td>173.6</td>\n      <td>A</td>\n      <td>10523260</td>\n    </tr>\n    <tr>\n      <th>1</th>\n      <td>지드래곤</td>\n      <td>빅뱅</td>\n      <td>YG</td>\n      <td>남자</td>\n      <td>1988-08-18</td>\n      <td>177.0</td>\n      <td>A</td>\n      <td>9916947</td>\n    </tr>\n    <tr>\n      <th>2</th>\n      <td>강다니엘</td>\n      <td>NaN</td>\n      <td>커넥트</td>\n      <td>남자</td>\n      <td>1996-12-10</td>\n      <td>180.0</td>\n      <td>A</td>\n      <td>8273745</td>\n    </tr>\n    <tr>\n      <th>3</th>\n      <td>뷔</td>\n      <td>방탄소년단</td>\n      <td>빅히트</td>\n      <td>남자</td>\n      <td>1995-12-30</td>\n      <td>178.0</td>\n      <td>AB</td>\n      <td>8073501</td>\n    </tr>\n    <tr>\n      <th>4</th>\n      <td>화사</td>\n      <td>마마무</td>\n      <td>RBW</td>\n      <td>여자</td>\n      <td>1995-07-23</td>\n      <td>162.1</td>\n      <td>A</td>\n      <td>7650928</td>\n    </tr>\n    <tr>\n      <th>5</th>\n      <td>정국</td>\n      <td>방탄소년단</td>\n      <td>빅히트</td>\n      <td>남자</td>\n      <td>1997-09-01</td>\n      <td>178.0</td>\n      <td>A</td>\n      <td>5208335</td>\n    </tr>\n    <tr>\n      <th>6</th>\n      <td>민현</td>\n      <td>뉴이스트</td>\n      <td>플레디스</td>\n      <td>남자</td>\n      <td>1995-08-09</td>\n      <td>182.3</td>\n      <td>O</td>\n      <td>4989792</td>\n    </tr>\n    <tr>\n      <th>7</th>\n      <td>소연</td>\n      <td>아이들</td>\n      <td>큐브</td>\n      <td>여자</td>\n      <td>1998-08-26</td>\n      <td>NaN</td>\n      <td>B</td>\n      <td>4668615</td>\n    </tr>\n    <tr>\n      <th>8</th>\n      <td>진</td>\n      <td>방탄소년단</td>\n      <td>빅히트</td>\n      <td>남자</td>\n      <td>1992-12-04</td>\n      <td>179.2</td>\n      <td>O</td>\n      <td>4570308</td>\n    </tr>\n    <tr>\n      <th>9</th>\n      <td>하성운</td>\n      <td>핫샷</td>\n      <td>스타크루이엔티</td>\n      <td>남자</td>\n      <td>1994-03-22</td>\n      <td>167.1</td>\n      <td>A</td>\n      <td>4036489</td>\n    </tr>\n    <tr>\n      <th>10</th>\n      <td>태연</td>\n      <td>소녀시대</td>\n      <td>SM</td>\n      <td>여자</td>\n      <td>1989-03-09</td>\n      <td>NaN</td>\n      <td>A</td>\n      <td>3918661</td>\n    </tr>\n    <tr>\n      <th>11</th>\n      <td>차은우</td>\n      <td>아스트로</td>\n      <td>판타지오</td>\n      <td>남자</td>\n      <td>1997-03-30</td>\n      <td>183.0</td>\n      <td>B</td>\n      <td>3506027</td>\n    </tr>\n    <tr>\n      <th>12</th>\n      <td>백호</td>\n      <td>뉴이스트</td>\n      <td>플레디스</td>\n      <td>남자</td>\n      <td>1995-07-21</td>\n      <td>175.0</td>\n      <td>AB</td>\n      <td>3301654</td>\n    </tr>\n    <tr>\n      <th>13</th>\n      <td>JR</td>\n      <td>뉴이스트</td>\n      <td>플레디스</td>\n      <td>남자</td>\n      <td>1995-06-08</td>\n      <td>176.0</td>\n      <td>O</td>\n      <td>3274137</td>\n    </tr>\n    <tr>\n      <th>14</th>\n      <td>슈가</td>\n      <td>방탄소년단</td>\n      <td>빅히트</td>\n      <td>남자</td>\n      <td>1993-03-09</td>\n      <td>174.0</td>\n      <td>O</td>\n      <td>2925442</td>\n    </tr>\n  </tbody>\n</table>\n</div>"
     },
     "metadata": {},
     "execution_count": 6
    }
   ],
   "source": [
    "df_copy"
   ]
  },
  {
   "source": [
    "### concatenate by row"
   ],
   "cell_type": "markdown",
   "metadata": {}
  },
  {
   "cell_type": "code",
   "execution_count": null,
   "metadata": {},
   "outputs": [],
   "source": [
    "# concatenate by row\n",
    "# pd. concat() : DataFrame appends by list\n",
    "# df.concat([df,df_copy], sort=True)\n",
    "df_concat = pd.concat([df,df_copy], sort=False)\n"
   ]
  },
  {
   "cell_type": "code",
   "execution_count": 13,
   "metadata": {},
   "outputs": [
    {
     "output_type": "execute_result",
     "data": {
      "text/plain": [
       "    index    이름     그룹      소속사  성별        생년월일      키 혈액형   브랜드평판지수\n",
       "0       0    지민  방탄소년단      빅히트  남자  1995-10-13  173.6   A  10523260\n",
       "1       1  지드래곤     빅뱅       YG  남자  1988-08-18  177.0   A   9916947\n",
       "2       2  강다니엘    NaN      커넥트  남자  1996-12-10  180.0   A   8273745\n",
       "3       3     뷔  방탄소년단      빅히트  남자  1995-12-30  178.0  AB   8073501\n",
       "4       4    화사    마마무      RBW  여자  1995-07-23  162.1   A   7650928\n",
       "5       5    정국  방탄소년단      빅히트  남자  1997-09-01  178.0   A   5208335\n",
       "6       6    민현   뉴이스트     플레디스  남자  1995-08-09  182.3   O   4989792\n",
       "7       7    소연    아이들       큐브  여자  1998-08-26    NaN   B   4668615\n",
       "8       8     진  방탄소년단      빅히트  남자  1992-12-04  179.2   O   4570308\n",
       "9       9   하성운     핫샷  스타크루이엔티  남자  1994-03-22  167.1   A   4036489\n",
       "10     10    태연   소녀시대       SM  여자  1989-03-09    NaN   A   3918661\n",
       "11     11   차은우   아스트로     판타지오  남자  1997-03-30  183.0   B   3506027\n",
       "12     12    백호   뉴이스트     플레디스  남자  1995-07-21  175.0  AB   3301654\n",
       "13     13    JR   뉴이스트     플레디스  남자  1995-06-08  176.0   O   3274137\n",
       "14     14    슈가  방탄소년단      빅히트  남자  1993-03-09  174.0   O   2925442\n",
       "15      0    지민  방탄소년단      빅히트  남자  1995-10-13  173.6   A  10523260\n",
       "16      1  지드래곤     빅뱅       YG  남자  1988-08-18  177.0   A   9916947\n",
       "17      2  강다니엘    NaN      커넥트  남자  1996-12-10  180.0   A   8273745\n",
       "18      3     뷔  방탄소년단      빅히트  남자  1995-12-30  178.0  AB   8073501\n",
       "19      4    화사    마마무      RBW  여자  1995-07-23  162.1   A   7650928\n",
       "20      5    정국  방탄소년단      빅히트  남자  1997-09-01  178.0   A   5208335\n",
       "21      6    민현   뉴이스트     플레디스  남자  1995-08-09  182.3   O   4989792\n",
       "22      7    소연    아이들       큐브  여자  1998-08-26    NaN   B   4668615\n",
       "23      8     진  방탄소년단      빅히트  남자  1992-12-04  179.2   O   4570308\n",
       "24      9   하성운     핫샷  스타크루이엔티  남자  1994-03-22  167.1   A   4036489\n",
       "25     10    태연   소녀시대       SM  여자  1989-03-09    NaN   A   3918661\n",
       "26     11   차은우   아스트로     판타지오  남자  1997-03-30  183.0   B   3506027\n",
       "27     12    백호   뉴이스트     플레디스  남자  1995-07-21  175.0  AB   3301654\n",
       "28     13    JR   뉴이스트     플레디스  남자  1995-06-08  176.0   O   3274137\n",
       "29     14    슈가  방탄소년단      빅히트  남자  1993-03-09  174.0   O   2925442"
      ],
      "text/html": "<div>\n<style scoped>\n    .dataframe tbody tr th:only-of-type {\n        vertical-align: middle;\n    }\n\n    .dataframe tbody tr th {\n        vertical-align: top;\n    }\n\n    .dataframe thead th {\n        text-align: right;\n    }\n</style>\n<table border=\"1\" class=\"dataframe\">\n  <thead>\n    <tr style=\"text-align: right;\">\n      <th></th>\n      <th>index</th>\n      <th>이름</th>\n      <th>그룹</th>\n      <th>소속사</th>\n      <th>성별</th>\n      <th>생년월일</th>\n      <th>키</th>\n      <th>혈액형</th>\n      <th>브랜드평판지수</th>\n    </tr>\n  </thead>\n  <tbody>\n    <tr>\n      <th>0</th>\n      <td>0</td>\n      <td>지민</td>\n      <td>방탄소년단</td>\n      <td>빅히트</td>\n      <td>남자</td>\n      <td>1995-10-13</td>\n      <td>173.6</td>\n      <td>A</td>\n      <td>10523260</td>\n    </tr>\n    <tr>\n      <th>1</th>\n      <td>1</td>\n      <td>지드래곤</td>\n      <td>빅뱅</td>\n      <td>YG</td>\n      <td>남자</td>\n      <td>1988-08-18</td>\n      <td>177.0</td>\n      <td>A</td>\n      <td>9916947</td>\n    </tr>\n    <tr>\n      <th>2</th>\n      <td>2</td>\n      <td>강다니엘</td>\n      <td>NaN</td>\n      <td>커넥트</td>\n      <td>남자</td>\n      <td>1996-12-10</td>\n      <td>180.0</td>\n      <td>A</td>\n      <td>8273745</td>\n    </tr>\n    <tr>\n      <th>3</th>\n      <td>3</td>\n      <td>뷔</td>\n      <td>방탄소년단</td>\n      <td>빅히트</td>\n      <td>남자</td>\n      <td>1995-12-30</td>\n      <td>178.0</td>\n      <td>AB</td>\n      <td>8073501</td>\n    </tr>\n    <tr>\n      <th>4</th>\n      <td>4</td>\n      <td>화사</td>\n      <td>마마무</td>\n      <td>RBW</td>\n      <td>여자</td>\n      <td>1995-07-23</td>\n      <td>162.1</td>\n      <td>A</td>\n      <td>7650928</td>\n    </tr>\n    <tr>\n      <th>5</th>\n      <td>5</td>\n      <td>정국</td>\n      <td>방탄소년단</td>\n      <td>빅히트</td>\n      <td>남자</td>\n      <td>1997-09-01</td>\n      <td>178.0</td>\n      <td>A</td>\n      <td>5208335</td>\n    </tr>\n    <tr>\n      <th>6</th>\n      <td>6</td>\n      <td>민현</td>\n      <td>뉴이스트</td>\n      <td>플레디스</td>\n      <td>남자</td>\n      <td>1995-08-09</td>\n      <td>182.3</td>\n      <td>O</td>\n      <td>4989792</td>\n    </tr>\n    <tr>\n      <th>7</th>\n      <td>7</td>\n      <td>소연</td>\n      <td>아이들</td>\n      <td>큐브</td>\n      <td>여자</td>\n      <td>1998-08-26</td>\n      <td>NaN</td>\n      <td>B</td>\n      <td>4668615</td>\n    </tr>\n    <tr>\n      <th>8</th>\n      <td>8</td>\n      <td>진</td>\n      <td>방탄소년단</td>\n      <td>빅히트</td>\n      <td>남자</td>\n      <td>1992-12-04</td>\n      <td>179.2</td>\n      <td>O</td>\n      <td>4570308</td>\n    </tr>\n    <tr>\n      <th>9</th>\n      <td>9</td>\n      <td>하성운</td>\n      <td>핫샷</td>\n      <td>스타크루이엔티</td>\n      <td>남자</td>\n      <td>1994-03-22</td>\n      <td>167.1</td>\n      <td>A</td>\n      <td>4036489</td>\n    </tr>\n    <tr>\n      <th>10</th>\n      <td>10</td>\n      <td>태연</td>\n      <td>소녀시대</td>\n      <td>SM</td>\n      <td>여자</td>\n      <td>1989-03-09</td>\n      <td>NaN</td>\n      <td>A</td>\n      <td>3918661</td>\n    </tr>\n    <tr>\n      <th>11</th>\n      <td>11</td>\n      <td>차은우</td>\n      <td>아스트로</td>\n      <td>판타지오</td>\n      <td>남자</td>\n      <td>1997-03-30</td>\n      <td>183.0</td>\n      <td>B</td>\n      <td>3506027</td>\n    </tr>\n    <tr>\n      <th>12</th>\n      <td>12</td>\n      <td>백호</td>\n      <td>뉴이스트</td>\n      <td>플레디스</td>\n      <td>남자</td>\n      <td>1995-07-21</td>\n      <td>175.0</td>\n      <td>AB</td>\n      <td>3301654</td>\n    </tr>\n    <tr>\n      <th>13</th>\n      <td>13</td>\n      <td>JR</td>\n      <td>뉴이스트</td>\n      <td>플레디스</td>\n      <td>남자</td>\n      <td>1995-06-08</td>\n      <td>176.0</td>\n      <td>O</td>\n      <td>3274137</td>\n    </tr>\n    <tr>\n      <th>14</th>\n      <td>14</td>\n      <td>슈가</td>\n      <td>방탄소년단</td>\n      <td>빅히트</td>\n      <td>남자</td>\n      <td>1993-03-09</td>\n      <td>174.0</td>\n      <td>O</td>\n      <td>2925442</td>\n    </tr>\n    <tr>\n      <th>15</th>\n      <td>0</td>\n      <td>지민</td>\n      <td>방탄소년단</td>\n      <td>빅히트</td>\n      <td>남자</td>\n      <td>1995-10-13</td>\n      <td>173.6</td>\n      <td>A</td>\n      <td>10523260</td>\n    </tr>\n    <tr>\n      <th>16</th>\n      <td>1</td>\n      <td>지드래곤</td>\n      <td>빅뱅</td>\n      <td>YG</td>\n      <td>남자</td>\n      <td>1988-08-18</td>\n      <td>177.0</td>\n      <td>A</td>\n      <td>9916947</td>\n    </tr>\n    <tr>\n      <th>17</th>\n      <td>2</td>\n      <td>강다니엘</td>\n      <td>NaN</td>\n      <td>커넥트</td>\n      <td>남자</td>\n      <td>1996-12-10</td>\n      <td>180.0</td>\n      <td>A</td>\n      <td>8273745</td>\n    </tr>\n    <tr>\n      <th>18</th>\n      <td>3</td>\n      <td>뷔</td>\n      <td>방탄소년단</td>\n      <td>빅히트</td>\n      <td>남자</td>\n      <td>1995-12-30</td>\n      <td>178.0</td>\n      <td>AB</td>\n      <td>8073501</td>\n    </tr>\n    <tr>\n      <th>19</th>\n      <td>4</td>\n      <td>화사</td>\n      <td>마마무</td>\n      <td>RBW</td>\n      <td>여자</td>\n      <td>1995-07-23</td>\n      <td>162.1</td>\n      <td>A</td>\n      <td>7650928</td>\n    </tr>\n    <tr>\n      <th>20</th>\n      <td>5</td>\n      <td>정국</td>\n      <td>방탄소년단</td>\n      <td>빅히트</td>\n      <td>남자</td>\n      <td>1997-09-01</td>\n      <td>178.0</td>\n      <td>A</td>\n      <td>5208335</td>\n    </tr>\n    <tr>\n      <th>21</th>\n      <td>6</td>\n      <td>민현</td>\n      <td>뉴이스트</td>\n      <td>플레디스</td>\n      <td>남자</td>\n      <td>1995-08-09</td>\n      <td>182.3</td>\n      <td>O</td>\n      <td>4989792</td>\n    </tr>\n    <tr>\n      <th>22</th>\n      <td>7</td>\n      <td>소연</td>\n      <td>아이들</td>\n      <td>큐브</td>\n      <td>여자</td>\n      <td>1998-08-26</td>\n      <td>NaN</td>\n      <td>B</td>\n      <td>4668615</td>\n    </tr>\n    <tr>\n      <th>23</th>\n      <td>8</td>\n      <td>진</td>\n      <td>방탄소년단</td>\n      <td>빅히트</td>\n      <td>남자</td>\n      <td>1992-12-04</td>\n      <td>179.2</td>\n      <td>O</td>\n      <td>4570308</td>\n    </tr>\n    <tr>\n      <th>24</th>\n      <td>9</td>\n      <td>하성운</td>\n      <td>핫샷</td>\n      <td>스타크루이엔티</td>\n      <td>남자</td>\n      <td>1994-03-22</td>\n      <td>167.1</td>\n      <td>A</td>\n      <td>4036489</td>\n    </tr>\n    <tr>\n      <th>25</th>\n      <td>10</td>\n      <td>태연</td>\n      <td>소녀시대</td>\n      <td>SM</td>\n      <td>여자</td>\n      <td>1989-03-09</td>\n      <td>NaN</td>\n      <td>A</td>\n      <td>3918661</td>\n    </tr>\n    <tr>\n      <th>26</th>\n      <td>11</td>\n      <td>차은우</td>\n      <td>아스트로</td>\n      <td>판타지오</td>\n      <td>남자</td>\n      <td>1997-03-30</td>\n      <td>183.0</td>\n      <td>B</td>\n      <td>3506027</td>\n    </tr>\n    <tr>\n      <th>27</th>\n      <td>12</td>\n      <td>백호</td>\n      <td>뉴이스트</td>\n      <td>플레디스</td>\n      <td>남자</td>\n      <td>1995-07-21</td>\n      <td>175.0</td>\n      <td>AB</td>\n      <td>3301654</td>\n    </tr>\n    <tr>\n      <th>28</th>\n      <td>13</td>\n      <td>JR</td>\n      <td>뉴이스트</td>\n      <td>플레디스</td>\n      <td>남자</td>\n      <td>1995-06-08</td>\n      <td>176.0</td>\n      <td>O</td>\n      <td>3274137</td>\n    </tr>\n    <tr>\n      <th>29</th>\n      <td>14</td>\n      <td>슈가</td>\n      <td>방탄소년단</td>\n      <td>빅히트</td>\n      <td>남자</td>\n      <td>1993-03-09</td>\n      <td>174.0</td>\n      <td>O</td>\n      <td>2925442</td>\n    </tr>\n  </tbody>\n</table>\n</div>"
     },
     "metadata": {},
     "execution_count": 13
    }
   ],
   "source": [
    "# reset index\n",
    "# need assignment\n",
    "\n",
    "df_concat.reset_index(drop=True)"
   ]
  },
  {
   "source": [
    "### concatenate by column"
   ],
   "cell_type": "markdown",
   "metadata": {}
  },
  {
   "cell_type": "code",
   "execution_count": 21,
   "metadata": {},
   "outputs": [
    {
     "output_type": "execute_result",
     "data": {
      "text/plain": [
       "      이름    연봉  가족수\n",
       "0     지민  3000    3\n",
       "1   지드래곤  3500    3\n",
       "2   강다니엘  3200    4\n",
       "3      뷔  3050    4\n",
       "4     화사  4300    3\n",
       "5     정국  2900    5\n",
       "6     민현  3400    6\n",
       "7     소연  4500    5\n",
       "8      진  4200    4\n",
       "9    하성운  4300    4\n",
       "10    태연  3700    3\n",
       "11   차은우  3850    5\n",
       "12    백호  3900    4\n",
       "13    JR  4100    3\n",
       "14    슈가  4150    3"
      ],
      "text/html": "<div>\n<style scoped>\n    .dataframe tbody tr th:only-of-type {\n        vertical-align: middle;\n    }\n\n    .dataframe tbody tr th {\n        vertical-align: top;\n    }\n\n    .dataframe thead th {\n        text-align: right;\n    }\n</style>\n<table border=\"1\" class=\"dataframe\">\n  <thead>\n    <tr style=\"text-align: right;\">\n      <th></th>\n      <th>이름</th>\n      <th>연봉</th>\n      <th>가족수</th>\n    </tr>\n  </thead>\n  <tbody>\n    <tr>\n      <th>0</th>\n      <td>지민</td>\n      <td>3000</td>\n      <td>3</td>\n    </tr>\n    <tr>\n      <th>1</th>\n      <td>지드래곤</td>\n      <td>3500</td>\n      <td>3</td>\n    </tr>\n    <tr>\n      <th>2</th>\n      <td>강다니엘</td>\n      <td>3200</td>\n      <td>4</td>\n    </tr>\n    <tr>\n      <th>3</th>\n      <td>뷔</td>\n      <td>3050</td>\n      <td>4</td>\n    </tr>\n    <tr>\n      <th>4</th>\n      <td>화사</td>\n      <td>4300</td>\n      <td>3</td>\n    </tr>\n    <tr>\n      <th>5</th>\n      <td>정국</td>\n      <td>2900</td>\n      <td>5</td>\n    </tr>\n    <tr>\n      <th>6</th>\n      <td>민현</td>\n      <td>3400</td>\n      <td>6</td>\n    </tr>\n    <tr>\n      <th>7</th>\n      <td>소연</td>\n      <td>4500</td>\n      <td>5</td>\n    </tr>\n    <tr>\n      <th>8</th>\n      <td>진</td>\n      <td>4200</td>\n      <td>4</td>\n    </tr>\n    <tr>\n      <th>9</th>\n      <td>하성운</td>\n      <td>4300</td>\n      <td>4</td>\n    </tr>\n    <tr>\n      <th>10</th>\n      <td>태연</td>\n      <td>3700</td>\n      <td>3</td>\n    </tr>\n    <tr>\n      <th>11</th>\n      <td>차은우</td>\n      <td>3850</td>\n      <td>5</td>\n    </tr>\n    <tr>\n      <th>12</th>\n      <td>백호</td>\n      <td>3900</td>\n      <td>4</td>\n    </tr>\n    <tr>\n      <th>13</th>\n      <td>JR</td>\n      <td>4100</td>\n      <td>3</td>\n    </tr>\n    <tr>\n      <th>14</th>\n      <td>슈가</td>\n      <td>4150</td>\n      <td>3</td>\n    </tr>\n  </tbody>\n</table>\n</div>"
     },
     "metadata": {},
     "execution_count": 21
    }
   ],
   "source": [
    "df2"
   ]
  },
  {
   "cell_type": "code",
   "execution_count": 24,
   "metadata": {},
   "outputs": [
    {
     "output_type": "execute_result",
     "data": {
      "text/plain": [
       "      이름     그룹      소속사  성별        생년월일      키 혈액형   브랜드평판지수    이름    연봉  가족수\n",
       "0     지민  방탄소년단      빅히트  남자  1995-10-13  173.6   A  10523260    지민  3000    3\n",
       "1   지드래곤     빅뱅       YG  남자  1988-08-18  177.0   A   9916947  지드래곤  3500    3\n",
       "2   강다니엘    NaN      커넥트  남자  1996-12-10  180.0   A   8273745  강다니엘  3200    4\n",
       "3      뷔  방탄소년단      빅히트  남자  1995-12-30  178.0  AB   8073501     뷔  3050    4\n",
       "4     화사    마마무      RBW  여자  1995-07-23  162.1   A   7650928    화사  4300    3\n",
       "5     정국  방탄소년단      빅히트  남자  1997-09-01  178.0   A   5208335    정국  2900    5\n",
       "6     민현   뉴이스트     플레디스  남자  1995-08-09  182.3   O   4989792    민현  3400    6\n",
       "7     소연    아이들       큐브  여자  1998-08-26    NaN   B   4668615    소연  4500    5\n",
       "8      진  방탄소년단      빅히트  남자  1992-12-04  179.2   O   4570308     진  4200    4\n",
       "9    하성운     핫샷  스타크루이엔티  남자  1994-03-22  167.1   A   4036489   하성운  4300    4\n",
       "10    태연   소녀시대       SM  여자  1989-03-09    NaN   A   3918661    태연  3700    3\n",
       "11   차은우   아스트로     판타지오  남자  1997-03-30  183.0   B   3506027   차은우  3850    5\n",
       "12    백호   뉴이스트     플레디스  남자  1995-07-21  175.0  AB   3301654    백호  3900    4\n",
       "13    JR   뉴이스트     플레디스  남자  1995-06-08  176.0   O   3274137    JR  4100    3\n",
       "14    슈가  방탄소년단      빅히트  남자  1993-03-09  174.0   O   2925442    슈가  4150    3"
      ],
      "text/html": "<div>\n<style scoped>\n    .dataframe tbody tr th:only-of-type {\n        vertical-align: middle;\n    }\n\n    .dataframe tbody tr th {\n        vertical-align: top;\n    }\n\n    .dataframe thead th {\n        text-align: right;\n    }\n</style>\n<table border=\"1\" class=\"dataframe\">\n  <thead>\n    <tr style=\"text-align: right;\">\n      <th></th>\n      <th>이름</th>\n      <th>그룹</th>\n      <th>소속사</th>\n      <th>성별</th>\n      <th>생년월일</th>\n      <th>키</th>\n      <th>혈액형</th>\n      <th>브랜드평판지수</th>\n      <th>이름</th>\n      <th>연봉</th>\n      <th>가족수</th>\n    </tr>\n  </thead>\n  <tbody>\n    <tr>\n      <th>0</th>\n      <td>지민</td>\n      <td>방탄소년단</td>\n      <td>빅히트</td>\n      <td>남자</td>\n      <td>1995-10-13</td>\n      <td>173.6</td>\n      <td>A</td>\n      <td>10523260</td>\n      <td>지민</td>\n      <td>3000</td>\n      <td>3</td>\n    </tr>\n    <tr>\n      <th>1</th>\n      <td>지드래곤</td>\n      <td>빅뱅</td>\n      <td>YG</td>\n      <td>남자</td>\n      <td>1988-08-18</td>\n      <td>177.0</td>\n      <td>A</td>\n      <td>9916947</td>\n      <td>지드래곤</td>\n      <td>3500</td>\n      <td>3</td>\n    </tr>\n    <tr>\n      <th>2</th>\n      <td>강다니엘</td>\n      <td>NaN</td>\n      <td>커넥트</td>\n      <td>남자</td>\n      <td>1996-12-10</td>\n      <td>180.0</td>\n      <td>A</td>\n      <td>8273745</td>\n      <td>강다니엘</td>\n      <td>3200</td>\n      <td>4</td>\n    </tr>\n    <tr>\n      <th>3</th>\n      <td>뷔</td>\n      <td>방탄소년단</td>\n      <td>빅히트</td>\n      <td>남자</td>\n      <td>1995-12-30</td>\n      <td>178.0</td>\n      <td>AB</td>\n      <td>8073501</td>\n      <td>뷔</td>\n      <td>3050</td>\n      <td>4</td>\n    </tr>\n    <tr>\n      <th>4</th>\n      <td>화사</td>\n      <td>마마무</td>\n      <td>RBW</td>\n      <td>여자</td>\n      <td>1995-07-23</td>\n      <td>162.1</td>\n      <td>A</td>\n      <td>7650928</td>\n      <td>화사</td>\n      <td>4300</td>\n      <td>3</td>\n    </tr>\n    <tr>\n      <th>5</th>\n      <td>정국</td>\n      <td>방탄소년단</td>\n      <td>빅히트</td>\n      <td>남자</td>\n      <td>1997-09-01</td>\n      <td>178.0</td>\n      <td>A</td>\n      <td>5208335</td>\n      <td>정국</td>\n      <td>2900</td>\n      <td>5</td>\n    </tr>\n    <tr>\n      <th>6</th>\n      <td>민현</td>\n      <td>뉴이스트</td>\n      <td>플레디스</td>\n      <td>남자</td>\n      <td>1995-08-09</td>\n      <td>182.3</td>\n      <td>O</td>\n      <td>4989792</td>\n      <td>민현</td>\n      <td>3400</td>\n      <td>6</td>\n    </tr>\n    <tr>\n      <th>7</th>\n      <td>소연</td>\n      <td>아이들</td>\n      <td>큐브</td>\n      <td>여자</td>\n      <td>1998-08-26</td>\n      <td>NaN</td>\n      <td>B</td>\n      <td>4668615</td>\n      <td>소연</td>\n      <td>4500</td>\n      <td>5</td>\n    </tr>\n    <tr>\n      <th>8</th>\n      <td>진</td>\n      <td>방탄소년단</td>\n      <td>빅히트</td>\n      <td>남자</td>\n      <td>1992-12-04</td>\n      <td>179.2</td>\n      <td>O</td>\n      <td>4570308</td>\n      <td>진</td>\n      <td>4200</td>\n      <td>4</td>\n    </tr>\n    <tr>\n      <th>9</th>\n      <td>하성운</td>\n      <td>핫샷</td>\n      <td>스타크루이엔티</td>\n      <td>남자</td>\n      <td>1994-03-22</td>\n      <td>167.1</td>\n      <td>A</td>\n      <td>4036489</td>\n      <td>하성운</td>\n      <td>4300</td>\n      <td>4</td>\n    </tr>\n    <tr>\n      <th>10</th>\n      <td>태연</td>\n      <td>소녀시대</td>\n      <td>SM</td>\n      <td>여자</td>\n      <td>1989-03-09</td>\n      <td>NaN</td>\n      <td>A</td>\n      <td>3918661</td>\n      <td>태연</td>\n      <td>3700</td>\n      <td>3</td>\n    </tr>\n    <tr>\n      <th>11</th>\n      <td>차은우</td>\n      <td>아스트로</td>\n      <td>판타지오</td>\n      <td>남자</td>\n      <td>1997-03-30</td>\n      <td>183.0</td>\n      <td>B</td>\n      <td>3506027</td>\n      <td>차은우</td>\n      <td>3850</td>\n      <td>5</td>\n    </tr>\n    <tr>\n      <th>12</th>\n      <td>백호</td>\n      <td>뉴이스트</td>\n      <td>플레디스</td>\n      <td>남자</td>\n      <td>1995-07-21</td>\n      <td>175.0</td>\n      <td>AB</td>\n      <td>3301654</td>\n      <td>백호</td>\n      <td>3900</td>\n      <td>4</td>\n    </tr>\n    <tr>\n      <th>13</th>\n      <td>JR</td>\n      <td>뉴이스트</td>\n      <td>플레디스</td>\n      <td>남자</td>\n      <td>1995-06-08</td>\n      <td>176.0</td>\n      <td>O</td>\n      <td>3274137</td>\n      <td>JR</td>\n      <td>4100</td>\n      <td>3</td>\n    </tr>\n    <tr>\n      <th>14</th>\n      <td>슈가</td>\n      <td>방탄소년단</td>\n      <td>빅히트</td>\n      <td>남자</td>\n      <td>1993-03-09</td>\n      <td>174.0</td>\n      <td>O</td>\n      <td>2925442</td>\n      <td>슈가</td>\n      <td>4150</td>\n      <td>3</td>\n    </tr>\n  </tbody>\n</table>\n</div>"
     },
     "metadata": {},
     "execution_count": 24
    }
   ],
   "source": [
    "# axis=1 -> append by column\n",
    "pd.concat([df,df2],axis=1)"
   ]
  },
  {
   "cell_type": "code",
   "execution_count": 25,
   "metadata": {},
   "outputs": [],
   "source": [
    "# append nan value\n",
    "df3 = df2.drop([2,2])"
   ]
  },
  {
   "cell_type": "code",
   "execution_count": 27,
   "metadata": {},
   "outputs": [
    {
     "output_type": "execute_result",
     "data": {
      "text/plain": [
       "      이름     그룹      소속사  성별        생년월일      키 혈액형   브랜드평판지수    이름      연봉  \\\n",
       "0     지민  방탄소년단      빅히트  남자  1995-10-13  173.6   A  10523260    지민  3000.0   \n",
       "1   지드래곤     빅뱅       YG  남자  1988-08-18  177.0   A   9916947  지드래곤  3500.0   \n",
       "2   강다니엘    NaN      커넥트  남자  1996-12-10  180.0   A   8273745   NaN     NaN   \n",
       "3      뷔  방탄소년단      빅히트  남자  1995-12-30  178.0  AB   8073501     뷔  3050.0   \n",
       "4     화사    마마무      RBW  여자  1995-07-23  162.1   A   7650928    화사  4300.0   \n",
       "5     정국  방탄소년단      빅히트  남자  1997-09-01  178.0   A   5208335    정국  2900.0   \n",
       "6     민현   뉴이스트     플레디스  남자  1995-08-09  182.3   O   4989792    민현  3400.0   \n",
       "7     소연    아이들       큐브  여자  1998-08-26    NaN   B   4668615    소연  4500.0   \n",
       "8      진  방탄소년단      빅히트  남자  1992-12-04  179.2   O   4570308     진  4200.0   \n",
       "9    하성운     핫샷  스타크루이엔티  남자  1994-03-22  167.1   A   4036489   하성운  4300.0   \n",
       "10    태연   소녀시대       SM  여자  1989-03-09    NaN   A   3918661    태연  3700.0   \n",
       "11   차은우   아스트로     판타지오  남자  1997-03-30  183.0   B   3506027   차은우  3850.0   \n",
       "12    백호   뉴이스트     플레디스  남자  1995-07-21  175.0  AB   3301654    백호  3900.0   \n",
       "13    JR   뉴이스트     플레디스  남자  1995-06-08  176.0   O   3274137    JR  4100.0   \n",
       "14    슈가  방탄소년단      빅히트  남자  1993-03-09  174.0   O   2925442    슈가  4150.0   \n",
       "\n",
       "    가족수  \n",
       "0   3.0  \n",
       "1   3.0  \n",
       "2   NaN  \n",
       "3   4.0  \n",
       "4   3.0  \n",
       "5   5.0  \n",
       "6   6.0  \n",
       "7   5.0  \n",
       "8   4.0  \n",
       "9   4.0  \n",
       "10  3.0  \n",
       "11  5.0  \n",
       "12  4.0  \n",
       "13  3.0  \n",
       "14  3.0  "
      ],
      "text/html": "<div>\n<style scoped>\n    .dataframe tbody tr th:only-of-type {\n        vertical-align: middle;\n    }\n\n    .dataframe tbody tr th {\n        vertical-align: top;\n    }\n\n    .dataframe thead th {\n        text-align: right;\n    }\n</style>\n<table border=\"1\" class=\"dataframe\">\n  <thead>\n    <tr style=\"text-align: right;\">\n      <th></th>\n      <th>이름</th>\n      <th>그룹</th>\n      <th>소속사</th>\n      <th>성별</th>\n      <th>생년월일</th>\n      <th>키</th>\n      <th>혈액형</th>\n      <th>브랜드평판지수</th>\n      <th>이름</th>\n      <th>연봉</th>\n      <th>가족수</th>\n    </tr>\n  </thead>\n  <tbody>\n    <tr>\n      <th>0</th>\n      <td>지민</td>\n      <td>방탄소년단</td>\n      <td>빅히트</td>\n      <td>남자</td>\n      <td>1995-10-13</td>\n      <td>173.6</td>\n      <td>A</td>\n      <td>10523260</td>\n      <td>지민</td>\n      <td>3000.0</td>\n      <td>3.0</td>\n    </tr>\n    <tr>\n      <th>1</th>\n      <td>지드래곤</td>\n      <td>빅뱅</td>\n      <td>YG</td>\n      <td>남자</td>\n      <td>1988-08-18</td>\n      <td>177.0</td>\n      <td>A</td>\n      <td>9916947</td>\n      <td>지드래곤</td>\n      <td>3500.0</td>\n      <td>3.0</td>\n    </tr>\n    <tr>\n      <th>2</th>\n      <td>강다니엘</td>\n      <td>NaN</td>\n      <td>커넥트</td>\n      <td>남자</td>\n      <td>1996-12-10</td>\n      <td>180.0</td>\n      <td>A</td>\n      <td>8273745</td>\n      <td>NaN</td>\n      <td>NaN</td>\n      <td>NaN</td>\n    </tr>\n    <tr>\n      <th>3</th>\n      <td>뷔</td>\n      <td>방탄소년단</td>\n      <td>빅히트</td>\n      <td>남자</td>\n      <td>1995-12-30</td>\n      <td>178.0</td>\n      <td>AB</td>\n      <td>8073501</td>\n      <td>뷔</td>\n      <td>3050.0</td>\n      <td>4.0</td>\n    </tr>\n    <tr>\n      <th>4</th>\n      <td>화사</td>\n      <td>마마무</td>\n      <td>RBW</td>\n      <td>여자</td>\n      <td>1995-07-23</td>\n      <td>162.1</td>\n      <td>A</td>\n      <td>7650928</td>\n      <td>화사</td>\n      <td>4300.0</td>\n      <td>3.0</td>\n    </tr>\n    <tr>\n      <th>5</th>\n      <td>정국</td>\n      <td>방탄소년단</td>\n      <td>빅히트</td>\n      <td>남자</td>\n      <td>1997-09-01</td>\n      <td>178.0</td>\n      <td>A</td>\n      <td>5208335</td>\n      <td>정국</td>\n      <td>2900.0</td>\n      <td>5.0</td>\n    </tr>\n    <tr>\n      <th>6</th>\n      <td>민현</td>\n      <td>뉴이스트</td>\n      <td>플레디스</td>\n      <td>남자</td>\n      <td>1995-08-09</td>\n      <td>182.3</td>\n      <td>O</td>\n      <td>4989792</td>\n      <td>민현</td>\n      <td>3400.0</td>\n      <td>6.0</td>\n    </tr>\n    <tr>\n      <th>7</th>\n      <td>소연</td>\n      <td>아이들</td>\n      <td>큐브</td>\n      <td>여자</td>\n      <td>1998-08-26</td>\n      <td>NaN</td>\n      <td>B</td>\n      <td>4668615</td>\n      <td>소연</td>\n      <td>4500.0</td>\n      <td>5.0</td>\n    </tr>\n    <tr>\n      <th>8</th>\n      <td>진</td>\n      <td>방탄소년단</td>\n      <td>빅히트</td>\n      <td>남자</td>\n      <td>1992-12-04</td>\n      <td>179.2</td>\n      <td>O</td>\n      <td>4570308</td>\n      <td>진</td>\n      <td>4200.0</td>\n      <td>4.0</td>\n    </tr>\n    <tr>\n      <th>9</th>\n      <td>하성운</td>\n      <td>핫샷</td>\n      <td>스타크루이엔티</td>\n      <td>남자</td>\n      <td>1994-03-22</td>\n      <td>167.1</td>\n      <td>A</td>\n      <td>4036489</td>\n      <td>하성운</td>\n      <td>4300.0</td>\n      <td>4.0</td>\n    </tr>\n    <tr>\n      <th>10</th>\n      <td>태연</td>\n      <td>소녀시대</td>\n      <td>SM</td>\n      <td>여자</td>\n      <td>1989-03-09</td>\n      <td>NaN</td>\n      <td>A</td>\n      <td>3918661</td>\n      <td>태연</td>\n      <td>3700.0</td>\n      <td>3.0</td>\n    </tr>\n    <tr>\n      <th>11</th>\n      <td>차은우</td>\n      <td>아스트로</td>\n      <td>판타지오</td>\n      <td>남자</td>\n      <td>1997-03-30</td>\n      <td>183.0</td>\n      <td>B</td>\n      <td>3506027</td>\n      <td>차은우</td>\n      <td>3850.0</td>\n      <td>5.0</td>\n    </tr>\n    <tr>\n      <th>12</th>\n      <td>백호</td>\n      <td>뉴이스트</td>\n      <td>플레디스</td>\n      <td>남자</td>\n      <td>1995-07-21</td>\n      <td>175.0</td>\n      <td>AB</td>\n      <td>3301654</td>\n      <td>백호</td>\n      <td>3900.0</td>\n      <td>4.0</td>\n    </tr>\n    <tr>\n      <th>13</th>\n      <td>JR</td>\n      <td>뉴이스트</td>\n      <td>플레디스</td>\n      <td>남자</td>\n      <td>1995-06-08</td>\n      <td>176.0</td>\n      <td>O</td>\n      <td>3274137</td>\n      <td>JR</td>\n      <td>4100.0</td>\n      <td>3.0</td>\n    </tr>\n    <tr>\n      <th>14</th>\n      <td>슈가</td>\n      <td>방탄소년단</td>\n      <td>빅히트</td>\n      <td>남자</td>\n      <td>1993-03-09</td>\n      <td>174.0</td>\n      <td>O</td>\n      <td>2925442</td>\n      <td>슈가</td>\n      <td>4150.0</td>\n      <td>3.0</td>\n    </tr>\n  </tbody>\n</table>\n</div>"
     },
     "metadata": {},
     "execution_count": 27
    }
   ],
   "source": [
    "# concatenate by index values (default)\n",
    "\n",
    "pd.concat([df,df3], axis=1)"
   ]
  },
  {
   "cell_type": "code",
   "execution_count": null,
   "metadata": {},
   "outputs": [],
   "source": [
    "# concatenate DataFrame method\n",
    "#   1. concat() : append row or column by index values\n",
    "#   2. merge() : concatenate by unique id\n",
    "#       - pd.merge(left,right, on=\"target_column\", how=\"target_dataFrame\")"
   ]
  },
  {
   "cell_type": "code",
   "execution_count": 28,
   "metadata": {},
   "outputs": [],
   "source": [
    "df_right = df2.drop([1,3,5,7,9], axis=0)"
   ]
  },
  {
   "cell_type": "code",
   "execution_count": 31,
   "metadata": {},
   "outputs": [
    {
     "output_type": "execute_result",
     "data": {
      "text/plain": [
       "      이름    연봉  가족수\n",
       "0     지민  3000    3\n",
       "2   강다니엘  3200    4\n",
       "4     화사  4300    3\n",
       "6     민현  3400    6\n",
       "8      진  4200    4\n",
       "10    태연  3700    3\n",
       "11   차은우  3850    5\n",
       "12    백호  3900    4\n",
       "13    JR  4100    3\n",
       "14    슈가  4150    3"
      ],
      "text/html": "<div>\n<style scoped>\n    .dataframe tbody tr th:only-of-type {\n        vertical-align: middle;\n    }\n\n    .dataframe tbody tr th {\n        vertical-align: top;\n    }\n\n    .dataframe thead th {\n        text-align: right;\n    }\n</style>\n<table border=\"1\" class=\"dataframe\">\n  <thead>\n    <tr style=\"text-align: right;\">\n      <th></th>\n      <th>이름</th>\n      <th>연봉</th>\n      <th>가족수</th>\n    </tr>\n  </thead>\n  <tbody>\n    <tr>\n      <th>0</th>\n      <td>지민</td>\n      <td>3000</td>\n      <td>3</td>\n    </tr>\n    <tr>\n      <th>2</th>\n      <td>강다니엘</td>\n      <td>3200</td>\n      <td>4</td>\n    </tr>\n    <tr>\n      <th>4</th>\n      <td>화사</td>\n      <td>4300</td>\n      <td>3</td>\n    </tr>\n    <tr>\n      <th>6</th>\n      <td>민현</td>\n      <td>3400</td>\n      <td>6</td>\n    </tr>\n    <tr>\n      <th>8</th>\n      <td>진</td>\n      <td>4200</td>\n      <td>4</td>\n    </tr>\n    <tr>\n      <th>10</th>\n      <td>태연</td>\n      <td>3700</td>\n      <td>3</td>\n    </tr>\n    <tr>\n      <th>11</th>\n      <td>차은우</td>\n      <td>3850</td>\n      <td>5</td>\n    </tr>\n    <tr>\n      <th>12</th>\n      <td>백호</td>\n      <td>3900</td>\n      <td>4</td>\n    </tr>\n    <tr>\n      <th>13</th>\n      <td>JR</td>\n      <td>4100</td>\n      <td>3</td>\n    </tr>\n    <tr>\n      <th>14</th>\n      <td>슈가</td>\n      <td>4150</td>\n      <td>3</td>\n    </tr>\n  </tbody>\n</table>\n</div>"
     },
     "metadata": {},
     "execution_count": 31
    }
   ],
   "source": [
    "df_right"
   ]
  },
  {
   "cell_type": "code",
   "execution_count": 32,
   "metadata": {},
   "outputs": [],
   "source": [
    "df_right = df_right.reset_index(drop=True)"
   ]
  },
  {
   "cell_type": "code",
   "execution_count": 33,
   "metadata": {},
   "outputs": [
    {
     "output_type": "execute_result",
     "data": {
      "text/plain": [
       "     이름    연봉  가족수\n",
       "0    지민  3000    3\n",
       "1  강다니엘  3200    4\n",
       "2    화사  4300    3\n",
       "3    민현  3400    6\n",
       "4     진  4200    4\n",
       "5    태연  3700    3\n",
       "6   차은우  3850    5\n",
       "7    백호  3900    4\n",
       "8    JR  4100    3\n",
       "9    슈가  4150    3"
      ],
      "text/html": "<div>\n<style scoped>\n    .dataframe tbody tr th:only-of-type {\n        vertical-align: middle;\n    }\n\n    .dataframe tbody tr th {\n        vertical-align: top;\n    }\n\n    .dataframe thead th {\n        text-align: right;\n    }\n</style>\n<table border=\"1\" class=\"dataframe\">\n  <thead>\n    <tr style=\"text-align: right;\">\n      <th></th>\n      <th>이름</th>\n      <th>연봉</th>\n      <th>가족수</th>\n    </tr>\n  </thead>\n  <tbody>\n    <tr>\n      <th>0</th>\n      <td>지민</td>\n      <td>3000</td>\n      <td>3</td>\n    </tr>\n    <tr>\n      <th>1</th>\n      <td>강다니엘</td>\n      <td>3200</td>\n      <td>4</td>\n    </tr>\n    <tr>\n      <th>2</th>\n      <td>화사</td>\n      <td>4300</td>\n      <td>3</td>\n    </tr>\n    <tr>\n      <th>3</th>\n      <td>민현</td>\n      <td>3400</td>\n      <td>6</td>\n    </tr>\n    <tr>\n      <th>4</th>\n      <td>진</td>\n      <td>4200</td>\n      <td>4</td>\n    </tr>\n    <tr>\n      <th>5</th>\n      <td>태연</td>\n      <td>3700</td>\n      <td>3</td>\n    </tr>\n    <tr>\n      <th>6</th>\n      <td>차은우</td>\n      <td>3850</td>\n      <td>5</td>\n    </tr>\n    <tr>\n      <th>7</th>\n      <td>백호</td>\n      <td>3900</td>\n      <td>4</td>\n    </tr>\n    <tr>\n      <th>8</th>\n      <td>JR</td>\n      <td>4100</td>\n      <td>3</td>\n    </tr>\n    <tr>\n      <th>9</th>\n      <td>슈가</td>\n      <td>4150</td>\n      <td>3</td>\n    </tr>\n  </tbody>\n</table>\n</div>"
     },
     "metadata": {},
     "execution_count": 33
    }
   ],
   "source": [
    "df_right"
   ]
  },
  {
   "cell_type": "code",
   "execution_count": 34,
   "metadata": {},
   "outputs": [
    {
     "output_type": "execute_result",
     "data": {
      "text/plain": [
       "      이름     그룹      소속사  성별        생년월일      키 혈액형   브랜드평판지수      연봉  가족수\n",
       "0     지민  방탄소년단      빅히트  남자  1995-10-13  173.6   A  10523260  3000.0  3.0\n",
       "1   지드래곤     빅뱅       YG  남자  1988-08-18  177.0   A   9916947     NaN  NaN\n",
       "2   강다니엘    NaN      커넥트  남자  1996-12-10  180.0   A   8273745  3200.0  4.0\n",
       "3      뷔  방탄소년단      빅히트  남자  1995-12-30  178.0  AB   8073501     NaN  NaN\n",
       "4     화사    마마무      RBW  여자  1995-07-23  162.1   A   7650928  4300.0  3.0\n",
       "5     정국  방탄소년단      빅히트  남자  1997-09-01  178.0   A   5208335     NaN  NaN\n",
       "6     민현   뉴이스트     플레디스  남자  1995-08-09  182.3   O   4989792  3400.0  6.0\n",
       "7     소연    아이들       큐브  여자  1998-08-26    NaN   B   4668615     NaN  NaN\n",
       "8      진  방탄소년단      빅히트  남자  1992-12-04  179.2   O   4570308  4200.0  4.0\n",
       "9    하성운     핫샷  스타크루이엔티  남자  1994-03-22  167.1   A   4036489     NaN  NaN\n",
       "10    태연   소녀시대       SM  여자  1989-03-09    NaN   A   3918661  3700.0  3.0\n",
       "11   차은우   아스트로     판타지오  남자  1997-03-30  183.0   B   3506027  3850.0  5.0\n",
       "12    백호   뉴이스트     플레디스  남자  1995-07-21  175.0  AB   3301654  3900.0  4.0\n",
       "13    JR   뉴이스트     플레디스  남자  1995-06-08  176.0   O   3274137  4100.0  3.0\n",
       "14    슈가  방탄소년단      빅히트  남자  1993-03-09  174.0   O   2925442  4150.0  3.0"
      ],
      "text/html": "<div>\n<style scoped>\n    .dataframe tbody tr th:only-of-type {\n        vertical-align: middle;\n    }\n\n    .dataframe tbody tr th {\n        vertical-align: top;\n    }\n\n    .dataframe thead th {\n        text-align: right;\n    }\n</style>\n<table border=\"1\" class=\"dataframe\">\n  <thead>\n    <tr style=\"text-align: right;\">\n      <th></th>\n      <th>이름</th>\n      <th>그룹</th>\n      <th>소속사</th>\n      <th>성별</th>\n      <th>생년월일</th>\n      <th>키</th>\n      <th>혈액형</th>\n      <th>브랜드평판지수</th>\n      <th>연봉</th>\n      <th>가족수</th>\n    </tr>\n  </thead>\n  <tbody>\n    <tr>\n      <th>0</th>\n      <td>지민</td>\n      <td>방탄소년단</td>\n      <td>빅히트</td>\n      <td>남자</td>\n      <td>1995-10-13</td>\n      <td>173.6</td>\n      <td>A</td>\n      <td>10523260</td>\n      <td>3000.0</td>\n      <td>3.0</td>\n    </tr>\n    <tr>\n      <th>1</th>\n      <td>지드래곤</td>\n      <td>빅뱅</td>\n      <td>YG</td>\n      <td>남자</td>\n      <td>1988-08-18</td>\n      <td>177.0</td>\n      <td>A</td>\n      <td>9916947</td>\n      <td>NaN</td>\n      <td>NaN</td>\n    </tr>\n    <tr>\n      <th>2</th>\n      <td>강다니엘</td>\n      <td>NaN</td>\n      <td>커넥트</td>\n      <td>남자</td>\n      <td>1996-12-10</td>\n      <td>180.0</td>\n      <td>A</td>\n      <td>8273745</td>\n      <td>3200.0</td>\n      <td>4.0</td>\n    </tr>\n    <tr>\n      <th>3</th>\n      <td>뷔</td>\n      <td>방탄소년단</td>\n      <td>빅히트</td>\n      <td>남자</td>\n      <td>1995-12-30</td>\n      <td>178.0</td>\n      <td>AB</td>\n      <td>8073501</td>\n      <td>NaN</td>\n      <td>NaN</td>\n    </tr>\n    <tr>\n      <th>4</th>\n      <td>화사</td>\n      <td>마마무</td>\n      <td>RBW</td>\n      <td>여자</td>\n      <td>1995-07-23</td>\n      <td>162.1</td>\n      <td>A</td>\n      <td>7650928</td>\n      <td>4300.0</td>\n      <td>3.0</td>\n    </tr>\n    <tr>\n      <th>5</th>\n      <td>정국</td>\n      <td>방탄소년단</td>\n      <td>빅히트</td>\n      <td>남자</td>\n      <td>1997-09-01</td>\n      <td>178.0</td>\n      <td>A</td>\n      <td>5208335</td>\n      <td>NaN</td>\n      <td>NaN</td>\n    </tr>\n    <tr>\n      <th>6</th>\n      <td>민현</td>\n      <td>뉴이스트</td>\n      <td>플레디스</td>\n      <td>남자</td>\n      <td>1995-08-09</td>\n      <td>182.3</td>\n      <td>O</td>\n      <td>4989792</td>\n      <td>3400.0</td>\n      <td>6.0</td>\n    </tr>\n    <tr>\n      <th>7</th>\n      <td>소연</td>\n      <td>아이들</td>\n      <td>큐브</td>\n      <td>여자</td>\n      <td>1998-08-26</td>\n      <td>NaN</td>\n      <td>B</td>\n      <td>4668615</td>\n      <td>NaN</td>\n      <td>NaN</td>\n    </tr>\n    <tr>\n      <th>8</th>\n      <td>진</td>\n      <td>방탄소년단</td>\n      <td>빅히트</td>\n      <td>남자</td>\n      <td>1992-12-04</td>\n      <td>179.2</td>\n      <td>O</td>\n      <td>4570308</td>\n      <td>4200.0</td>\n      <td>4.0</td>\n    </tr>\n    <tr>\n      <th>9</th>\n      <td>하성운</td>\n      <td>핫샷</td>\n      <td>스타크루이엔티</td>\n      <td>남자</td>\n      <td>1994-03-22</td>\n      <td>167.1</td>\n      <td>A</td>\n      <td>4036489</td>\n      <td>NaN</td>\n      <td>NaN</td>\n    </tr>\n    <tr>\n      <th>10</th>\n      <td>태연</td>\n      <td>소녀시대</td>\n      <td>SM</td>\n      <td>여자</td>\n      <td>1989-03-09</td>\n      <td>NaN</td>\n      <td>A</td>\n      <td>3918661</td>\n      <td>3700.0</td>\n      <td>3.0</td>\n    </tr>\n    <tr>\n      <th>11</th>\n      <td>차은우</td>\n      <td>아스트로</td>\n      <td>판타지오</td>\n      <td>남자</td>\n      <td>1997-03-30</td>\n      <td>183.0</td>\n      <td>B</td>\n      <td>3506027</td>\n      <td>3850.0</td>\n      <td>5.0</td>\n    </tr>\n    <tr>\n      <th>12</th>\n      <td>백호</td>\n      <td>뉴이스트</td>\n      <td>플레디스</td>\n      <td>남자</td>\n      <td>1995-07-21</td>\n      <td>175.0</td>\n      <td>AB</td>\n      <td>3301654</td>\n      <td>3900.0</td>\n      <td>4.0</td>\n    </tr>\n    <tr>\n      <th>13</th>\n      <td>JR</td>\n      <td>뉴이스트</td>\n      <td>플레디스</td>\n      <td>남자</td>\n      <td>1995-06-08</td>\n      <td>176.0</td>\n      <td>O</td>\n      <td>3274137</td>\n      <td>4100.0</td>\n      <td>3.0</td>\n    </tr>\n    <tr>\n      <th>14</th>\n      <td>슈가</td>\n      <td>방탄소년단</td>\n      <td>빅히트</td>\n      <td>남자</td>\n      <td>1993-03-09</td>\n      <td>174.0</td>\n      <td>O</td>\n      <td>2925442</td>\n      <td>4150.0</td>\n      <td>3.0</td>\n    </tr>\n  </tbody>\n</table>\n</div>"
     },
     "metadata": {},
     "execution_count": 34
    }
   ],
   "source": [
    "# merge left, right\n",
    "pd.merge(df,df_right, on=\"이름\", how=\"left\")"
   ]
  },
  {
   "cell_type": "code",
   "execution_count": 35,
   "metadata": {},
   "outputs": [
    {
     "output_type": "execute_result",
     "data": {
      "text/plain": [
       "     이름     그룹   소속사  성별        생년월일      키 혈액형   브랜드평판지수    연봉  가족수\n",
       "0    지민  방탄소년단   빅히트  남자  1995-10-13  173.6   A  10523260  3000    3\n",
       "1  강다니엘    NaN   커넥트  남자  1996-12-10  180.0   A   8273745  3200    4\n",
       "2    화사    마마무   RBW  여자  1995-07-23  162.1   A   7650928  4300    3\n",
       "3    민현   뉴이스트  플레디스  남자  1995-08-09  182.3   O   4989792  3400    6\n",
       "4     진  방탄소년단   빅히트  남자  1992-12-04  179.2   O   4570308  4200    4\n",
       "5    태연   소녀시대    SM  여자  1989-03-09    NaN   A   3918661  3700    3\n",
       "6   차은우   아스트로  판타지오  남자  1997-03-30  183.0   B   3506027  3850    5\n",
       "7    백호   뉴이스트  플레디스  남자  1995-07-21  175.0  AB   3301654  3900    4\n",
       "8    JR   뉴이스트  플레디스  남자  1995-06-08  176.0   O   3274137  4100    3\n",
       "9    슈가  방탄소년단   빅히트  남자  1993-03-09  174.0   O   2925442  4150    3"
      ],
      "text/html": "<div>\n<style scoped>\n    .dataframe tbody tr th:only-of-type {\n        vertical-align: middle;\n    }\n\n    .dataframe tbody tr th {\n        vertical-align: top;\n    }\n\n    .dataframe thead th {\n        text-align: right;\n    }\n</style>\n<table border=\"1\" class=\"dataframe\">\n  <thead>\n    <tr style=\"text-align: right;\">\n      <th></th>\n      <th>이름</th>\n      <th>그룹</th>\n      <th>소속사</th>\n      <th>성별</th>\n      <th>생년월일</th>\n      <th>키</th>\n      <th>혈액형</th>\n      <th>브랜드평판지수</th>\n      <th>연봉</th>\n      <th>가족수</th>\n    </tr>\n  </thead>\n  <tbody>\n    <tr>\n      <th>0</th>\n      <td>지민</td>\n      <td>방탄소년단</td>\n      <td>빅히트</td>\n      <td>남자</td>\n      <td>1995-10-13</td>\n      <td>173.6</td>\n      <td>A</td>\n      <td>10523260</td>\n      <td>3000</td>\n      <td>3</td>\n    </tr>\n    <tr>\n      <th>1</th>\n      <td>강다니엘</td>\n      <td>NaN</td>\n      <td>커넥트</td>\n      <td>남자</td>\n      <td>1996-12-10</td>\n      <td>180.0</td>\n      <td>A</td>\n      <td>8273745</td>\n      <td>3200</td>\n      <td>4</td>\n    </tr>\n    <tr>\n      <th>2</th>\n      <td>화사</td>\n      <td>마마무</td>\n      <td>RBW</td>\n      <td>여자</td>\n      <td>1995-07-23</td>\n      <td>162.1</td>\n      <td>A</td>\n      <td>7650928</td>\n      <td>4300</td>\n      <td>3</td>\n    </tr>\n    <tr>\n      <th>3</th>\n      <td>민현</td>\n      <td>뉴이스트</td>\n      <td>플레디스</td>\n      <td>남자</td>\n      <td>1995-08-09</td>\n      <td>182.3</td>\n      <td>O</td>\n      <td>4989792</td>\n      <td>3400</td>\n      <td>6</td>\n    </tr>\n    <tr>\n      <th>4</th>\n      <td>진</td>\n      <td>방탄소년단</td>\n      <td>빅히트</td>\n      <td>남자</td>\n      <td>1992-12-04</td>\n      <td>179.2</td>\n      <td>O</td>\n      <td>4570308</td>\n      <td>4200</td>\n      <td>4</td>\n    </tr>\n    <tr>\n      <th>5</th>\n      <td>태연</td>\n      <td>소녀시대</td>\n      <td>SM</td>\n      <td>여자</td>\n      <td>1989-03-09</td>\n      <td>NaN</td>\n      <td>A</td>\n      <td>3918661</td>\n      <td>3700</td>\n      <td>3</td>\n    </tr>\n    <tr>\n      <th>6</th>\n      <td>차은우</td>\n      <td>아스트로</td>\n      <td>판타지오</td>\n      <td>남자</td>\n      <td>1997-03-30</td>\n      <td>183.0</td>\n      <td>B</td>\n      <td>3506027</td>\n      <td>3850</td>\n      <td>5</td>\n    </tr>\n    <tr>\n      <th>7</th>\n      <td>백호</td>\n      <td>뉴이스트</td>\n      <td>플레디스</td>\n      <td>남자</td>\n      <td>1995-07-21</td>\n      <td>175.0</td>\n      <td>AB</td>\n      <td>3301654</td>\n      <td>3900</td>\n      <td>4</td>\n    </tr>\n    <tr>\n      <th>8</th>\n      <td>JR</td>\n      <td>뉴이스트</td>\n      <td>플레디스</td>\n      <td>남자</td>\n      <td>1995-06-08</td>\n      <td>176.0</td>\n      <td>O</td>\n      <td>3274137</td>\n      <td>4100</td>\n      <td>3</td>\n    </tr>\n    <tr>\n      <th>9</th>\n      <td>슈가</td>\n      <td>방탄소년단</td>\n      <td>빅히트</td>\n      <td>남자</td>\n      <td>1993-03-09</td>\n      <td>174.0</td>\n      <td>O</td>\n      <td>2925442</td>\n      <td>4150</td>\n      <td>3</td>\n    </tr>\n  </tbody>\n</table>\n</div>"
     },
     "metadata": {},
     "execution_count": 35
    }
   ],
   "source": [
    "pd.merge(df,df_right, on=\"이름\", how=\"right\")"
   ]
  },
  {
   "cell_type": "code",
   "execution_count": null,
   "metadata": {},
   "outputs": [],
   "source": [
    "# merge inner, outer\n",
    "#   - inner : number of whole value has to same between it\n",
    "#   - outer : just need one side of number of value "
   ]
  },
  {
   "cell_type": "code",
   "execution_count": 36,
   "metadata": {},
   "outputs": [],
   "source": [
    "df_left = df.drop([0,4],axis=0)"
   ]
  },
  {
   "cell_type": "code",
   "execution_count": 39,
   "metadata": {},
   "outputs": [
    {
     "output_type": "execute_result",
     "data": {
      "text/plain": [
       "      이름     그룹      소속사  성별        생년월일      키 혈액형  브랜드평판지수\n",
       "0   지드래곤     빅뱅       YG  남자  1988-08-18  177.0   A  9916947\n",
       "1   강다니엘    NaN      커넥트  남자  1996-12-10  180.0   A  8273745\n",
       "2      뷔  방탄소년단      빅히트  남자  1995-12-30  178.0  AB  8073501\n",
       "3     정국  방탄소년단      빅히트  남자  1997-09-01  178.0   A  5208335\n",
       "4     민현   뉴이스트     플레디스  남자  1995-08-09  182.3   O  4989792\n",
       "5     소연    아이들       큐브  여자  1998-08-26    NaN   B  4668615\n",
       "6      진  방탄소년단      빅히트  남자  1992-12-04  179.2   O  4570308\n",
       "7    하성운     핫샷  스타크루이엔티  남자  1994-03-22  167.1   A  4036489\n",
       "8     태연   소녀시대       SM  여자  1989-03-09    NaN   A  3918661\n",
       "9    차은우   아스트로     판타지오  남자  1997-03-30  183.0   B  3506027\n",
       "10    백호   뉴이스트     플레디스  남자  1995-07-21  175.0  AB  3301654\n",
       "11    JR   뉴이스트     플레디스  남자  1995-06-08  176.0   O  3274137\n",
       "12    슈가  방탄소년단      빅히트  남자  1993-03-09  174.0   O  2925442"
      ],
      "text/html": "<div>\n<style scoped>\n    .dataframe tbody tr th:only-of-type {\n        vertical-align: middle;\n    }\n\n    .dataframe tbody tr th {\n        vertical-align: top;\n    }\n\n    .dataframe thead th {\n        text-align: right;\n    }\n</style>\n<table border=\"1\" class=\"dataframe\">\n  <thead>\n    <tr style=\"text-align: right;\">\n      <th></th>\n      <th>이름</th>\n      <th>그룹</th>\n      <th>소속사</th>\n      <th>성별</th>\n      <th>생년월일</th>\n      <th>키</th>\n      <th>혈액형</th>\n      <th>브랜드평판지수</th>\n    </tr>\n  </thead>\n  <tbody>\n    <tr>\n      <th>0</th>\n      <td>지드래곤</td>\n      <td>빅뱅</td>\n      <td>YG</td>\n      <td>남자</td>\n      <td>1988-08-18</td>\n      <td>177.0</td>\n      <td>A</td>\n      <td>9916947</td>\n    </tr>\n    <tr>\n      <th>1</th>\n      <td>강다니엘</td>\n      <td>NaN</td>\n      <td>커넥트</td>\n      <td>남자</td>\n      <td>1996-12-10</td>\n      <td>180.0</td>\n      <td>A</td>\n      <td>8273745</td>\n    </tr>\n    <tr>\n      <th>2</th>\n      <td>뷔</td>\n      <td>방탄소년단</td>\n      <td>빅히트</td>\n      <td>남자</td>\n      <td>1995-12-30</td>\n      <td>178.0</td>\n      <td>AB</td>\n      <td>8073501</td>\n    </tr>\n    <tr>\n      <th>3</th>\n      <td>정국</td>\n      <td>방탄소년단</td>\n      <td>빅히트</td>\n      <td>남자</td>\n      <td>1997-09-01</td>\n      <td>178.0</td>\n      <td>A</td>\n      <td>5208335</td>\n    </tr>\n    <tr>\n      <th>4</th>\n      <td>민현</td>\n      <td>뉴이스트</td>\n      <td>플레디스</td>\n      <td>남자</td>\n      <td>1995-08-09</td>\n      <td>182.3</td>\n      <td>O</td>\n      <td>4989792</td>\n    </tr>\n    <tr>\n      <th>5</th>\n      <td>소연</td>\n      <td>아이들</td>\n      <td>큐브</td>\n      <td>여자</td>\n      <td>1998-08-26</td>\n      <td>NaN</td>\n      <td>B</td>\n      <td>4668615</td>\n    </tr>\n    <tr>\n      <th>6</th>\n      <td>진</td>\n      <td>방탄소년단</td>\n      <td>빅히트</td>\n      <td>남자</td>\n      <td>1992-12-04</td>\n      <td>179.2</td>\n      <td>O</td>\n      <td>4570308</td>\n    </tr>\n    <tr>\n      <th>7</th>\n      <td>하성운</td>\n      <td>핫샷</td>\n      <td>스타크루이엔티</td>\n      <td>남자</td>\n      <td>1994-03-22</td>\n      <td>167.1</td>\n      <td>A</td>\n      <td>4036489</td>\n    </tr>\n    <tr>\n      <th>8</th>\n      <td>태연</td>\n      <td>소녀시대</td>\n      <td>SM</td>\n      <td>여자</td>\n      <td>1989-03-09</td>\n      <td>NaN</td>\n      <td>A</td>\n      <td>3918661</td>\n    </tr>\n    <tr>\n      <th>9</th>\n      <td>차은우</td>\n      <td>아스트로</td>\n      <td>판타지오</td>\n      <td>남자</td>\n      <td>1997-03-30</td>\n      <td>183.0</td>\n      <td>B</td>\n      <td>3506027</td>\n    </tr>\n    <tr>\n      <th>10</th>\n      <td>백호</td>\n      <td>뉴이스트</td>\n      <td>플레디스</td>\n      <td>남자</td>\n      <td>1995-07-21</td>\n      <td>175.0</td>\n      <td>AB</td>\n      <td>3301654</td>\n    </tr>\n    <tr>\n      <th>11</th>\n      <td>JR</td>\n      <td>뉴이스트</td>\n      <td>플레디스</td>\n      <td>남자</td>\n      <td>1995-06-08</td>\n      <td>176.0</td>\n      <td>O</td>\n      <td>3274137</td>\n    </tr>\n    <tr>\n      <th>12</th>\n      <td>슈가</td>\n      <td>방탄소년단</td>\n      <td>빅히트</td>\n      <td>남자</td>\n      <td>1993-03-09</td>\n      <td>174.0</td>\n      <td>O</td>\n      <td>2925442</td>\n    </tr>\n  </tbody>\n</table>\n</div>"
     },
     "metadata": {},
     "execution_count": 39
    }
   ],
   "source": [
    "df_left.reset_index(drop=True)"
   ]
  },
  {
   "cell_type": "code",
   "execution_count": 42,
   "metadata": {},
   "outputs": [
    {
     "output_type": "execute_result",
     "data": {
      "text/plain": [
       "     이름     그룹   소속사  성별        생년월일      키 혈액형  브랜드평판지수    연봉  가족수\n",
       "0  강다니엘    NaN   커넥트  남자  1996-12-10  180.0   A  8273745  3200    4\n",
       "1    민현   뉴이스트  플레디스  남자  1995-08-09  182.3   O  4989792  3400    6\n",
       "2     진  방탄소년단   빅히트  남자  1992-12-04  179.2   O  4570308  4200    4\n",
       "3    태연   소녀시대    SM  여자  1989-03-09    NaN   A  3918661  3700    3\n",
       "4   차은우   아스트로  판타지오  남자  1997-03-30  183.0   B  3506027  3850    5\n",
       "5    백호   뉴이스트  플레디스  남자  1995-07-21  175.0  AB  3301654  3900    4\n",
       "6    JR   뉴이스트  플레디스  남자  1995-06-08  176.0   O  3274137  4100    3\n",
       "7    슈가  방탄소년단   빅히트  남자  1993-03-09  174.0   O  2925442  4150    3"
      ],
      "text/html": "<div>\n<style scoped>\n    .dataframe tbody tr th:only-of-type {\n        vertical-align: middle;\n    }\n\n    .dataframe tbody tr th {\n        vertical-align: top;\n    }\n\n    .dataframe thead th {\n        text-align: right;\n    }\n</style>\n<table border=\"1\" class=\"dataframe\">\n  <thead>\n    <tr style=\"text-align: right;\">\n      <th></th>\n      <th>이름</th>\n      <th>그룹</th>\n      <th>소속사</th>\n      <th>성별</th>\n      <th>생년월일</th>\n      <th>키</th>\n      <th>혈액형</th>\n      <th>브랜드평판지수</th>\n      <th>연봉</th>\n      <th>가족수</th>\n    </tr>\n  </thead>\n  <tbody>\n    <tr>\n      <th>0</th>\n      <td>강다니엘</td>\n      <td>NaN</td>\n      <td>커넥트</td>\n      <td>남자</td>\n      <td>1996-12-10</td>\n      <td>180.0</td>\n      <td>A</td>\n      <td>8273745</td>\n      <td>3200</td>\n      <td>4</td>\n    </tr>\n    <tr>\n      <th>1</th>\n      <td>민현</td>\n      <td>뉴이스트</td>\n      <td>플레디스</td>\n      <td>남자</td>\n      <td>1995-08-09</td>\n      <td>182.3</td>\n      <td>O</td>\n      <td>4989792</td>\n      <td>3400</td>\n      <td>6</td>\n    </tr>\n    <tr>\n      <th>2</th>\n      <td>진</td>\n      <td>방탄소년단</td>\n      <td>빅히트</td>\n      <td>남자</td>\n      <td>1992-12-04</td>\n      <td>179.2</td>\n      <td>O</td>\n      <td>4570308</td>\n      <td>4200</td>\n      <td>4</td>\n    </tr>\n    <tr>\n      <th>3</th>\n      <td>태연</td>\n      <td>소녀시대</td>\n      <td>SM</td>\n      <td>여자</td>\n      <td>1989-03-09</td>\n      <td>NaN</td>\n      <td>A</td>\n      <td>3918661</td>\n      <td>3700</td>\n      <td>3</td>\n    </tr>\n    <tr>\n      <th>4</th>\n      <td>차은우</td>\n      <td>아스트로</td>\n      <td>판타지오</td>\n      <td>남자</td>\n      <td>1997-03-30</td>\n      <td>183.0</td>\n      <td>B</td>\n      <td>3506027</td>\n      <td>3850</td>\n      <td>5</td>\n    </tr>\n    <tr>\n      <th>5</th>\n      <td>백호</td>\n      <td>뉴이스트</td>\n      <td>플레디스</td>\n      <td>남자</td>\n      <td>1995-07-21</td>\n      <td>175.0</td>\n      <td>AB</td>\n      <td>3301654</td>\n      <td>3900</td>\n      <td>4</td>\n    </tr>\n    <tr>\n      <th>6</th>\n      <td>JR</td>\n      <td>뉴이스트</td>\n      <td>플레디스</td>\n      <td>남자</td>\n      <td>1995-06-08</td>\n      <td>176.0</td>\n      <td>O</td>\n      <td>3274137</td>\n      <td>4100</td>\n      <td>3</td>\n    </tr>\n    <tr>\n      <th>7</th>\n      <td>슈가</td>\n      <td>방탄소년단</td>\n      <td>빅히트</td>\n      <td>남자</td>\n      <td>1993-03-09</td>\n      <td>174.0</td>\n      <td>O</td>\n      <td>2925442</td>\n      <td>4150</td>\n      <td>3</td>\n    </tr>\n  </tbody>\n</table>\n</div>"
     },
     "metadata": {},
     "execution_count": 42
    }
   ],
   "source": [
    "# inner\n",
    "pd.merge(df_left,df_right, on=\"이름\", how=\"inner\")"
   ]
  },
  {
   "cell_type": "code",
   "execution_count": 43,
   "metadata": {},
   "outputs": [
    {
     "output_type": "execute_result",
     "data": {
      "text/plain": [
       "      이름     그룹      소속사   성별        생년월일      키  혈액형    브랜드평판지수      연봉  가족수\n",
       "0   지드래곤     빅뱅       YG   남자  1988-08-18  177.0    A  9916947.0     NaN  NaN\n",
       "1   강다니엘    NaN      커넥트   남자  1996-12-10  180.0    A  8273745.0  3200.0  4.0\n",
       "2      뷔  방탄소년단      빅히트   남자  1995-12-30  178.0   AB  8073501.0     NaN  NaN\n",
       "3     정국  방탄소년단      빅히트   남자  1997-09-01  178.0    A  5208335.0     NaN  NaN\n",
       "4     민현   뉴이스트     플레디스   남자  1995-08-09  182.3    O  4989792.0  3400.0  6.0\n",
       "5     소연    아이들       큐브   여자  1998-08-26    NaN    B  4668615.0     NaN  NaN\n",
       "6      진  방탄소년단      빅히트   남자  1992-12-04  179.2    O  4570308.0  4200.0  4.0\n",
       "7    하성운     핫샷  스타크루이엔티   남자  1994-03-22  167.1    A  4036489.0     NaN  NaN\n",
       "8     태연   소녀시대       SM   여자  1989-03-09    NaN    A  3918661.0  3700.0  3.0\n",
       "9    차은우   아스트로     판타지오   남자  1997-03-30  183.0    B  3506027.0  3850.0  5.0\n",
       "10    백호   뉴이스트     플레디스   남자  1995-07-21  175.0   AB  3301654.0  3900.0  4.0\n",
       "11    JR   뉴이스트     플레디스   남자  1995-06-08  176.0    O  3274137.0  4100.0  3.0\n",
       "12    슈가  방탄소년단      빅히트   남자  1993-03-09  174.0    O  2925442.0  4150.0  3.0\n",
       "13    지민    NaN      NaN  NaN         NaN    NaN  NaN        NaN  3000.0  3.0\n",
       "14    화사    NaN      NaN  NaN         NaN    NaN  NaN        NaN  4300.0  3.0"
      ],
      "text/html": "<div>\n<style scoped>\n    .dataframe tbody tr th:only-of-type {\n        vertical-align: middle;\n    }\n\n    .dataframe tbody tr th {\n        vertical-align: top;\n    }\n\n    .dataframe thead th {\n        text-align: right;\n    }\n</style>\n<table border=\"1\" class=\"dataframe\">\n  <thead>\n    <tr style=\"text-align: right;\">\n      <th></th>\n      <th>이름</th>\n      <th>그룹</th>\n      <th>소속사</th>\n      <th>성별</th>\n      <th>생년월일</th>\n      <th>키</th>\n      <th>혈액형</th>\n      <th>브랜드평판지수</th>\n      <th>연봉</th>\n      <th>가족수</th>\n    </tr>\n  </thead>\n  <tbody>\n    <tr>\n      <th>0</th>\n      <td>지드래곤</td>\n      <td>빅뱅</td>\n      <td>YG</td>\n      <td>남자</td>\n      <td>1988-08-18</td>\n      <td>177.0</td>\n      <td>A</td>\n      <td>9916947.0</td>\n      <td>NaN</td>\n      <td>NaN</td>\n    </tr>\n    <tr>\n      <th>1</th>\n      <td>강다니엘</td>\n      <td>NaN</td>\n      <td>커넥트</td>\n      <td>남자</td>\n      <td>1996-12-10</td>\n      <td>180.0</td>\n      <td>A</td>\n      <td>8273745.0</td>\n      <td>3200.0</td>\n      <td>4.0</td>\n    </tr>\n    <tr>\n      <th>2</th>\n      <td>뷔</td>\n      <td>방탄소년단</td>\n      <td>빅히트</td>\n      <td>남자</td>\n      <td>1995-12-30</td>\n      <td>178.0</td>\n      <td>AB</td>\n      <td>8073501.0</td>\n      <td>NaN</td>\n      <td>NaN</td>\n    </tr>\n    <tr>\n      <th>3</th>\n      <td>정국</td>\n      <td>방탄소년단</td>\n      <td>빅히트</td>\n      <td>남자</td>\n      <td>1997-09-01</td>\n      <td>178.0</td>\n      <td>A</td>\n      <td>5208335.0</td>\n      <td>NaN</td>\n      <td>NaN</td>\n    </tr>\n    <tr>\n      <th>4</th>\n      <td>민현</td>\n      <td>뉴이스트</td>\n      <td>플레디스</td>\n      <td>남자</td>\n      <td>1995-08-09</td>\n      <td>182.3</td>\n      <td>O</td>\n      <td>4989792.0</td>\n      <td>3400.0</td>\n      <td>6.0</td>\n    </tr>\n    <tr>\n      <th>5</th>\n      <td>소연</td>\n      <td>아이들</td>\n      <td>큐브</td>\n      <td>여자</td>\n      <td>1998-08-26</td>\n      <td>NaN</td>\n      <td>B</td>\n      <td>4668615.0</td>\n      <td>NaN</td>\n      <td>NaN</td>\n    </tr>\n    <tr>\n      <th>6</th>\n      <td>진</td>\n      <td>방탄소년단</td>\n      <td>빅히트</td>\n      <td>남자</td>\n      <td>1992-12-04</td>\n      <td>179.2</td>\n      <td>O</td>\n      <td>4570308.0</td>\n      <td>4200.0</td>\n      <td>4.0</td>\n    </tr>\n    <tr>\n      <th>7</th>\n      <td>하성운</td>\n      <td>핫샷</td>\n      <td>스타크루이엔티</td>\n      <td>남자</td>\n      <td>1994-03-22</td>\n      <td>167.1</td>\n      <td>A</td>\n      <td>4036489.0</td>\n      <td>NaN</td>\n      <td>NaN</td>\n    </tr>\n    <tr>\n      <th>8</th>\n      <td>태연</td>\n      <td>소녀시대</td>\n      <td>SM</td>\n      <td>여자</td>\n      <td>1989-03-09</td>\n      <td>NaN</td>\n      <td>A</td>\n      <td>3918661.0</td>\n      <td>3700.0</td>\n      <td>3.0</td>\n    </tr>\n    <tr>\n      <th>9</th>\n      <td>차은우</td>\n      <td>아스트로</td>\n      <td>판타지오</td>\n      <td>남자</td>\n      <td>1997-03-30</td>\n      <td>183.0</td>\n      <td>B</td>\n      <td>3506027.0</td>\n      <td>3850.0</td>\n      <td>5.0</td>\n    </tr>\n    <tr>\n      <th>10</th>\n      <td>백호</td>\n      <td>뉴이스트</td>\n      <td>플레디스</td>\n      <td>남자</td>\n      <td>1995-07-21</td>\n      <td>175.0</td>\n      <td>AB</td>\n      <td>3301654.0</td>\n      <td>3900.0</td>\n      <td>4.0</td>\n    </tr>\n    <tr>\n      <th>11</th>\n      <td>JR</td>\n      <td>뉴이스트</td>\n      <td>플레디스</td>\n      <td>남자</td>\n      <td>1995-06-08</td>\n      <td>176.0</td>\n      <td>O</td>\n      <td>3274137.0</td>\n      <td>4100.0</td>\n      <td>3.0</td>\n    </tr>\n    <tr>\n      <th>12</th>\n      <td>슈가</td>\n      <td>방탄소년단</td>\n      <td>빅히트</td>\n      <td>남자</td>\n      <td>1993-03-09</td>\n      <td>174.0</td>\n      <td>O</td>\n      <td>2925442.0</td>\n      <td>4150.0</td>\n      <td>3.0</td>\n    </tr>\n    <tr>\n      <th>13</th>\n      <td>지민</td>\n      <td>NaN</td>\n      <td>NaN</td>\n      <td>NaN</td>\n      <td>NaN</td>\n      <td>NaN</td>\n      <td>NaN</td>\n      <td>NaN</td>\n      <td>3000.0</td>\n      <td>3.0</td>\n    </tr>\n    <tr>\n      <th>14</th>\n      <td>화사</td>\n      <td>NaN</td>\n      <td>NaN</td>\n      <td>NaN</td>\n      <td>NaN</td>\n      <td>NaN</td>\n      <td>NaN</td>\n      <td>NaN</td>\n      <td>4300.0</td>\n      <td>3.0</td>\n    </tr>\n  </tbody>\n</table>\n</div>"
     },
     "metadata": {},
     "execution_count": 43
    }
   ],
   "source": [
    "# outer\n",
    "pd.merge(df_left,df_right, on=\"이름\", how=\"outer\")"
   ]
  },
  {
   "cell_type": "code",
   "execution_count": 44,
   "metadata": {},
   "outputs": [
    {
     "output_type": "execute_result",
     "data": {
      "text/plain": [
       "      이름     그룹      소속사  성별        생년월일      키 혈액형   브랜드평판지수\n",
       "0     지민  방탄소년단      빅히트  남자  1995-10-13  173.6   A  10523260\n",
       "1   지드래곤     빅뱅       YG  남자  1988-08-18  177.0   A   9916947\n",
       "2   강다니엘    NaN      커넥트  남자  1996-12-10  180.0   A   8273745\n",
       "3      뷔  방탄소년단      빅히트  남자  1995-12-30  178.0  AB   8073501\n",
       "4     화사    마마무      RBW  여자  1995-07-23  162.1   A   7650928\n",
       "5     정국  방탄소년단      빅히트  남자  1997-09-01  178.0   A   5208335\n",
       "6     민현   뉴이스트     플레디스  남자  1995-08-09  182.3   O   4989792\n",
       "7     소연    아이들       큐브  여자  1998-08-26    NaN   B   4668615\n",
       "8      진  방탄소년단      빅히트  남자  1992-12-04  179.2   O   4570308\n",
       "9    하성운     핫샷  스타크루이엔티  남자  1994-03-22  167.1   A   4036489\n",
       "10    태연   소녀시대       SM  여자  1989-03-09    NaN   A   3918661\n",
       "11   차은우   아스트로     판타지오  남자  1997-03-30  183.0   B   3506027\n",
       "12    백호   뉴이스트     플레디스  남자  1995-07-21  175.0  AB   3301654\n",
       "13    JR   뉴이스트     플레디스  남자  1995-06-08  176.0   O   3274137\n",
       "14    슈가  방탄소년단      빅히트  남자  1993-03-09  174.0   O   2925442"
      ],
      "text/html": "<div>\n<style scoped>\n    .dataframe tbody tr th:only-of-type {\n        vertical-align: middle;\n    }\n\n    .dataframe tbody tr th {\n        vertical-align: top;\n    }\n\n    .dataframe thead th {\n        text-align: right;\n    }\n</style>\n<table border=\"1\" class=\"dataframe\">\n  <thead>\n    <tr style=\"text-align: right;\">\n      <th></th>\n      <th>이름</th>\n      <th>그룹</th>\n      <th>소속사</th>\n      <th>성별</th>\n      <th>생년월일</th>\n      <th>키</th>\n      <th>혈액형</th>\n      <th>브랜드평판지수</th>\n    </tr>\n  </thead>\n  <tbody>\n    <tr>\n      <th>0</th>\n      <td>지민</td>\n      <td>방탄소년단</td>\n      <td>빅히트</td>\n      <td>남자</td>\n      <td>1995-10-13</td>\n      <td>173.6</td>\n      <td>A</td>\n      <td>10523260</td>\n    </tr>\n    <tr>\n      <th>1</th>\n      <td>지드래곤</td>\n      <td>빅뱅</td>\n      <td>YG</td>\n      <td>남자</td>\n      <td>1988-08-18</td>\n      <td>177.0</td>\n      <td>A</td>\n      <td>9916947</td>\n    </tr>\n    <tr>\n      <th>2</th>\n      <td>강다니엘</td>\n      <td>NaN</td>\n      <td>커넥트</td>\n      <td>남자</td>\n      <td>1996-12-10</td>\n      <td>180.0</td>\n      <td>A</td>\n      <td>8273745</td>\n    </tr>\n    <tr>\n      <th>3</th>\n      <td>뷔</td>\n      <td>방탄소년단</td>\n      <td>빅히트</td>\n      <td>남자</td>\n      <td>1995-12-30</td>\n      <td>178.0</td>\n      <td>AB</td>\n      <td>8073501</td>\n    </tr>\n    <tr>\n      <th>4</th>\n      <td>화사</td>\n      <td>마마무</td>\n      <td>RBW</td>\n      <td>여자</td>\n      <td>1995-07-23</td>\n      <td>162.1</td>\n      <td>A</td>\n      <td>7650928</td>\n    </tr>\n    <tr>\n      <th>5</th>\n      <td>정국</td>\n      <td>방탄소년단</td>\n      <td>빅히트</td>\n      <td>남자</td>\n      <td>1997-09-01</td>\n      <td>178.0</td>\n      <td>A</td>\n      <td>5208335</td>\n    </tr>\n    <tr>\n      <th>6</th>\n      <td>민현</td>\n      <td>뉴이스트</td>\n      <td>플레디스</td>\n      <td>남자</td>\n      <td>1995-08-09</td>\n      <td>182.3</td>\n      <td>O</td>\n      <td>4989792</td>\n    </tr>\n    <tr>\n      <th>7</th>\n      <td>소연</td>\n      <td>아이들</td>\n      <td>큐브</td>\n      <td>여자</td>\n      <td>1998-08-26</td>\n      <td>NaN</td>\n      <td>B</td>\n      <td>4668615</td>\n    </tr>\n    <tr>\n      <th>8</th>\n      <td>진</td>\n      <td>방탄소년단</td>\n      <td>빅히트</td>\n      <td>남자</td>\n      <td>1992-12-04</td>\n      <td>179.2</td>\n      <td>O</td>\n      <td>4570308</td>\n    </tr>\n    <tr>\n      <th>9</th>\n      <td>하성운</td>\n      <td>핫샷</td>\n      <td>스타크루이엔티</td>\n      <td>남자</td>\n      <td>1994-03-22</td>\n      <td>167.1</td>\n      <td>A</td>\n      <td>4036489</td>\n    </tr>\n    <tr>\n      <th>10</th>\n      <td>태연</td>\n      <td>소녀시대</td>\n      <td>SM</td>\n      <td>여자</td>\n      <td>1989-03-09</td>\n      <td>NaN</td>\n      <td>A</td>\n      <td>3918661</td>\n    </tr>\n    <tr>\n      <th>11</th>\n      <td>차은우</td>\n      <td>아스트로</td>\n      <td>판타지오</td>\n      <td>남자</td>\n      <td>1997-03-30</td>\n      <td>183.0</td>\n      <td>B</td>\n      <td>3506027</td>\n    </tr>\n    <tr>\n      <th>12</th>\n      <td>백호</td>\n      <td>뉴이스트</td>\n      <td>플레디스</td>\n      <td>남자</td>\n      <td>1995-07-21</td>\n      <td>175.0</td>\n      <td>AB</td>\n      <td>3301654</td>\n    </tr>\n    <tr>\n      <th>13</th>\n      <td>JR</td>\n      <td>뉴이스트</td>\n      <td>플레디스</td>\n      <td>남자</td>\n      <td>1995-06-08</td>\n      <td>176.0</td>\n      <td>O</td>\n      <td>3274137</td>\n    </tr>\n    <tr>\n      <th>14</th>\n      <td>슈가</td>\n      <td>방탄소년단</td>\n      <td>빅히트</td>\n      <td>남자</td>\n      <td>1993-03-09</td>\n      <td>174.0</td>\n      <td>O</td>\n      <td>2925442</td>\n    </tr>\n  </tbody>\n</table>\n</div>"
     },
     "metadata": {},
     "execution_count": 44
    }
   ],
   "source": [
    "df"
   ]
  },
  {
   "cell_type": "code",
   "execution_count": 47,
   "metadata": {},
   "outputs": [
    {
     "output_type": "execute_result",
     "data": {
      "text/plain": [
       "     성함    연봉  가족수\n",
       "0    지민  3000    3\n",
       "1  강다니엘  3200    4\n",
       "2    화사  4300    3\n",
       "3    민현  3400    6\n",
       "4     진  4200    4\n",
       "5    태연  3700    3\n",
       "6   차은우  3850    5\n",
       "7    백호  3900    4\n",
       "8    JR  4100    3\n",
       "9    슈가  4150    3"
      ],
      "text/html": "<div>\n<style scoped>\n    .dataframe tbody tr th:only-of-type {\n        vertical-align: middle;\n    }\n\n    .dataframe tbody tr th {\n        vertical-align: top;\n    }\n\n    .dataframe thead th {\n        text-align: right;\n    }\n</style>\n<table border=\"1\" class=\"dataframe\">\n  <thead>\n    <tr style=\"text-align: right;\">\n      <th></th>\n      <th>성함</th>\n      <th>연봉</th>\n      <th>가족수</th>\n    </tr>\n  </thead>\n  <tbody>\n    <tr>\n      <th>0</th>\n      <td>지민</td>\n      <td>3000</td>\n      <td>3</td>\n    </tr>\n    <tr>\n      <th>1</th>\n      <td>강다니엘</td>\n      <td>3200</td>\n      <td>4</td>\n    </tr>\n    <tr>\n      <th>2</th>\n      <td>화사</td>\n      <td>4300</td>\n      <td>3</td>\n    </tr>\n    <tr>\n      <th>3</th>\n      <td>민현</td>\n      <td>3400</td>\n      <td>6</td>\n    </tr>\n    <tr>\n      <th>4</th>\n      <td>진</td>\n      <td>4200</td>\n      <td>4</td>\n    </tr>\n    <tr>\n      <th>5</th>\n      <td>태연</td>\n      <td>3700</td>\n      <td>3</td>\n    </tr>\n    <tr>\n      <th>6</th>\n      <td>차은우</td>\n      <td>3850</td>\n      <td>5</td>\n    </tr>\n    <tr>\n      <th>7</th>\n      <td>백호</td>\n      <td>3900</td>\n      <td>4</td>\n    </tr>\n    <tr>\n      <th>8</th>\n      <td>JR</td>\n      <td>4100</td>\n      <td>3</td>\n    </tr>\n    <tr>\n      <th>9</th>\n      <td>슈가</td>\n      <td>4150</td>\n      <td>3</td>\n    </tr>\n  </tbody>\n</table>\n</div>"
     },
     "metadata": {},
     "execution_count": 47
    }
   ],
   "source": [
    "df_right.columns = [\"성함\",\"연봉\",\"가족수\"]\n",
    "df_right"
   ]
  },
  {
   "cell_type": "code",
   "execution_count": 48,
   "metadata": {},
   "outputs": [
    {
     "output_type": "execute_result",
     "data": {
      "text/plain": [
       "      이름     그룹      소속사  성별        생년월일      키 혈액형   브랜드평판지수    성함      연봉  \\\n",
       "0     지민  방탄소년단      빅히트  남자  1995-10-13  173.6   A  10523260    지민  3000.0   \n",
       "1   지드래곤     빅뱅       YG  남자  1988-08-18  177.0   A   9916947   NaN     NaN   \n",
       "2   강다니엘    NaN      커넥트  남자  1996-12-10  180.0   A   8273745  강다니엘  3200.0   \n",
       "3      뷔  방탄소년단      빅히트  남자  1995-12-30  178.0  AB   8073501   NaN     NaN   \n",
       "4     화사    마마무      RBW  여자  1995-07-23  162.1   A   7650928    화사  4300.0   \n",
       "5     정국  방탄소년단      빅히트  남자  1997-09-01  178.0   A   5208335   NaN     NaN   \n",
       "6     민현   뉴이스트     플레디스  남자  1995-08-09  182.3   O   4989792    민현  3400.0   \n",
       "7     소연    아이들       큐브  여자  1998-08-26    NaN   B   4668615   NaN     NaN   \n",
       "8      진  방탄소년단      빅히트  남자  1992-12-04  179.2   O   4570308     진  4200.0   \n",
       "9    하성운     핫샷  스타크루이엔티  남자  1994-03-22  167.1   A   4036489   NaN     NaN   \n",
       "10    태연   소녀시대       SM  여자  1989-03-09    NaN   A   3918661    태연  3700.0   \n",
       "11   차은우   아스트로     판타지오  남자  1997-03-30  183.0   B   3506027   차은우  3850.0   \n",
       "12    백호   뉴이스트     플레디스  남자  1995-07-21  175.0  AB   3301654    백호  3900.0   \n",
       "13    JR   뉴이스트     플레디스  남자  1995-06-08  176.0   O   3274137    JR  4100.0   \n",
       "14    슈가  방탄소년단      빅히트  남자  1993-03-09  174.0   O   2925442    슈가  4150.0   \n",
       "\n",
       "    가족수  \n",
       "0   3.0  \n",
       "1   NaN  \n",
       "2   4.0  \n",
       "3   NaN  \n",
       "4   3.0  \n",
       "5   NaN  \n",
       "6   6.0  \n",
       "7   NaN  \n",
       "8   4.0  \n",
       "9   NaN  \n",
       "10  3.0  \n",
       "11  5.0  \n",
       "12  4.0  \n",
       "13  3.0  \n",
       "14  3.0  "
      ],
      "text/html": "<div>\n<style scoped>\n    .dataframe tbody tr th:only-of-type {\n        vertical-align: middle;\n    }\n\n    .dataframe tbody tr th {\n        vertical-align: top;\n    }\n\n    .dataframe thead th {\n        text-align: right;\n    }\n</style>\n<table border=\"1\" class=\"dataframe\">\n  <thead>\n    <tr style=\"text-align: right;\">\n      <th></th>\n      <th>이름</th>\n      <th>그룹</th>\n      <th>소속사</th>\n      <th>성별</th>\n      <th>생년월일</th>\n      <th>키</th>\n      <th>혈액형</th>\n      <th>브랜드평판지수</th>\n      <th>성함</th>\n      <th>연봉</th>\n      <th>가족수</th>\n    </tr>\n  </thead>\n  <tbody>\n    <tr>\n      <th>0</th>\n      <td>지민</td>\n      <td>방탄소년단</td>\n      <td>빅히트</td>\n      <td>남자</td>\n      <td>1995-10-13</td>\n      <td>173.6</td>\n      <td>A</td>\n      <td>10523260</td>\n      <td>지민</td>\n      <td>3000.0</td>\n      <td>3.0</td>\n    </tr>\n    <tr>\n      <th>1</th>\n      <td>지드래곤</td>\n      <td>빅뱅</td>\n      <td>YG</td>\n      <td>남자</td>\n      <td>1988-08-18</td>\n      <td>177.0</td>\n      <td>A</td>\n      <td>9916947</td>\n      <td>NaN</td>\n      <td>NaN</td>\n      <td>NaN</td>\n    </tr>\n    <tr>\n      <th>2</th>\n      <td>강다니엘</td>\n      <td>NaN</td>\n      <td>커넥트</td>\n      <td>남자</td>\n      <td>1996-12-10</td>\n      <td>180.0</td>\n      <td>A</td>\n      <td>8273745</td>\n      <td>강다니엘</td>\n      <td>3200.0</td>\n      <td>4.0</td>\n    </tr>\n    <tr>\n      <th>3</th>\n      <td>뷔</td>\n      <td>방탄소년단</td>\n      <td>빅히트</td>\n      <td>남자</td>\n      <td>1995-12-30</td>\n      <td>178.0</td>\n      <td>AB</td>\n      <td>8073501</td>\n      <td>NaN</td>\n      <td>NaN</td>\n      <td>NaN</td>\n    </tr>\n    <tr>\n      <th>4</th>\n      <td>화사</td>\n      <td>마마무</td>\n      <td>RBW</td>\n      <td>여자</td>\n      <td>1995-07-23</td>\n      <td>162.1</td>\n      <td>A</td>\n      <td>7650928</td>\n      <td>화사</td>\n      <td>4300.0</td>\n      <td>3.0</td>\n    </tr>\n    <tr>\n      <th>5</th>\n      <td>정국</td>\n      <td>방탄소년단</td>\n      <td>빅히트</td>\n      <td>남자</td>\n      <td>1997-09-01</td>\n      <td>178.0</td>\n      <td>A</td>\n      <td>5208335</td>\n      <td>NaN</td>\n      <td>NaN</td>\n      <td>NaN</td>\n    </tr>\n    <tr>\n      <th>6</th>\n      <td>민현</td>\n      <td>뉴이스트</td>\n      <td>플레디스</td>\n      <td>남자</td>\n      <td>1995-08-09</td>\n      <td>182.3</td>\n      <td>O</td>\n      <td>4989792</td>\n      <td>민현</td>\n      <td>3400.0</td>\n      <td>6.0</td>\n    </tr>\n    <tr>\n      <th>7</th>\n      <td>소연</td>\n      <td>아이들</td>\n      <td>큐브</td>\n      <td>여자</td>\n      <td>1998-08-26</td>\n      <td>NaN</td>\n      <td>B</td>\n      <td>4668615</td>\n      <td>NaN</td>\n      <td>NaN</td>\n      <td>NaN</td>\n    </tr>\n    <tr>\n      <th>8</th>\n      <td>진</td>\n      <td>방탄소년단</td>\n      <td>빅히트</td>\n      <td>남자</td>\n      <td>1992-12-04</td>\n      <td>179.2</td>\n      <td>O</td>\n      <td>4570308</td>\n      <td>진</td>\n      <td>4200.0</td>\n      <td>4.0</td>\n    </tr>\n    <tr>\n      <th>9</th>\n      <td>하성운</td>\n      <td>핫샷</td>\n      <td>스타크루이엔티</td>\n      <td>남자</td>\n      <td>1994-03-22</td>\n      <td>167.1</td>\n      <td>A</td>\n      <td>4036489</td>\n      <td>NaN</td>\n      <td>NaN</td>\n      <td>NaN</td>\n    </tr>\n    <tr>\n      <th>10</th>\n      <td>태연</td>\n      <td>소녀시대</td>\n      <td>SM</td>\n      <td>여자</td>\n      <td>1989-03-09</td>\n      <td>NaN</td>\n      <td>A</td>\n      <td>3918661</td>\n      <td>태연</td>\n      <td>3700.0</td>\n      <td>3.0</td>\n    </tr>\n    <tr>\n      <th>11</th>\n      <td>차은우</td>\n      <td>아스트로</td>\n      <td>판타지오</td>\n      <td>남자</td>\n      <td>1997-03-30</td>\n      <td>183.0</td>\n      <td>B</td>\n      <td>3506027</td>\n      <td>차은우</td>\n      <td>3850.0</td>\n      <td>5.0</td>\n    </tr>\n    <tr>\n      <th>12</th>\n      <td>백호</td>\n      <td>뉴이스트</td>\n      <td>플레디스</td>\n      <td>남자</td>\n      <td>1995-07-21</td>\n      <td>175.0</td>\n      <td>AB</td>\n      <td>3301654</td>\n      <td>백호</td>\n      <td>3900.0</td>\n      <td>4.0</td>\n    </tr>\n    <tr>\n      <th>13</th>\n      <td>JR</td>\n      <td>뉴이스트</td>\n      <td>플레디스</td>\n      <td>남자</td>\n      <td>1995-06-08</td>\n      <td>176.0</td>\n      <td>O</td>\n      <td>3274137</td>\n      <td>JR</td>\n      <td>4100.0</td>\n      <td>3.0</td>\n    </tr>\n    <tr>\n      <th>14</th>\n      <td>슈가</td>\n      <td>방탄소년단</td>\n      <td>빅히트</td>\n      <td>남자</td>\n      <td>1993-03-09</td>\n      <td>174.0</td>\n      <td>O</td>\n      <td>2925442</td>\n      <td>슈가</td>\n      <td>4150.0</td>\n      <td>3.0</td>\n    </tr>\n  </tbody>\n</table>\n</div>"
     },
     "metadata": {},
     "execution_count": 48
    }
   ],
   "source": [
    "pd.merge(df,df_right,left_on=\"이름\", right_on=\"성함\",how=\"outer\")"
   ]
  },
  {
   "source": [
    "## data type of DataFrame"
   ],
   "cell_type": "markdown",
   "metadata": {}
  },
  {
   "source": [
    "* object = string\n",
    "* float64 = 64bit of float\n",
    "* int64 = 64bit of integer\n",
    "* category = behind of\n",
    "* datetime = day and time"
   ],
   "cell_type": "markdown",
   "metadata": {}
  },
  {
   "cell_type": "code",
   "execution_count": 52,
   "metadata": {},
   "outputs": [
    {
     "output_type": "stream",
     "name": "stdout",
     "text": [
      "<class 'pandas.core.frame.DataFrame'>\nRangeIndex: 15 entries, 0 to 14\nData columns (total 8 columns):\n #   Column   Non-Null Count  Dtype  \n---  ------   --------------  -----  \n 0   이름       15 non-null     object \n 1   그룹       14 non-null     object \n 2   소속사      15 non-null     object \n 3   성별       15 non-null     object \n 4   생년월일     15 non-null     object \n 5   키        13 non-null     float64\n 6   혈액형      15 non-null     object \n 7   브랜드평판지수  15 non-null     int64  \ndtypes: float64(1), int64(1), object(6)\nmemory usage: 1.1+ KB\n"
     ]
    }
   ],
   "source": [
    "df.info()"
   ]
  },
  {
   "source": [
    "### transformation of data type : int, object\n",
    "    - astype()"
   ],
   "cell_type": "markdown",
   "metadata": {}
  },
  {
   "cell_type": "code",
   "execution_count": 53,
   "metadata": {},
   "outputs": [
    {
     "output_type": "execute_result",
     "data": {
      "text/plain": [
       "dtype('float64')"
      ]
     },
     "metadata": {},
     "execution_count": 53
    }
   ],
   "source": [
    "df[\"키\"].dtypes"
   ]
  },
  {
   "cell_type": "code",
   "execution_count": 54,
   "metadata": {},
   "outputs": [
    {
     "output_type": "error",
     "ename": "ValueError",
     "evalue": "Cannot convert non-finite values (NA or inf) to integer",
     "traceback": [
      "\u001b[0;31m---------------------------------------------------------------------------\u001b[0m",
      "\u001b[0;31mValueError\u001b[0m                                Traceback (most recent call last)",
      "\u001b[0;32m<ipython-input-54-c145a39acdb2>\u001b[0m in \u001b[0;36m<module>\u001b[0;34m\u001b[0m\n\u001b[0;32m----> 1\u001b[0;31m \u001b[0mdf\u001b[0m\u001b[0;34m[\u001b[0m\u001b[0;34m\"키\"\u001b[0m\u001b[0;34m]\u001b[0m\u001b[0;34m.\u001b[0m\u001b[0mastype\u001b[0m\u001b[0;34m(\u001b[0m\u001b[0mint\u001b[0m\u001b[0;34m)\u001b[0m\u001b[0;34m\u001b[0m\u001b[0;34m\u001b[0m\u001b[0m\n\u001b[0m",
      "\u001b[0;32m/Volumes/Geozedo60/opt/anaconda3/lib/python3.8/site-packages/pandas/core/generic.py\u001b[0m in \u001b[0;36mastype\u001b[0;34m(self, dtype, copy, errors)\u001b[0m\n\u001b[1;32m   5875\u001b[0m         \u001b[0;32melse\u001b[0m\u001b[0;34m:\u001b[0m\u001b[0;34m\u001b[0m\u001b[0;34m\u001b[0m\u001b[0m\n\u001b[1;32m   5876\u001b[0m             \u001b[0;31m# else, only a single dtype is given\u001b[0m\u001b[0;34m\u001b[0m\u001b[0;34m\u001b[0m\u001b[0;34m\u001b[0m\u001b[0m\n\u001b[0;32m-> 5877\u001b[0;31m             \u001b[0mnew_data\u001b[0m \u001b[0;34m=\u001b[0m \u001b[0mself\u001b[0m\u001b[0;34m.\u001b[0m\u001b[0m_mgr\u001b[0m\u001b[0;34m.\u001b[0m\u001b[0mastype\u001b[0m\u001b[0;34m(\u001b[0m\u001b[0mdtype\u001b[0m\u001b[0;34m=\u001b[0m\u001b[0mdtype\u001b[0m\u001b[0;34m,\u001b[0m \u001b[0mcopy\u001b[0m\u001b[0;34m=\u001b[0m\u001b[0mcopy\u001b[0m\u001b[0;34m,\u001b[0m \u001b[0merrors\u001b[0m\u001b[0;34m=\u001b[0m\u001b[0merrors\u001b[0m\u001b[0;34m)\u001b[0m\u001b[0;34m\u001b[0m\u001b[0;34m\u001b[0m\u001b[0m\n\u001b[0m\u001b[1;32m   5878\u001b[0m             \u001b[0;32mreturn\u001b[0m \u001b[0mself\u001b[0m\u001b[0;34m.\u001b[0m\u001b[0m_constructor\u001b[0m\u001b[0;34m(\u001b[0m\u001b[0mnew_data\u001b[0m\u001b[0;34m)\u001b[0m\u001b[0;34m.\u001b[0m\u001b[0m__finalize__\u001b[0m\u001b[0;34m(\u001b[0m\u001b[0mself\u001b[0m\u001b[0;34m,\u001b[0m \u001b[0mmethod\u001b[0m\u001b[0;34m=\u001b[0m\u001b[0;34m\"astype\"\u001b[0m\u001b[0;34m)\u001b[0m\u001b[0;34m\u001b[0m\u001b[0;34m\u001b[0m\u001b[0m\n\u001b[1;32m   5879\u001b[0m \u001b[0;34m\u001b[0m\u001b[0m\n",
      "\u001b[0;32m/Volumes/Geozedo60/opt/anaconda3/lib/python3.8/site-packages/pandas/core/internals/managers.py\u001b[0m in \u001b[0;36mastype\u001b[0;34m(self, dtype, copy, errors)\u001b[0m\n\u001b[1;32m    629\u001b[0m         \u001b[0mself\u001b[0m\u001b[0;34m,\u001b[0m \u001b[0mdtype\u001b[0m\u001b[0;34m,\u001b[0m \u001b[0mcopy\u001b[0m\u001b[0;34m:\u001b[0m \u001b[0mbool\u001b[0m \u001b[0;34m=\u001b[0m \u001b[0;32mFalse\u001b[0m\u001b[0;34m,\u001b[0m \u001b[0merrors\u001b[0m\u001b[0;34m:\u001b[0m \u001b[0mstr\u001b[0m \u001b[0;34m=\u001b[0m \u001b[0;34m\"raise\"\u001b[0m\u001b[0;34m\u001b[0m\u001b[0;34m\u001b[0m\u001b[0m\n\u001b[1;32m    630\u001b[0m     ) -> \"BlockManager\":\n\u001b[0;32m--> 631\u001b[0;31m         \u001b[0;32mreturn\u001b[0m \u001b[0mself\u001b[0m\u001b[0;34m.\u001b[0m\u001b[0mapply\u001b[0m\u001b[0;34m(\u001b[0m\u001b[0;34m\"astype\"\u001b[0m\u001b[0;34m,\u001b[0m \u001b[0mdtype\u001b[0m\u001b[0;34m=\u001b[0m\u001b[0mdtype\u001b[0m\u001b[0;34m,\u001b[0m \u001b[0mcopy\u001b[0m\u001b[0;34m=\u001b[0m\u001b[0mcopy\u001b[0m\u001b[0;34m,\u001b[0m \u001b[0merrors\u001b[0m\u001b[0;34m=\u001b[0m\u001b[0merrors\u001b[0m\u001b[0;34m)\u001b[0m\u001b[0;34m\u001b[0m\u001b[0;34m\u001b[0m\u001b[0m\n\u001b[0m\u001b[1;32m    632\u001b[0m \u001b[0;34m\u001b[0m\u001b[0m\n\u001b[1;32m    633\u001b[0m     def convert(\n",
      "\u001b[0;32m/Volumes/Geozedo60/opt/anaconda3/lib/python3.8/site-packages/pandas/core/internals/managers.py\u001b[0m in \u001b[0;36mapply\u001b[0;34m(self, f, align_keys, ignore_failures, **kwargs)\u001b[0m\n\u001b[1;32m    425\u001b[0m                     \u001b[0mapplied\u001b[0m \u001b[0;34m=\u001b[0m \u001b[0mb\u001b[0m\u001b[0;34m.\u001b[0m\u001b[0mapply\u001b[0m\u001b[0;34m(\u001b[0m\u001b[0mf\u001b[0m\u001b[0;34m,\u001b[0m \u001b[0;34m**\u001b[0m\u001b[0mkwargs\u001b[0m\u001b[0;34m)\u001b[0m\u001b[0;34m\u001b[0m\u001b[0;34m\u001b[0m\u001b[0m\n\u001b[1;32m    426\u001b[0m                 \u001b[0;32melse\u001b[0m\u001b[0;34m:\u001b[0m\u001b[0;34m\u001b[0m\u001b[0;34m\u001b[0m\u001b[0m\n\u001b[0;32m--> 427\u001b[0;31m                     \u001b[0mapplied\u001b[0m \u001b[0;34m=\u001b[0m \u001b[0mgetattr\u001b[0m\u001b[0;34m(\u001b[0m\u001b[0mb\u001b[0m\u001b[0;34m,\u001b[0m \u001b[0mf\u001b[0m\u001b[0;34m)\u001b[0m\u001b[0;34m(\u001b[0m\u001b[0;34m**\u001b[0m\u001b[0mkwargs\u001b[0m\u001b[0;34m)\u001b[0m\u001b[0;34m\u001b[0m\u001b[0;34m\u001b[0m\u001b[0m\n\u001b[0m\u001b[1;32m    428\u001b[0m             \u001b[0;32mexcept\u001b[0m \u001b[0;34m(\u001b[0m\u001b[0mTypeError\u001b[0m\u001b[0;34m,\u001b[0m \u001b[0mNotImplementedError\u001b[0m\u001b[0;34m)\u001b[0m\u001b[0;34m:\u001b[0m\u001b[0;34m\u001b[0m\u001b[0;34m\u001b[0m\u001b[0m\n\u001b[1;32m    429\u001b[0m                 \u001b[0;32mif\u001b[0m \u001b[0;32mnot\u001b[0m \u001b[0mignore_failures\u001b[0m\u001b[0;34m:\u001b[0m\u001b[0;34m\u001b[0m\u001b[0;34m\u001b[0m\u001b[0m\n",
      "\u001b[0;32m/Volumes/Geozedo60/opt/anaconda3/lib/python3.8/site-packages/pandas/core/internals/blocks.py\u001b[0m in \u001b[0;36mastype\u001b[0;34m(self, dtype, copy, errors)\u001b[0m\n\u001b[1;32m    671\u001b[0m             \u001b[0mvals1d\u001b[0m \u001b[0;34m=\u001b[0m \u001b[0mvalues\u001b[0m\u001b[0;34m.\u001b[0m\u001b[0mravel\u001b[0m\u001b[0;34m(\u001b[0m\u001b[0;34m)\u001b[0m\u001b[0;34m\u001b[0m\u001b[0;34m\u001b[0m\u001b[0m\n\u001b[1;32m    672\u001b[0m             \u001b[0;32mtry\u001b[0m\u001b[0;34m:\u001b[0m\u001b[0;34m\u001b[0m\u001b[0;34m\u001b[0m\u001b[0m\n\u001b[0;32m--> 673\u001b[0;31m                 \u001b[0mvalues\u001b[0m \u001b[0;34m=\u001b[0m \u001b[0mastype_nansafe\u001b[0m\u001b[0;34m(\u001b[0m\u001b[0mvals1d\u001b[0m\u001b[0;34m,\u001b[0m \u001b[0mdtype\u001b[0m\u001b[0;34m,\u001b[0m \u001b[0mcopy\u001b[0m\u001b[0;34m=\u001b[0m\u001b[0;32mTrue\u001b[0m\u001b[0;34m)\u001b[0m\u001b[0;34m\u001b[0m\u001b[0;34m\u001b[0m\u001b[0m\n\u001b[0m\u001b[1;32m    674\u001b[0m             \u001b[0;32mexcept\u001b[0m \u001b[0;34m(\u001b[0m\u001b[0mValueError\u001b[0m\u001b[0;34m,\u001b[0m \u001b[0mTypeError\u001b[0m\u001b[0;34m)\u001b[0m\u001b[0;34m:\u001b[0m\u001b[0;34m\u001b[0m\u001b[0;34m\u001b[0m\u001b[0m\n\u001b[1;32m    675\u001b[0m                 \u001b[0;31m# e.g. astype_nansafe can fail on object-dtype of strings\u001b[0m\u001b[0;34m\u001b[0m\u001b[0;34m\u001b[0m\u001b[0;34m\u001b[0m\u001b[0m\n",
      "\u001b[0;32m/Volumes/Geozedo60/opt/anaconda3/lib/python3.8/site-packages/pandas/core/dtypes/cast.py\u001b[0m in \u001b[0;36mastype_nansafe\u001b[0;34m(arr, dtype, copy, skipna)\u001b[0m\n\u001b[1;32m   1066\u001b[0m \u001b[0;34m\u001b[0m\u001b[0m\n\u001b[1;32m   1067\u001b[0m         \u001b[0;32mif\u001b[0m \u001b[0;32mnot\u001b[0m \u001b[0mnp\u001b[0m\u001b[0;34m.\u001b[0m\u001b[0misfinite\u001b[0m\u001b[0;34m(\u001b[0m\u001b[0marr\u001b[0m\u001b[0;34m)\u001b[0m\u001b[0;34m.\u001b[0m\u001b[0mall\u001b[0m\u001b[0;34m(\u001b[0m\u001b[0;34m)\u001b[0m\u001b[0;34m:\u001b[0m\u001b[0;34m\u001b[0m\u001b[0;34m\u001b[0m\u001b[0m\n\u001b[0;32m-> 1068\u001b[0;31m             \u001b[0;32mraise\u001b[0m \u001b[0mValueError\u001b[0m\u001b[0;34m(\u001b[0m\u001b[0;34m\"Cannot convert non-finite values (NA or inf) to integer\"\u001b[0m\u001b[0;34m)\u001b[0m\u001b[0;34m\u001b[0m\u001b[0;34m\u001b[0m\u001b[0m\n\u001b[0m\u001b[1;32m   1069\u001b[0m \u001b[0;34m\u001b[0m\u001b[0m\n\u001b[1;32m   1070\u001b[0m     \u001b[0;32melif\u001b[0m \u001b[0mis_object_dtype\u001b[0m\u001b[0;34m(\u001b[0m\u001b[0marr\u001b[0m\u001b[0;34m)\u001b[0m\u001b[0;34m:\u001b[0m\u001b[0;34m\u001b[0m\u001b[0;34m\u001b[0m\u001b[0m\n",
      "\u001b[0;31mValueError\u001b[0m: Cannot convert non-finite values (NA or inf) to integer"
     ]
    }
   ],
   "source": [
    "# could not transformation, bcuz it has none\n",
    "df[\"키\"].astype(int)"
   ]
  },
  {
   "cell_type": "code",
   "execution_count": 55,
   "metadata": {},
   "outputs": [],
   "source": [
    "df[\"키\"] = df[\"키\"].fillna(160)"
   ]
  },
  {
   "cell_type": "code",
   "execution_count": 56,
   "metadata": {},
   "outputs": [
    {
     "output_type": "execute_result",
     "data": {
      "text/plain": [
       "0     173\n",
       "1     177\n",
       "2     180\n",
       "3     178\n",
       "4     162\n",
       "5     178\n",
       "6     182\n",
       "7     160\n",
       "8     179\n",
       "9     167\n",
       "10    160\n",
       "11    183\n",
       "12    175\n",
       "13    176\n",
       "14    174\n",
       "Name: 키, dtype: int64"
      ]
     },
     "metadata": {},
     "execution_count": 56
    }
   ],
   "source": [
    "df[\"키\"].astype(int)"
   ]
  },
  {
   "cell_type": "code",
   "execution_count": 57,
   "metadata": {},
   "outputs": [
    {
     "output_type": "execute_result",
     "data": {
      "text/plain": [
       "0     173.6\n",
       "1     177.0\n",
       "2     180.0\n",
       "3     178.0\n",
       "4     162.1\n",
       "5     178.0\n",
       "6     182.3\n",
       "7     160.0\n",
       "8     179.2\n",
       "9     167.1\n",
       "10    160.0\n",
       "11    183.0\n",
       "12    175.0\n",
       "13    176.0\n",
       "14    174.0\n",
       "Name: 키, dtype: object"
      ]
     },
     "metadata": {},
     "execution_count": 57
    }
   ],
   "source": [
    "df[\"키\"].astype(object)"
   ]
  },
  {
   "source": [
    "### transformation of data type : datetime\n",
    "    - to_datetime()"
   ],
   "cell_type": "markdown",
   "metadata": {}
  },
  {
   "cell_type": "code",
   "execution_count": 60,
   "metadata": {},
   "outputs": [],
   "source": [
    "df[\"생년월일\"] = pd.to_datetime(df[\"생년월일\"])"
   ]
  },
  {
   "cell_type": "code",
   "execution_count": 61,
   "metadata": {},
   "outputs": [
    {
     "output_type": "execute_result",
     "data": {
      "text/plain": [
       "0    1995-10-13\n",
       "1    1988-08-18\n",
       "2    1996-12-10\n",
       "3    1995-12-30\n",
       "4    1995-07-23\n",
       "5    1997-09-01\n",
       "6    1995-08-09\n",
       "7    1998-08-26\n",
       "8    1992-12-04\n",
       "9    1994-03-22\n",
       "10   1989-03-09\n",
       "11   1997-03-30\n",
       "12   1995-07-21\n",
       "13   1995-06-08\n",
       "14   1993-03-09\n",
       "Name: 생년월일, dtype: datetime64[ns]"
      ]
     },
     "metadata": {},
     "execution_count": 61
    }
   ],
   "source": [
    "df[\"생년월일\"]"
   ]
  },
  {
   "cell_type": "code",
   "execution_count": 63,
   "metadata": {},
   "outputs": [
    {
     "output_type": "stream",
     "name": "stdout",
     "text": [
      "<class 'pandas.core.frame.DataFrame'>\nRangeIndex: 15 entries, 0 to 14\nData columns (total 8 columns):\n #   Column   Non-Null Count  Dtype         \n---  ------   --------------  -----         \n 0   이름       15 non-null     object        \n 1   그룹       14 non-null     object        \n 2   소속사      15 non-null     object        \n 3   성별       15 non-null     object        \n 4   생년월일     15 non-null     datetime64[ns]\n 5   키        15 non-null     float64       \n 6   혈액형      15 non-null     object        \n 7   브랜드평판지수  15 non-null     int64         \ndtypes: datetime64[ns](1), float64(1), int64(1), object(5)\nmemory usage: 1.1+ KB\n"
     ]
    }
   ],
   "source": [
    "df.info()"
   ]
  },
  {
   "cell_type": "code",
   "execution_count": 64,
   "metadata": {},
   "outputs": [
    {
     "output_type": "execute_result",
     "data": {
      "text/plain": [
       "0     4\n",
       "1     3\n",
       "2     1\n",
       "3     5\n",
       "4     6\n",
       "5     0\n",
       "6     2\n",
       "7     2\n",
       "8     4\n",
       "9     1\n",
       "10    3\n",
       "11    6\n",
       "12    4\n",
       "13    3\n",
       "14    1\n",
       "Name: 생년월일, dtype: int64"
      ]
     },
     "metadata": {},
     "execution_count": 64
    }
   ],
   "source": [
    "# on datetime, find out week of num (Monday=0, ...)\n",
    "df[\"생년월일\"].dt.dayofweek"
   ]
  },
  {
   "cell_type": "code",
   "execution_count": 67,
   "metadata": {},
   "outputs": [
    {
     "output_type": "execute_result",
     "data": {
      "text/plain": [
       "0        Friday\n",
       "1      Thursday\n",
       "2       Tuesday\n",
       "3      Saturday\n",
       "4        Sunday\n",
       "5        Monday\n",
       "6     Wednesday\n",
       "7     Wednesday\n",
       "8        Friday\n",
       "9       Tuesday\n",
       "10     Thursday\n",
       "11       Sunday\n",
       "12       Friday\n",
       "13     Thursday\n",
       "14      Tuesday\n",
       "Name: 생년월일, dtype: object"
      ]
     },
     "metadata": {},
     "execution_count": 67
    }
   ],
   "source": [
    "df[\"생년월일\"].dt.day_name()"
   ]
  },
  {
   "cell_type": "code",
   "execution_count": 68,
   "metadata": {},
   "outputs": [
    {
     "output_type": "execute_result",
     "data": {
      "text/plain": [
       "0     1995\n",
       "1     1988\n",
       "2     1996\n",
       "3     1995\n",
       "4     1995\n",
       "5     1997\n",
       "6     1995\n",
       "7     1998\n",
       "8     1992\n",
       "9     1994\n",
       "10    1989\n",
       "11    1997\n",
       "12    1995\n",
       "13    1995\n",
       "14    1993\n",
       "Name: 생년월일, dtype: int64"
      ]
     },
     "metadata": {},
     "execution_count": 68
    }
   ],
   "source": [
    "df[\"생년월일\"].dt.year"
   ]
  },
  {
   "cell_type": "code",
   "execution_count": 69,
   "metadata": {},
   "outputs": [
    {
     "output_type": "execute_result",
     "data": {
      "text/plain": [
       "0     10\n",
       "1      8\n",
       "2     12\n",
       "3     12\n",
       "4      7\n",
       "5      9\n",
       "6      8\n",
       "7      8\n",
       "8     12\n",
       "9      3\n",
       "10     3\n",
       "11     3\n",
       "12     7\n",
       "13     6\n",
       "14     3\n",
       "Name: 생년월일, dtype: int64"
      ]
     },
     "metadata": {},
     "execution_count": 69
    }
   ],
   "source": [
    "df[\"생년월일\"].dt.month"
   ]
  },
  {
   "cell_type": "code",
   "execution_count": 70,
   "metadata": {},
   "outputs": [
    {
     "output_type": "execute_result",
     "data": {
      "text/plain": [
       "0     13\n",
       "1     18\n",
       "2     10\n",
       "3     30\n",
       "4     23\n",
       "5      1\n",
       "6      9\n",
       "7     26\n",
       "8      4\n",
       "9     22\n",
       "10     9\n",
       "11    30\n",
       "12    21\n",
       "13     8\n",
       "14     9\n",
       "Name: 생년월일, dtype: int64"
      ]
     },
     "metadata": {},
     "execution_count": 70
    }
   ],
   "source": [
    "df[\"생년월일\"].dt.day"
   ]
  },
  {
   "cell_type": "code",
   "execution_count": null,
   "metadata": {},
   "outputs": [],
   "source": []
  },
  {
   "cell_type": "code",
   "execution_count": null,
   "metadata": {},
   "outputs": [],
   "source": []
  },
  {
   "cell_type": "code",
   "execution_count": null,
   "metadata": {},
   "outputs": [],
   "source": []
  },
  {
   "cell_type": "code",
   "execution_count": null,
   "metadata": {},
   "outputs": [],
   "source": []
  },
  {
   "cell_type": "code",
   "execution_count": null,
   "metadata": {},
   "outputs": [],
   "source": []
  },
  {
   "cell_type": "code",
   "execution_count": null,
   "metadata": {},
   "outputs": [],
   "source": []
  },
  {
   "cell_type": "code",
   "execution_count": null,
   "metadata": {},
   "outputs": [],
   "source": []
  },
  {
   "cell_type": "code",
   "execution_count": null,
   "metadata": {},
   "outputs": [],
   "source": []
  }
 ]
}