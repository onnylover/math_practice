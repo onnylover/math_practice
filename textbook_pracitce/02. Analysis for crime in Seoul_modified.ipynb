{
 "cells": [
  {
   "cell_type": "markdown",
   "metadata": {
    "collapsed": true
   },
   "source": [
    "# 강남 3구는 안전한가?\n",
    "\n",
    "### 작성 : [PinkWink](http://pinkwink.kr) \n",
    "\n",
    "* 강남3구의 주민들이 자신들이 거주하는 구의 체감 안전도를 높게 생각한다는 기사를 확인해 보도록 한다\n",
    "* 기사 원문 http://news1.kr/articles/?1911504\n",
    "* 작성 : PinkWink http://pinkwink.kr\n",
    "\n",
    "* Matplotlib의 heatmap 등을 그릴때 cmap의 디폴트 설정이 변경되어 heatmap 등에서 cmap을 적용할 때 옵션을 잡아주어야 교재와 동일한 효과가 나타난다. (소스코드에 모두 반영됨)\n",
    "* Folium이 0.4.0으로 판올림 되면서 choropleth 명령에서 geo_str 옵션명이 geo_data 옵션명으로 변경됨. (소스코드에 모두 반영)\n",
    "* Folium이 0.4.0으로 판올림 되면서 circle marker 적용할때, fill=True 옵션을 반듯이 사용해야 함. (소스코드에 모두 반영)\n",
    "\n",
    "# 데이터 정리하기"
   ]
  },
  {
   "cell_type": "markdown",
   "metadata": {},
   "source": [
    "* 필요한 모듈을 import한다."
   ]
  },
  {
   "cell_type": "code",
   "execution_count": 5,
   "metadata": {},
   "outputs": [],
   "source": [
    "import numpy as np\n",
    "import pandas as pd"
   ]
  },
  {
   "cell_type": "markdown",
   "metadata": {},
   "source": [
    "* 받은 데이터(csv) 파일을 읽는다, 콤마(,)로 천단위가 구분되어 있고, 한글 엔코딩은 **euc-kr**이다\n",
    "* 교재에서 접근하는 방식으로 데이터를 얻으로 가면 교재 집필하던 때와 데이터의 형식이 변경되어 있다.\n",
    "* 지금은 데이터를 얻는 것이 실제 데이터라는 것에 대한 증명일 뿐이므로, 해당 데이터를 Github에서 배포하는 데이터를 다운받는 것으로 한다."
   ]
  },
  {
   "cell_type": "code",
   "execution_count": 6,
   "metadata": {
    "scrolled": true
   },
   "outputs": [
    {
     "output_type": "execute_result",
     "data": {
      "text/plain": [
       "    관서명  살인 발생  살인 검거  강도 발생  강도 검거  강간 발생  강간 검거  절도 발생  절도 검거  폭력 발생  폭력 검거\n",
       "0   중부서      2      2      3      2    105     65   1395    477   1355   1170\n",
       "1   종로서      3      3      6      5    115     98   1070    413   1278   1070\n",
       "2  남대문서      1      0      6      4     65     46   1153    382    869    794\n",
       "3  서대문서      2      2      5      4    154    124   1812    738   2056   1711\n",
       "4   혜화서      3      2      5      4     96     63   1114    424   1015    861"
      ],
      "text/html": "<div>\n<style scoped>\n    .dataframe tbody tr th:only-of-type {\n        vertical-align: middle;\n    }\n\n    .dataframe tbody tr th {\n        vertical-align: top;\n    }\n\n    .dataframe thead th {\n        text-align: right;\n    }\n</style>\n<table border=\"1\" class=\"dataframe\">\n  <thead>\n    <tr style=\"text-align: right;\">\n      <th></th>\n      <th>관서명</th>\n      <th>살인 발생</th>\n      <th>살인 검거</th>\n      <th>강도 발생</th>\n      <th>강도 검거</th>\n      <th>강간 발생</th>\n      <th>강간 검거</th>\n      <th>절도 발생</th>\n      <th>절도 검거</th>\n      <th>폭력 발생</th>\n      <th>폭력 검거</th>\n    </tr>\n  </thead>\n  <tbody>\n    <tr>\n      <th>0</th>\n      <td>중부서</td>\n      <td>2</td>\n      <td>2</td>\n      <td>3</td>\n      <td>2</td>\n      <td>105</td>\n      <td>65</td>\n      <td>1395</td>\n      <td>477</td>\n      <td>1355</td>\n      <td>1170</td>\n    </tr>\n    <tr>\n      <th>1</th>\n      <td>종로서</td>\n      <td>3</td>\n      <td>3</td>\n      <td>6</td>\n      <td>5</td>\n      <td>115</td>\n      <td>98</td>\n      <td>1070</td>\n      <td>413</td>\n      <td>1278</td>\n      <td>1070</td>\n    </tr>\n    <tr>\n      <th>2</th>\n      <td>남대문서</td>\n      <td>1</td>\n      <td>0</td>\n      <td>6</td>\n      <td>4</td>\n      <td>65</td>\n      <td>46</td>\n      <td>1153</td>\n      <td>382</td>\n      <td>869</td>\n      <td>794</td>\n    </tr>\n    <tr>\n      <th>3</th>\n      <td>서대문서</td>\n      <td>2</td>\n      <td>2</td>\n      <td>5</td>\n      <td>4</td>\n      <td>154</td>\n      <td>124</td>\n      <td>1812</td>\n      <td>738</td>\n      <td>2056</td>\n      <td>1711</td>\n    </tr>\n    <tr>\n      <th>4</th>\n      <td>혜화서</td>\n      <td>3</td>\n      <td>2</td>\n      <td>5</td>\n      <td>4</td>\n      <td>96</td>\n      <td>63</td>\n      <td>1114</td>\n      <td>424</td>\n      <td>1015</td>\n      <td>861</td>\n    </tr>\n  </tbody>\n</table>\n</div>"
     },
     "metadata": {},
     "execution_count": 6
    }
   ],
   "source": [
    "crime_anal_police = pd.read_csv('/Volumes/Geozedo60/Python/bit/datamath/practice/DataScience/data/02. crime_in_Seoul.csv', thousands=',',encoding='euc-kr')\n",
    "crime_anal_police.head()"
   ]
  },
  {
   "cell_type": "markdown",
   "metadata": {},
   "source": [
    "* 구글 맵스를 사용해서 경찰서의 위치(위도, 경도) 정보를 받아온다"
   ]
  },
  {
   "cell_type": "code",
   "execution_count": 7,
   "metadata": {},
   "outputs": [],
   "source": [
    "# !pip install googlemaps"
   ]
  },
  {
   "cell_type": "code",
   "execution_count": 8,
   "metadata": {},
   "outputs": [],
   "source": [
    "# import googlemaps"
   ]
  },
  {
   "cell_type": "code",
   "execution_count": 9,
   "metadata": {},
   "outputs": [],
   "source": [
    "# gmaps_key = \"*******************************\" # 자신의 key를 사용합니다.\n",
    "# gmaps = googlemaps.Client(key=gmaps_key)\n",
    "\n",
    "from kakaomodule import KakaoLocalAPI, call\n",
    "\n",
    "gmaps_key = call()\n",
    "gmaps = KakaoLocalAPI(gmaps_key)"
   ]
  },
  {
   "cell_type": "code",
   "execution_count": 10,
   "metadata": {},
   "outputs": [
    {
     "output_type": "execute_result",
     "data": {
      "text/plain": [
       "{'documents': [{'address_name': '서울 중구 저동2가 62-1',\n",
       "   'category_group_code': 'PO3',\n",
       "   'category_group_name': '공공기관',\n",
       "   'category_name': '사회,공공기관 > 행정기관 > 경찰서',\n",
       "   'distance': '',\n",
       "   'id': '11151738',\n",
       "   'phone': '',\n",
       "   'place_name': '서울중부경찰서',\n",
       "   'place_url': 'http://place.map.kakao.com/11151738',\n",
       "   'road_address_name': '서울 중구 수표로 27',\n",
       "   'x': '126.98958691395208',\n",
       "   'y': '37.56361812722828'},\n",
       "  {'address_name': '서울 중구 저동2가 62-1',\n",
       "   'category_group_code': 'CT1',\n",
       "   'category_group_name': '문화시설',\n",
       "   'category_name': '문화,예술 > 문화시설 > 박물관',\n",
       "   'distance': '',\n",
       "   'id': '27184424',\n",
       "   'phone': '',\n",
       "   'place_name': '서울중부경찰서 역사박물관',\n",
       "   'place_url': 'http://place.map.kakao.com/27184424',\n",
       "   'road_address_name': '서울 중구 수표로 27',\n",
       "   'x': '126.989582377239',\n",
       "   'y': '37.5636848005606'},\n",
       "  {'address_name': '서울 중구 저동2가 62-1',\n",
       "   'category_group_code': '',\n",
       "   'category_group_name': '',\n",
       "   'category_name': '사회,공공기관 > 행정기관부속시설',\n",
       "   'distance': '',\n",
       "   'id': '10795753',\n",
       "   'phone': '',\n",
       "   'place_name': '중부경찰서 민원봉사실',\n",
       "   'place_url': 'http://place.map.kakao.com/10795753',\n",
       "   'road_address_name': '서울 중구 수표로 27',\n",
       "   'x': '126.990026067084',\n",
       "   'y': '37.5636740269204'},\n",
       "  {'address_name': '서울 중구 저동2가',\n",
       "   'category_group_code': '',\n",
       "   'category_group_name': '',\n",
       "   'category_name': '교통,수송 > 도로시설 > 교차로',\n",
       "   'distance': '',\n",
       "   'id': '15135568',\n",
       "   'phone': '',\n",
       "   'place_name': '중부경찰서앞교차로',\n",
       "   'place_url': 'http://place.map.kakao.com/15135568',\n",
       "   'road_address_name': '',\n",
       "   'x': '126.989989697171',\n",
       "   'y': '37.5647984672211'},\n",
       "  {'address_name': '서울 중구 저동2가 24-1',\n",
       "   'category_group_code': '',\n",
       "   'category_group_name': '',\n",
       "   'category_name': '교통,수송 > 교통시설 > 카셰어링 > 쏘카존',\n",
       "   'distance': '',\n",
       "   'id': '1566444679',\n",
       "   'phone': '',\n",
       "   'place_name': '쏘카존 서울중부경찰서 앞',\n",
       "   'place_url': 'http://place.map.kakao.com/1566444679',\n",
       "   'road_address_name': '서울 중구 수표로 34',\n",
       "   'x': '126.99035646683829',\n",
       "   'y': '37.56447143611534'},\n",
       "  {'address_name': '서울 중구 저동2가 62-1',\n",
       "   'category_group_code': 'BK9',\n",
       "   'category_group_name': '은행',\n",
       "   'category_name': '금융,보험 > 금융서비스 > 은행 > ATM',\n",
       "   'distance': '',\n",
       "   'id': '616192118',\n",
       "   'phone': '',\n",
       "   'place_name': '신한은행 365코너 서울중부경찰서',\n",
       "   'place_url': 'http://place.map.kakao.com/616192118',\n",
       "   'road_address_name': '서울 중구 수표로 27',\n",
       "   'x': '126.990044180649',\n",
       "   'y': '37.5636451965649'}],\n",
       " 'meta': {'is_end': True,\n",
       "  'pageable_count': 6,\n",
       "  'same_name': {'keyword': '서울중부경찰서', 'region': [], 'selected_region': ''},\n",
       "  'total_count': 6}}"
      ]
     },
     "metadata": {},
     "execution_count": 10
    }
   ],
   "source": [
    "gmaps.search_keyword('서울중부경찰서')"
   ]
  },
  {
   "cell_type": "code",
   "execution_count": 11,
   "metadata": {},
   "outputs": [
    {
     "output_type": "execute_result",
     "data": {
      "text/plain": [
       "['서울중부경찰서',\n",
       " '서울종로경찰서',\n",
       " '서울남대문경찰서',\n",
       " '서울서대문경찰서',\n",
       " '서울혜화경찰서',\n",
       " '서울용산경찰서',\n",
       " '서울성북경찰서',\n",
       " '서울동대문경찰서',\n",
       " '서울마포경찰서',\n",
       " '서울영등포경찰서',\n",
       " '서울성동경찰서',\n",
       " '서울동작경찰서',\n",
       " '서울광진경찰서',\n",
       " '서울서부경찰서',\n",
       " '서울강북경찰서',\n",
       " '서울금천경찰서',\n",
       " '서울중랑경찰서',\n",
       " '서울강남경찰서',\n",
       " '서울관악경찰서',\n",
       " '서울강서경찰서',\n",
       " '서울강동경찰서',\n",
       " '서울종암경찰서',\n",
       " '서울구로경찰서',\n",
       " '서울서초경찰서',\n",
       " '서울양천경찰서',\n",
       " '서울송파경찰서',\n",
       " '서울노원경찰서',\n",
       " '서울방배경찰서',\n",
       " '서울은평경찰서',\n",
       " '서울도봉경찰서',\n",
       " '서울수서경찰서']"
      ]
     },
     "metadata": {},
     "execution_count": 11
    }
   ],
   "source": [
    "station_name = []\n",
    "\n",
    "for name in crime_anal_police['관서명']:\n",
    "    station_name.append('서울' + str(name[:-1]) + '경찰서')\n",
    "\n",
    "station_name"
   ]
  },
  {
   "cell_type": "code",
   "execution_count": 12,
   "metadata": {},
   "outputs": [
    {
     "output_type": "stream",
     "name": "stdout",
     "text": [
      "서울중부경찰서-->서울 중구 수표로 27\n",
      "서울종로경찰서-->서울 종로구 율곡로 46\n",
      "서울남대문경찰서-->서울 중구 한강대로 410\n",
      "서울서대문경찰서-->서울 서대문구 통일로 113\n",
      "서울혜화경찰서-->서울 종로구 창경궁로 112-16\n",
      "서울용산경찰서-->서울 용산구 원효로89길 24\n",
      "서울성북경찰서-->서울 성북구 보문로 170\n",
      "서울동대문경찰서-->서울 동대문구 약령시로21길 29\n",
      "서울마포경찰서-->서울 마포구 마포대로 183\n",
      "서울영등포경찰서-->서울 영등포구 국회대로 608\n",
      "서울성동경찰서-->서울 성동구 왕십리광장로 9\n",
      "서울동작경찰서-->서울 동작구 노량진로 148\n",
      "서울광진경찰서-->서울 광진구 자양로 167\n",
      "서울서부경찰서-->서울 은평구 진흥로 58\n",
      "서울강북경찰서-->서울 강북구 오패산로 406\n",
      "서울금천경찰서-->서울 금천구 시흥대로73길 50\n",
      "서울중랑경찰서-->서울 중랑구 신내역로3길 40-10\n",
      "서울강남경찰서-->서울 강남구 테헤란로114길 11\n",
      "서울관악경찰서-->서울 관악구 관악로5길 33\n",
      "서울강서경찰서-->서울 강서구 화곡로 308\n",
      "서울강동경찰서-->서울 강동구 성내로 57\n",
      "서울종암경찰서-->서울 성북구 종암로 135\n",
      "서울구로경찰서-->서울 구로구 가마산로 235\n",
      "서울서초경찰서-->서울 서초구 반포대로 179\n",
      "서울양천경찰서-->서울 양천구 목동동로 99\n",
      "서울송파경찰서-->서울 송파구 중대로 221\n",
      "서울노원경찰서-->서울 노원구 노원로 283\n",
      "서울방배경찰서-->서울 서초구 방배천로 54\n",
      "서울은평경찰서-->서울 은평구 연서로 365\n",
      "서울도봉경찰서-->서울 도봉구 노해로 403\n",
      "서울수서경찰서-->서울 강남구 개포로 617\n"
     ]
    }
   ],
   "source": [
    "station_addreess = []\n",
    "station_lat = []\n",
    "station_lng = []\n",
    "\n",
    "for name in station_name:\n",
    "    tmp = gmaps.search_keyword(name)\n",
    "    station_addreess.append(tmp['documents'][0][\"road_address_name\"])\n",
    "    station_lat.append(tmp['documents'][0]['y'])\n",
    "    station_lng.append(tmp['documents'][0]['x'])\n",
    "    \n",
    "    print(name + '-->' + tmp['documents'][0][\"road_address_name\"])"
   ]
  },
  {
   "cell_type": "code",
   "execution_count": 13,
   "metadata": {
    "scrolled": true
   },
   "outputs": [
    {
     "output_type": "execute_result",
     "data": {
      "text/plain": [
       "['서울 중구 수표로 27',\n",
       " '서울 종로구 율곡로 46',\n",
       " '서울 중구 한강대로 410',\n",
       " '서울 서대문구 통일로 113',\n",
       " '서울 종로구 창경궁로 112-16',\n",
       " '서울 용산구 원효로89길 24',\n",
       " '서울 성북구 보문로 170',\n",
       " '서울 동대문구 약령시로21길 29',\n",
       " '서울 마포구 마포대로 183',\n",
       " '서울 영등포구 국회대로 608',\n",
       " '서울 성동구 왕십리광장로 9',\n",
       " '서울 동작구 노량진로 148',\n",
       " '서울 광진구 자양로 167',\n",
       " '서울 은평구 진흥로 58',\n",
       " '서울 강북구 오패산로 406',\n",
       " '서울 금천구 시흥대로73길 50',\n",
       " '서울 중랑구 신내역로3길 40-10',\n",
       " '서울 강남구 테헤란로114길 11',\n",
       " '서울 관악구 관악로5길 33',\n",
       " '서울 강서구 화곡로 308',\n",
       " '서울 강동구 성내로 57',\n",
       " '서울 성북구 종암로 135',\n",
       " '서울 구로구 가마산로 235',\n",
       " '서울 서초구 반포대로 179',\n",
       " '서울 양천구 목동동로 99',\n",
       " '서울 송파구 중대로 221',\n",
       " '서울 노원구 노원로 283',\n",
       " '서울 서초구 방배천로 54',\n",
       " '서울 은평구 연서로 365',\n",
       " '서울 도봉구 노해로 403',\n",
       " '서울 강남구 개포로 617']"
      ]
     },
     "metadata": {},
     "execution_count": 13
    }
   ],
   "source": [
    "station_addreess"
   ]
  },
  {
   "cell_type": "code",
   "execution_count": 65,
   "metadata": {
    "scrolled": true
   },
   "outputs": [
    {
     "output_type": "execute_result",
     "data": {
      "text/plain": [
       "['37.56361812722828',\n",
       " '37.57553779077874',\n",
       " '37.55478043476484',\n",
       " '37.5649023404956',\n",
       " '37.5718915247338',\n",
       " '37.54117933635974',\n",
       " '37.58989767143614',\n",
       " '37.5850804205685',\n",
       " '37.5510118582052',\n",
       " '37.52585220719',\n",
       " '37.5617947420747',\n",
       " '37.5131469479959',\n",
       " '37.54292164557882',\n",
       " '37.60215667958602',\n",
       " '37.637406561393085',\n",
       " '37.45725314643252',\n",
       " '37.6182390801576',\n",
       " '37.5093899463715',\n",
       " '37.4745875338795',\n",
       " '37.5513470867979',\n",
       " '37.52867274661258',\n",
       " '37.602095614954',\n",
       " '37.4948844667899',\n",
       " '37.49561086789221',\n",
       " '37.5165549067037',\n",
       " '37.5019757297179',\n",
       " '37.6423345266253',\n",
       " '37.48155944749938',\n",
       " '37.6285242467996',\n",
       " '37.65339041848567',\n",
       " '37.4934972653425']"
      ]
     },
     "metadata": {},
     "execution_count": 65
    }
   ],
   "source": [
    "station_lat"
   ]
  },
  {
   "cell_type": "code",
   "execution_count": 66,
   "metadata": {
    "scrolled": true
   },
   "outputs": [
    {
     "output_type": "execute_result",
     "data": {
      "text/plain": [
       "['126.98958691395208',\n",
       " '126.98489861889408',\n",
       " '126.97349729923079',\n",
       " '126.966790740735',\n",
       " '126.998935936567',\n",
       " '126.96777437089538',\n",
       " '127.01625465308534',\n",
       " '127.045762797538',\n",
       " '126.95394117396',\n",
       " '126.90094457988',\n",
       " '127.036472076258',\n",
       " '126.942857105642',\n",
       " '127.08396170505674',\n",
       " '126.92131688777927',\n",
       " '127.02733870040592',\n",
       " '126.89674921449215',\n",
       " '127.10454224897',\n",
       " '127.067070541137',\n",
       " '126.951062346192',\n",
       " '126.849886071842',\n",
       " '127.12688982770433',\n",
       " '127.032233767891',\n",
       " '126.886660285169',\n",
       " '127.00528097622329',\n",
       " '126.865542970902',\n",
       " '127.12716129352492',\n",
       " '127.071404832413',\n",
       " '126.98300906928465',\n",
       " '126.928631038584',\n",
       " '127.05270598499145',\n",
       " '127.077143044327']"
      ]
     },
     "metadata": {},
     "execution_count": 66
    }
   ],
   "source": [
    "station_lng"
   ]
  },
  {
   "cell_type": "code",
   "execution_count": 67,
   "metadata": {
    "scrolled": true
   },
   "outputs": [
    {
     "output_type": "execute_result",
     "data": {
      "text/plain": [
       "    관서명  살인 발생  살인 검거  강도 발생  강도 검거  강간 발생  강간 검거  절도 발생  절도 검거  폭력 발생  폭력 검거  \\\n",
       "0   중부서      2      2      3      2    105     65   1395    477   1355   1170   \n",
       "1   종로서      3      3      6      5    115     98   1070    413   1278   1070   \n",
       "2  남대문서      1      0      6      4     65     46   1153    382    869    794   \n",
       "3  서대문서      2      2      5      4    154    124   1812    738   2056   1711   \n",
       "4   혜화서      3      2      5      4     96     63   1114    424   1015    861   \n",
       "\n",
       "     구별  \n",
       "0    중구  \n",
       "1   종로구  \n",
       "2    중구  \n",
       "3  서대문구  \n",
       "4   종로구  "
      ],
      "text/html": "<div>\n<style scoped>\n    .dataframe tbody tr th:only-of-type {\n        vertical-align: middle;\n    }\n\n    .dataframe tbody tr th {\n        vertical-align: top;\n    }\n\n    .dataframe thead th {\n        text-align: right;\n    }\n</style>\n<table border=\"1\" class=\"dataframe\">\n  <thead>\n    <tr style=\"text-align: right;\">\n      <th></th>\n      <th>관서명</th>\n      <th>살인 발생</th>\n      <th>살인 검거</th>\n      <th>강도 발생</th>\n      <th>강도 검거</th>\n      <th>강간 발생</th>\n      <th>강간 검거</th>\n      <th>절도 발생</th>\n      <th>절도 검거</th>\n      <th>폭력 발생</th>\n      <th>폭력 검거</th>\n      <th>구별</th>\n    </tr>\n  </thead>\n  <tbody>\n    <tr>\n      <th>0</th>\n      <td>중부서</td>\n      <td>2</td>\n      <td>2</td>\n      <td>3</td>\n      <td>2</td>\n      <td>105</td>\n      <td>65</td>\n      <td>1395</td>\n      <td>477</td>\n      <td>1355</td>\n      <td>1170</td>\n      <td>중구</td>\n    </tr>\n    <tr>\n      <th>1</th>\n      <td>종로서</td>\n      <td>3</td>\n      <td>3</td>\n      <td>6</td>\n      <td>5</td>\n      <td>115</td>\n      <td>98</td>\n      <td>1070</td>\n      <td>413</td>\n      <td>1278</td>\n      <td>1070</td>\n      <td>종로구</td>\n    </tr>\n    <tr>\n      <th>2</th>\n      <td>남대문서</td>\n      <td>1</td>\n      <td>0</td>\n      <td>6</td>\n      <td>4</td>\n      <td>65</td>\n      <td>46</td>\n      <td>1153</td>\n      <td>382</td>\n      <td>869</td>\n      <td>794</td>\n      <td>중구</td>\n    </tr>\n    <tr>\n      <th>3</th>\n      <td>서대문서</td>\n      <td>2</td>\n      <td>2</td>\n      <td>5</td>\n      <td>4</td>\n      <td>154</td>\n      <td>124</td>\n      <td>1812</td>\n      <td>738</td>\n      <td>2056</td>\n      <td>1711</td>\n      <td>서대문구</td>\n    </tr>\n    <tr>\n      <th>4</th>\n      <td>혜화서</td>\n      <td>3</td>\n      <td>2</td>\n      <td>5</td>\n      <td>4</td>\n      <td>96</td>\n      <td>63</td>\n      <td>1114</td>\n      <td>424</td>\n      <td>1015</td>\n      <td>861</td>\n      <td>종로구</td>\n    </tr>\n  </tbody>\n</table>\n</div>"
     },
     "metadata": {},
     "execution_count": 67
    }
   ],
   "source": [
    "gu_name = []\n",
    "\n",
    "for name in station_addreess:\n",
    "    tmp = name.split()\n",
    "    \n",
    "    tmp_gu = [gu for gu in tmp if gu[-1] == '구'][0]\n",
    "    \n",
    "    gu_name.append(tmp_gu)\n",
    "    \n",
    "crime_anal_police['구별'] = gu_name\n",
    "crime_anal_police.head()"
   ]
  },
  {
   "cell_type": "code",
   "execution_count": 68,
   "metadata": {},
   "outputs": [
    {
     "output_type": "execute_result",
     "data": {
      "text/plain": [
       "    관서명  살인 발생  살인 검거  강도 발생  강도 검거  강간 발생  강간 검거  절도 발생  절도 검거  폭력 발생  폭력 검거  \\\n",
       "15  금천서      3      4      6      6    151    122   1567    888   2054   1776   \n",
       "\n",
       "     구별  \n",
       "15  금천구  "
      ],
      "text/html": "<div>\n<style scoped>\n    .dataframe tbody tr th:only-of-type {\n        vertical-align: middle;\n    }\n\n    .dataframe tbody tr th {\n        vertical-align: top;\n    }\n\n    .dataframe thead th {\n        text-align: right;\n    }\n</style>\n<table border=\"1\" class=\"dataframe\">\n  <thead>\n    <tr style=\"text-align: right;\">\n      <th></th>\n      <th>관서명</th>\n      <th>살인 발생</th>\n      <th>살인 검거</th>\n      <th>강도 발생</th>\n      <th>강도 검거</th>\n      <th>강간 발생</th>\n      <th>강간 검거</th>\n      <th>절도 발생</th>\n      <th>절도 검거</th>\n      <th>폭력 발생</th>\n      <th>폭력 검거</th>\n      <th>구별</th>\n    </tr>\n  </thead>\n  <tbody>\n    <tr>\n      <th>15</th>\n      <td>금천서</td>\n      <td>3</td>\n      <td>4</td>\n      <td>6</td>\n      <td>6</td>\n      <td>151</td>\n      <td>122</td>\n      <td>1567</td>\n      <td>888</td>\n      <td>2054</td>\n      <td>1776</td>\n      <td>금천구</td>\n    </tr>\n  </tbody>\n</table>\n</div>"
     },
     "metadata": {},
     "execution_count": 68
    }
   ],
   "source": [
    "crime_anal_police[crime_anal_police['관서명']=='금천서']"
   ]
  },
  {
   "cell_type": "code",
   "execution_count": 71,
   "metadata": {},
   "outputs": [
    {
     "output_type": "execute_result",
     "data": {
      "text/plain": [
       "    관서명  살인 발생  살인 검거  강도 발생  강도 검거  강간 발생  강간 검거  절도 발생  절도 검거  폭력 발생  폭력 검거  \\\n",
       "15  금천서      3      4      6      6    151    122   1567    888   2054   1776   \n",
       "\n",
       "     구별  \n",
       "15  금천구  "
      ],
      "text/html": "<div>\n<style scoped>\n    .dataframe tbody tr th:only-of-type {\n        vertical-align: middle;\n    }\n\n    .dataframe tbody tr th {\n        vertical-align: top;\n    }\n\n    .dataframe thead th {\n        text-align: right;\n    }\n</style>\n<table border=\"1\" class=\"dataframe\">\n  <thead>\n    <tr style=\"text-align: right;\">\n      <th></th>\n      <th>관서명</th>\n      <th>살인 발생</th>\n      <th>살인 검거</th>\n      <th>강도 발생</th>\n      <th>강도 검거</th>\n      <th>강간 발생</th>\n      <th>강간 검거</th>\n      <th>절도 발생</th>\n      <th>절도 검거</th>\n      <th>폭력 발생</th>\n      <th>폭력 검거</th>\n      <th>구별</th>\n    </tr>\n  </thead>\n  <tbody>\n    <tr>\n      <th>15</th>\n      <td>금천서</td>\n      <td>3</td>\n      <td>4</td>\n      <td>6</td>\n      <td>6</td>\n      <td>151</td>\n      <td>122</td>\n      <td>1567</td>\n      <td>888</td>\n      <td>2054</td>\n      <td>1776</td>\n      <td>금천구</td>\n    </tr>\n  </tbody>\n</table>\n</div>"
     },
     "metadata": {},
     "execution_count": 71
    }
   ],
   "source": [
    "crime_anal_police.loc[crime_anal_police['관서명']=='금천서', ['구별']] = '금천구'\n",
    "crime_anal_police[crime_anal_police['관서명']=='금천서']"
   ]
  },
  {
   "cell_type": "code",
   "execution_count": 72,
   "metadata": {},
   "outputs": [],
   "source": [
    "# csv file save\n",
    "crime_anal_police.to_csv('/Volumes/Geozedo60/Python/bit/datamath/practice/DataScience/data/02. crime_in_Seoul_include_gu_name.csv',\n",
    "                         sep=',', encoding='utf-8')"
   ]
  },
  {
   "cell_type": "code",
   "execution_count": 73,
   "metadata": {},
   "outputs": [
    {
     "output_type": "execute_result",
     "data": {
      "text/plain": [
       "    관서명  살인 발생  살인 검거  강도 발생  강도 검거  강간 발생  강간 검거  절도 발생  절도 검거  폭력 발생  폭력 검거  \\\n",
       "0   중부서      2      2      3      2    105     65   1395    477   1355   1170   \n",
       "1   종로서      3      3      6      5    115     98   1070    413   1278   1070   \n",
       "2  남대문서      1      0      6      4     65     46   1153    382    869    794   \n",
       "3  서대문서      2      2      5      4    154    124   1812    738   2056   1711   \n",
       "4   혜화서      3      2      5      4     96     63   1114    424   1015    861   \n",
       "\n",
       "     구별  \n",
       "0    중구  \n",
       "1   종로구  \n",
       "2    중구  \n",
       "3  서대문구  \n",
       "4   종로구  "
      ],
      "text/html": "<div>\n<style scoped>\n    .dataframe tbody tr th:only-of-type {\n        vertical-align: middle;\n    }\n\n    .dataframe tbody tr th {\n        vertical-align: top;\n    }\n\n    .dataframe thead th {\n        text-align: right;\n    }\n</style>\n<table border=\"1\" class=\"dataframe\">\n  <thead>\n    <tr style=\"text-align: right;\">\n      <th></th>\n      <th>관서명</th>\n      <th>살인 발생</th>\n      <th>살인 검거</th>\n      <th>강도 발생</th>\n      <th>강도 검거</th>\n      <th>강간 발생</th>\n      <th>강간 검거</th>\n      <th>절도 발생</th>\n      <th>절도 검거</th>\n      <th>폭력 발생</th>\n      <th>폭력 검거</th>\n      <th>구별</th>\n    </tr>\n  </thead>\n  <tbody>\n    <tr>\n      <th>0</th>\n      <td>중부서</td>\n      <td>2</td>\n      <td>2</td>\n      <td>3</td>\n      <td>2</td>\n      <td>105</td>\n      <td>65</td>\n      <td>1395</td>\n      <td>477</td>\n      <td>1355</td>\n      <td>1170</td>\n      <td>중구</td>\n    </tr>\n    <tr>\n      <th>1</th>\n      <td>종로서</td>\n      <td>3</td>\n      <td>3</td>\n      <td>6</td>\n      <td>5</td>\n      <td>115</td>\n      <td>98</td>\n      <td>1070</td>\n      <td>413</td>\n      <td>1278</td>\n      <td>1070</td>\n      <td>종로구</td>\n    </tr>\n    <tr>\n      <th>2</th>\n      <td>남대문서</td>\n      <td>1</td>\n      <td>0</td>\n      <td>6</td>\n      <td>4</td>\n      <td>65</td>\n      <td>46</td>\n      <td>1153</td>\n      <td>382</td>\n      <td>869</td>\n      <td>794</td>\n      <td>중구</td>\n    </tr>\n    <tr>\n      <th>3</th>\n      <td>서대문서</td>\n      <td>2</td>\n      <td>2</td>\n      <td>5</td>\n      <td>4</td>\n      <td>154</td>\n      <td>124</td>\n      <td>1812</td>\n      <td>738</td>\n      <td>2056</td>\n      <td>1711</td>\n      <td>서대문구</td>\n    </tr>\n    <tr>\n      <th>4</th>\n      <td>혜화서</td>\n      <td>3</td>\n      <td>2</td>\n      <td>5</td>\n      <td>4</td>\n      <td>96</td>\n      <td>63</td>\n      <td>1114</td>\n      <td>424</td>\n      <td>1015</td>\n      <td>861</td>\n      <td>종로구</td>\n    </tr>\n  </tbody>\n</table>\n</div>"
     },
     "metadata": {},
     "execution_count": 73
    }
   ],
   "source": [
    "crime_anal_police.head()"
   ]
  },
  {
   "cell_type": "markdown",
   "metadata": {},
   "source": [
    "# pandas의 pivot_table 익히기"
   ]
  },
  {
   "cell_type": "code",
   "execution_count": 74,
   "metadata": {},
   "outputs": [],
   "source": [
    "import pandas as pd\n",
    "import numpy as np"
   ]
  },
  {
   "cell_type": "code",
   "execution_count": 77,
   "metadata": {},
   "outputs": [
    {
     "output_type": "execute_result",
     "data": {
      "text/plain": [
       "    Account                          Name            Rep        Manager  \\\n",
       "0    714466               Trantow-Barrows   Craig Booker   Debra Henley   \n",
       "1    714466               Trantow-Barrows   Craig Booker   Debra Henley   \n",
       "2    714466               Trantow-Barrows   Craig Booker   Debra Henley   \n",
       "3    737550  Fritsch, Russel and Anderson   Craig Booker   Debra Henley   \n",
       "4    146832                  Kiehn-Spinka  Daniel Hilton   Debra Henley   \n",
       "5    218895                     Kulas Inc  Daniel Hilton   Debra Henley   \n",
       "6    218895                     Kulas Inc  Daniel Hilton   Debra Henley   \n",
       "7    412290                 Jerde-Hilpert     John Smith   Debra Henley   \n",
       "8    740150                    Barton LLC     John Smith   Debra Henley   \n",
       "9    141962                    Herman LLC    Cedric Moss  Fred Anderson   \n",
       "10   163416                   Purdy-Kunde    Cedric Moss  Fred Anderson   \n",
       "11   239344                    Stokes LLC    Cedric Moss  Fred Anderson   \n",
       "12   239344                    Stokes LLC    Cedric Moss  Fred Anderson   \n",
       "13   307599   Kassulke, Ondricka and Metz     Wendy Yule  Fred Anderson   \n",
       "14   688981                   Keeling LLC     Wendy Yule  Fred Anderson   \n",
       "15   729833                     Koepp Ltd     Wendy Yule  Fred Anderson   \n",
       "16   729833                     Koepp Ltd     Wendy Yule  Fred Anderson   \n",
       "\n",
       "        Product  Quantity   Price     Status  \n",
       "0           CPU         1   30000  presented  \n",
       "1      Software         1   10000  presented  \n",
       "2   Maintenance         2    5000    pending  \n",
       "3           CPU         1   35000   declined  \n",
       "4           CPU         2   65000        won  \n",
       "5           CPU         2   40000    pending  \n",
       "6      Software         1   10000  presented  \n",
       "7   Maintenance         2    5000    pending  \n",
       "8           CPU         1   35000   declined  \n",
       "9           CPU         2   65000        won  \n",
       "10          CPU         1   30000  presented  \n",
       "11  Maintenance         1    5000    pending  \n",
       "12     Software         1   10000  presented  \n",
       "13  Maintenance         3    7000        won  \n",
       "14          CPU         5  100000        won  \n",
       "15          CPU         2   65000   declined  \n",
       "16      Monitor         2    5000  presented  "
      ],
      "text/html": "<div>\n<style scoped>\n    .dataframe tbody tr th:only-of-type {\n        vertical-align: middle;\n    }\n\n    .dataframe tbody tr th {\n        vertical-align: top;\n    }\n\n    .dataframe thead th {\n        text-align: right;\n    }\n</style>\n<table border=\"1\" class=\"dataframe\">\n  <thead>\n    <tr style=\"text-align: right;\">\n      <th></th>\n      <th>Account</th>\n      <th>Name</th>\n      <th>Rep</th>\n      <th>Manager</th>\n      <th>Product</th>\n      <th>Quantity</th>\n      <th>Price</th>\n      <th>Status</th>\n    </tr>\n  </thead>\n  <tbody>\n    <tr>\n      <th>0</th>\n      <td>714466</td>\n      <td>Trantow-Barrows</td>\n      <td>Craig Booker</td>\n      <td>Debra Henley</td>\n      <td>CPU</td>\n      <td>1</td>\n      <td>30000</td>\n      <td>presented</td>\n    </tr>\n    <tr>\n      <th>1</th>\n      <td>714466</td>\n      <td>Trantow-Barrows</td>\n      <td>Craig Booker</td>\n      <td>Debra Henley</td>\n      <td>Software</td>\n      <td>1</td>\n      <td>10000</td>\n      <td>presented</td>\n    </tr>\n    <tr>\n      <th>2</th>\n      <td>714466</td>\n      <td>Trantow-Barrows</td>\n      <td>Craig Booker</td>\n      <td>Debra Henley</td>\n      <td>Maintenance</td>\n      <td>2</td>\n      <td>5000</td>\n      <td>pending</td>\n    </tr>\n    <tr>\n      <th>3</th>\n      <td>737550</td>\n      <td>Fritsch, Russel and Anderson</td>\n      <td>Craig Booker</td>\n      <td>Debra Henley</td>\n      <td>CPU</td>\n      <td>1</td>\n      <td>35000</td>\n      <td>declined</td>\n    </tr>\n    <tr>\n      <th>4</th>\n      <td>146832</td>\n      <td>Kiehn-Spinka</td>\n      <td>Daniel Hilton</td>\n      <td>Debra Henley</td>\n      <td>CPU</td>\n      <td>2</td>\n      <td>65000</td>\n      <td>won</td>\n    </tr>\n    <tr>\n      <th>5</th>\n      <td>218895</td>\n      <td>Kulas Inc</td>\n      <td>Daniel Hilton</td>\n      <td>Debra Henley</td>\n      <td>CPU</td>\n      <td>2</td>\n      <td>40000</td>\n      <td>pending</td>\n    </tr>\n    <tr>\n      <th>6</th>\n      <td>218895</td>\n      <td>Kulas Inc</td>\n      <td>Daniel Hilton</td>\n      <td>Debra Henley</td>\n      <td>Software</td>\n      <td>1</td>\n      <td>10000</td>\n      <td>presented</td>\n    </tr>\n    <tr>\n      <th>7</th>\n      <td>412290</td>\n      <td>Jerde-Hilpert</td>\n      <td>John Smith</td>\n      <td>Debra Henley</td>\n      <td>Maintenance</td>\n      <td>2</td>\n      <td>5000</td>\n      <td>pending</td>\n    </tr>\n    <tr>\n      <th>8</th>\n      <td>740150</td>\n      <td>Barton LLC</td>\n      <td>John Smith</td>\n      <td>Debra Henley</td>\n      <td>CPU</td>\n      <td>1</td>\n      <td>35000</td>\n      <td>declined</td>\n    </tr>\n    <tr>\n      <th>9</th>\n      <td>141962</td>\n      <td>Herman LLC</td>\n      <td>Cedric Moss</td>\n      <td>Fred Anderson</td>\n      <td>CPU</td>\n      <td>2</td>\n      <td>65000</td>\n      <td>won</td>\n    </tr>\n    <tr>\n      <th>10</th>\n      <td>163416</td>\n      <td>Purdy-Kunde</td>\n      <td>Cedric Moss</td>\n      <td>Fred Anderson</td>\n      <td>CPU</td>\n      <td>1</td>\n      <td>30000</td>\n      <td>presented</td>\n    </tr>\n    <tr>\n      <th>11</th>\n      <td>239344</td>\n      <td>Stokes LLC</td>\n      <td>Cedric Moss</td>\n      <td>Fred Anderson</td>\n      <td>Maintenance</td>\n      <td>1</td>\n      <td>5000</td>\n      <td>pending</td>\n    </tr>\n    <tr>\n      <th>12</th>\n      <td>239344</td>\n      <td>Stokes LLC</td>\n      <td>Cedric Moss</td>\n      <td>Fred Anderson</td>\n      <td>Software</td>\n      <td>1</td>\n      <td>10000</td>\n      <td>presented</td>\n    </tr>\n    <tr>\n      <th>13</th>\n      <td>307599</td>\n      <td>Kassulke, Ondricka and Metz</td>\n      <td>Wendy Yule</td>\n      <td>Fred Anderson</td>\n      <td>Maintenance</td>\n      <td>3</td>\n      <td>7000</td>\n      <td>won</td>\n    </tr>\n    <tr>\n      <th>14</th>\n      <td>688981</td>\n      <td>Keeling LLC</td>\n      <td>Wendy Yule</td>\n      <td>Fred Anderson</td>\n      <td>CPU</td>\n      <td>5</td>\n      <td>100000</td>\n      <td>won</td>\n    </tr>\n    <tr>\n      <th>15</th>\n      <td>729833</td>\n      <td>Koepp Ltd</td>\n      <td>Wendy Yule</td>\n      <td>Fred Anderson</td>\n      <td>CPU</td>\n      <td>2</td>\n      <td>65000</td>\n      <td>declined</td>\n    </tr>\n    <tr>\n      <th>16</th>\n      <td>729833</td>\n      <td>Koepp Ltd</td>\n      <td>Wendy Yule</td>\n      <td>Fred Anderson</td>\n      <td>Monitor</td>\n      <td>2</td>\n      <td>5000</td>\n      <td>presented</td>\n    </tr>\n  </tbody>\n</table>\n</div>"
     },
     "metadata": {},
     "execution_count": 77
    }
   ],
   "source": [
    "df = pd.read_excel(\"/Volumes/Geozedo60/Python/bit/datamath/practice/DataScience/data/02. sales-funnel.xlsx\")\n",
    "df"
   ]
  },
  {
   "cell_type": "code",
   "execution_count": 76,
   "metadata": {},
   "outputs": [
    {
     "output_type": "execute_result",
     "data": {
      "text/plain": [
       "                              Account   Price  Quantity\n",
       "Name                                                   \n",
       "Barton LLC                     740150   35000  1.000000\n",
       "Fritsch, Russel and Anderson   737550   35000  1.000000\n",
       "Herman LLC                     141962   65000  2.000000\n",
       "Jerde-Hilpert                  412290    5000  2.000000\n",
       "Kassulke, Ondricka and Metz    307599    7000  3.000000\n",
       "Keeling LLC                    688981  100000  5.000000\n",
       "Kiehn-Spinka                   146832   65000  2.000000\n",
       "Koepp Ltd                      729833   35000  2.000000\n",
       "Kulas Inc                      218895   25000  1.500000\n",
       "Purdy-Kunde                    163416   30000  1.000000\n",
       "Stokes LLC                     239344    7500  1.000000\n",
       "Trantow-Barrows                714466   15000  1.333333"
      ],
      "text/html": "<div>\n<style scoped>\n    .dataframe tbody tr th:only-of-type {\n        vertical-align: middle;\n    }\n\n    .dataframe tbody tr th {\n        vertical-align: top;\n    }\n\n    .dataframe thead th {\n        text-align: right;\n    }\n</style>\n<table border=\"1\" class=\"dataframe\">\n  <thead>\n    <tr style=\"text-align: right;\">\n      <th></th>\n      <th>Account</th>\n      <th>Price</th>\n      <th>Quantity</th>\n    </tr>\n    <tr>\n      <th>Name</th>\n      <th></th>\n      <th></th>\n      <th></th>\n    </tr>\n  </thead>\n  <tbody>\n    <tr>\n      <th>Barton LLC</th>\n      <td>740150</td>\n      <td>35000</td>\n      <td>1.000000</td>\n    </tr>\n    <tr>\n      <th>Fritsch, Russel and Anderson</th>\n      <td>737550</td>\n      <td>35000</td>\n      <td>1.000000</td>\n    </tr>\n    <tr>\n      <th>Herman LLC</th>\n      <td>141962</td>\n      <td>65000</td>\n      <td>2.000000</td>\n    </tr>\n    <tr>\n      <th>Jerde-Hilpert</th>\n      <td>412290</td>\n      <td>5000</td>\n      <td>2.000000</td>\n    </tr>\n    <tr>\n      <th>Kassulke, Ondricka and Metz</th>\n      <td>307599</td>\n      <td>7000</td>\n      <td>3.000000</td>\n    </tr>\n    <tr>\n      <th>Keeling LLC</th>\n      <td>688981</td>\n      <td>100000</td>\n      <td>5.000000</td>\n    </tr>\n    <tr>\n      <th>Kiehn-Spinka</th>\n      <td>146832</td>\n      <td>65000</td>\n      <td>2.000000</td>\n    </tr>\n    <tr>\n      <th>Koepp Ltd</th>\n      <td>729833</td>\n      <td>35000</td>\n      <td>2.000000</td>\n    </tr>\n    <tr>\n      <th>Kulas Inc</th>\n      <td>218895</td>\n      <td>25000</td>\n      <td>1.500000</td>\n    </tr>\n    <tr>\n      <th>Purdy-Kunde</th>\n      <td>163416</td>\n      <td>30000</td>\n      <td>1.000000</td>\n    </tr>\n    <tr>\n      <th>Stokes LLC</th>\n      <td>239344</td>\n      <td>7500</td>\n      <td>1.000000</td>\n    </tr>\n    <tr>\n      <th>Trantow-Barrows</th>\n      <td>714466</td>\n      <td>15000</td>\n      <td>1.333333</td>\n    </tr>\n  </tbody>\n</table>\n</div>"
     },
     "metadata": {},
     "execution_count": 76
    }
   ],
   "source": [
    "pd.pivot_table(df,index=[\"Name\"])"
   ]
  },
  {
   "cell_type": "code",
   "execution_count": 29,
   "metadata": {},
   "outputs": [
    {
     "output_type": "execute_result",
     "data": {
      "text/plain": [
       "                                                          Account   Price  \\\n",
       "Name                         Rep           Manager                          \n",
       "Barton LLC                   John Smith    Debra Henley    740150   35000   \n",
       "Fritsch, Russel and Anderson Craig Booker  Debra Henley    737550   35000   \n",
       "Herman LLC                   Cedric Moss   Fred Anderson   141962   65000   \n",
       "Jerde-Hilpert                John Smith    Debra Henley    412290    5000   \n",
       "Kassulke, Ondricka and Metz  Wendy Yule    Fred Anderson   307599    7000   \n",
       "Keeling LLC                  Wendy Yule    Fred Anderson   688981  100000   \n",
       "Kiehn-Spinka                 Daniel Hilton Debra Henley    146832   65000   \n",
       "Koepp Ltd                    Wendy Yule    Fred Anderson   729833   35000   \n",
       "Kulas Inc                    Daniel Hilton Debra Henley    218895   25000   \n",
       "Purdy-Kunde                  Cedric Moss   Fred Anderson   163416   30000   \n",
       "Stokes LLC                   Cedric Moss   Fred Anderson   239344    7500   \n",
       "Trantow-Barrows              Craig Booker  Debra Henley    714466   15000   \n",
       "\n",
       "                                                          Quantity  \n",
       "Name                         Rep           Manager                  \n",
       "Barton LLC                   John Smith    Debra Henley   1.000000  \n",
       "Fritsch, Russel and Anderson Craig Booker  Debra Henley   1.000000  \n",
       "Herman LLC                   Cedric Moss   Fred Anderson  2.000000  \n",
       "Jerde-Hilpert                John Smith    Debra Henley   2.000000  \n",
       "Kassulke, Ondricka and Metz  Wendy Yule    Fred Anderson  3.000000  \n",
       "Keeling LLC                  Wendy Yule    Fred Anderson  5.000000  \n",
       "Kiehn-Spinka                 Daniel Hilton Debra Henley   2.000000  \n",
       "Koepp Ltd                    Wendy Yule    Fred Anderson  2.000000  \n",
       "Kulas Inc                    Daniel Hilton Debra Henley   1.500000  \n",
       "Purdy-Kunde                  Cedric Moss   Fred Anderson  1.000000  \n",
       "Stokes LLC                   Cedric Moss   Fred Anderson  1.000000  \n",
       "Trantow-Barrows              Craig Booker  Debra Henley   1.333333  "
      ],
      "text/html": "<div>\n<style scoped>\n    .dataframe tbody tr th:only-of-type {\n        vertical-align: middle;\n    }\n\n    .dataframe tbody tr th {\n        vertical-align: top;\n    }\n\n    .dataframe thead th {\n        text-align: right;\n    }\n</style>\n<table border=\"1\" class=\"dataframe\">\n  <thead>\n    <tr style=\"text-align: right;\">\n      <th></th>\n      <th></th>\n      <th></th>\n      <th>Account</th>\n      <th>Price</th>\n      <th>Quantity</th>\n    </tr>\n    <tr>\n      <th>Name</th>\n      <th>Rep</th>\n      <th>Manager</th>\n      <th></th>\n      <th></th>\n      <th></th>\n    </tr>\n  </thead>\n  <tbody>\n    <tr>\n      <th>Barton LLC</th>\n      <th>John Smith</th>\n      <th>Debra Henley</th>\n      <td>740150</td>\n      <td>35000</td>\n      <td>1.000000</td>\n    </tr>\n    <tr>\n      <th>Fritsch, Russel and Anderson</th>\n      <th>Craig Booker</th>\n      <th>Debra Henley</th>\n      <td>737550</td>\n      <td>35000</td>\n      <td>1.000000</td>\n    </tr>\n    <tr>\n      <th>Herman LLC</th>\n      <th>Cedric Moss</th>\n      <th>Fred Anderson</th>\n      <td>141962</td>\n      <td>65000</td>\n      <td>2.000000</td>\n    </tr>\n    <tr>\n      <th>Jerde-Hilpert</th>\n      <th>John Smith</th>\n      <th>Debra Henley</th>\n      <td>412290</td>\n      <td>5000</td>\n      <td>2.000000</td>\n    </tr>\n    <tr>\n      <th>Kassulke, Ondricka and Metz</th>\n      <th>Wendy Yule</th>\n      <th>Fred Anderson</th>\n      <td>307599</td>\n      <td>7000</td>\n      <td>3.000000</td>\n    </tr>\n    <tr>\n      <th>Keeling LLC</th>\n      <th>Wendy Yule</th>\n      <th>Fred Anderson</th>\n      <td>688981</td>\n      <td>100000</td>\n      <td>5.000000</td>\n    </tr>\n    <tr>\n      <th>Kiehn-Spinka</th>\n      <th>Daniel Hilton</th>\n      <th>Debra Henley</th>\n      <td>146832</td>\n      <td>65000</td>\n      <td>2.000000</td>\n    </tr>\n    <tr>\n      <th>Koepp Ltd</th>\n      <th>Wendy Yule</th>\n      <th>Fred Anderson</th>\n      <td>729833</td>\n      <td>35000</td>\n      <td>2.000000</td>\n    </tr>\n    <tr>\n      <th>Kulas Inc</th>\n      <th>Daniel Hilton</th>\n      <th>Debra Henley</th>\n      <td>218895</td>\n      <td>25000</td>\n      <td>1.500000</td>\n    </tr>\n    <tr>\n      <th>Purdy-Kunde</th>\n      <th>Cedric Moss</th>\n      <th>Fred Anderson</th>\n      <td>163416</td>\n      <td>30000</td>\n      <td>1.000000</td>\n    </tr>\n    <tr>\n      <th>Stokes LLC</th>\n      <th>Cedric Moss</th>\n      <th>Fred Anderson</th>\n      <td>239344</td>\n      <td>7500</td>\n      <td>1.000000</td>\n    </tr>\n    <tr>\n      <th>Trantow-Barrows</th>\n      <th>Craig Booker</th>\n      <th>Debra Henley</th>\n      <td>714466</td>\n      <td>15000</td>\n      <td>1.333333</td>\n    </tr>\n  </tbody>\n</table>\n</div>"
     },
     "metadata": {},
     "execution_count": 29
    }
   ],
   "source": [
    "pd.pivot_table(df,index=[\"Name\",\"Rep\",\"Manager\"])"
   ]
  },
  {
   "cell_type": "code",
   "execution_count": 30,
   "metadata": {},
   "outputs": [
    {
     "output_type": "execute_result",
     "data": {
      "text/plain": [
       "                              Account         Price  Quantity\n",
       "Manager       Rep                                            \n",
       "Debra Henley  Craig Booker   720237.0  20000.000000  1.250000\n",
       "              Daniel Hilton  194874.0  38333.333333  1.666667\n",
       "              John Smith     576220.0  20000.000000  1.500000\n",
       "Fred Anderson Cedric Moss    196016.5  27500.000000  1.250000\n",
       "              Wendy Yule     614061.5  44250.000000  3.000000"
      ],
      "text/html": "<div>\n<style scoped>\n    .dataframe tbody tr th:only-of-type {\n        vertical-align: middle;\n    }\n\n    .dataframe tbody tr th {\n        vertical-align: top;\n    }\n\n    .dataframe thead th {\n        text-align: right;\n    }\n</style>\n<table border=\"1\" class=\"dataframe\">\n  <thead>\n    <tr style=\"text-align: right;\">\n      <th></th>\n      <th></th>\n      <th>Account</th>\n      <th>Price</th>\n      <th>Quantity</th>\n    </tr>\n    <tr>\n      <th>Manager</th>\n      <th>Rep</th>\n      <th></th>\n      <th></th>\n      <th></th>\n    </tr>\n  </thead>\n  <tbody>\n    <tr>\n      <th rowspan=\"3\" valign=\"top\">Debra Henley</th>\n      <th>Craig Booker</th>\n      <td>720237.0</td>\n      <td>20000.000000</td>\n      <td>1.250000</td>\n    </tr>\n    <tr>\n      <th>Daniel Hilton</th>\n      <td>194874.0</td>\n      <td>38333.333333</td>\n      <td>1.666667</td>\n    </tr>\n    <tr>\n      <th>John Smith</th>\n      <td>576220.0</td>\n      <td>20000.000000</td>\n      <td>1.500000</td>\n    </tr>\n    <tr>\n      <th rowspan=\"2\" valign=\"top\">Fred Anderson</th>\n      <th>Cedric Moss</th>\n      <td>196016.5</td>\n      <td>27500.000000</td>\n      <td>1.250000</td>\n    </tr>\n    <tr>\n      <th>Wendy Yule</th>\n      <td>614061.5</td>\n      <td>44250.000000</td>\n      <td>3.000000</td>\n    </tr>\n  </tbody>\n</table>\n</div>"
     },
     "metadata": {},
     "execution_count": 30
    }
   ],
   "source": [
    "pd.pivot_table(df,index=[\"Manager\",\"Rep\"])"
   ]
  },
  {
   "cell_type": "code",
   "execution_count": 31,
   "metadata": {},
   "outputs": [
    {
     "output_type": "execute_result",
     "data": {
      "text/plain": [
       "                                    Price\n",
       "Manager       Rep                        \n",
       "Debra Henley  Craig Booker   20000.000000\n",
       "              Daniel Hilton  38333.333333\n",
       "              John Smith     20000.000000\n",
       "Fred Anderson Cedric Moss    27500.000000\n",
       "              Wendy Yule     44250.000000"
      ],
      "text/html": "<div>\n<style scoped>\n    .dataframe tbody tr th:only-of-type {\n        vertical-align: middle;\n    }\n\n    .dataframe tbody tr th {\n        vertical-align: top;\n    }\n\n    .dataframe thead th {\n        text-align: right;\n    }\n</style>\n<table border=\"1\" class=\"dataframe\">\n  <thead>\n    <tr style=\"text-align: right;\">\n      <th></th>\n      <th></th>\n      <th>Price</th>\n    </tr>\n    <tr>\n      <th>Manager</th>\n      <th>Rep</th>\n      <th></th>\n    </tr>\n  </thead>\n  <tbody>\n    <tr>\n      <th rowspan=\"3\" valign=\"top\">Debra Henley</th>\n      <th>Craig Booker</th>\n      <td>20000.000000</td>\n    </tr>\n    <tr>\n      <th>Daniel Hilton</th>\n      <td>38333.333333</td>\n    </tr>\n    <tr>\n      <th>John Smith</th>\n      <td>20000.000000</td>\n    </tr>\n    <tr>\n      <th rowspan=\"2\" valign=\"top\">Fred Anderson</th>\n      <th>Cedric Moss</th>\n      <td>27500.000000</td>\n    </tr>\n    <tr>\n      <th>Wendy Yule</th>\n      <td>44250.000000</td>\n    </tr>\n  </tbody>\n</table>\n</div>"
     },
     "metadata": {},
     "execution_count": 31
    }
   ],
   "source": [
    "pd.pivot_table(df,index=[\"Manager\",\"Rep\"],values=[\"Price\"])"
   ]
  },
  {
   "cell_type": "code",
   "execution_count": 32,
   "metadata": {},
   "outputs": [
    {
     "output_type": "execute_result",
     "data": {
      "text/plain": [
       "                              Price\n",
       "Manager       Rep                  \n",
       "Debra Henley  Craig Booker    80000\n",
       "              Daniel Hilton  115000\n",
       "              John Smith      40000\n",
       "Fred Anderson Cedric Moss    110000\n",
       "              Wendy Yule     177000"
      ],
      "text/html": "<div>\n<style scoped>\n    .dataframe tbody tr th:only-of-type {\n        vertical-align: middle;\n    }\n\n    .dataframe tbody tr th {\n        vertical-align: top;\n    }\n\n    .dataframe thead th {\n        text-align: right;\n    }\n</style>\n<table border=\"1\" class=\"dataframe\">\n  <thead>\n    <tr style=\"text-align: right;\">\n      <th></th>\n      <th></th>\n      <th>Price</th>\n    </tr>\n    <tr>\n      <th>Manager</th>\n      <th>Rep</th>\n      <th></th>\n    </tr>\n  </thead>\n  <tbody>\n    <tr>\n      <th rowspan=\"3\" valign=\"top\">Debra Henley</th>\n      <th>Craig Booker</th>\n      <td>80000</td>\n    </tr>\n    <tr>\n      <th>Daniel Hilton</th>\n      <td>115000</td>\n    </tr>\n    <tr>\n      <th>John Smith</th>\n      <td>40000</td>\n    </tr>\n    <tr>\n      <th rowspan=\"2\" valign=\"top\">Fred Anderson</th>\n      <th>Cedric Moss</th>\n      <td>110000</td>\n    </tr>\n    <tr>\n      <th>Wendy Yule</th>\n      <td>177000</td>\n    </tr>\n  </tbody>\n</table>\n</div>"
     },
     "metadata": {},
     "execution_count": 32
    }
   ],
   "source": [
    "# rep 에 맞춘 소계\n",
    "pd.pivot_table(df,index=[\"Manager\",\"Rep\"],values=[\"Price\"],aggfunc=np.sum)"
   ]
  },
  {
   "cell_type": "code",
   "execution_count": 33,
   "metadata": {},
   "outputs": [
    {
     "output_type": "execute_result",
     "data": {
      "text/plain": [
       "                                     mean   len\n",
       "                                    Price Price\n",
       "Manager       Rep                              \n",
       "Debra Henley  Craig Booker   20000.000000     4\n",
       "              Daniel Hilton  38333.333333     3\n",
       "              John Smith     20000.000000     2\n",
       "Fred Anderson Cedric Moss    27500.000000     4\n",
       "              Wendy Yule     44250.000000     4"
      ],
      "text/html": "<div>\n<style scoped>\n    .dataframe tbody tr th:only-of-type {\n        vertical-align: middle;\n    }\n\n    .dataframe tbody tr th {\n        vertical-align: top;\n    }\n\n    .dataframe thead tr th {\n        text-align: left;\n    }\n\n    .dataframe thead tr:last-of-type th {\n        text-align: right;\n    }\n</style>\n<table border=\"1\" class=\"dataframe\">\n  <thead>\n    <tr>\n      <th></th>\n      <th></th>\n      <th>mean</th>\n      <th>len</th>\n    </tr>\n    <tr>\n      <th></th>\n      <th></th>\n      <th>Price</th>\n      <th>Price</th>\n    </tr>\n    <tr>\n      <th>Manager</th>\n      <th>Rep</th>\n      <th></th>\n      <th></th>\n    </tr>\n  </thead>\n  <tbody>\n    <tr>\n      <th rowspan=\"3\" valign=\"top\">Debra Henley</th>\n      <th>Craig Booker</th>\n      <td>20000.000000</td>\n      <td>4</td>\n    </tr>\n    <tr>\n      <th>Daniel Hilton</th>\n      <td>38333.333333</td>\n      <td>3</td>\n    </tr>\n    <tr>\n      <th>John Smith</th>\n      <td>20000.000000</td>\n      <td>2</td>\n    </tr>\n    <tr>\n      <th rowspan=\"2\" valign=\"top\">Fred Anderson</th>\n      <th>Cedric Moss</th>\n      <td>27500.000000</td>\n      <td>4</td>\n    </tr>\n    <tr>\n      <th>Wendy Yule</th>\n      <td>44250.000000</td>\n      <td>4</td>\n    </tr>\n  </tbody>\n</table>\n</div>"
     },
     "metadata": {},
     "execution_count": 33
    }
   ],
   "source": [
    "pd.pivot_table(df,index=[\"Manager\",\"Rep\"],values=[\"Price\"],aggfunc=[np.mean,len])"
   ]
  },
  {
   "cell_type": "code",
   "execution_count": 34,
   "metadata": {},
   "outputs": [
    {
     "output_type": "execute_result",
     "data": {
      "text/plain": [
       "                                  sum                             \n",
       "                                Price                             \n",
       "Product                           CPU Maintenance Monitor Software\n",
       "Manager       Rep                                                 \n",
       "Debra Henley  Craig Booker    65000.0      5000.0     NaN  10000.0\n",
       "              Daniel Hilton  105000.0         NaN     NaN  10000.0\n",
       "              John Smith      35000.0      5000.0     NaN      NaN\n",
       "Fred Anderson Cedric Moss     95000.0      5000.0     NaN  10000.0\n",
       "              Wendy Yule     165000.0      7000.0  5000.0      NaN"
      ],
      "text/html": "<div>\n<style scoped>\n    .dataframe tbody tr th:only-of-type {\n        vertical-align: middle;\n    }\n\n    .dataframe tbody tr th {\n        vertical-align: top;\n    }\n\n    .dataframe thead tr th {\n        text-align: left;\n    }\n\n    .dataframe thead tr:last-of-type th {\n        text-align: right;\n    }\n</style>\n<table border=\"1\" class=\"dataframe\">\n  <thead>\n    <tr>\n      <th></th>\n      <th></th>\n      <th colspan=\"4\" halign=\"left\">sum</th>\n    </tr>\n    <tr>\n      <th></th>\n      <th></th>\n      <th colspan=\"4\" halign=\"left\">Price</th>\n    </tr>\n    <tr>\n      <th></th>\n      <th>Product</th>\n      <th>CPU</th>\n      <th>Maintenance</th>\n      <th>Monitor</th>\n      <th>Software</th>\n    </tr>\n    <tr>\n      <th>Manager</th>\n      <th>Rep</th>\n      <th></th>\n      <th></th>\n      <th></th>\n      <th></th>\n    </tr>\n  </thead>\n  <tbody>\n    <tr>\n      <th rowspan=\"3\" valign=\"top\">Debra Henley</th>\n      <th>Craig Booker</th>\n      <td>65000.0</td>\n      <td>5000.0</td>\n      <td>NaN</td>\n      <td>10000.0</td>\n    </tr>\n    <tr>\n      <th>Daniel Hilton</th>\n      <td>105000.0</td>\n      <td>NaN</td>\n      <td>NaN</td>\n      <td>10000.0</td>\n    </tr>\n    <tr>\n      <th>John Smith</th>\n      <td>35000.0</td>\n      <td>5000.0</td>\n      <td>NaN</td>\n      <td>NaN</td>\n    </tr>\n    <tr>\n      <th rowspan=\"2\" valign=\"top\">Fred Anderson</th>\n      <th>Cedric Moss</th>\n      <td>95000.0</td>\n      <td>5000.0</td>\n      <td>NaN</td>\n      <td>10000.0</td>\n    </tr>\n    <tr>\n      <th>Wendy Yule</th>\n      <td>165000.0</td>\n      <td>7000.0</td>\n      <td>5000.0</td>\n      <td>NaN</td>\n    </tr>\n  </tbody>\n</table>\n</div>"
     },
     "metadata": {},
     "execution_count": 34
    }
   ],
   "source": [
    "pd.pivot_table(df,index=[\"Manager\",\"Rep\"],values=[\"Price\"],\n",
    "               columns=[\"Product\"],aggfunc=[np.sum])"
   ]
  },
  {
   "cell_type": "code",
   "execution_count": 78,
   "metadata": {},
   "outputs": [
    {
     "output_type": "execute_result",
     "data": {
      "text/plain": [
       "                                sum                             \n",
       "                              Price                             \n",
       "Product                         CPU Maintenance Monitor Software\n",
       "Manager       Rep                                               \n",
       "Debra Henley  Craig Booker    65000        5000       0    10000\n",
       "              Daniel Hilton  105000           0       0    10000\n",
       "              John Smith      35000        5000       0        0\n",
       "Fred Anderson Cedric Moss     95000        5000       0    10000\n",
       "              Wendy Yule     165000        7000    5000        0"
      ],
      "text/html": "<div>\n<style scoped>\n    .dataframe tbody tr th:only-of-type {\n        vertical-align: middle;\n    }\n\n    .dataframe tbody tr th {\n        vertical-align: top;\n    }\n\n    .dataframe thead tr th {\n        text-align: left;\n    }\n\n    .dataframe thead tr:last-of-type th {\n        text-align: right;\n    }\n</style>\n<table border=\"1\" class=\"dataframe\">\n  <thead>\n    <tr>\n      <th></th>\n      <th></th>\n      <th colspan=\"4\" halign=\"left\">sum</th>\n    </tr>\n    <tr>\n      <th></th>\n      <th></th>\n      <th colspan=\"4\" halign=\"left\">Price</th>\n    </tr>\n    <tr>\n      <th></th>\n      <th>Product</th>\n      <th>CPU</th>\n      <th>Maintenance</th>\n      <th>Monitor</th>\n      <th>Software</th>\n    </tr>\n    <tr>\n      <th>Manager</th>\n      <th>Rep</th>\n      <th></th>\n      <th></th>\n      <th></th>\n      <th></th>\n    </tr>\n  </thead>\n  <tbody>\n    <tr>\n      <th rowspan=\"3\" valign=\"top\">Debra Henley</th>\n      <th>Craig Booker</th>\n      <td>65000</td>\n      <td>5000</td>\n      <td>0</td>\n      <td>10000</td>\n    </tr>\n    <tr>\n      <th>Daniel Hilton</th>\n      <td>105000</td>\n      <td>0</td>\n      <td>0</td>\n      <td>10000</td>\n    </tr>\n    <tr>\n      <th>John Smith</th>\n      <td>35000</td>\n      <td>5000</td>\n      <td>0</td>\n      <td>0</td>\n    </tr>\n    <tr>\n      <th rowspan=\"2\" valign=\"top\">Fred Anderson</th>\n      <th>Cedric Moss</th>\n      <td>95000</td>\n      <td>5000</td>\n      <td>0</td>\n      <td>10000</td>\n    </tr>\n    <tr>\n      <th>Wendy Yule</th>\n      <td>165000</td>\n      <td>7000</td>\n      <td>5000</td>\n      <td>0</td>\n    </tr>\n  </tbody>\n</table>\n</div>"
     },
     "metadata": {},
     "execution_count": 78
    }
   ],
   "source": [
    "pd.pivot_table(df,index=[\"Manager\",\"Rep\"],values=[\"Price\"],\n",
    "               columns=[\"Product\"],aggfunc=[np.sum],fill_value=0)"
   ]
  },
  {
   "cell_type": "code",
   "execution_count": 79,
   "metadata": {},
   "outputs": [
    {
     "output_type": "execute_result",
     "data": {
      "text/plain": [
       "                                            sum         \n",
       "                                          Price Quantity\n",
       "Manager       Rep           Product                     \n",
       "Debra Henley  Craig Booker  CPU           65000        2\n",
       "                            Maintenance    5000        2\n",
       "                            Software      10000        1\n",
       "              Daniel Hilton CPU          105000        4\n",
       "                            Software      10000        1\n",
       "              John Smith    CPU           35000        1\n",
       "                            Maintenance    5000        2\n",
       "Fred Anderson Cedric Moss   CPU           95000        3\n",
       "                            Maintenance    5000        1\n",
       "                            Software      10000        1\n",
       "              Wendy Yule    CPU          165000        7\n",
       "                            Maintenance    7000        3\n",
       "                            Monitor        5000        2"
      ],
      "text/html": "<div>\n<style scoped>\n    .dataframe tbody tr th:only-of-type {\n        vertical-align: middle;\n    }\n\n    .dataframe tbody tr th {\n        vertical-align: top;\n    }\n\n    .dataframe thead tr th {\n        text-align: left;\n    }\n\n    .dataframe thead tr:last-of-type th {\n        text-align: right;\n    }\n</style>\n<table border=\"1\" class=\"dataframe\">\n  <thead>\n    <tr>\n      <th></th>\n      <th></th>\n      <th></th>\n      <th colspan=\"2\" halign=\"left\">sum</th>\n    </tr>\n    <tr>\n      <th></th>\n      <th></th>\n      <th></th>\n      <th>Price</th>\n      <th>Quantity</th>\n    </tr>\n    <tr>\n      <th>Manager</th>\n      <th>Rep</th>\n      <th>Product</th>\n      <th></th>\n      <th></th>\n    </tr>\n  </thead>\n  <tbody>\n    <tr>\n      <th rowspan=\"7\" valign=\"top\">Debra Henley</th>\n      <th rowspan=\"3\" valign=\"top\">Craig Booker</th>\n      <th>CPU</th>\n      <td>65000</td>\n      <td>2</td>\n    </tr>\n    <tr>\n      <th>Maintenance</th>\n      <td>5000</td>\n      <td>2</td>\n    </tr>\n    <tr>\n      <th>Software</th>\n      <td>10000</td>\n      <td>1</td>\n    </tr>\n    <tr>\n      <th rowspan=\"2\" valign=\"top\">Daniel Hilton</th>\n      <th>CPU</th>\n      <td>105000</td>\n      <td>4</td>\n    </tr>\n    <tr>\n      <th>Software</th>\n      <td>10000</td>\n      <td>1</td>\n    </tr>\n    <tr>\n      <th rowspan=\"2\" valign=\"top\">John Smith</th>\n      <th>CPU</th>\n      <td>35000</td>\n      <td>1</td>\n    </tr>\n    <tr>\n      <th>Maintenance</th>\n      <td>5000</td>\n      <td>2</td>\n    </tr>\n    <tr>\n      <th rowspan=\"6\" valign=\"top\">Fred Anderson</th>\n      <th rowspan=\"3\" valign=\"top\">Cedric Moss</th>\n      <th>CPU</th>\n      <td>95000</td>\n      <td>3</td>\n    </tr>\n    <tr>\n      <th>Maintenance</th>\n      <td>5000</td>\n      <td>1</td>\n    </tr>\n    <tr>\n      <th>Software</th>\n      <td>10000</td>\n      <td>1</td>\n    </tr>\n    <tr>\n      <th rowspan=\"3\" valign=\"top\">Wendy Yule</th>\n      <th>CPU</th>\n      <td>165000</td>\n      <td>7</td>\n    </tr>\n    <tr>\n      <th>Maintenance</th>\n      <td>7000</td>\n      <td>3</td>\n    </tr>\n    <tr>\n      <th>Monitor</th>\n      <td>5000</td>\n      <td>2</td>\n    </tr>\n  </tbody>\n</table>\n</div>"
     },
     "metadata": {},
     "execution_count": 79
    }
   ],
   "source": [
    "pd.pivot_table(df,index=[\"Manager\",\"Rep\",\"Product\"],\n",
    "               values=[\"Price\",\"Quantity\"],aggfunc=[np.sum],fill_value=0)"
   ]
  },
  {
   "cell_type": "code",
   "execution_count": 80,
   "metadata": {},
   "outputs": [
    {
     "output_type": "execute_result",
     "data": {
      "text/plain": [
       "                                            sum                   mean  \\\n",
       "                                          Price Quantity         Price   \n",
       "Manager       Rep           Product                                      \n",
       "Debra Henley  Craig Booker  CPU           65000        2  32500.000000   \n",
       "                            Maintenance    5000        2   5000.000000   \n",
       "                            Software      10000        1  10000.000000   \n",
       "              Daniel Hilton CPU          105000        4  52500.000000   \n",
       "                            Software      10000        1  10000.000000   \n",
       "              John Smith    CPU           35000        1  35000.000000   \n",
       "                            Maintenance    5000        2   5000.000000   \n",
       "Fred Anderson Cedric Moss   CPU           95000        3  47500.000000   \n",
       "                            Maintenance    5000        1   5000.000000   \n",
       "                            Software      10000        1  10000.000000   \n",
       "              Wendy Yule    CPU          165000        7  82500.000000   \n",
       "                            Maintenance    7000        3   7000.000000   \n",
       "                            Monitor        5000        2   5000.000000   \n",
       "All                                      522000       30  30705.882353   \n",
       "\n",
       "                                                   \n",
       "                                         Quantity  \n",
       "Manager       Rep           Product                \n",
       "Debra Henley  Craig Booker  CPU          1.000000  \n",
       "                            Maintenance  2.000000  \n",
       "                            Software     1.000000  \n",
       "              Daniel Hilton CPU          2.000000  \n",
       "                            Software     1.000000  \n",
       "              John Smith    CPU          1.000000  \n",
       "                            Maintenance  2.000000  \n",
       "Fred Anderson Cedric Moss   CPU          1.500000  \n",
       "                            Maintenance  1.000000  \n",
       "                            Software     1.000000  \n",
       "              Wendy Yule    CPU          3.500000  \n",
       "                            Maintenance  3.000000  \n",
       "                            Monitor      2.000000  \n",
       "All                                      1.764706  "
      ],
      "text/html": "<div>\n<style scoped>\n    .dataframe tbody tr th:only-of-type {\n        vertical-align: middle;\n    }\n\n    .dataframe tbody tr th {\n        vertical-align: top;\n    }\n\n    .dataframe thead tr th {\n        text-align: left;\n    }\n\n    .dataframe thead tr:last-of-type th {\n        text-align: right;\n    }\n</style>\n<table border=\"1\" class=\"dataframe\">\n  <thead>\n    <tr>\n      <th></th>\n      <th></th>\n      <th></th>\n      <th colspan=\"2\" halign=\"left\">sum</th>\n      <th colspan=\"2\" halign=\"left\">mean</th>\n    </tr>\n    <tr>\n      <th></th>\n      <th></th>\n      <th></th>\n      <th>Price</th>\n      <th>Quantity</th>\n      <th>Price</th>\n      <th>Quantity</th>\n    </tr>\n    <tr>\n      <th>Manager</th>\n      <th>Rep</th>\n      <th>Product</th>\n      <th></th>\n      <th></th>\n      <th></th>\n      <th></th>\n    </tr>\n  </thead>\n  <tbody>\n    <tr>\n      <th rowspan=\"7\" valign=\"top\">Debra Henley</th>\n      <th rowspan=\"3\" valign=\"top\">Craig Booker</th>\n      <th>CPU</th>\n      <td>65000</td>\n      <td>2</td>\n      <td>32500.000000</td>\n      <td>1.000000</td>\n    </tr>\n    <tr>\n      <th>Maintenance</th>\n      <td>5000</td>\n      <td>2</td>\n      <td>5000.000000</td>\n      <td>2.000000</td>\n    </tr>\n    <tr>\n      <th>Software</th>\n      <td>10000</td>\n      <td>1</td>\n      <td>10000.000000</td>\n      <td>1.000000</td>\n    </tr>\n    <tr>\n      <th rowspan=\"2\" valign=\"top\">Daniel Hilton</th>\n      <th>CPU</th>\n      <td>105000</td>\n      <td>4</td>\n      <td>52500.000000</td>\n      <td>2.000000</td>\n    </tr>\n    <tr>\n      <th>Software</th>\n      <td>10000</td>\n      <td>1</td>\n      <td>10000.000000</td>\n      <td>1.000000</td>\n    </tr>\n    <tr>\n      <th rowspan=\"2\" valign=\"top\">John Smith</th>\n      <th>CPU</th>\n      <td>35000</td>\n      <td>1</td>\n      <td>35000.000000</td>\n      <td>1.000000</td>\n    </tr>\n    <tr>\n      <th>Maintenance</th>\n      <td>5000</td>\n      <td>2</td>\n      <td>5000.000000</td>\n      <td>2.000000</td>\n    </tr>\n    <tr>\n      <th rowspan=\"6\" valign=\"top\">Fred Anderson</th>\n      <th rowspan=\"3\" valign=\"top\">Cedric Moss</th>\n      <th>CPU</th>\n      <td>95000</td>\n      <td>3</td>\n      <td>47500.000000</td>\n      <td>1.500000</td>\n    </tr>\n    <tr>\n      <th>Maintenance</th>\n      <td>5000</td>\n      <td>1</td>\n      <td>5000.000000</td>\n      <td>1.000000</td>\n    </tr>\n    <tr>\n      <th>Software</th>\n      <td>10000</td>\n      <td>1</td>\n      <td>10000.000000</td>\n      <td>1.000000</td>\n    </tr>\n    <tr>\n      <th rowspan=\"3\" valign=\"top\">Wendy Yule</th>\n      <th>CPU</th>\n      <td>165000</td>\n      <td>7</td>\n      <td>82500.000000</td>\n      <td>3.500000</td>\n    </tr>\n    <tr>\n      <th>Maintenance</th>\n      <td>7000</td>\n      <td>3</td>\n      <td>7000.000000</td>\n      <td>3.000000</td>\n    </tr>\n    <tr>\n      <th>Monitor</th>\n      <td>5000</td>\n      <td>2</td>\n      <td>5000.000000</td>\n      <td>2.000000</td>\n    </tr>\n    <tr>\n      <th>All</th>\n      <th></th>\n      <th></th>\n      <td>522000</td>\n      <td>30</td>\n      <td>30705.882353</td>\n      <td>1.764706</td>\n    </tr>\n  </tbody>\n</table>\n</div>"
     },
     "metadata": {},
     "execution_count": 80
    }
   ],
   "source": [
    "pd.pivot_table(df,index=[\"Manager\",\"Rep\",\"Product\"],\n",
    "               values=[\"Price\",\"Quantity\"],\n",
    "               aggfunc=[np.sum,np.mean],fill_value=0,margins=True)"
   ]
  },
  {
   "cell_type": "markdown",
   "metadata": {},
   "source": [
    "# 범죄 데이터 구별로 정리하기"
   ]
  },
  {
   "cell_type": "code",
   "execution_count": 35,
   "metadata": {},
   "outputs": [
    {
     "output_type": "execute_result",
     "data": {
      "text/plain": [
       "   Unnamed: 0   관서명  살인 발생  살인 검거  강도 발생  강도 검거  강간 발생  강간 검거  절도 발생  절도 검거  \\\n",
       "0           0   중부서      2      2      3      2    105     65   1395    477   \n",
       "1           1   종로서      3      3      6      5    115     98   1070    413   \n",
       "2           2  남대문서      1      0      6      4     65     46   1153    382   \n",
       "3           3  서대문서      2      2      5      4    154    124   1812    738   \n",
       "4           4   혜화서      3      2      5      4     96     63   1114    424   \n",
       "\n",
       "   폭력 발생  폭력 검거    구별  \n",
       "0   1355   1170    중구  \n",
       "1   1278   1070   종로구  \n",
       "2    869    794    중구  \n",
       "3   2056   1711  서대문구  \n",
       "4   1015    861   종로구  "
      ],
      "text/html": "<div>\n<style scoped>\n    .dataframe tbody tr th:only-of-type {\n        vertical-align: middle;\n    }\n\n    .dataframe tbody tr th {\n        vertical-align: top;\n    }\n\n    .dataframe thead th {\n        text-align: right;\n    }\n</style>\n<table border=\"1\" class=\"dataframe\">\n  <thead>\n    <tr style=\"text-align: right;\">\n      <th></th>\n      <th>Unnamed: 0</th>\n      <th>관서명</th>\n      <th>살인 발생</th>\n      <th>살인 검거</th>\n      <th>강도 발생</th>\n      <th>강도 검거</th>\n      <th>강간 발생</th>\n      <th>강간 검거</th>\n      <th>절도 발생</th>\n      <th>절도 검거</th>\n      <th>폭력 발생</th>\n      <th>폭력 검거</th>\n      <th>구별</th>\n    </tr>\n  </thead>\n  <tbody>\n    <tr>\n      <th>0</th>\n      <td>0</td>\n      <td>중부서</td>\n      <td>2</td>\n      <td>2</td>\n      <td>3</td>\n      <td>2</td>\n      <td>105</td>\n      <td>65</td>\n      <td>1395</td>\n      <td>477</td>\n      <td>1355</td>\n      <td>1170</td>\n      <td>중구</td>\n    </tr>\n    <tr>\n      <th>1</th>\n      <td>1</td>\n      <td>종로서</td>\n      <td>3</td>\n      <td>3</td>\n      <td>6</td>\n      <td>5</td>\n      <td>115</td>\n      <td>98</td>\n      <td>1070</td>\n      <td>413</td>\n      <td>1278</td>\n      <td>1070</td>\n      <td>종로구</td>\n    </tr>\n    <tr>\n      <th>2</th>\n      <td>2</td>\n      <td>남대문서</td>\n      <td>1</td>\n      <td>0</td>\n      <td>6</td>\n      <td>4</td>\n      <td>65</td>\n      <td>46</td>\n      <td>1153</td>\n      <td>382</td>\n      <td>869</td>\n      <td>794</td>\n      <td>중구</td>\n    </tr>\n    <tr>\n      <th>3</th>\n      <td>3</td>\n      <td>서대문서</td>\n      <td>2</td>\n      <td>2</td>\n      <td>5</td>\n      <td>4</td>\n      <td>154</td>\n      <td>124</td>\n      <td>1812</td>\n      <td>738</td>\n      <td>2056</td>\n      <td>1711</td>\n      <td>서대문구</td>\n    </tr>\n    <tr>\n      <th>4</th>\n      <td>4</td>\n      <td>혜화서</td>\n      <td>3</td>\n      <td>2</td>\n      <td>5</td>\n      <td>4</td>\n      <td>96</td>\n      <td>63</td>\n      <td>1114</td>\n      <td>424</td>\n      <td>1015</td>\n      <td>861</td>\n      <td>종로구</td>\n    </tr>\n  </tbody>\n</table>\n</div>"
     },
     "metadata": {},
     "execution_count": 35
    }
   ],
   "source": [
    "crime_anal_raw = pd.read_csv('/Volumes/Geozedo60/Python/bit/datamath/practice/DataScience/data/02. crime_in_Seoul_include_gu_name.csv', \n",
    "                             encoding='utf-8')\n",
    "crime_anal_raw.head()"
   ]
  },
  {
   "cell_type": "code",
   "execution_count": 81,
   "metadata": {},
   "outputs": [
    {
     "output_type": "execute_result",
     "data": {
      "text/plain": [
       "     강간 검거  강간 발생  강도 검거  강도 발생  살인 검거  살인 발생  절도 검거  절도 발생  폭력 검거  폭력 발생\n",
       "구별                                                                       \n",
       "강남구    349    449     18     21     10     13   1650   3850   3705   4284\n",
       "강동구    123    156      8      6      3      4    789   2366   2248   2712\n",
       "강북구    126    153     13     14      8      7    618   1434   2348   2649\n",
       "강서구    191    262     13     13      8      7   1260   2096   2718   3207\n",
       "관악구    221    320     14     12      8      9    827   2706   2642   3298"
      ],
      "text/html": "<div>\n<style scoped>\n    .dataframe tbody tr th:only-of-type {\n        vertical-align: middle;\n    }\n\n    .dataframe tbody tr th {\n        vertical-align: top;\n    }\n\n    .dataframe thead th {\n        text-align: right;\n    }\n</style>\n<table border=\"1\" class=\"dataframe\">\n  <thead>\n    <tr style=\"text-align: right;\">\n      <th></th>\n      <th>강간 검거</th>\n      <th>강간 발생</th>\n      <th>강도 검거</th>\n      <th>강도 발생</th>\n      <th>살인 검거</th>\n      <th>살인 발생</th>\n      <th>절도 검거</th>\n      <th>절도 발생</th>\n      <th>폭력 검거</th>\n      <th>폭력 발생</th>\n    </tr>\n    <tr>\n      <th>구별</th>\n      <th></th>\n      <th></th>\n      <th></th>\n      <th></th>\n      <th></th>\n      <th></th>\n      <th></th>\n      <th></th>\n      <th></th>\n      <th></th>\n    </tr>\n  </thead>\n  <tbody>\n    <tr>\n      <th>강남구</th>\n      <td>349</td>\n      <td>449</td>\n      <td>18</td>\n      <td>21</td>\n      <td>10</td>\n      <td>13</td>\n      <td>1650</td>\n      <td>3850</td>\n      <td>3705</td>\n      <td>4284</td>\n    </tr>\n    <tr>\n      <th>강동구</th>\n      <td>123</td>\n      <td>156</td>\n      <td>8</td>\n      <td>6</td>\n      <td>3</td>\n      <td>4</td>\n      <td>789</td>\n      <td>2366</td>\n      <td>2248</td>\n      <td>2712</td>\n    </tr>\n    <tr>\n      <th>강북구</th>\n      <td>126</td>\n      <td>153</td>\n      <td>13</td>\n      <td>14</td>\n      <td>8</td>\n      <td>7</td>\n      <td>618</td>\n      <td>1434</td>\n      <td>2348</td>\n      <td>2649</td>\n    </tr>\n    <tr>\n      <th>강서구</th>\n      <td>191</td>\n      <td>262</td>\n      <td>13</td>\n      <td>13</td>\n      <td>8</td>\n      <td>7</td>\n      <td>1260</td>\n      <td>2096</td>\n      <td>2718</td>\n      <td>3207</td>\n    </tr>\n    <tr>\n      <th>관악구</th>\n      <td>221</td>\n      <td>320</td>\n      <td>14</td>\n      <td>12</td>\n      <td>8</td>\n      <td>9</td>\n      <td>827</td>\n      <td>2706</td>\n      <td>2642</td>\n      <td>3298</td>\n    </tr>\n  </tbody>\n</table>\n</div>"
     },
     "metadata": {},
     "execution_count": 81
    }
   ],
   "source": [
    "crime_anal_raw = pd.read_csv('/Volumes/Geozedo60/Python/bit/datamath/practice/DataScience/data/02. crime_in_Seoul_include_gu_name.csv', \n",
    "                             encoding='utf-8', index_col=0)\n",
    "\n",
    "crime_anal = pd.pivot_table(crime_anal_raw, index='구별', aggfunc=np.sum)\n",
    "crime_anal.head()"
   ]
  },
  {
   "cell_type": "code",
   "execution_count": 37,
   "metadata": {},
   "outputs": [
    {
     "output_type": "execute_result",
     "data": {
      "text/plain": [
       "     강간 발생  강도 발생  살인 발생  절도 발생  폭력 발생      강간검거율       강도검거율       살인검거율  \\\n",
       "구별                                                                          \n",
       "강남구    449     21     13   3850   4284  77.728285   85.714286   76.923077   \n",
       "강동구    156      6      4   2366   2712  78.846154  133.333333   75.000000   \n",
       "강북구    153     14      7   1434   2649  82.352941   92.857143  114.285714   \n",
       "관악구    320     12      9   2706   3298  69.062500  116.666667   88.888889   \n",
       "광진구    240     14      4   3026   2625  91.666667  185.714286  100.000000   \n",
       "\n",
       "         절도검거율      폭력검거율  \n",
       "구별                         \n",
       "강남구  42.857143  86.484594  \n",
       "강동구  33.347422  82.890855  \n",
       "강북구  43.096234  88.637222  \n",
       "관악구  30.561715  80.109157  \n",
       "광진구  42.200925  83.047619  "
      ],
      "text/html": "<div>\n<style scoped>\n    .dataframe tbody tr th:only-of-type {\n        vertical-align: middle;\n    }\n\n    .dataframe tbody tr th {\n        vertical-align: top;\n    }\n\n    .dataframe thead th {\n        text-align: right;\n    }\n</style>\n<table border=\"1\" class=\"dataframe\">\n  <thead>\n    <tr style=\"text-align: right;\">\n      <th></th>\n      <th>강간 발생</th>\n      <th>강도 발생</th>\n      <th>살인 발생</th>\n      <th>절도 발생</th>\n      <th>폭력 발생</th>\n      <th>강간검거율</th>\n      <th>강도검거율</th>\n      <th>살인검거율</th>\n      <th>절도검거율</th>\n      <th>폭력검거율</th>\n    </tr>\n    <tr>\n      <th>구별</th>\n      <th></th>\n      <th></th>\n      <th></th>\n      <th></th>\n      <th></th>\n      <th></th>\n      <th></th>\n      <th></th>\n      <th></th>\n      <th></th>\n    </tr>\n  </thead>\n  <tbody>\n    <tr>\n      <th>강남구</th>\n      <td>449</td>\n      <td>21</td>\n      <td>13</td>\n      <td>3850</td>\n      <td>4284</td>\n      <td>77.728285</td>\n      <td>85.714286</td>\n      <td>76.923077</td>\n      <td>42.857143</td>\n      <td>86.484594</td>\n    </tr>\n    <tr>\n      <th>강동구</th>\n      <td>156</td>\n      <td>6</td>\n      <td>4</td>\n      <td>2366</td>\n      <td>2712</td>\n      <td>78.846154</td>\n      <td>133.333333</td>\n      <td>75.000000</td>\n      <td>33.347422</td>\n      <td>82.890855</td>\n    </tr>\n    <tr>\n      <th>강북구</th>\n      <td>153</td>\n      <td>14</td>\n      <td>7</td>\n      <td>1434</td>\n      <td>2649</td>\n      <td>82.352941</td>\n      <td>92.857143</td>\n      <td>114.285714</td>\n      <td>43.096234</td>\n      <td>88.637222</td>\n    </tr>\n    <tr>\n      <th>관악구</th>\n      <td>320</td>\n      <td>12</td>\n      <td>9</td>\n      <td>2706</td>\n      <td>3298</td>\n      <td>69.062500</td>\n      <td>116.666667</td>\n      <td>88.888889</td>\n      <td>30.561715</td>\n      <td>80.109157</td>\n    </tr>\n    <tr>\n      <th>광진구</th>\n      <td>240</td>\n      <td>14</td>\n      <td>4</td>\n      <td>3026</td>\n      <td>2625</td>\n      <td>91.666667</td>\n      <td>185.714286</td>\n      <td>100.000000</td>\n      <td>42.200925</td>\n      <td>83.047619</td>\n    </tr>\n  </tbody>\n</table>\n</div>"
     },
     "metadata": {},
     "execution_count": 37
    }
   ],
   "source": [
    "crime_anal['강간검거율'] = crime_anal['강간 검거']/crime_anal['강간 발생']*100\n",
    "crime_anal['강도검거율'] = crime_anal['강도 검거']/crime_anal['강도 발생']*100\n",
    "crime_anal['살인검거율'] = crime_anal['살인 검거']/crime_anal['살인 발생']*100\n",
    "crime_anal['절도검거율'] = crime_anal['절도 검거']/crime_anal['절도 발생']*100\n",
    "crime_anal['폭력검거율'] = crime_anal['폭력 검거']/crime_anal['폭력 발생']*100\n",
    "\n",
    "del crime_anal['강간 검거']\n",
    "del crime_anal['강도 검거']\n",
    "del crime_anal['살인 검거']\n",
    "del crime_anal['절도 검거']\n",
    "del crime_anal['폭력 검거']\n",
    "\n",
    "crime_anal.head()"
   ]
  },
  {
   "cell_type": "code",
   "execution_count": 38,
   "metadata": {},
   "outputs": [
    {
     "output_type": "execute_result",
     "data": {
      "text/plain": [
       "     강간 발생  강도 발생  살인 발생  절도 발생  폭력 발생      강간검거율       강도검거율       살인검거율  \\\n",
       "구별                                                                          \n",
       "강남구    449     21     13   3850   4284  77.728285   85.714286   76.923077   \n",
       "강동구    156      6      4   2366   2712  78.846154  100.000000   75.000000   \n",
       "강북구    153     14      7   1434   2649  82.352941   92.857143  100.000000   \n",
       "관악구    320     12      9   2706   3298  69.062500  100.000000   88.888889   \n",
       "광진구    240     14      4   3026   2625  91.666667  100.000000  100.000000   \n",
       "\n",
       "         절도검거율      폭력검거율  \n",
       "구별                         \n",
       "강남구  42.857143  86.484594  \n",
       "강동구  33.347422  82.890855  \n",
       "강북구  43.096234  88.637222  \n",
       "관악구  30.561715  80.109157  \n",
       "광진구  42.200925  83.047619  "
      ],
      "text/html": "<div>\n<style scoped>\n    .dataframe tbody tr th:only-of-type {\n        vertical-align: middle;\n    }\n\n    .dataframe tbody tr th {\n        vertical-align: top;\n    }\n\n    .dataframe thead th {\n        text-align: right;\n    }\n</style>\n<table border=\"1\" class=\"dataframe\">\n  <thead>\n    <tr style=\"text-align: right;\">\n      <th></th>\n      <th>강간 발생</th>\n      <th>강도 발생</th>\n      <th>살인 발생</th>\n      <th>절도 발생</th>\n      <th>폭력 발생</th>\n      <th>강간검거율</th>\n      <th>강도검거율</th>\n      <th>살인검거율</th>\n      <th>절도검거율</th>\n      <th>폭력검거율</th>\n    </tr>\n    <tr>\n      <th>구별</th>\n      <th></th>\n      <th></th>\n      <th></th>\n      <th></th>\n      <th></th>\n      <th></th>\n      <th></th>\n      <th></th>\n      <th></th>\n      <th></th>\n    </tr>\n  </thead>\n  <tbody>\n    <tr>\n      <th>강남구</th>\n      <td>449</td>\n      <td>21</td>\n      <td>13</td>\n      <td>3850</td>\n      <td>4284</td>\n      <td>77.728285</td>\n      <td>85.714286</td>\n      <td>76.923077</td>\n      <td>42.857143</td>\n      <td>86.484594</td>\n    </tr>\n    <tr>\n      <th>강동구</th>\n      <td>156</td>\n      <td>6</td>\n      <td>4</td>\n      <td>2366</td>\n      <td>2712</td>\n      <td>78.846154</td>\n      <td>100.000000</td>\n      <td>75.000000</td>\n      <td>33.347422</td>\n      <td>82.890855</td>\n    </tr>\n    <tr>\n      <th>강북구</th>\n      <td>153</td>\n      <td>14</td>\n      <td>7</td>\n      <td>1434</td>\n      <td>2649</td>\n      <td>82.352941</td>\n      <td>92.857143</td>\n      <td>100.000000</td>\n      <td>43.096234</td>\n      <td>88.637222</td>\n    </tr>\n    <tr>\n      <th>관악구</th>\n      <td>320</td>\n      <td>12</td>\n      <td>9</td>\n      <td>2706</td>\n      <td>3298</td>\n      <td>69.062500</td>\n      <td>100.000000</td>\n      <td>88.888889</td>\n      <td>30.561715</td>\n      <td>80.109157</td>\n    </tr>\n    <tr>\n      <th>광진구</th>\n      <td>240</td>\n      <td>14</td>\n      <td>4</td>\n      <td>3026</td>\n      <td>2625</td>\n      <td>91.666667</td>\n      <td>100.000000</td>\n      <td>100.000000</td>\n      <td>42.200925</td>\n      <td>83.047619</td>\n    </tr>\n  </tbody>\n</table>\n</div>"
     },
     "metadata": {},
     "execution_count": 38
    }
   ],
   "source": [
    "con_list = ['강간검거율', '강도검거율', '살인검거율', '절도검거율', '폭력검거율']\n",
    "\n",
    "for column in con_list:\n",
    "    crime_anal.loc[crime_anal[column] > 100, column] = 100\n",
    "    \n",
    "crime_anal.head()"
   ]
  },
  {
   "cell_type": "code",
   "execution_count": 39,
   "metadata": {},
   "outputs": [
    {
     "output_type": "execute_result",
     "data": {
      "text/plain": [
       "      강간  강도  살인    절도    폭력      강간검거율       강도검거율       살인검거율      절도검거율  \\\n",
       "구별                                                                           \n",
       "강남구  449  21  13  3850  4284  77.728285   85.714286   76.923077  42.857143   \n",
       "강동구  156   6   4  2366  2712  78.846154  100.000000   75.000000  33.347422   \n",
       "강북구  153  14   7  1434  2649  82.352941   92.857143  100.000000  43.096234   \n",
       "관악구  320  12   9  2706  3298  69.062500  100.000000   88.888889  30.561715   \n",
       "광진구  240  14   4  3026  2625  91.666667  100.000000  100.000000  42.200925   \n",
       "\n",
       "         폭력검거율  \n",
       "구별              \n",
       "강남구  86.484594  \n",
       "강동구  82.890855  \n",
       "강북구  88.637222  \n",
       "관악구  80.109157  \n",
       "광진구  83.047619  "
      ],
      "text/html": "<div>\n<style scoped>\n    .dataframe tbody tr th:only-of-type {\n        vertical-align: middle;\n    }\n\n    .dataframe tbody tr th {\n        vertical-align: top;\n    }\n\n    .dataframe thead th {\n        text-align: right;\n    }\n</style>\n<table border=\"1\" class=\"dataframe\">\n  <thead>\n    <tr style=\"text-align: right;\">\n      <th></th>\n      <th>강간</th>\n      <th>강도</th>\n      <th>살인</th>\n      <th>절도</th>\n      <th>폭력</th>\n      <th>강간검거율</th>\n      <th>강도검거율</th>\n      <th>살인검거율</th>\n      <th>절도검거율</th>\n      <th>폭력검거율</th>\n    </tr>\n    <tr>\n      <th>구별</th>\n      <th></th>\n      <th></th>\n      <th></th>\n      <th></th>\n      <th></th>\n      <th></th>\n      <th></th>\n      <th></th>\n      <th></th>\n      <th></th>\n    </tr>\n  </thead>\n  <tbody>\n    <tr>\n      <th>강남구</th>\n      <td>449</td>\n      <td>21</td>\n      <td>13</td>\n      <td>3850</td>\n      <td>4284</td>\n      <td>77.728285</td>\n      <td>85.714286</td>\n      <td>76.923077</td>\n      <td>42.857143</td>\n      <td>86.484594</td>\n    </tr>\n    <tr>\n      <th>강동구</th>\n      <td>156</td>\n      <td>6</td>\n      <td>4</td>\n      <td>2366</td>\n      <td>2712</td>\n      <td>78.846154</td>\n      <td>100.000000</td>\n      <td>75.000000</td>\n      <td>33.347422</td>\n      <td>82.890855</td>\n    </tr>\n    <tr>\n      <th>강북구</th>\n      <td>153</td>\n      <td>14</td>\n      <td>7</td>\n      <td>1434</td>\n      <td>2649</td>\n      <td>82.352941</td>\n      <td>92.857143</td>\n      <td>100.000000</td>\n      <td>43.096234</td>\n      <td>88.637222</td>\n    </tr>\n    <tr>\n      <th>관악구</th>\n      <td>320</td>\n      <td>12</td>\n      <td>9</td>\n      <td>2706</td>\n      <td>3298</td>\n      <td>69.062500</td>\n      <td>100.000000</td>\n      <td>88.888889</td>\n      <td>30.561715</td>\n      <td>80.109157</td>\n    </tr>\n    <tr>\n      <th>광진구</th>\n      <td>240</td>\n      <td>14</td>\n      <td>4</td>\n      <td>3026</td>\n      <td>2625</td>\n      <td>91.666667</td>\n      <td>100.000000</td>\n      <td>100.000000</td>\n      <td>42.200925</td>\n      <td>83.047619</td>\n    </tr>\n  </tbody>\n</table>\n</div>"
     },
     "metadata": {},
     "execution_count": 39
    }
   ],
   "source": [
    "crime_anal.rename(columns = {'강간 발생':'강간', \n",
    "                             '강도 발생':'강도', \n",
    "                             '살인 발생':'살인', \n",
    "                             '절도 발생':'절도', \n",
    "                             '폭력 발생':'폭력'}, inplace=True)\n",
    "crime_anal.head()"
   ]
  },
  {
   "cell_type": "code",
   "execution_count": 40,
   "metadata": {},
   "outputs": [
    {
     "output_type": "execute_result",
     "data": {
      "text/plain": [
       "           강간        강도        살인        절도        폭력      강간검거율       강도검거율  \\\n",
       "구별                                                                             \n",
       "강남구  1.000000  0.941176  0.916667  0.953472  0.661386  77.728285   85.714286   \n",
       "강동구  0.155620  0.058824  0.166667  0.445775  0.289667  78.846154  100.000000   \n",
       "강북구  0.146974  0.529412  0.416667  0.126924  0.274769  82.352941   92.857143   \n",
       "관악구  0.628242  0.411765  0.583333  0.562094  0.428234  69.062500  100.000000   \n",
       "광진구  0.397695  0.529412  0.166667  0.671570  0.269094  91.666667  100.000000   \n",
       "\n",
       "          살인검거율      절도검거율      폭력검거율  \n",
       "구별                                     \n",
       "강남구   76.923077  42.857143  86.484594  \n",
       "강동구   75.000000  33.347422  82.890855  \n",
       "강북구  100.000000  43.096234  88.637222  \n",
       "관악구   88.888889  30.561715  80.109157  \n",
       "광진구  100.000000  42.200925  83.047619  "
      ],
      "text/html": "<div>\n<style scoped>\n    .dataframe tbody tr th:only-of-type {\n        vertical-align: middle;\n    }\n\n    .dataframe tbody tr th {\n        vertical-align: top;\n    }\n\n    .dataframe thead th {\n        text-align: right;\n    }\n</style>\n<table border=\"1\" class=\"dataframe\">\n  <thead>\n    <tr style=\"text-align: right;\">\n      <th></th>\n      <th>강간</th>\n      <th>강도</th>\n      <th>살인</th>\n      <th>절도</th>\n      <th>폭력</th>\n      <th>강간검거율</th>\n      <th>강도검거율</th>\n      <th>살인검거율</th>\n      <th>절도검거율</th>\n      <th>폭력검거율</th>\n    </tr>\n    <tr>\n      <th>구별</th>\n      <th></th>\n      <th></th>\n      <th></th>\n      <th></th>\n      <th></th>\n      <th></th>\n      <th></th>\n      <th></th>\n      <th></th>\n      <th></th>\n    </tr>\n  </thead>\n  <tbody>\n    <tr>\n      <th>강남구</th>\n      <td>1.000000</td>\n      <td>0.941176</td>\n      <td>0.916667</td>\n      <td>0.953472</td>\n      <td>0.661386</td>\n      <td>77.728285</td>\n      <td>85.714286</td>\n      <td>76.923077</td>\n      <td>42.857143</td>\n      <td>86.484594</td>\n    </tr>\n    <tr>\n      <th>강동구</th>\n      <td>0.155620</td>\n      <td>0.058824</td>\n      <td>0.166667</td>\n      <td>0.445775</td>\n      <td>0.289667</td>\n      <td>78.846154</td>\n      <td>100.000000</td>\n      <td>75.000000</td>\n      <td>33.347422</td>\n      <td>82.890855</td>\n    </tr>\n    <tr>\n      <th>강북구</th>\n      <td>0.146974</td>\n      <td>0.529412</td>\n      <td>0.416667</td>\n      <td>0.126924</td>\n      <td>0.274769</td>\n      <td>82.352941</td>\n      <td>92.857143</td>\n      <td>100.000000</td>\n      <td>43.096234</td>\n      <td>88.637222</td>\n    </tr>\n    <tr>\n      <th>관악구</th>\n      <td>0.628242</td>\n      <td>0.411765</td>\n      <td>0.583333</td>\n      <td>0.562094</td>\n      <td>0.428234</td>\n      <td>69.062500</td>\n      <td>100.000000</td>\n      <td>88.888889</td>\n      <td>30.561715</td>\n      <td>80.109157</td>\n    </tr>\n    <tr>\n      <th>광진구</th>\n      <td>0.397695</td>\n      <td>0.529412</td>\n      <td>0.166667</td>\n      <td>0.671570</td>\n      <td>0.269094</td>\n      <td>91.666667</td>\n      <td>100.000000</td>\n      <td>100.000000</td>\n      <td>42.200925</td>\n      <td>83.047619</td>\n    </tr>\n  </tbody>\n</table>\n</div>"
     },
     "metadata": {},
     "execution_count": 40
    }
   ],
   "source": [
    "from sklearn import preprocessing\n",
    "\n",
    "\n",
    "col = ['강간', '강도', '살인', '절도', '폭력']\n",
    "\n",
    "x = crime_anal[col].values\n",
    "min_max_scaler = preprocessing.MinMaxScaler()\n",
    "\n",
    "x_scaled = min_max_scaler.fit_transform(x.astype(float))\n",
    "crime_anal_norm = pd.DataFrame(x_scaled, columns = col, index = crime_anal.index)\n",
    "\n",
    "col2 = ['강간검거율', '강도검거율', '살인검거율', '절도검거율', '폭력검거율']\n",
    "crime_anal_norm[col2] = crime_anal[col2]\n",
    "crime_anal_norm.head()"
   ]
  },
  {
   "cell_type": "code",
   "execution_count": 41,
   "metadata": {},
   "outputs": [
    {
     "output_type": "execute_result",
     "data": {
      "text/plain": [
       "           강간        강도        살인        절도        폭력      강간검거율       강도검거율  \\\n",
       "구별                                                                             \n",
       "강남구  1.000000  0.941176  0.916667  0.953472  0.661386  77.728285   85.714286   \n",
       "강동구  0.155620  0.058824  0.166667  0.445775  0.289667  78.846154  100.000000   \n",
       "강북구  0.146974  0.529412  0.416667  0.126924  0.274769  82.352941   92.857143   \n",
       "관악구  0.628242  0.411765  0.583333  0.562094  0.428234  69.062500  100.000000   \n",
       "광진구  0.397695  0.529412  0.166667  0.671570  0.269094  91.666667  100.000000   \n",
       "\n",
       "          살인검거율      절도검거율      폭력검거율       인구수  CCTV  \n",
       "구별                                                     \n",
       "강남구   76.923077  42.857143  86.484594  570500.0  2780  \n",
       "강동구   75.000000  33.347422  82.890855  453233.0   773  \n",
       "강북구  100.000000  43.096234  88.637222  330192.0   748  \n",
       "관악구   88.888889  30.561715  80.109157  525515.0  1496  \n",
       "광진구  100.000000  42.200925  83.047619  372164.0   707  "
      ],
      "text/html": "<div>\n<style scoped>\n    .dataframe tbody tr th:only-of-type {\n        vertical-align: middle;\n    }\n\n    .dataframe tbody tr th {\n        vertical-align: top;\n    }\n\n    .dataframe thead th {\n        text-align: right;\n    }\n</style>\n<table border=\"1\" class=\"dataframe\">\n  <thead>\n    <tr style=\"text-align: right;\">\n      <th></th>\n      <th>강간</th>\n      <th>강도</th>\n      <th>살인</th>\n      <th>절도</th>\n      <th>폭력</th>\n      <th>강간검거율</th>\n      <th>강도검거율</th>\n      <th>살인검거율</th>\n      <th>절도검거율</th>\n      <th>폭력검거율</th>\n      <th>인구수</th>\n      <th>CCTV</th>\n    </tr>\n    <tr>\n      <th>구별</th>\n      <th></th>\n      <th></th>\n      <th></th>\n      <th></th>\n      <th></th>\n      <th></th>\n      <th></th>\n      <th></th>\n      <th></th>\n      <th></th>\n      <th></th>\n      <th></th>\n    </tr>\n  </thead>\n  <tbody>\n    <tr>\n      <th>강남구</th>\n      <td>1.000000</td>\n      <td>0.941176</td>\n      <td>0.916667</td>\n      <td>0.953472</td>\n      <td>0.661386</td>\n      <td>77.728285</td>\n      <td>85.714286</td>\n      <td>76.923077</td>\n      <td>42.857143</td>\n      <td>86.484594</td>\n      <td>570500.0</td>\n      <td>2780</td>\n    </tr>\n    <tr>\n      <th>강동구</th>\n      <td>0.155620</td>\n      <td>0.058824</td>\n      <td>0.166667</td>\n      <td>0.445775</td>\n      <td>0.289667</td>\n      <td>78.846154</td>\n      <td>100.000000</td>\n      <td>75.000000</td>\n      <td>33.347422</td>\n      <td>82.890855</td>\n      <td>453233.0</td>\n      <td>773</td>\n    </tr>\n    <tr>\n      <th>강북구</th>\n      <td>0.146974</td>\n      <td>0.529412</td>\n      <td>0.416667</td>\n      <td>0.126924</td>\n      <td>0.274769</td>\n      <td>82.352941</td>\n      <td>92.857143</td>\n      <td>100.000000</td>\n      <td>43.096234</td>\n      <td>88.637222</td>\n      <td>330192.0</td>\n      <td>748</td>\n    </tr>\n    <tr>\n      <th>관악구</th>\n      <td>0.628242</td>\n      <td>0.411765</td>\n      <td>0.583333</td>\n      <td>0.562094</td>\n      <td>0.428234</td>\n      <td>69.062500</td>\n      <td>100.000000</td>\n      <td>88.888889</td>\n      <td>30.561715</td>\n      <td>80.109157</td>\n      <td>525515.0</td>\n      <td>1496</td>\n    </tr>\n    <tr>\n      <th>광진구</th>\n      <td>0.397695</td>\n      <td>0.529412</td>\n      <td>0.166667</td>\n      <td>0.671570</td>\n      <td>0.269094</td>\n      <td>91.666667</td>\n      <td>100.000000</td>\n      <td>100.000000</td>\n      <td>42.200925</td>\n      <td>83.047619</td>\n      <td>372164.0</td>\n      <td>707</td>\n    </tr>\n  </tbody>\n</table>\n</div>"
     },
     "metadata": {},
     "execution_count": 41
    }
   ],
   "source": [
    "result_CCTV = pd.read_csv('/Volumes/Geozedo60/Python/bit/datamath/practice/DataScience/data/01. CCTV_result.csv', encoding='UTF-8', \n",
    "                          index_col='구별')\n",
    "crime_anal_norm[['인구수', 'CCTV']] = result_CCTV[['인구수', '소계']]\n",
    "crime_anal_norm.head()"
   ]
  },
  {
   "cell_type": "code",
   "execution_count": 83,
   "metadata": {},
   "outputs": [
    {
     "output_type": "execute_result",
     "data": {
      "text/plain": [
       "            강간        강도        살인        절도        폭력       강간검거율  \\\n",
       "구별                                                                   \n",
       "강남구   1.000000  0.941176  0.916667  0.953472  0.661386   77.728285   \n",
       "강동구   0.155620  0.058824  0.166667  0.445775  0.289667   78.846154   \n",
       "강북구   0.146974  0.529412  0.416667  0.126924  0.274769   82.352941   \n",
       "관악구   0.628242  0.411765  0.583333  0.562094  0.428234   69.062500   \n",
       "광진구   0.397695  0.529412  0.166667  0.671570  0.269094   91.666667   \n",
       "구로구   0.515850  0.588235  0.500000  0.435169  0.359423   58.362989   \n",
       "금천구   0.141210  0.058824  0.083333  0.172426  0.134074   80.794702   \n",
       "노원구   0.273775  0.117647  0.666667  0.386589  0.292268   61.421320   \n",
       "도봉구   0.000000  0.235294  0.083333  0.000000  0.000000  100.000000   \n",
       "동대문구  0.204611  0.470588  0.250000  0.314061  0.250887   84.393064   \n",
       "동작구   0.527378  0.235294  0.250000  0.274376  0.100024   48.771930   \n",
       "마포구   0.553314  0.529412  0.500000  0.510434  0.353748   84.013605   \n",
       "서대문구  0.149856  0.000000  0.000000  0.256244  0.134547   80.519481   \n",
       "서초구   0.838617  0.235294  0.500000  0.537804  0.215654   63.358779   \n",
       "성동구   0.069164  0.235294  0.166667  0.186110  0.029558   94.444444   \n",
       "성북구   0.138329  0.000000  0.250000  0.247007  0.170726   82.666667   \n",
       "송파구   0.340058  0.470588  0.750000  0.744441  0.427524   80.909091   \n",
       "양천구   0.806916  0.823529  0.666667  1.000000  1.000000   77.486911   \n",
       "영등포구  0.556196  1.000000  1.000000  0.650359  0.493024   62.033898   \n",
       "용산구   0.265130  0.529412  0.250000  0.169004  0.133128   89.175258   \n",
       "은평구   0.184438  0.235294  0.083333  0.291139  0.275715   84.939759   \n",
       "종로구   0.314121  0.352941  0.333333  0.383510  0.190589   76.303318   \n",
       "중구    0.195965  0.235294  0.083333  0.508040  0.174273   65.294118   \n",
       "중랑구   0.244957  0.352941  0.916667  0.366746  0.321589   79.144385   \n",
       "\n",
       "           강도검거율       살인검거율      절도검거율      폭력검거율       인구수  CCTV        범죄  \n",
       "구별                                                                            \n",
       "강남구    85.714286   76.923077  42.857143  86.484594  570500.0  2780  4.472701  \n",
       "강동구   100.000000   75.000000  33.347422  82.890855  453233.0   773  1.116551  \n",
       "강북구    92.857143  100.000000  43.096234  88.637222  330192.0   748  1.494746  \n",
       "관악구   100.000000   88.888889  30.561715  80.109157  525515.0  1496  2.613667  \n",
       "광진구   100.000000  100.000000  42.200925  83.047619  372164.0   707  2.034438  \n",
       "구로구    73.333333   75.000000  38.072805  80.877951  447874.0  1561  2.398678  \n",
       "금천구   100.000000  100.000000  56.668794  86.465433  255082.0  1015  0.589867  \n",
       "노원구   100.000000  100.000000  36.525308  85.530665  569384.0  1265  1.736946  \n",
       "도봉구   100.000000  100.000000  44.967074  87.626093  348646.0   485  0.318627  \n",
       "동대문구  100.000000  100.000000  41.090358  87.401884  369496.0  1294  1.490147  \n",
       "동작구    55.555556  100.000000  35.442359  83.089005  412520.0  1091  1.387071  \n",
       "마포구    71.428571  100.000000  31.819961  84.445189  389649.0   574  2.446908  \n",
       "서대문구   80.000000  100.000000  40.728477  83.219844  327163.0   962  0.540647  \n",
       "서초구    66.666667   75.000000  41.404175  87.453105  450310.0  1930  2.327368  \n",
       "성동구    88.888889  100.000000  37.149969  86.538462  311244.0  1062  0.686793  \n",
       "성북구    80.000000  100.000000  41.512605  83.974649  461260.0  1464  0.806061  \n",
       "송파구    76.923077   90.909091  34.856437  84.552352  667483.0   618  2.732611  \n",
       "양천구    84.210526  100.000000  48.469644  83.065080  479978.0  2034  4.297113  \n",
       "영등포구   90.909091   85.714286  32.995951  82.894737  402985.0   904  3.699580  \n",
       "용산구   100.000000  100.000000  37.700706  83.121951  244203.0  1624  1.346674  \n",
       "은평구    66.666667  100.000000  37.147335  86.920467  494388.0  1873  1.069920  \n",
       "종로구    81.818182   83.333333  38.324176  84.212822  162820.0  1002  1.574494  \n",
       "중구     66.666667   66.666667  33.712716  88.309353  133240.0   671  1.196905  \n",
       "중랑구    81.818182   92.307692  38.829040  84.545135  414503.0   660  2.202900  "
      ],
      "text/html": "<div>\n<style scoped>\n    .dataframe tbody tr th:only-of-type {\n        vertical-align: middle;\n    }\n\n    .dataframe tbody tr th {\n        vertical-align: top;\n    }\n\n    .dataframe thead th {\n        text-align: right;\n    }\n</style>\n<table border=\"1\" class=\"dataframe\">\n  <thead>\n    <tr style=\"text-align: right;\">\n      <th></th>\n      <th>강간</th>\n      <th>강도</th>\n      <th>살인</th>\n      <th>절도</th>\n      <th>폭력</th>\n      <th>강간검거율</th>\n      <th>강도검거율</th>\n      <th>살인검거율</th>\n      <th>절도검거율</th>\n      <th>폭력검거율</th>\n      <th>인구수</th>\n      <th>CCTV</th>\n      <th>범죄</th>\n    </tr>\n    <tr>\n      <th>구별</th>\n      <th></th>\n      <th></th>\n      <th></th>\n      <th></th>\n      <th></th>\n      <th></th>\n      <th></th>\n      <th></th>\n      <th></th>\n      <th></th>\n      <th></th>\n      <th></th>\n      <th></th>\n    </tr>\n  </thead>\n  <tbody>\n    <tr>\n      <th>강남구</th>\n      <td>1.000000</td>\n      <td>0.941176</td>\n      <td>0.916667</td>\n      <td>0.953472</td>\n      <td>0.661386</td>\n      <td>77.728285</td>\n      <td>85.714286</td>\n      <td>76.923077</td>\n      <td>42.857143</td>\n      <td>86.484594</td>\n      <td>570500.0</td>\n      <td>2780</td>\n      <td>4.472701</td>\n    </tr>\n    <tr>\n      <th>강동구</th>\n      <td>0.155620</td>\n      <td>0.058824</td>\n      <td>0.166667</td>\n      <td>0.445775</td>\n      <td>0.289667</td>\n      <td>78.846154</td>\n      <td>100.000000</td>\n      <td>75.000000</td>\n      <td>33.347422</td>\n      <td>82.890855</td>\n      <td>453233.0</td>\n      <td>773</td>\n      <td>1.116551</td>\n    </tr>\n    <tr>\n      <th>강북구</th>\n      <td>0.146974</td>\n      <td>0.529412</td>\n      <td>0.416667</td>\n      <td>0.126924</td>\n      <td>0.274769</td>\n      <td>82.352941</td>\n      <td>92.857143</td>\n      <td>100.000000</td>\n      <td>43.096234</td>\n      <td>88.637222</td>\n      <td>330192.0</td>\n      <td>748</td>\n      <td>1.494746</td>\n    </tr>\n    <tr>\n      <th>관악구</th>\n      <td>0.628242</td>\n      <td>0.411765</td>\n      <td>0.583333</td>\n      <td>0.562094</td>\n      <td>0.428234</td>\n      <td>69.062500</td>\n      <td>100.000000</td>\n      <td>88.888889</td>\n      <td>30.561715</td>\n      <td>80.109157</td>\n      <td>525515.0</td>\n      <td>1496</td>\n      <td>2.613667</td>\n    </tr>\n    <tr>\n      <th>광진구</th>\n      <td>0.397695</td>\n      <td>0.529412</td>\n      <td>0.166667</td>\n      <td>0.671570</td>\n      <td>0.269094</td>\n      <td>91.666667</td>\n      <td>100.000000</td>\n      <td>100.000000</td>\n      <td>42.200925</td>\n      <td>83.047619</td>\n      <td>372164.0</td>\n      <td>707</td>\n      <td>2.034438</td>\n    </tr>\n    <tr>\n      <th>구로구</th>\n      <td>0.515850</td>\n      <td>0.588235</td>\n      <td>0.500000</td>\n      <td>0.435169</td>\n      <td>0.359423</td>\n      <td>58.362989</td>\n      <td>73.333333</td>\n      <td>75.000000</td>\n      <td>38.072805</td>\n      <td>80.877951</td>\n      <td>447874.0</td>\n      <td>1561</td>\n      <td>2.398678</td>\n    </tr>\n    <tr>\n      <th>금천구</th>\n      <td>0.141210</td>\n      <td>0.058824</td>\n      <td>0.083333</td>\n      <td>0.172426</td>\n      <td>0.134074</td>\n      <td>80.794702</td>\n      <td>100.000000</td>\n      <td>100.000000</td>\n      <td>56.668794</td>\n      <td>86.465433</td>\n      <td>255082.0</td>\n      <td>1015</td>\n      <td>0.589867</td>\n    </tr>\n    <tr>\n      <th>노원구</th>\n      <td>0.273775</td>\n      <td>0.117647</td>\n      <td>0.666667</td>\n      <td>0.386589</td>\n      <td>0.292268</td>\n      <td>61.421320</td>\n      <td>100.000000</td>\n      <td>100.000000</td>\n      <td>36.525308</td>\n      <td>85.530665</td>\n      <td>569384.0</td>\n      <td>1265</td>\n      <td>1.736946</td>\n    </tr>\n    <tr>\n      <th>도봉구</th>\n      <td>0.000000</td>\n      <td>0.235294</td>\n      <td>0.083333</td>\n      <td>0.000000</td>\n      <td>0.000000</td>\n      <td>100.000000</td>\n      <td>100.000000</td>\n      <td>100.000000</td>\n      <td>44.967074</td>\n      <td>87.626093</td>\n      <td>348646.0</td>\n      <td>485</td>\n      <td>0.318627</td>\n    </tr>\n    <tr>\n      <th>동대문구</th>\n      <td>0.204611</td>\n      <td>0.470588</td>\n      <td>0.250000</td>\n      <td>0.314061</td>\n      <td>0.250887</td>\n      <td>84.393064</td>\n      <td>100.000000</td>\n      <td>100.000000</td>\n      <td>41.090358</td>\n      <td>87.401884</td>\n      <td>369496.0</td>\n      <td>1294</td>\n      <td>1.490147</td>\n    </tr>\n    <tr>\n      <th>동작구</th>\n      <td>0.527378</td>\n      <td>0.235294</td>\n      <td>0.250000</td>\n      <td>0.274376</td>\n      <td>0.100024</td>\n      <td>48.771930</td>\n      <td>55.555556</td>\n      <td>100.000000</td>\n      <td>35.442359</td>\n      <td>83.089005</td>\n      <td>412520.0</td>\n      <td>1091</td>\n      <td>1.387071</td>\n    </tr>\n    <tr>\n      <th>마포구</th>\n      <td>0.553314</td>\n      <td>0.529412</td>\n      <td>0.500000</td>\n      <td>0.510434</td>\n      <td>0.353748</td>\n      <td>84.013605</td>\n      <td>71.428571</td>\n      <td>100.000000</td>\n      <td>31.819961</td>\n      <td>84.445189</td>\n      <td>389649.0</td>\n      <td>574</td>\n      <td>2.446908</td>\n    </tr>\n    <tr>\n      <th>서대문구</th>\n      <td>0.149856</td>\n      <td>0.000000</td>\n      <td>0.000000</td>\n      <td>0.256244</td>\n      <td>0.134547</td>\n      <td>80.519481</td>\n      <td>80.000000</td>\n      <td>100.000000</td>\n      <td>40.728477</td>\n      <td>83.219844</td>\n      <td>327163.0</td>\n      <td>962</td>\n      <td>0.540647</td>\n    </tr>\n    <tr>\n      <th>서초구</th>\n      <td>0.838617</td>\n      <td>0.235294</td>\n      <td>0.500000</td>\n      <td>0.537804</td>\n      <td>0.215654</td>\n      <td>63.358779</td>\n      <td>66.666667</td>\n      <td>75.000000</td>\n      <td>41.404175</td>\n      <td>87.453105</td>\n      <td>450310.0</td>\n      <td>1930</td>\n      <td>2.327368</td>\n    </tr>\n    <tr>\n      <th>성동구</th>\n      <td>0.069164</td>\n      <td>0.235294</td>\n      <td>0.166667</td>\n      <td>0.186110</td>\n      <td>0.029558</td>\n      <td>94.444444</td>\n      <td>88.888889</td>\n      <td>100.000000</td>\n      <td>37.149969</td>\n      <td>86.538462</td>\n      <td>311244.0</td>\n      <td>1062</td>\n      <td>0.686793</td>\n    </tr>\n    <tr>\n      <th>성북구</th>\n      <td>0.138329</td>\n      <td>0.000000</td>\n      <td>0.250000</td>\n      <td>0.247007</td>\n      <td>0.170726</td>\n      <td>82.666667</td>\n      <td>80.000000</td>\n      <td>100.000000</td>\n      <td>41.512605</td>\n      <td>83.974649</td>\n      <td>461260.0</td>\n      <td>1464</td>\n      <td>0.806061</td>\n    </tr>\n    <tr>\n      <th>송파구</th>\n      <td>0.340058</td>\n      <td>0.470588</td>\n      <td>0.750000</td>\n      <td>0.744441</td>\n      <td>0.427524</td>\n      <td>80.909091</td>\n      <td>76.923077</td>\n      <td>90.909091</td>\n      <td>34.856437</td>\n      <td>84.552352</td>\n      <td>667483.0</td>\n      <td>618</td>\n      <td>2.732611</td>\n    </tr>\n    <tr>\n      <th>양천구</th>\n      <td>0.806916</td>\n      <td>0.823529</td>\n      <td>0.666667</td>\n      <td>1.000000</td>\n      <td>1.000000</td>\n      <td>77.486911</td>\n      <td>84.210526</td>\n      <td>100.000000</td>\n      <td>48.469644</td>\n      <td>83.065080</td>\n      <td>479978.0</td>\n      <td>2034</td>\n      <td>4.297113</td>\n    </tr>\n    <tr>\n      <th>영등포구</th>\n      <td>0.556196</td>\n      <td>1.000000</td>\n      <td>1.000000</td>\n      <td>0.650359</td>\n      <td>0.493024</td>\n      <td>62.033898</td>\n      <td>90.909091</td>\n      <td>85.714286</td>\n      <td>32.995951</td>\n      <td>82.894737</td>\n      <td>402985.0</td>\n      <td>904</td>\n      <td>3.699580</td>\n    </tr>\n    <tr>\n      <th>용산구</th>\n      <td>0.265130</td>\n      <td>0.529412</td>\n      <td>0.250000</td>\n      <td>0.169004</td>\n      <td>0.133128</td>\n      <td>89.175258</td>\n      <td>100.000000</td>\n      <td>100.000000</td>\n      <td>37.700706</td>\n      <td>83.121951</td>\n      <td>244203.0</td>\n      <td>1624</td>\n      <td>1.346674</td>\n    </tr>\n    <tr>\n      <th>은평구</th>\n      <td>0.184438</td>\n      <td>0.235294</td>\n      <td>0.083333</td>\n      <td>0.291139</td>\n      <td>0.275715</td>\n      <td>84.939759</td>\n      <td>66.666667</td>\n      <td>100.000000</td>\n      <td>37.147335</td>\n      <td>86.920467</td>\n      <td>494388.0</td>\n      <td>1873</td>\n      <td>1.069920</td>\n    </tr>\n    <tr>\n      <th>종로구</th>\n      <td>0.314121</td>\n      <td>0.352941</td>\n      <td>0.333333</td>\n      <td>0.383510</td>\n      <td>0.190589</td>\n      <td>76.303318</td>\n      <td>81.818182</td>\n      <td>83.333333</td>\n      <td>38.324176</td>\n      <td>84.212822</td>\n      <td>162820.0</td>\n      <td>1002</td>\n      <td>1.574494</td>\n    </tr>\n    <tr>\n      <th>중구</th>\n      <td>0.195965</td>\n      <td>0.235294</td>\n      <td>0.083333</td>\n      <td>0.508040</td>\n      <td>0.174273</td>\n      <td>65.294118</td>\n      <td>66.666667</td>\n      <td>66.666667</td>\n      <td>33.712716</td>\n      <td>88.309353</td>\n      <td>133240.0</td>\n      <td>671</td>\n      <td>1.196905</td>\n    </tr>\n    <tr>\n      <th>중랑구</th>\n      <td>0.244957</td>\n      <td>0.352941</td>\n      <td>0.916667</td>\n      <td>0.366746</td>\n      <td>0.321589</td>\n      <td>79.144385</td>\n      <td>81.818182</td>\n      <td>92.307692</td>\n      <td>38.829040</td>\n      <td>84.545135</td>\n      <td>414503.0</td>\n      <td>660</td>\n      <td>2.202900</td>\n    </tr>\n  </tbody>\n</table>\n</div>"
     },
     "metadata": {},
     "execution_count": 83
    }
   ],
   "source": [
    "col = ['강간','강도','살인','절도','폭력']\n",
    "crime_anal_norm['범죄'] = np.sum(crime_anal_norm[col], axis=1)\n",
    "crime_anal_norm"
   ]
  },
  {
   "cell_type": "code",
   "execution_count": 84,
   "metadata": {},
   "outputs": [
    {
     "output_type": "execute_result",
     "data": {
      "text/plain": [
       "           강간        강도        살인        절도        폭력      강간검거율       강도검거율  \\\n",
       "구별                                                                             \n",
       "강남구  1.000000  0.941176  0.916667  0.953472  0.661386  77.728285   85.714286   \n",
       "강동구  0.155620  0.058824  0.166667  0.445775  0.289667  78.846154  100.000000   \n",
       "강북구  0.146974  0.529412  0.416667  0.126924  0.274769  82.352941   92.857143   \n",
       "관악구  0.628242  0.411765  0.583333  0.562094  0.428234  69.062500  100.000000   \n",
       "광진구  0.397695  0.529412  0.166667  0.671570  0.269094  91.666667  100.000000   \n",
       "\n",
       "          살인검거율      절도검거율      폭력검거율       인구수  CCTV        범죄          검거  \n",
       "구별                                                                           \n",
       "강남구   76.923077  42.857143  86.484594  570500.0  2780  4.472701  369.707384  \n",
       "강동구   75.000000  33.347422  82.890855  453233.0   773  1.116551  370.084431  \n",
       "강북구  100.000000  43.096234  88.637222  330192.0   748  1.494746  406.943540  \n",
       "관악구   88.888889  30.561715  80.109157  525515.0  1496  2.613667  368.622261  \n",
       "광진구  100.000000  42.200925  83.047619  372164.0   707  2.034438  416.915211  "
      ],
      "text/html": "<div>\n<style scoped>\n    .dataframe tbody tr th:only-of-type {\n        vertical-align: middle;\n    }\n\n    .dataframe tbody tr th {\n        vertical-align: top;\n    }\n\n    .dataframe thead th {\n        text-align: right;\n    }\n</style>\n<table border=\"1\" class=\"dataframe\">\n  <thead>\n    <tr style=\"text-align: right;\">\n      <th></th>\n      <th>강간</th>\n      <th>강도</th>\n      <th>살인</th>\n      <th>절도</th>\n      <th>폭력</th>\n      <th>강간검거율</th>\n      <th>강도검거율</th>\n      <th>살인검거율</th>\n      <th>절도검거율</th>\n      <th>폭력검거율</th>\n      <th>인구수</th>\n      <th>CCTV</th>\n      <th>범죄</th>\n      <th>검거</th>\n    </tr>\n    <tr>\n      <th>구별</th>\n      <th></th>\n      <th></th>\n      <th></th>\n      <th></th>\n      <th></th>\n      <th></th>\n      <th></th>\n      <th></th>\n      <th></th>\n      <th></th>\n      <th></th>\n      <th></th>\n      <th></th>\n      <th></th>\n    </tr>\n  </thead>\n  <tbody>\n    <tr>\n      <th>강남구</th>\n      <td>1.000000</td>\n      <td>0.941176</td>\n      <td>0.916667</td>\n      <td>0.953472</td>\n      <td>0.661386</td>\n      <td>77.728285</td>\n      <td>85.714286</td>\n      <td>76.923077</td>\n      <td>42.857143</td>\n      <td>86.484594</td>\n      <td>570500.0</td>\n      <td>2780</td>\n      <td>4.472701</td>\n      <td>369.707384</td>\n    </tr>\n    <tr>\n      <th>강동구</th>\n      <td>0.155620</td>\n      <td>0.058824</td>\n      <td>0.166667</td>\n      <td>0.445775</td>\n      <td>0.289667</td>\n      <td>78.846154</td>\n      <td>100.000000</td>\n      <td>75.000000</td>\n      <td>33.347422</td>\n      <td>82.890855</td>\n      <td>453233.0</td>\n      <td>773</td>\n      <td>1.116551</td>\n      <td>370.084431</td>\n    </tr>\n    <tr>\n      <th>강북구</th>\n      <td>0.146974</td>\n      <td>0.529412</td>\n      <td>0.416667</td>\n      <td>0.126924</td>\n      <td>0.274769</td>\n      <td>82.352941</td>\n      <td>92.857143</td>\n      <td>100.000000</td>\n      <td>43.096234</td>\n      <td>88.637222</td>\n      <td>330192.0</td>\n      <td>748</td>\n      <td>1.494746</td>\n      <td>406.943540</td>\n    </tr>\n    <tr>\n      <th>관악구</th>\n      <td>0.628242</td>\n      <td>0.411765</td>\n      <td>0.583333</td>\n      <td>0.562094</td>\n      <td>0.428234</td>\n      <td>69.062500</td>\n      <td>100.000000</td>\n      <td>88.888889</td>\n      <td>30.561715</td>\n      <td>80.109157</td>\n      <td>525515.0</td>\n      <td>1496</td>\n      <td>2.613667</td>\n      <td>368.622261</td>\n    </tr>\n    <tr>\n      <th>광진구</th>\n      <td>0.397695</td>\n      <td>0.529412</td>\n      <td>0.166667</td>\n      <td>0.671570</td>\n      <td>0.269094</td>\n      <td>91.666667</td>\n      <td>100.000000</td>\n      <td>100.000000</td>\n      <td>42.200925</td>\n      <td>83.047619</td>\n      <td>372164.0</td>\n      <td>707</td>\n      <td>2.034438</td>\n      <td>416.915211</td>\n    </tr>\n  </tbody>\n</table>\n</div>"
     },
     "metadata": {},
     "execution_count": 84
    }
   ],
   "source": [
    "col = ['강간검거율','강도검거율','살인검거율','절도검거율','폭력검거율']\n",
    "crime_anal_norm['검거'] = np.sum(crime_anal_norm[col], axis=1)\n",
    "crime_anal_norm.head()"
   ]
  },
  {
   "cell_type": "code",
   "execution_count": 85,
   "metadata": {},
   "outputs": [
    {
     "output_type": "execute_result",
     "data": {
      "text/plain": [
       "            강간        강도        살인        절도        폭력       강간검거율  \\\n",
       "구별                                                                   \n",
       "강남구   1.000000  0.941176  0.916667  0.953472  0.661386   77.728285   \n",
       "강동구   0.155620  0.058824  0.166667  0.445775  0.289667   78.846154   \n",
       "강북구   0.146974  0.529412  0.416667  0.126924  0.274769   82.352941   \n",
       "관악구   0.628242  0.411765  0.583333  0.562094  0.428234   69.062500   \n",
       "광진구   0.397695  0.529412  0.166667  0.671570  0.269094   91.666667   \n",
       "구로구   0.515850  0.588235  0.500000  0.435169  0.359423   58.362989   \n",
       "금천구   0.141210  0.058824  0.083333  0.172426  0.134074   80.794702   \n",
       "노원구   0.273775  0.117647  0.666667  0.386589  0.292268   61.421320   \n",
       "도봉구   0.000000  0.235294  0.083333  0.000000  0.000000  100.000000   \n",
       "동대문구  0.204611  0.470588  0.250000  0.314061  0.250887   84.393064   \n",
       "동작구   0.527378  0.235294  0.250000  0.274376  0.100024   48.771930   \n",
       "마포구   0.553314  0.529412  0.500000  0.510434  0.353748   84.013605   \n",
       "서대문구  0.149856  0.000000  0.000000  0.256244  0.134547   80.519481   \n",
       "서초구   0.838617  0.235294  0.500000  0.537804  0.215654   63.358779   \n",
       "성동구   0.069164  0.235294  0.166667  0.186110  0.029558   94.444444   \n",
       "성북구   0.138329  0.000000  0.250000  0.247007  0.170726   82.666667   \n",
       "송파구   0.340058  0.470588  0.750000  0.744441  0.427524   80.909091   \n",
       "양천구   0.806916  0.823529  0.666667  1.000000  1.000000   77.486911   \n",
       "영등포구  0.556196  1.000000  1.000000  0.650359  0.493024   62.033898   \n",
       "용산구   0.265130  0.529412  0.250000  0.169004  0.133128   89.175258   \n",
       "은평구   0.184438  0.235294  0.083333  0.291139  0.275715   84.939759   \n",
       "종로구   0.314121  0.352941  0.333333  0.383510  0.190589   76.303318   \n",
       "중구    0.195965  0.235294  0.083333  0.508040  0.174273   65.294118   \n",
       "중랑구   0.244957  0.352941  0.916667  0.366746  0.321589   79.144385   \n",
       "\n",
       "           강도검거율       살인검거율      절도검거율      폭력검거율       인구수  CCTV        범죄  \\\n",
       "구별                                                                             \n",
       "강남구    85.714286   76.923077  42.857143  86.484594  570500.0  2780  4.472701   \n",
       "강동구   100.000000   75.000000  33.347422  82.890855  453233.0   773  1.116551   \n",
       "강북구    92.857143  100.000000  43.096234  88.637222  330192.0   748  1.494746   \n",
       "관악구   100.000000   88.888889  30.561715  80.109157  525515.0  1496  2.613667   \n",
       "광진구   100.000000  100.000000  42.200925  83.047619  372164.0   707  2.034438   \n",
       "구로구    73.333333   75.000000  38.072805  80.877951  447874.0  1561  2.398678   \n",
       "금천구   100.000000  100.000000  56.668794  86.465433  255082.0  1015  0.589867   \n",
       "노원구   100.000000  100.000000  36.525308  85.530665  569384.0  1265  1.736946   \n",
       "도봉구   100.000000  100.000000  44.967074  87.626093  348646.0   485  0.318627   \n",
       "동대문구  100.000000  100.000000  41.090358  87.401884  369496.0  1294  1.490147   \n",
       "동작구    55.555556  100.000000  35.442359  83.089005  412520.0  1091  1.387071   \n",
       "마포구    71.428571  100.000000  31.819961  84.445189  389649.0   574  2.446908   \n",
       "서대문구   80.000000  100.000000  40.728477  83.219844  327163.0   962  0.540647   \n",
       "서초구    66.666667   75.000000  41.404175  87.453105  450310.0  1930  2.327368   \n",
       "성동구    88.888889  100.000000  37.149969  86.538462  311244.0  1062  0.686793   \n",
       "성북구    80.000000  100.000000  41.512605  83.974649  461260.0  1464  0.806061   \n",
       "송파구    76.923077   90.909091  34.856437  84.552352  667483.0   618  2.732611   \n",
       "양천구    84.210526  100.000000  48.469644  83.065080  479978.0  2034  4.297113   \n",
       "영등포구   90.909091   85.714286  32.995951  82.894737  402985.0   904  3.699580   \n",
       "용산구   100.000000  100.000000  37.700706  83.121951  244203.0  1624  1.346674   \n",
       "은평구    66.666667  100.000000  37.147335  86.920467  494388.0  1873  1.069920   \n",
       "종로구    81.818182   83.333333  38.324176  84.212822  162820.0  1002  1.574494   \n",
       "중구     66.666667   66.666667  33.712716  88.309353  133240.0   671  1.196905   \n",
       "중랑구    81.818182   92.307692  38.829040  84.545135  414503.0   660  2.202900   \n",
       "\n",
       "              검거  \n",
       "구별                \n",
       "강남구   369.707384  \n",
       "강동구   370.084431  \n",
       "강북구   406.943540  \n",
       "관악구   368.622261  \n",
       "광진구   416.915211  \n",
       "구로구   325.647079  \n",
       "금천구   423.928929  \n",
       "노원구   383.477292  \n",
       "도봉구   432.593167  \n",
       "동대문구  412.885306  \n",
       "동작구   322.858850  \n",
       "마포구   371.707327  \n",
       "서대문구  384.467802  \n",
       "서초구   333.882725  \n",
       "성동구   407.021764  \n",
       "성북구   388.153921  \n",
       "송파구   368.150048  \n",
       "양천구   393.232162  \n",
       "영등포구  354.547963  \n",
       "용산구   409.997915  \n",
       "은평구   375.674229  \n",
       "종로구   363.991830  \n",
       "중구    320.649519  \n",
       "중랑구   376.644434  "
      ],
      "text/html": "<div>\n<style scoped>\n    .dataframe tbody tr th:only-of-type {\n        vertical-align: middle;\n    }\n\n    .dataframe tbody tr th {\n        vertical-align: top;\n    }\n\n    .dataframe thead th {\n        text-align: right;\n    }\n</style>\n<table border=\"1\" class=\"dataframe\">\n  <thead>\n    <tr style=\"text-align: right;\">\n      <th></th>\n      <th>강간</th>\n      <th>강도</th>\n      <th>살인</th>\n      <th>절도</th>\n      <th>폭력</th>\n      <th>강간검거율</th>\n      <th>강도검거율</th>\n      <th>살인검거율</th>\n      <th>절도검거율</th>\n      <th>폭력검거율</th>\n      <th>인구수</th>\n      <th>CCTV</th>\n      <th>범죄</th>\n      <th>검거</th>\n    </tr>\n    <tr>\n      <th>구별</th>\n      <th></th>\n      <th></th>\n      <th></th>\n      <th></th>\n      <th></th>\n      <th></th>\n      <th></th>\n      <th></th>\n      <th></th>\n      <th></th>\n      <th></th>\n      <th></th>\n      <th></th>\n      <th></th>\n    </tr>\n  </thead>\n  <tbody>\n    <tr>\n      <th>강남구</th>\n      <td>1.000000</td>\n      <td>0.941176</td>\n      <td>0.916667</td>\n      <td>0.953472</td>\n      <td>0.661386</td>\n      <td>77.728285</td>\n      <td>85.714286</td>\n      <td>76.923077</td>\n      <td>42.857143</td>\n      <td>86.484594</td>\n      <td>570500.0</td>\n      <td>2780</td>\n      <td>4.472701</td>\n      <td>369.707384</td>\n    </tr>\n    <tr>\n      <th>강동구</th>\n      <td>0.155620</td>\n      <td>0.058824</td>\n      <td>0.166667</td>\n      <td>0.445775</td>\n      <td>0.289667</td>\n      <td>78.846154</td>\n      <td>100.000000</td>\n      <td>75.000000</td>\n      <td>33.347422</td>\n      <td>82.890855</td>\n      <td>453233.0</td>\n      <td>773</td>\n      <td>1.116551</td>\n      <td>370.084431</td>\n    </tr>\n    <tr>\n      <th>강북구</th>\n      <td>0.146974</td>\n      <td>0.529412</td>\n      <td>0.416667</td>\n      <td>0.126924</td>\n      <td>0.274769</td>\n      <td>82.352941</td>\n      <td>92.857143</td>\n      <td>100.000000</td>\n      <td>43.096234</td>\n      <td>88.637222</td>\n      <td>330192.0</td>\n      <td>748</td>\n      <td>1.494746</td>\n      <td>406.943540</td>\n    </tr>\n    <tr>\n      <th>관악구</th>\n      <td>0.628242</td>\n      <td>0.411765</td>\n      <td>0.583333</td>\n      <td>0.562094</td>\n      <td>0.428234</td>\n      <td>69.062500</td>\n      <td>100.000000</td>\n      <td>88.888889</td>\n      <td>30.561715</td>\n      <td>80.109157</td>\n      <td>525515.0</td>\n      <td>1496</td>\n      <td>2.613667</td>\n      <td>368.622261</td>\n    </tr>\n    <tr>\n      <th>광진구</th>\n      <td>0.397695</td>\n      <td>0.529412</td>\n      <td>0.166667</td>\n      <td>0.671570</td>\n      <td>0.269094</td>\n      <td>91.666667</td>\n      <td>100.000000</td>\n      <td>100.000000</td>\n      <td>42.200925</td>\n      <td>83.047619</td>\n      <td>372164.0</td>\n      <td>707</td>\n      <td>2.034438</td>\n      <td>416.915211</td>\n    </tr>\n    <tr>\n      <th>구로구</th>\n      <td>0.515850</td>\n      <td>0.588235</td>\n      <td>0.500000</td>\n      <td>0.435169</td>\n      <td>0.359423</td>\n      <td>58.362989</td>\n      <td>73.333333</td>\n      <td>75.000000</td>\n      <td>38.072805</td>\n      <td>80.877951</td>\n      <td>447874.0</td>\n      <td>1561</td>\n      <td>2.398678</td>\n      <td>325.647079</td>\n    </tr>\n    <tr>\n      <th>금천구</th>\n      <td>0.141210</td>\n      <td>0.058824</td>\n      <td>0.083333</td>\n      <td>0.172426</td>\n      <td>0.134074</td>\n      <td>80.794702</td>\n      <td>100.000000</td>\n      <td>100.000000</td>\n      <td>56.668794</td>\n      <td>86.465433</td>\n      <td>255082.0</td>\n      <td>1015</td>\n      <td>0.589867</td>\n      <td>423.928929</td>\n    </tr>\n    <tr>\n      <th>노원구</th>\n      <td>0.273775</td>\n      <td>0.117647</td>\n      <td>0.666667</td>\n      <td>0.386589</td>\n      <td>0.292268</td>\n      <td>61.421320</td>\n      <td>100.000000</td>\n      <td>100.000000</td>\n      <td>36.525308</td>\n      <td>85.530665</td>\n      <td>569384.0</td>\n      <td>1265</td>\n      <td>1.736946</td>\n      <td>383.477292</td>\n    </tr>\n    <tr>\n      <th>도봉구</th>\n      <td>0.000000</td>\n      <td>0.235294</td>\n      <td>0.083333</td>\n      <td>0.000000</td>\n      <td>0.000000</td>\n      <td>100.000000</td>\n      <td>100.000000</td>\n      <td>100.000000</td>\n      <td>44.967074</td>\n      <td>87.626093</td>\n      <td>348646.0</td>\n      <td>485</td>\n      <td>0.318627</td>\n      <td>432.593167</td>\n    </tr>\n    <tr>\n      <th>동대문구</th>\n      <td>0.204611</td>\n      <td>0.470588</td>\n      <td>0.250000</td>\n      <td>0.314061</td>\n      <td>0.250887</td>\n      <td>84.393064</td>\n      <td>100.000000</td>\n      <td>100.000000</td>\n      <td>41.090358</td>\n      <td>87.401884</td>\n      <td>369496.0</td>\n      <td>1294</td>\n      <td>1.490147</td>\n      <td>412.885306</td>\n    </tr>\n    <tr>\n      <th>동작구</th>\n      <td>0.527378</td>\n      <td>0.235294</td>\n      <td>0.250000</td>\n      <td>0.274376</td>\n      <td>0.100024</td>\n      <td>48.771930</td>\n      <td>55.555556</td>\n      <td>100.000000</td>\n      <td>35.442359</td>\n      <td>83.089005</td>\n      <td>412520.0</td>\n      <td>1091</td>\n      <td>1.387071</td>\n      <td>322.858850</td>\n    </tr>\n    <tr>\n      <th>마포구</th>\n      <td>0.553314</td>\n      <td>0.529412</td>\n      <td>0.500000</td>\n      <td>0.510434</td>\n      <td>0.353748</td>\n      <td>84.013605</td>\n      <td>71.428571</td>\n      <td>100.000000</td>\n      <td>31.819961</td>\n      <td>84.445189</td>\n      <td>389649.0</td>\n      <td>574</td>\n      <td>2.446908</td>\n      <td>371.707327</td>\n    </tr>\n    <tr>\n      <th>서대문구</th>\n      <td>0.149856</td>\n      <td>0.000000</td>\n      <td>0.000000</td>\n      <td>0.256244</td>\n      <td>0.134547</td>\n      <td>80.519481</td>\n      <td>80.000000</td>\n      <td>100.000000</td>\n      <td>40.728477</td>\n      <td>83.219844</td>\n      <td>327163.0</td>\n      <td>962</td>\n      <td>0.540647</td>\n      <td>384.467802</td>\n    </tr>\n    <tr>\n      <th>서초구</th>\n      <td>0.838617</td>\n      <td>0.235294</td>\n      <td>0.500000</td>\n      <td>0.537804</td>\n      <td>0.215654</td>\n      <td>63.358779</td>\n      <td>66.666667</td>\n      <td>75.000000</td>\n      <td>41.404175</td>\n      <td>87.453105</td>\n      <td>450310.0</td>\n      <td>1930</td>\n      <td>2.327368</td>\n      <td>333.882725</td>\n    </tr>\n    <tr>\n      <th>성동구</th>\n      <td>0.069164</td>\n      <td>0.235294</td>\n      <td>0.166667</td>\n      <td>0.186110</td>\n      <td>0.029558</td>\n      <td>94.444444</td>\n      <td>88.888889</td>\n      <td>100.000000</td>\n      <td>37.149969</td>\n      <td>86.538462</td>\n      <td>311244.0</td>\n      <td>1062</td>\n      <td>0.686793</td>\n      <td>407.021764</td>\n    </tr>\n    <tr>\n      <th>성북구</th>\n      <td>0.138329</td>\n      <td>0.000000</td>\n      <td>0.250000</td>\n      <td>0.247007</td>\n      <td>0.170726</td>\n      <td>82.666667</td>\n      <td>80.000000</td>\n      <td>100.000000</td>\n      <td>41.512605</td>\n      <td>83.974649</td>\n      <td>461260.0</td>\n      <td>1464</td>\n      <td>0.806061</td>\n      <td>388.153921</td>\n    </tr>\n    <tr>\n      <th>송파구</th>\n      <td>0.340058</td>\n      <td>0.470588</td>\n      <td>0.750000</td>\n      <td>0.744441</td>\n      <td>0.427524</td>\n      <td>80.909091</td>\n      <td>76.923077</td>\n      <td>90.909091</td>\n      <td>34.856437</td>\n      <td>84.552352</td>\n      <td>667483.0</td>\n      <td>618</td>\n      <td>2.732611</td>\n      <td>368.150048</td>\n    </tr>\n    <tr>\n      <th>양천구</th>\n      <td>0.806916</td>\n      <td>0.823529</td>\n      <td>0.666667</td>\n      <td>1.000000</td>\n      <td>1.000000</td>\n      <td>77.486911</td>\n      <td>84.210526</td>\n      <td>100.000000</td>\n      <td>48.469644</td>\n      <td>83.065080</td>\n      <td>479978.0</td>\n      <td>2034</td>\n      <td>4.297113</td>\n      <td>393.232162</td>\n    </tr>\n    <tr>\n      <th>영등포구</th>\n      <td>0.556196</td>\n      <td>1.000000</td>\n      <td>1.000000</td>\n      <td>0.650359</td>\n      <td>0.493024</td>\n      <td>62.033898</td>\n      <td>90.909091</td>\n      <td>85.714286</td>\n      <td>32.995951</td>\n      <td>82.894737</td>\n      <td>402985.0</td>\n      <td>904</td>\n      <td>3.699580</td>\n      <td>354.547963</td>\n    </tr>\n    <tr>\n      <th>용산구</th>\n      <td>0.265130</td>\n      <td>0.529412</td>\n      <td>0.250000</td>\n      <td>0.169004</td>\n      <td>0.133128</td>\n      <td>89.175258</td>\n      <td>100.000000</td>\n      <td>100.000000</td>\n      <td>37.700706</td>\n      <td>83.121951</td>\n      <td>244203.0</td>\n      <td>1624</td>\n      <td>1.346674</td>\n      <td>409.997915</td>\n    </tr>\n    <tr>\n      <th>은평구</th>\n      <td>0.184438</td>\n      <td>0.235294</td>\n      <td>0.083333</td>\n      <td>0.291139</td>\n      <td>0.275715</td>\n      <td>84.939759</td>\n      <td>66.666667</td>\n      <td>100.000000</td>\n      <td>37.147335</td>\n      <td>86.920467</td>\n      <td>494388.0</td>\n      <td>1873</td>\n      <td>1.069920</td>\n      <td>375.674229</td>\n    </tr>\n    <tr>\n      <th>종로구</th>\n      <td>0.314121</td>\n      <td>0.352941</td>\n      <td>0.333333</td>\n      <td>0.383510</td>\n      <td>0.190589</td>\n      <td>76.303318</td>\n      <td>81.818182</td>\n      <td>83.333333</td>\n      <td>38.324176</td>\n      <td>84.212822</td>\n      <td>162820.0</td>\n      <td>1002</td>\n      <td>1.574494</td>\n      <td>363.991830</td>\n    </tr>\n    <tr>\n      <th>중구</th>\n      <td>0.195965</td>\n      <td>0.235294</td>\n      <td>0.083333</td>\n      <td>0.508040</td>\n      <td>0.174273</td>\n      <td>65.294118</td>\n      <td>66.666667</td>\n      <td>66.666667</td>\n      <td>33.712716</td>\n      <td>88.309353</td>\n      <td>133240.0</td>\n      <td>671</td>\n      <td>1.196905</td>\n      <td>320.649519</td>\n    </tr>\n    <tr>\n      <th>중랑구</th>\n      <td>0.244957</td>\n      <td>0.352941</td>\n      <td>0.916667</td>\n      <td>0.366746</td>\n      <td>0.321589</td>\n      <td>79.144385</td>\n      <td>81.818182</td>\n      <td>92.307692</td>\n      <td>38.829040</td>\n      <td>84.545135</td>\n      <td>414503.0</td>\n      <td>660</td>\n      <td>2.202900</td>\n      <td>376.644434</td>\n    </tr>\n  </tbody>\n</table>\n</div>"
     },
     "metadata": {},
     "execution_count": 85
    }
   ],
   "source": [
    "crime_anal_norm"
   ]
  },
  {
   "cell_type": "markdown",
   "metadata": {},
   "source": [
    "# seaborn"
   ]
  },
  {
   "cell_type": "code",
   "execution_count": null,
   "metadata": {},
   "outputs": [],
   "source": [
    "import matplotlib.pyplot as plt\n",
    "%matplotlib inline\n",
    "\n",
    "import seaborn as sns\n",
    "\n",
    "x = np.linspace(0, 14, 100)\n",
    "y1 = np.sin(x)\n",
    "y2 = 2*np.sin(x+0.5)\n",
    "y3 = 3*np.sin(x+1.0)\n",
    "y4 = 4*np.sin(x+1.5)\n",
    "\n",
    "plt.figure(figsize=(10,6))\n",
    "plt.plot(x,y1, x,y2, x,y3, x,y4)\n",
    "plt.show()"
   ]
  },
  {
   "cell_type": "code",
   "execution_count": null,
   "metadata": {},
   "outputs": [],
   "source": [
    "sns.set_style(\"white\")\n",
    "\n",
    "plt.figure(figsize=(10,6))\n",
    "plt.plot(x,y1, x,y2, x,y3, x,y4)\n",
    "\n",
    "sns.despine()\n",
    "\n",
    "plt.show()"
   ]
  },
  {
   "cell_type": "code",
   "execution_count": null,
   "metadata": {},
   "outputs": [],
   "source": [
    "sns.set_style(\"dark\")\n",
    "\n",
    "plt.figure(figsize=(10,6))\n",
    "plt.plot(x,y1, x,y2, x,y3, x,y4)\n",
    "plt.show()"
   ]
  },
  {
   "cell_type": "code",
   "execution_count": null,
   "metadata": {},
   "outputs": [],
   "source": [
    "sns.set_style(\"whitegrid\")\n",
    "\n",
    "plt.figure(figsize=(10,6))\n",
    "plt.plot(x,y1, x,y2, x,y3, x,y4)\n",
    "plt.show()"
   ]
  },
  {
   "cell_type": "code",
   "execution_count": null,
   "metadata": {},
   "outputs": [],
   "source": [
    "plt.figure(figsize=(10,6))\n",
    "plt.plot(x,y1, x,y2, x,y3, x,y4)\n",
    "\n",
    "sns.despine(offset=10)\n",
    "\n",
    "plt.show()"
   ]
  },
  {
   "cell_type": "code",
   "execution_count": null,
   "metadata": {},
   "outputs": [],
   "source": [
    "import matplotlib.pyplot as plt\n",
    "import numpy as np\n",
    "import seaborn as sns\n",
    "\n",
    "sns.set_style(\"whitegrid\")\n",
    "%matplotlib inline"
   ]
  },
  {
   "cell_type": "code",
   "execution_count": null,
   "metadata": {},
   "outputs": [],
   "source": [
    "tips = sns.load_dataset(\"tips\")\n",
    "tips.head(5)"
   ]
  },
  {
   "cell_type": "code",
   "execution_count": null,
   "metadata": {},
   "outputs": [],
   "source": [
    "sns.set_style(\"whitegrid\")\n",
    "\n",
    "plt.figure(figsize=(8,6))\n",
    "sns.boxplot(x=tips[\"total_bill\"])\n",
    "plt.show()"
   ]
  },
  {
   "cell_type": "code",
   "execution_count": null,
   "metadata": {},
   "outputs": [],
   "source": [
    "plt.figure(figsize=(8,6))\n",
    "sns.boxplot(x=\"day\", y=\"total_bill\", data=tips)\n",
    "plt.show()"
   ]
  },
  {
   "cell_type": "code",
   "execution_count": null,
   "metadata": {},
   "outputs": [],
   "source": [
    "plt.figure(figsize=(8,6))\n",
    "sns.boxplot(x=\"day\", y=\"total_bill\", hue=\"smoker\", data=tips, palette=\"Set3\")\n",
    "plt.show()"
   ]
  },
  {
   "cell_type": "code",
   "execution_count": null,
   "metadata": {},
   "outputs": [],
   "source": [
    "plt.figure(figsize=(8,6))\n",
    "sns.swarmplot(x=\"day\", y=\"total_bill\", data=tips, color=\".5\")\n",
    "plt.show()"
   ]
  },
  {
   "cell_type": "code",
   "execution_count": null,
   "metadata": {},
   "outputs": [],
   "source": [
    "plt.figure(figsize=(8,6))\n",
    "sns.boxplot(x=\"day\", y=\"total_bill\", data=tips)\n",
    "sns.swarmplot(x=\"day\", y=\"total_bill\", data=tips, color=\".25\")\n",
    "plt.show()"
   ]
  },
  {
   "cell_type": "code",
   "execution_count": null,
   "metadata": {},
   "outputs": [],
   "source": [
    "import matplotlib.pyplot as plt\n",
    "import seaborn as sns\n",
    "%matplotlib inline\n",
    "\n",
    "tips = sns.load_dataset(\"tips\")\n",
    "tips.head(5)"
   ]
  },
  {
   "cell_type": "code",
   "execution_count": null,
   "metadata": {},
   "outputs": [],
   "source": [
    "sns.set_style(\"darkgrid\")\n",
    "sns.lmplot(x=\"total_bill\", y=\"tip\", data=tips, size=7)\n",
    "plt.show()"
   ]
  },
  {
   "cell_type": "code",
   "execution_count": null,
   "metadata": {},
   "outputs": [],
   "source": [
    "sns.lmplot(x=\"total_bill\", y=\"tip\", hue=\"smoker\", data=tips, size=7)\n",
    "plt.show()"
   ]
  },
  {
   "cell_type": "code",
   "execution_count": null,
   "metadata": {},
   "outputs": [],
   "source": [
    "sns.lmplot(x=\"total_bill\", y=\"tip\", hue=\"smoker\", data=tips, palette=\"Set1\", size=7)\n",
    "plt.show()"
   ]
  },
  {
   "cell_type": "code",
   "execution_count": null,
   "metadata": {},
   "outputs": [],
   "source": [
    "uniform_data = np.random.rand(10, 12)\n",
    "uniform_data"
   ]
  },
  {
   "cell_type": "code",
   "execution_count": null,
   "metadata": {},
   "outputs": [],
   "source": [
    "sns.heatmap(uniform_data)\n",
    "plt.show()"
   ]
  },
  {
   "cell_type": "code",
   "execution_count": null,
   "metadata": {},
   "outputs": [],
   "source": [
    "sns.heatmap(uniform_data, vmin=0, vmax=1)\n",
    "plt.show()"
   ]
  },
  {
   "cell_type": "code",
   "execution_count": null,
   "metadata": {},
   "outputs": [],
   "source": [
    "flights = sns.load_dataset(\"flights\")\n",
    "flights.head(5)"
   ]
  },
  {
   "cell_type": "code",
   "execution_count": null,
   "metadata": {},
   "outputs": [],
   "source": [
    "flights = flights.pivot(\"month\", \"year\", \"passengers\")\n",
    "flights.head(5)"
   ]
  },
  {
   "cell_type": "code",
   "execution_count": null,
   "metadata": {},
   "outputs": [],
   "source": [
    "plt.figure(figsize=(10,8))\n",
    "sns.heatmap(flights)\n",
    "plt.show()"
   ]
  },
  {
   "cell_type": "code",
   "execution_count": null,
   "metadata": {},
   "outputs": [],
   "source": [
    "plt.figure(figsize=(10,8))\n",
    "sns.heatmap(flights, annot=True, fmt=\"d\")\n",
    "plt.show()"
   ]
  },
  {
   "cell_type": "code",
   "execution_count": null,
   "metadata": {},
   "outputs": [],
   "source": [
    "sns.set(style=\"ticks\")\n",
    "iris = sns.load_dataset(\"iris\")\n",
    "iris.head(10)"
   ]
  },
  {
   "cell_type": "code",
   "execution_count": null,
   "metadata": {},
   "outputs": [],
   "source": [
    "sns.pairplot(iris)\n",
    "plt.show()"
   ]
  },
  {
   "cell_type": "code",
   "execution_count": null,
   "metadata": {},
   "outputs": [],
   "source": [
    "sns.pairplot(iris, hue=\"species\")\n",
    "plt.show()"
   ]
  },
  {
   "cell_type": "code",
   "execution_count": null,
   "metadata": {},
   "outputs": [],
   "source": [
    "sns.pairplot(iris, vars=[\"sepal_width\", \"sepal_length\"])\n",
    "plt.show()"
   ]
  },
  {
   "cell_type": "code",
   "execution_count": null,
   "metadata": {},
   "outputs": [],
   "source": [
    "sns.pairplot(iris, x_vars=[\"sepal_width\", \"sepal_length\"], \n",
    "             y_vars=[\"petal_width\", \"petal_length\"])\n",
    "plt.show()"
   ]
  },
  {
   "cell_type": "code",
   "execution_count": null,
   "metadata": {},
   "outputs": [],
   "source": [
    "anscombe = sns.load_dataset(\"anscombe\")\n",
    "anscombe.head(5)"
   ]
  },
  {
   "cell_type": "code",
   "execution_count": null,
   "metadata": {},
   "outputs": [],
   "source": [
    "sns.set_style(\"darkgrid\")\n",
    "\n",
    "sns.lmplot(x=\"x\", y=\"y\", data=anscombe.query(\"dataset == 'I'\"),  ci=None, size=7)\n",
    "plt.show()"
   ]
  },
  {
   "cell_type": "code",
   "execution_count": null,
   "metadata": {},
   "outputs": [],
   "source": [
    "sns.lmplot(x=\"x\", y=\"y\", data=anscombe.query(\"dataset == 'I'\"),\n",
    "           ci=None, scatter_kws={\"s\": 80}, size=7)\n",
    "plt.show()"
   ]
  },
  {
   "cell_type": "code",
   "execution_count": null,
   "metadata": {},
   "outputs": [],
   "source": [
    "sns.lmplot(x=\"x\", y=\"y\", data=anscombe.query(\"dataset == 'II'\"),\n",
    "           order=1, ci=None, scatter_kws={\"s\": 80}, size=7)\n",
    "plt.show()"
   ]
  },
  {
   "cell_type": "code",
   "execution_count": null,
   "metadata": {},
   "outputs": [],
   "source": [
    "sns.lmplot(x=\"x\", y=\"y\", data=anscombe.query(\"dataset == 'II'\"),\n",
    "           order=2, ci=None, scatter_kws={\"s\": 80}, size=7)\n",
    "plt.show()"
   ]
  },
  {
   "cell_type": "code",
   "execution_count": null,
   "metadata": {},
   "outputs": [],
   "source": [
    "sns.lmplot(x=\"x\", y=\"y\", data=anscombe.query(\"dataset == 'III'\"),\n",
    "           ci=None, scatter_kws={\"s\": 80}, size=7)\n",
    "plt.show()"
   ]
  },
  {
   "cell_type": "code",
   "execution_count": null,
   "metadata": {},
   "outputs": [],
   "source": [
    "sns.lmplot(x=\"x\", y=\"y\", data=anscombe.query(\"dataset == 'III'\"),\n",
    "           robust=True, ci=None, scatter_kws={\"s\": 80}, size=7)\n",
    "plt.show()"
   ]
  },
  {
   "cell_type": "markdown",
   "metadata": {},
   "source": [
    "# Visualization using seaborn"
   ]
  },
  {
   "cell_type": "code",
   "execution_count": 19,
   "metadata": {},
   "outputs": [],
   "source": [
    "import matplotlib.pyplot as plt\n",
    "import seaborn as sns\n",
    "\n",
    "%matplotlib inline\n",
    "\n",
    "import platform\n",
    "\n",
    "path = \"c:/Windows/Fonts/malgun.ttf\"\n",
    "from matplotlib import font_manager, rc\n",
    "if platform.system() == 'Darwin':\n",
    "    rc('font', family='AppleGothic')\n",
    "elif platform.system() == 'Windows':\n",
    "    font_name = font_manager.FontProperties(fname=path).get_name()\n",
    "    rc('font', family=font_name)\n",
    "else:\n",
    "    print('Unknown system... sorry~~~~') "
   ]
  },
  {
   "cell_type": "code",
   "execution_count": 20,
   "metadata": {},
   "outputs": [
    {
     "output_type": "error",
     "ename": "NameError",
     "evalue": "name 'crime_anal_norm' is not defined",
     "traceback": [
      "\u001b[0;31m---------------------------------------------------------------------------\u001b[0m",
      "\u001b[0;31mNameError\u001b[0m                                 Traceback (most recent call last)",
      "\u001b[0;32m<ipython-input-20-6a3dc127d7ef>\u001b[0m in \u001b[0;36m<module>\u001b[0;34m\u001b[0m\n\u001b[0;32m----> 1\u001b[0;31m \u001b[0mcrime_anal_norm\u001b[0m\u001b[0;34m.\u001b[0m\u001b[0mhead\u001b[0m\u001b[0;34m(\u001b[0m\u001b[0;34m)\u001b[0m\u001b[0;34m\u001b[0m\u001b[0;34m\u001b[0m\u001b[0m\n\u001b[0m",
      "\u001b[0;31mNameError\u001b[0m: name 'crime_anal_norm' is not defined"
     ]
    }
   ],
   "source": [
    "crime_anal_norm.head()"
   ]
  },
  {
   "cell_type": "code",
   "execution_count": null,
   "metadata": {},
   "outputs": [],
   "source": [
    "sns.pairplot(crime_anal_norm, vars=[\"강도\", \"살인\", \"폭력\"], kind='reg', size=3)\n",
    "plt.show()"
   ]
  },
  {
   "cell_type": "code",
   "execution_count": null,
   "metadata": {},
   "outputs": [],
   "source": [
    "sns.pairplot(crime_anal_norm, x_vars=[\"인구수\", \"CCTV\"], \n",
    "             y_vars=[\"살인\", \"강도\"], kind='reg', size=3)\n",
    "plt.show()"
   ]
  },
  {
   "cell_type": "code",
   "execution_count": null,
   "metadata": {},
   "outputs": [],
   "source": [
    "sns.pairplot(crime_anal_norm, x_vars=[\"인구수\", \"CCTV\"], \n",
    "             y_vars=[\"살인검거율\", \"폭력검거율\"], kind='reg', size=3)\n",
    "plt.show()"
   ]
  },
  {
   "cell_type": "code",
   "execution_count": null,
   "metadata": {},
   "outputs": [],
   "source": [
    "sns.pairplot(crime_anal_norm, x_vars=[\"인구수\", \"CCTV\"], \n",
    "             y_vars=[\"절도검거율\", \"강도검거율\"], kind='reg', size=3)\n",
    "plt.show()"
   ]
  },
  {
   "cell_type": "code",
   "execution_count": null,
   "metadata": {},
   "outputs": [],
   "source": [
    "tmp_max = crime_anal_norm['검거'].max()\n",
    "crime_anal_norm['검거'] = crime_anal_norm['검거'] / tmp_max * 100\n",
    "crime_anal_norm_sort = crime_anal_norm.sort_values(by='검거', ascending=False)\n",
    "crime_anal_norm_sort.head()"
   ]
  },
  {
   "cell_type": "code",
   "execution_count": null,
   "metadata": {},
   "outputs": [],
   "source": [
    "target_col = ['강간검거율', '강도검거율', '살인검거율', '절도검거율', '폭력검거율']\n",
    "\n",
    "crime_anal_norm_sort = crime_anal_norm.sort_values(by='검거', ascending=False)\n",
    "\n",
    "plt.figure(figsize = (10,10))\n",
    "sns.heatmap(crime_anal_norm_sort[target_col], annot=True, fmt='f', \n",
    "                    linewidths=.5, cmap='RdPu')\n",
    "plt.title('범죄 검거 비율 (정규화된 검거의 합으로 정렬)')\n",
    "plt.show()"
   ]
  },
  {
   "cell_type": "code",
   "execution_count": null,
   "metadata": {},
   "outputs": [],
   "source": [
    "target_col = ['강간', '강도', '살인', '절도', '폭력', '범죄']\n",
    "\n",
    "crime_anal_norm['범죄'] = crime_anal_norm['범죄'] / 5\n",
    "crime_anal_norm_sort = crime_anal_norm.sort_values(by='범죄', ascending=False)\n",
    "\n",
    "plt.figure(figsize = (10,10))\n",
    "sns.heatmap(crime_anal_norm_sort[target_col], annot=True, fmt='f', linewidths=.5,\n",
    "                       cmap='RdPu')\n",
    "plt.title('범죄비율 (정규화된 발생 건수로 정렬)')\n",
    "plt.show()"
   ]
  },
  {
   "cell_type": "code",
   "execution_count": null,
   "metadata": {},
   "outputs": [],
   "source": [
    "crime_anal_norm.to_csv('../data/02. crime_in_Seoul_final.csv', sep=',', \n",
    "                       encoding='utf-8')"
   ]
  },
  {
   "cell_type": "markdown",
   "metadata": {},
   "source": [
    "# Folium "
   ]
  },
  {
   "cell_type": "code",
   "execution_count": 15,
   "metadata": {},
   "outputs": [],
   "source": [
    "import folium"
   ]
  },
  {
   "cell_type": "code",
   "execution_count": 92,
   "metadata": {},
   "outputs": [
    {
     "output_type": "execute_result",
     "data": {
      "text/plain": [
       "<folium.folium.Map at 0x7f86d34f28b0>"
      ],
      "text/html": "<div style=\"width:100%;\"><div style=\"position:relative;width:100%;height:0;padding-bottom:60%;\"><span style=\"color:#565656\">Make this Notebook Trusted to load map: File -> Trust Notebook</span><iframe src=\"about:blank\" style=\"position:absolute;width:100%;height:100%;left:0;top:0;border:none !important;\" data-html=%3C%21DOCTYPE%20html%3E%0A%3Chead%3E%20%20%20%20%0A%20%20%20%20%3Cmeta%20http-equiv%3D%22content-type%22%20content%3D%22text/html%3B%20charset%3DUTF-8%22%20/%3E%0A%20%20%20%20%0A%20%20%20%20%20%20%20%20%3Cscript%3E%0A%20%20%20%20%20%20%20%20%20%20%20%20L_NO_TOUCH%20%3D%20false%3B%0A%20%20%20%20%20%20%20%20%20%20%20%20L_DISABLE_3D%20%3D%20false%3B%0A%20%20%20%20%20%20%20%20%3C/script%3E%0A%20%20%20%20%0A%20%20%20%20%3Cstyle%3Ehtml%2C%20body%20%7Bwidth%3A%20100%25%3Bheight%3A%20100%25%3Bmargin%3A%200%3Bpadding%3A%200%3B%7D%3C/style%3E%0A%20%20%20%20%3Cstyle%3E%23map%20%7Bposition%3Aabsolute%3Btop%3A0%3Bbottom%3A0%3Bright%3A0%3Bleft%3A0%3B%7D%3C/style%3E%0A%20%20%20%20%3Cscript%20src%3D%22https%3A//cdn.jsdelivr.net/npm/leaflet%401.6.0/dist/leaflet.js%22%3E%3C/script%3E%0A%20%20%20%20%3Cscript%20src%3D%22https%3A//code.jquery.com/jquery-1.12.4.min.js%22%3E%3C/script%3E%0A%20%20%20%20%3Cscript%20src%3D%22https%3A//maxcdn.bootstrapcdn.com/bootstrap/3.2.0/js/bootstrap.min.js%22%3E%3C/script%3E%0A%20%20%20%20%3Cscript%20src%3D%22https%3A//cdnjs.cloudflare.com/ajax/libs/Leaflet.awesome-markers/2.0.2/leaflet.awesome-markers.js%22%3E%3C/script%3E%0A%20%20%20%20%3Clink%20rel%3D%22stylesheet%22%20href%3D%22https%3A//cdn.jsdelivr.net/npm/leaflet%401.6.0/dist/leaflet.css%22/%3E%0A%20%20%20%20%3Clink%20rel%3D%22stylesheet%22%20href%3D%22https%3A//maxcdn.bootstrapcdn.com/bootstrap/3.2.0/css/bootstrap.min.css%22/%3E%0A%20%20%20%20%3Clink%20rel%3D%22stylesheet%22%20href%3D%22https%3A//maxcdn.bootstrapcdn.com/bootstrap/3.2.0/css/bootstrap-theme.min.css%22/%3E%0A%20%20%20%20%3Clink%20rel%3D%22stylesheet%22%20href%3D%22https%3A//maxcdn.bootstrapcdn.com/font-awesome/4.6.3/css/font-awesome.min.css%22/%3E%0A%20%20%20%20%3Clink%20rel%3D%22stylesheet%22%20href%3D%22https%3A//cdnjs.cloudflare.com/ajax/libs/Leaflet.awesome-markers/2.0.2/leaflet.awesome-markers.css%22/%3E%0A%20%20%20%20%3Clink%20rel%3D%22stylesheet%22%20href%3D%22https%3A//cdn.jsdelivr.net/gh/python-visualization/folium/folium/templates/leaflet.awesome.rotate.min.css%22/%3E%0A%20%20%20%20%0A%20%20%20%20%20%20%20%20%20%20%20%20%3Cmeta%20name%3D%22viewport%22%20content%3D%22width%3Ddevice-width%2C%0A%20%20%20%20%20%20%20%20%20%20%20%20%20%20%20%20initial-scale%3D1.0%2C%20maximum-scale%3D1.0%2C%20user-scalable%3Dno%22%20/%3E%0A%20%20%20%20%20%20%20%20%20%20%20%20%3Cstyle%3E%0A%20%20%20%20%20%20%20%20%20%20%20%20%20%20%20%20%23map_d369e7f7674b40a38c2c8da284070bf6%20%7B%0A%20%20%20%20%20%20%20%20%20%20%20%20%20%20%20%20%20%20%20%20position%3A%20relative%3B%0A%20%20%20%20%20%20%20%20%20%20%20%20%20%20%20%20%20%20%20%20width%3A%20100.0%25%3B%0A%20%20%20%20%20%20%20%20%20%20%20%20%20%20%20%20%20%20%20%20height%3A%20100.0%25%3B%0A%20%20%20%20%20%20%20%20%20%20%20%20%20%20%20%20%20%20%20%20left%3A%200.0%25%3B%0A%20%20%20%20%20%20%20%20%20%20%20%20%20%20%20%20%20%20%20%20top%3A%200.0%25%3B%0A%20%20%20%20%20%20%20%20%20%20%20%20%20%20%20%20%7D%0A%20%20%20%20%20%20%20%20%20%20%20%20%3C/style%3E%0A%20%20%20%20%20%20%20%20%0A%3C/head%3E%0A%3Cbody%3E%20%20%20%20%0A%20%20%20%20%0A%20%20%20%20%20%20%20%20%20%20%20%20%3Cdiv%20class%3D%22folium-map%22%20id%3D%22map_d369e7f7674b40a38c2c8da284070bf6%22%20%3E%3C/div%3E%0A%20%20%20%20%20%20%20%20%0A%3C/body%3E%0A%3Cscript%3E%20%20%20%20%0A%20%20%20%20%0A%20%20%20%20%20%20%20%20%20%20%20%20var%20map_d369e7f7674b40a38c2c8da284070bf6%20%3D%20L.map%28%0A%20%20%20%20%20%20%20%20%20%20%20%20%20%20%20%20%22map_d369e7f7674b40a38c2c8da284070bf6%22%2C%0A%20%20%20%20%20%20%20%20%20%20%20%20%20%20%20%20%7B%0A%20%20%20%20%20%20%20%20%20%20%20%20%20%20%20%20%20%20%20%20center%3A%20%5B45.5236%2C%20-122.675%5D%2C%0A%20%20%20%20%20%20%20%20%20%20%20%20%20%20%20%20%20%20%20%20crs%3A%20L.CRS.EPSG3857%2C%0A%20%20%20%20%20%20%20%20%20%20%20%20%20%20%20%20%20%20%20%20zoom%3A%2010%2C%0A%20%20%20%20%20%20%20%20%20%20%20%20%20%20%20%20%20%20%20%20zoomControl%3A%20true%2C%0A%20%20%20%20%20%20%20%20%20%20%20%20%20%20%20%20%20%20%20%20preferCanvas%3A%20false%2C%0A%20%20%20%20%20%20%20%20%20%20%20%20%20%20%20%20%7D%0A%20%20%20%20%20%20%20%20%20%20%20%20%29%3B%0A%0A%20%20%20%20%20%20%20%20%20%20%20%20%0A%0A%20%20%20%20%20%20%20%20%0A%20%20%20%20%0A%20%20%20%20%20%20%20%20%20%20%20%20var%20tile_layer_8d7126e05f284a9b996d114441f1890f%20%3D%20L.tileLayer%28%0A%20%20%20%20%20%20%20%20%20%20%20%20%20%20%20%20%22https%3A//%7Bs%7D.tile.openstreetmap.org/%7Bz%7D/%7Bx%7D/%7By%7D.png%22%2C%0A%20%20%20%20%20%20%20%20%20%20%20%20%20%20%20%20%7B%22attribution%22%3A%20%22Data%20by%20%5Cu0026copy%3B%20%5Cu003ca%20href%3D%5C%22http%3A//openstreetmap.org%5C%22%5Cu003eOpenStreetMap%5Cu003c/a%5Cu003e%2C%20under%20%5Cu003ca%20href%3D%5C%22http%3A//www.openstreetmap.org/copyright%5C%22%5Cu003eODbL%5Cu003c/a%5Cu003e.%22%2C%20%22detectRetina%22%3A%20false%2C%20%22maxNativeZoom%22%3A%2018%2C%20%22maxZoom%22%3A%2018%2C%20%22minZoom%22%3A%200%2C%20%22noWrap%22%3A%20false%2C%20%22opacity%22%3A%201%2C%20%22subdomains%22%3A%20%22abc%22%2C%20%22tms%22%3A%20false%7D%0A%20%20%20%20%20%20%20%20%20%20%20%20%29.addTo%28map_d369e7f7674b40a38c2c8da284070bf6%29%3B%0A%20%20%20%20%20%20%20%20%0A%3C/script%3E onload=\"this.contentDocument.open();this.contentDocument.write(    decodeURIComponent(this.getAttribute('data-html')));this.contentDocument.close();\" allowfullscreen webkitallowfullscreen mozallowfullscreen></iframe></div></div>"
     },
     "metadata": {},
     "execution_count": 92
    }
   ],
   "source": [
    "map_osm = folium.Map(location=[45.5236, -122.6750])\n",
    "map_osm"
   ]
  },
  {
   "cell_type": "code",
   "execution_count": null,
   "metadata": {},
   "outputs": [],
   "source": [
    "stamen = folium.Map(location=[45.5236, -122.6750], zoom_start=13)\n",
    "stamen"
   ]
  },
  {
   "cell_type": "code",
   "execution_count": null,
   "metadata": {},
   "outputs": [],
   "source": [
    "stamen = folium.Map(location=[45.5236, -122.6750], tiles='Stamen Toner', \n",
    "                    zoom_start=13)\n",
    "stamen"
   ]
  },
  {
   "cell_type": "code",
   "execution_count": null,
   "metadata": {},
   "outputs": [],
   "source": [
    "stamen = folium.Map(location=[45.5236, -122.6750], \n",
    "                    tiles='Stamen Terrain', zoom_start=13)\n",
    "stamen"
   ]
  },
  {
   "cell_type": "code",
   "execution_count": null,
   "metadata": {},
   "outputs": [],
   "source": [
    "map_1 = folium.Map(location=[45.372, -121.6972], zoom_start=12,\n",
    "                   tiles='Stamen Terrain')\n",
    "folium.Marker([45.3288, -121.6625], popup='Mt. Hood Meadows', \n",
    "              icon=folium.Icon(icon='cloud')).add_to(map_1)\n",
    "folium.Marker([45.3311, -121.7113], popup='Timberline Lodge', \n",
    "              icon=folium.Icon(icon='cloud')).add_to(map_1)\n",
    "map_1"
   ]
  },
  {
   "cell_type": "code",
   "execution_count": null,
   "metadata": {},
   "outputs": [],
   "source": [
    "map_1 = folium.Map(location=[45.372, -121.6972], zoom_start=12, \n",
    "                   tiles='Stamen Terrain')\n",
    "folium.Marker([45.3288, -121.6625], popup='Mt. Hood Meadows', \n",
    "              icon=folium.Icon(icon='cloud')).add_to(map_1)\n",
    "folium.Marker([45.3311, -121.7113], popup='Timberline Lodge', \n",
    "              icon=folium.Icon(color='green')).add_to(map_1)\n",
    "folium.Marker([45.3300, -121.6823], popup='Some Other Location', \n",
    "              icon=folium.Icon(color='red',icon='info-sign')).add_to(map_1)\n",
    "map_1"
   ]
  },
  {
   "cell_type": "code",
   "execution_count": null,
   "metadata": {},
   "outputs": [],
   "source": [
    "map_2 = folium.Map(location=[45.5236, -122.6750], tiles='Stamen Toner', \n",
    "                   zoom_start=13)\n",
    "folium.Marker([45.5244, -122.6699], popup='The Waterfront' ).add_to(map_2)\n",
    "folium.CircleMarker([45.5215, -122.6261], radius=50, \n",
    "                    popup='Laurelhurst Park', color='#3186cc', \n",
    "                    fill_color='#3186cc', ).add_to(map_2)\n",
    "map_2"
   ]
  },
  {
   "cell_type": "code",
   "execution_count": null,
   "metadata": {},
   "outputs": [],
   "source": [
    "map_5 = folium.Map(location=[45.5236, -122.6750], zoom_start=13)\n",
    "folium.RegularPolygonMarker([45.5012, -122.6655], \n",
    "                            popup='Ross Island Bridge', fill_color='#132b5e', \n",
    "                            number_of_sides=3, radius=10).add_to(map_5)\n",
    "folium.RegularPolygonMarker([45.5132, -122.6708], \n",
    "                            popup='Hawthorne Bridge', fill_color='#45647d', \n",
    "                            number_of_sides=4, radius=10).add_to(map_5)\n",
    "folium.RegularPolygonMarker([45.5275, -122.6692], \n",
    "                            popup='Steel Bridge', fill_color='#769d96', \n",
    "                            number_of_sides=6, radius=10).add_to(map_5)\n",
    "folium.RegularPolygonMarker([45.5318, -122.6745], \n",
    "                            popup='Broadway Bridge', fill_color='#769d96', \n",
    "                            number_of_sides=8, radius=10).add_to(map_5)\n",
    "map_5"
   ]
  },
  {
   "cell_type": "code",
   "execution_count": 16,
   "metadata": {},
   "outputs": [],
   "source": [
    "import folium\n",
    "import pandas as pd"
   ]
  },
  {
   "cell_type": "code",
   "execution_count": null,
   "metadata": {},
   "outputs": [],
   "source": [
    "state_unemployment = '/Volumes/Geozedo60/Python/bit/datamath/practice/DataScience/data/02. folium_US_Unemployment_Oct2012.csv'\n",
    "\n",
    "state_data = pd.read_csv(state_unemployment)\n",
    "state_data.head()"
   ]
  },
  {
   "cell_type": "code",
   "execution_count": null,
   "metadata": {},
   "outputs": [],
   "source": [
    "state_geo = '/Volumes/Geozedo60/Python/bit/datamath/practice/DataScience/data/02. folium_us-states.json'\n",
    "\n",
    "map = folium.Map(location=[40, -98], zoom_start=4)\n",
    "map.choropleth(geo_data=state_geo, data=state_data,\n",
    "             columns=['State', 'Unemployment'],\n",
    "             key_on='feature.id',\n",
    "             fill_color='YlGn',\n",
    "             legend_name='Unemployment Rate (%)')\n",
    "map"
   ]
  },
  {
   "cell_type": "markdown",
   "metadata": {},
   "source": [
    "# 범죄율에 대한 지도 시각화"
   ]
  },
  {
   "cell_type": "code",
   "execution_count": 17,
   "metadata": {},
   "outputs": [],
   "source": [
    "import json\n",
    "geo_path = '/Volumes/Geozedo60/Python/bit/datamath/practice/DataScience/data/02. skorea_municipalities_geo_simple.json'\n",
    "geo_str = json.load(open(geo_path, encoding='utf-8'))"
   ]
  },
  {
   "cell_type": "code",
   "execution_count": 18,
   "metadata": {},
   "outputs": [
    {
     "output_type": "error",
     "ename": "NameError",
     "evalue": "name 'crime_anal_norm' is not defined",
     "traceback": [
      "\u001b[0;31m---------------------------------------------------------------------------\u001b[0m",
      "\u001b[0;31mNameError\u001b[0m                                 Traceback (most recent call last)",
      "\u001b[0;32m<ipython-input-18-4e7c02dd2fb3>\u001b[0m in \u001b[0;36m<module>\u001b[0;34m\u001b[0m\n\u001b[1;32m      3\u001b[0m \u001b[0;34m\u001b[0m\u001b[0m\n\u001b[1;32m      4\u001b[0m map.choropleth(geo_data = geo_str,\n\u001b[0;32m----> 5\u001b[0;31m                \u001b[0mdata\u001b[0m \u001b[0;34m=\u001b[0m \u001b[0mcrime_anal_norm\u001b[0m\u001b[0;34m[\u001b[0m\u001b[0;34m'살인'\u001b[0m\u001b[0;34m]\u001b[0m\u001b[0;34m,\u001b[0m\u001b[0;34m\u001b[0m\u001b[0;34m\u001b[0m\u001b[0m\n\u001b[0m\u001b[1;32m      6\u001b[0m                \u001b[0mcolumns\u001b[0m \u001b[0;34m=\u001b[0m \u001b[0;34m[\u001b[0m\u001b[0mcrime_anal_norm\u001b[0m\u001b[0;34m.\u001b[0m\u001b[0mindex\u001b[0m\u001b[0;34m,\u001b[0m \u001b[0mcrime_anal_norm\u001b[0m\u001b[0;34m[\u001b[0m\u001b[0;34m'살인'\u001b[0m\u001b[0;34m]\u001b[0m\u001b[0;34m]\u001b[0m\u001b[0;34m,\u001b[0m\u001b[0;34m\u001b[0m\u001b[0;34m\u001b[0m\u001b[0m\n\u001b[1;32m      7\u001b[0m                \u001b[0mfill_color\u001b[0m \u001b[0;34m=\u001b[0m \u001b[0;34m'PuRd'\u001b[0m\u001b[0;34m,\u001b[0m \u001b[0;31m#PuRd, YlGnBu\u001b[0m\u001b[0;34m\u001b[0m\u001b[0;34m\u001b[0m\u001b[0m\n",
      "\u001b[0;31mNameError\u001b[0m: name 'crime_anal_norm' is not defined"
     ]
    }
   ],
   "source": [
    "map = folium.Map(location=[37.5502, 126.982], zoom_start=11, \n",
    "                 tiles='Stamen Toner')\n",
    "\n",
    "map.choropleth(geo_data = geo_str,\n",
    "               data = crime_anal_norm['살인'],\n",
    "               columns = [crime_anal_norm.index, crime_anal_norm['살인']],\n",
    "               fill_color = 'PuRd', #PuRd, YlGnBu\n",
    "               key_on = 'feature.id')\n",
    "map"
   ]
  },
  {
   "cell_type": "code",
   "execution_count": null,
   "metadata": {},
   "outputs": [],
   "source": [
    "map = folium.Map(location=[37.5502, 126.982], zoom_start=11, \n",
    "                 tiles='Stamen Toner')\n",
    "\n",
    "map.choropleth(geo_data = geo_str,\n",
    "               data = crime_anal_norm['강간'],\n",
    "               columns = [crime_anal_norm.index, crime_anal_norm['강간']],\n",
    "               fill_color = 'PuRd', #PuRd, YlGnBu\n",
    "               key_on = 'feature.id')\n",
    "map"
   ]
  },
  {
   "cell_type": "code",
   "execution_count": null,
   "metadata": {},
   "outputs": [],
   "source": [
    "map = folium.Map(location=[37.5502, 126.982], zoom_start=11, \n",
    "                 tiles='Stamen Toner')\n",
    "\n",
    "map.choropleth(geo_data = geo_str,\n",
    "               data = crime_anal_norm['범죄'],\n",
    "               columns = [crime_anal_norm.index, crime_anal_norm['범죄']],\n",
    "               fill_color = 'PuRd', #PuRd, YlGnBu\n",
    "               key_on = 'feature.id')\n",
    "map"
   ]
  },
  {
   "cell_type": "code",
   "execution_count": null,
   "metadata": {},
   "outputs": [],
   "source": [
    "tmp_criminal = crime_anal_norm['살인'] /  crime_anal_norm['인구수'] * 1000000\n",
    "\n",
    "map = folium.Map(location=[37.5502, 126.982], zoom_start=11, \n",
    "                 tiles='Stamen Toner')\n",
    "\n",
    "map.choropleth(geo_data = geo_str,\n",
    "               data = tmp_criminal,\n",
    "               columns = [crime_anal.index, tmp_criminal],\n",
    "               fill_color = 'PuRd', #PuRd, YlGnBu\n",
    "               key_on = 'feature.id')\n",
    "map"
   ]
  },
  {
   "cell_type": "code",
   "execution_count": null,
   "metadata": {},
   "outputs": [],
   "source": [
    "tmp_criminal = crime_anal_norm['범죄'] /  crime_anal_norm['인구수'] * 1000000\n",
    "\n",
    "map = folium.Map(location=[37.5502, 126.982], zoom_start=11, \n",
    "                 tiles='Stamen Toner')\n",
    "\n",
    "map.choropleth(geo_data = geo_str,\n",
    "               data = tmp_criminal,\n",
    "               columns = [crime_anal.index, tmp_criminal],\n",
    "               fill_color = 'PuRd', #PuRd, YlGnBu\n",
    "               key_on = 'feature.id')\n",
    "map"
   ]
  },
  {
   "cell_type": "code",
   "execution_count": null,
   "metadata": {},
   "outputs": [],
   "source": [
    "map = folium.Map(location=[37.5502, 126.982], zoom_start=11, \n",
    "                 tiles='Stamen Toner')\n",
    "\n",
    "map.choropleth(geo_data = geo_str,\n",
    "               data = crime_anal_norm['검거'],\n",
    "               columns = [crime_anal_norm.index, crime_anal_norm['검거']],\n",
    "               fill_color = 'YlGnBu', #PuRd, YlGnBu\n",
    "               key_on = 'feature.id')\n",
    "map"
   ]
  },
  {
   "cell_type": "markdown",
   "metadata": {
    "collapsed": true
   },
   "source": [
    "# 경찰서별 검거현황과 구별 범죄발생 현황을 표현하기"
   ]
  },
  {
   "cell_type": "code",
   "execution_count": 95,
   "metadata": {},
   "outputs": [
    {
     "output_type": "execute_result",
     "data": {
      "text/plain": [
       "    관서명  살인 발생  살인 검거  강도 발생  강도 검거  강간 발생  강간 검거  절도 발생  절도 검거  폭력 발생  폭력 검거  \\\n",
       "0   중부서      2      2      3      2    105     65   1395    477   1355   1170   \n",
       "1   종로서      3      3      6      5    115     98   1070    413   1278   1070   \n",
       "2  남대문서      1      0      6      4     65     46   1153    382    869    794   \n",
       "3  서대문서      2      2      5      4    154    124   1812    738   2056   1711   \n",
       "4   혜화서      3      2      5      4     96     63   1114    424   1015    861   \n",
       "\n",
       "     구별                lat                 lng        검거  \n",
       "0    중구  37.56361812722828  126.98958691395208  1.275416  \n",
       "1   종로구  37.57553779077874  126.98489861889408  1.523847  \n",
       "2    중구  37.55478043476484  126.97349729923079  0.907372  \n",
       "3  서대문구   37.5649023404956    126.966790740735  1.978299  \n",
       "4   종로구   37.5718915247338    126.998935936567  1.198382  "
      ],
      "text/html": "<div>\n<style scoped>\n    .dataframe tbody tr th:only-of-type {\n        vertical-align: middle;\n    }\n\n    .dataframe tbody tr th {\n        vertical-align: top;\n    }\n\n    .dataframe thead th {\n        text-align: right;\n    }\n</style>\n<table border=\"1\" class=\"dataframe\">\n  <thead>\n    <tr style=\"text-align: right;\">\n      <th></th>\n      <th>관서명</th>\n      <th>살인 발생</th>\n      <th>살인 검거</th>\n      <th>강도 발생</th>\n      <th>강도 검거</th>\n      <th>강간 발생</th>\n      <th>강간 검거</th>\n      <th>절도 발생</th>\n      <th>절도 검거</th>\n      <th>폭력 발생</th>\n      <th>폭력 검거</th>\n      <th>구별</th>\n      <th>lat</th>\n      <th>lng</th>\n      <th>검거</th>\n    </tr>\n  </thead>\n  <tbody>\n    <tr>\n      <th>0</th>\n      <td>중부서</td>\n      <td>2</td>\n      <td>2</td>\n      <td>3</td>\n      <td>2</td>\n      <td>105</td>\n      <td>65</td>\n      <td>1395</td>\n      <td>477</td>\n      <td>1355</td>\n      <td>1170</td>\n      <td>중구</td>\n      <td>37.56361812722828</td>\n      <td>126.98958691395208</td>\n      <td>1.275416</td>\n    </tr>\n    <tr>\n      <th>1</th>\n      <td>종로서</td>\n      <td>3</td>\n      <td>3</td>\n      <td>6</td>\n      <td>5</td>\n      <td>115</td>\n      <td>98</td>\n      <td>1070</td>\n      <td>413</td>\n      <td>1278</td>\n      <td>1070</td>\n      <td>종로구</td>\n      <td>37.57553779077874</td>\n      <td>126.98489861889408</td>\n      <td>1.523847</td>\n    </tr>\n    <tr>\n      <th>2</th>\n      <td>남대문서</td>\n      <td>1</td>\n      <td>0</td>\n      <td>6</td>\n      <td>4</td>\n      <td>65</td>\n      <td>46</td>\n      <td>1153</td>\n      <td>382</td>\n      <td>869</td>\n      <td>794</td>\n      <td>중구</td>\n      <td>37.55478043476484</td>\n      <td>126.97349729923079</td>\n      <td>0.907372</td>\n    </tr>\n    <tr>\n      <th>3</th>\n      <td>서대문서</td>\n      <td>2</td>\n      <td>2</td>\n      <td>5</td>\n      <td>4</td>\n      <td>154</td>\n      <td>124</td>\n      <td>1812</td>\n      <td>738</td>\n      <td>2056</td>\n      <td>1711</td>\n      <td>서대문구</td>\n      <td>37.5649023404956</td>\n      <td>126.966790740735</td>\n      <td>1.978299</td>\n    </tr>\n    <tr>\n      <th>4</th>\n      <td>혜화서</td>\n      <td>3</td>\n      <td>2</td>\n      <td>5</td>\n      <td>4</td>\n      <td>96</td>\n      <td>63</td>\n      <td>1114</td>\n      <td>424</td>\n      <td>1015</td>\n      <td>861</td>\n      <td>종로구</td>\n      <td>37.5718915247338</td>\n      <td>126.998935936567</td>\n      <td>1.198382</td>\n    </tr>\n  </tbody>\n</table>\n</div>"
     },
     "metadata": {},
     "execution_count": 95
    }
   ],
   "source": [
    "crime_anal_raw['lat'] = station_lat\n",
    "crime_anal_raw['lng'] = station_lng\n",
    "\n",
    "col = ['살인 검거', '강도 검거', '강간 검거', '절도 검거', '폭력 검거']\n",
    "tmp = crime_anal_raw[col] / crime_anal_raw[col].max()\n",
    "    \n",
    "crime_anal_raw['검거'] = np.sum(tmp, axis=1)\n",
    "\n",
    "crime_anal_raw.head()"
   ]
  },
  {
   "cell_type": "code",
   "execution_count": 96,
   "metadata": {},
   "outputs": [
    {
     "output_type": "execute_result",
     "data": {
      "text/plain": [
       "<folium.folium.Map at 0x7f86d34f55e0>"
      ],
      "text/html": "<div style=\"width:100%;\"><div style=\"position:relative;width:100%;height:0;padding-bottom:60%;\"><span style=\"color:#565656\">Make this Notebook Trusted to load map: File -> Trust Notebook</span><iframe src=\"about:blank\" style=\"position:absolute;width:100%;height:100%;left:0;top:0;border:none !important;\" data-html=%3C%21DOCTYPE%20html%3E%0A%3Chead%3E%20%20%20%20%0A%20%20%20%20%3Cmeta%20http-equiv%3D%22content-type%22%20content%3D%22text/html%3B%20charset%3DUTF-8%22%20/%3E%0A%20%20%20%20%0A%20%20%20%20%20%20%20%20%3Cscript%3E%0A%20%20%20%20%20%20%20%20%20%20%20%20L_NO_TOUCH%20%3D%20false%3B%0A%20%20%20%20%20%20%20%20%20%20%20%20L_DISABLE_3D%20%3D%20false%3B%0A%20%20%20%20%20%20%20%20%3C/script%3E%0A%20%20%20%20%0A%20%20%20%20%3Cstyle%3Ehtml%2C%20body%20%7Bwidth%3A%20100%25%3Bheight%3A%20100%25%3Bmargin%3A%200%3Bpadding%3A%200%3B%7D%3C/style%3E%0A%20%20%20%20%3Cstyle%3E%23map%20%7Bposition%3Aabsolute%3Btop%3A0%3Bbottom%3A0%3Bright%3A0%3Bleft%3A0%3B%7D%3C/style%3E%0A%20%20%20%20%3Cscript%20src%3D%22https%3A//cdn.jsdelivr.net/npm/leaflet%401.6.0/dist/leaflet.js%22%3E%3C/script%3E%0A%20%20%20%20%3Cscript%20src%3D%22https%3A//code.jquery.com/jquery-1.12.4.min.js%22%3E%3C/script%3E%0A%20%20%20%20%3Cscript%20src%3D%22https%3A//maxcdn.bootstrapcdn.com/bootstrap/3.2.0/js/bootstrap.min.js%22%3E%3C/script%3E%0A%20%20%20%20%3Cscript%20src%3D%22https%3A//cdnjs.cloudflare.com/ajax/libs/Leaflet.awesome-markers/2.0.2/leaflet.awesome-markers.js%22%3E%3C/script%3E%0A%20%20%20%20%3Clink%20rel%3D%22stylesheet%22%20href%3D%22https%3A//cdn.jsdelivr.net/npm/leaflet%401.6.0/dist/leaflet.css%22/%3E%0A%20%20%20%20%3Clink%20rel%3D%22stylesheet%22%20href%3D%22https%3A//maxcdn.bootstrapcdn.com/bootstrap/3.2.0/css/bootstrap.min.css%22/%3E%0A%20%20%20%20%3Clink%20rel%3D%22stylesheet%22%20href%3D%22https%3A//maxcdn.bootstrapcdn.com/bootstrap/3.2.0/css/bootstrap-theme.min.css%22/%3E%0A%20%20%20%20%3Clink%20rel%3D%22stylesheet%22%20href%3D%22https%3A//maxcdn.bootstrapcdn.com/font-awesome/4.6.3/css/font-awesome.min.css%22/%3E%0A%20%20%20%20%3Clink%20rel%3D%22stylesheet%22%20href%3D%22https%3A//cdnjs.cloudflare.com/ajax/libs/Leaflet.awesome-markers/2.0.2/leaflet.awesome-markers.css%22/%3E%0A%20%20%20%20%3Clink%20rel%3D%22stylesheet%22%20href%3D%22https%3A//cdn.jsdelivr.net/gh/python-visualization/folium/folium/templates/leaflet.awesome.rotate.min.css%22/%3E%0A%20%20%20%20%0A%20%20%20%20%20%20%20%20%20%20%20%20%3Cmeta%20name%3D%22viewport%22%20content%3D%22width%3Ddevice-width%2C%0A%20%20%20%20%20%20%20%20%20%20%20%20%20%20%20%20initial-scale%3D1.0%2C%20maximum-scale%3D1.0%2C%20user-scalable%3Dno%22%20/%3E%0A%20%20%20%20%20%20%20%20%20%20%20%20%3Cstyle%3E%0A%20%20%20%20%20%20%20%20%20%20%20%20%20%20%20%20%23map_650def29cd1449cf9a31904413c7737a%20%7B%0A%20%20%20%20%20%20%20%20%20%20%20%20%20%20%20%20%20%20%20%20position%3A%20relative%3B%0A%20%20%20%20%20%20%20%20%20%20%20%20%20%20%20%20%20%20%20%20width%3A%20100.0%25%3B%0A%20%20%20%20%20%20%20%20%20%20%20%20%20%20%20%20%20%20%20%20height%3A%20100.0%25%3B%0A%20%20%20%20%20%20%20%20%20%20%20%20%20%20%20%20%20%20%20%20left%3A%200.0%25%3B%0A%20%20%20%20%20%20%20%20%20%20%20%20%20%20%20%20%20%20%20%20top%3A%200.0%25%3B%0A%20%20%20%20%20%20%20%20%20%20%20%20%20%20%20%20%7D%0A%20%20%20%20%20%20%20%20%20%20%20%20%3C/style%3E%0A%20%20%20%20%20%20%20%20%0A%3C/head%3E%0A%3Cbody%3E%20%20%20%20%0A%20%20%20%20%0A%20%20%20%20%20%20%20%20%20%20%20%20%3Cdiv%20class%3D%22folium-map%22%20id%3D%22map_650def29cd1449cf9a31904413c7737a%22%20%3E%3C/div%3E%0A%20%20%20%20%20%20%20%20%0A%3C/body%3E%0A%3Cscript%3E%20%20%20%20%0A%20%20%20%20%0A%20%20%20%20%20%20%20%20%20%20%20%20var%20map_650def29cd1449cf9a31904413c7737a%20%3D%20L.map%28%0A%20%20%20%20%20%20%20%20%20%20%20%20%20%20%20%20%22map_650def29cd1449cf9a31904413c7737a%22%2C%0A%20%20%20%20%20%20%20%20%20%20%20%20%20%20%20%20%7B%0A%20%20%20%20%20%20%20%20%20%20%20%20%20%20%20%20%20%20%20%20center%3A%20%5B37.5502%2C%20126.982%5D%2C%0A%20%20%20%20%20%20%20%20%20%20%20%20%20%20%20%20%20%20%20%20crs%3A%20L.CRS.EPSG3857%2C%0A%20%20%20%20%20%20%20%20%20%20%20%20%20%20%20%20%20%20%20%20zoom%3A%2011%2C%0A%20%20%20%20%20%20%20%20%20%20%20%20%20%20%20%20%20%20%20%20zoomControl%3A%20true%2C%0A%20%20%20%20%20%20%20%20%20%20%20%20%20%20%20%20%20%20%20%20preferCanvas%3A%20false%2C%0A%20%20%20%20%20%20%20%20%20%20%20%20%20%20%20%20%7D%0A%20%20%20%20%20%20%20%20%20%20%20%20%29%3B%0A%0A%20%20%20%20%20%20%20%20%20%20%20%20%0A%0A%20%20%20%20%20%20%20%20%0A%20%20%20%20%0A%20%20%20%20%20%20%20%20%20%20%20%20var%20tile_layer_16c2452f68474c7e8c6a3696baa297e8%20%3D%20L.tileLayer%28%0A%20%20%20%20%20%20%20%20%20%20%20%20%20%20%20%20%22https%3A//%7Bs%7D.tile.openstreetmap.org/%7Bz%7D/%7Bx%7D/%7By%7D.png%22%2C%0A%20%20%20%20%20%20%20%20%20%20%20%20%20%20%20%20%7B%22attribution%22%3A%20%22Data%20by%20%5Cu0026copy%3B%20%5Cu003ca%20href%3D%5C%22http%3A//openstreetmap.org%5C%22%5Cu003eOpenStreetMap%5Cu003c/a%5Cu003e%2C%20under%20%5Cu003ca%20href%3D%5C%22http%3A//www.openstreetmap.org/copyright%5C%22%5Cu003eODbL%5Cu003c/a%5Cu003e.%22%2C%20%22detectRetina%22%3A%20false%2C%20%22maxNativeZoom%22%3A%2018%2C%20%22maxZoom%22%3A%2018%2C%20%22minZoom%22%3A%200%2C%20%22noWrap%22%3A%20false%2C%20%22opacity%22%3A%201%2C%20%22subdomains%22%3A%20%22abc%22%2C%20%22tms%22%3A%20false%7D%0A%20%20%20%20%20%20%20%20%20%20%20%20%29.addTo%28map_650def29cd1449cf9a31904413c7737a%29%3B%0A%20%20%20%20%20%20%20%20%0A%20%20%20%20%0A%20%20%20%20%20%20%20%20%20%20%20%20var%20marker_5cdf808a3577410092095a86a3f99fbf%20%3D%20L.marker%28%0A%20%20%20%20%20%20%20%20%20%20%20%20%20%20%20%20%5B37.56361812722828%2C%20126.98958691395208%5D%2C%0A%20%20%20%20%20%20%20%20%20%20%20%20%20%20%20%20%7B%7D%0A%20%20%20%20%20%20%20%20%20%20%20%20%29.addTo%28map_650def29cd1449cf9a31904413c7737a%29%3B%0A%20%20%20%20%20%20%20%20%0A%20%20%20%20%0A%20%20%20%20%20%20%20%20%20%20%20%20var%20marker_a206020a2bac48648573ef22eb5901c2%20%3D%20L.marker%28%0A%20%20%20%20%20%20%20%20%20%20%20%20%20%20%20%20%5B37.57553779077874%2C%20126.98489861889408%5D%2C%0A%20%20%20%20%20%20%20%20%20%20%20%20%20%20%20%20%7B%7D%0A%20%20%20%20%20%20%20%20%20%20%20%20%29.addTo%28map_650def29cd1449cf9a31904413c7737a%29%3B%0A%20%20%20%20%20%20%20%20%0A%20%20%20%20%0A%20%20%20%20%20%20%20%20%20%20%20%20var%20marker_cf4ae9106ca144b1a6f47aa28c8eff08%20%3D%20L.marker%28%0A%20%20%20%20%20%20%20%20%20%20%20%20%20%20%20%20%5B37.55478043476484%2C%20126.97349729923079%5D%2C%0A%20%20%20%20%20%20%20%20%20%20%20%20%20%20%20%20%7B%7D%0A%20%20%20%20%20%20%20%20%20%20%20%20%29.addTo%28map_650def29cd1449cf9a31904413c7737a%29%3B%0A%20%20%20%20%20%20%20%20%0A%20%20%20%20%0A%20%20%20%20%20%20%20%20%20%20%20%20var%20marker_ed8fade3b90e4e9f842453f1d1933881%20%3D%20L.marker%28%0A%20%20%20%20%20%20%20%20%20%20%20%20%20%20%20%20%5B37.5649023404956%2C%20126.966790740735%5D%2C%0A%20%20%20%20%20%20%20%20%20%20%20%20%20%20%20%20%7B%7D%0A%20%20%20%20%20%20%20%20%20%20%20%20%29.addTo%28map_650def29cd1449cf9a31904413c7737a%29%3B%0A%20%20%20%20%20%20%20%20%0A%20%20%20%20%0A%20%20%20%20%20%20%20%20%20%20%20%20var%20marker_ecf640d667b14eda966487e884887805%20%3D%20L.marker%28%0A%20%20%20%20%20%20%20%20%20%20%20%20%20%20%20%20%5B37.5718915247338%2C%20126.998935936567%5D%2C%0A%20%20%20%20%20%20%20%20%20%20%20%20%20%20%20%20%7B%7D%0A%20%20%20%20%20%20%20%20%20%20%20%20%29.addTo%28map_650def29cd1449cf9a31904413c7737a%29%3B%0A%20%20%20%20%20%20%20%20%0A%20%20%20%20%0A%20%20%20%20%20%20%20%20%20%20%20%20var%20marker_15de10e3985948848b5b94cbe7d999cc%20%3D%20L.marker%28%0A%20%20%20%20%20%20%20%20%20%20%20%20%20%20%20%20%5B37.54117933635974%2C%20126.96777437089538%5D%2C%0A%20%20%20%20%20%20%20%20%20%20%20%20%20%20%20%20%7B%7D%0A%20%20%20%20%20%20%20%20%20%20%20%20%29.addTo%28map_650def29cd1449cf9a31904413c7737a%29%3B%0A%20%20%20%20%20%20%20%20%0A%20%20%20%20%0A%20%20%20%20%20%20%20%20%20%20%20%20var%20marker_efa900c7f6184b07affe5fc54fe043b1%20%3D%20L.marker%28%0A%20%20%20%20%20%20%20%20%20%20%20%20%20%20%20%20%5B37.58989767143614%2C%20127.01625465308534%5D%2C%0A%20%20%20%20%20%20%20%20%20%20%20%20%20%20%20%20%7B%7D%0A%20%20%20%20%20%20%20%20%20%20%20%20%29.addTo%28map_650def29cd1449cf9a31904413c7737a%29%3B%0A%20%20%20%20%20%20%20%20%0A%20%20%20%20%0A%20%20%20%20%20%20%20%20%20%20%20%20var%20marker_268166dd7f584d0a8ee2f26e66eba955%20%3D%20L.marker%28%0A%20%20%20%20%20%20%20%20%20%20%20%20%20%20%20%20%5B37.5850804205685%2C%20127.045762797538%5D%2C%0A%20%20%20%20%20%20%20%20%20%20%20%20%20%20%20%20%7B%7D%0A%20%20%20%20%20%20%20%20%20%20%20%20%29.addTo%28map_650def29cd1449cf9a31904413c7737a%29%3B%0A%20%20%20%20%20%20%20%20%0A%20%20%20%20%0A%20%20%20%20%20%20%20%20%20%20%20%20var%20marker_1f7265ac36a04b7cab86578c958a8a79%20%3D%20L.marker%28%0A%20%20%20%20%20%20%20%20%20%20%20%20%20%20%20%20%5B37.5510118582052%2C%20126.95394117396%5D%2C%0A%20%20%20%20%20%20%20%20%20%20%20%20%20%20%20%20%7B%7D%0A%20%20%20%20%20%20%20%20%20%20%20%20%29.addTo%28map_650def29cd1449cf9a31904413c7737a%29%3B%0A%20%20%20%20%20%20%20%20%0A%20%20%20%20%0A%20%20%20%20%20%20%20%20%20%20%20%20var%20marker_61222133d00c4319b14153b0edecda7b%20%3D%20L.marker%28%0A%20%20%20%20%20%20%20%20%20%20%20%20%20%20%20%20%5B37.52585220719%2C%20126.90094457988%5D%2C%0A%20%20%20%20%20%20%20%20%20%20%20%20%20%20%20%20%7B%7D%0A%20%20%20%20%20%20%20%20%20%20%20%20%29.addTo%28map_650def29cd1449cf9a31904413c7737a%29%3B%0A%20%20%20%20%20%20%20%20%0A%20%20%20%20%0A%20%20%20%20%20%20%20%20%20%20%20%20var%20marker_a5b1a15e5d96464b904dcc632338bc8d%20%3D%20L.marker%28%0A%20%20%20%20%20%20%20%20%20%20%20%20%20%20%20%20%5B37.5617947420747%2C%20127.036472076258%5D%2C%0A%20%20%20%20%20%20%20%20%20%20%20%20%20%20%20%20%7B%7D%0A%20%20%20%20%20%20%20%20%20%20%20%20%29.addTo%28map_650def29cd1449cf9a31904413c7737a%29%3B%0A%20%20%20%20%20%20%20%20%0A%20%20%20%20%0A%20%20%20%20%20%20%20%20%20%20%20%20var%20marker_0d46dfda0d7340aeb480512f6ff04640%20%3D%20L.marker%28%0A%20%20%20%20%20%20%20%20%20%20%20%20%20%20%20%20%5B37.5131469479959%2C%20126.942857105642%5D%2C%0A%20%20%20%20%20%20%20%20%20%20%20%20%20%20%20%20%7B%7D%0A%20%20%20%20%20%20%20%20%20%20%20%20%29.addTo%28map_650def29cd1449cf9a31904413c7737a%29%3B%0A%20%20%20%20%20%20%20%20%0A%20%20%20%20%0A%20%20%20%20%20%20%20%20%20%20%20%20var%20marker_cb6db707b6fe4f1aabb47261d7366374%20%3D%20L.marker%28%0A%20%20%20%20%20%20%20%20%20%20%20%20%20%20%20%20%5B37.54292164557882%2C%20127.08396170505674%5D%2C%0A%20%20%20%20%20%20%20%20%20%20%20%20%20%20%20%20%7B%7D%0A%20%20%20%20%20%20%20%20%20%20%20%20%29.addTo%28map_650def29cd1449cf9a31904413c7737a%29%3B%0A%20%20%20%20%20%20%20%20%0A%20%20%20%20%0A%20%20%20%20%20%20%20%20%20%20%20%20var%20marker_074ea542c10241ca8cfb7388e74d32f3%20%3D%20L.marker%28%0A%20%20%20%20%20%20%20%20%20%20%20%20%20%20%20%20%5B37.60215667958602%2C%20126.92131688777927%5D%2C%0A%20%20%20%20%20%20%20%20%20%20%20%20%20%20%20%20%7B%7D%0A%20%20%20%20%20%20%20%20%20%20%20%20%29.addTo%28map_650def29cd1449cf9a31904413c7737a%29%3B%0A%20%20%20%20%20%20%20%20%0A%20%20%20%20%0A%20%20%20%20%20%20%20%20%20%20%20%20var%20marker_5fbd5fee67834f269c49572a22280820%20%3D%20L.marker%28%0A%20%20%20%20%20%20%20%20%20%20%20%20%20%20%20%20%5B37.637406561393085%2C%20127.02733870040592%5D%2C%0A%20%20%20%20%20%20%20%20%20%20%20%20%20%20%20%20%7B%7D%0A%20%20%20%20%20%20%20%20%20%20%20%20%29.addTo%28map_650def29cd1449cf9a31904413c7737a%29%3B%0A%20%20%20%20%20%20%20%20%0A%20%20%20%20%0A%20%20%20%20%20%20%20%20%20%20%20%20var%20marker_912a836bc0d64d99be58cba8dcbde610%20%3D%20L.marker%28%0A%20%20%20%20%20%20%20%20%20%20%20%20%20%20%20%20%5B37.45725314643252%2C%20126.89674921449215%5D%2C%0A%20%20%20%20%20%20%20%20%20%20%20%20%20%20%20%20%7B%7D%0A%20%20%20%20%20%20%20%20%20%20%20%20%29.addTo%28map_650def29cd1449cf9a31904413c7737a%29%3B%0A%20%20%20%20%20%20%20%20%0A%20%20%20%20%0A%20%20%20%20%20%20%20%20%20%20%20%20var%20marker_ccacc0fb1c6b471698b1b8d1a29e8882%20%3D%20L.marker%28%0A%20%20%20%20%20%20%20%20%20%20%20%20%20%20%20%20%5B37.6182390801576%2C%20127.10454224897%5D%2C%0A%20%20%20%20%20%20%20%20%20%20%20%20%20%20%20%20%7B%7D%0A%20%20%20%20%20%20%20%20%20%20%20%20%29.addTo%28map_650def29cd1449cf9a31904413c7737a%29%3B%0A%20%20%20%20%20%20%20%20%0A%20%20%20%20%0A%20%20%20%20%20%20%20%20%20%20%20%20var%20marker_1508a7bc033148f580693bd72dacc453%20%3D%20L.marker%28%0A%20%20%20%20%20%20%20%20%20%20%20%20%20%20%20%20%5B37.5093899463715%2C%20127.067070541137%5D%2C%0A%20%20%20%20%20%20%20%20%20%20%20%20%20%20%20%20%7B%7D%0A%20%20%20%20%20%20%20%20%20%20%20%20%29.addTo%28map_650def29cd1449cf9a31904413c7737a%29%3B%0A%20%20%20%20%20%20%20%20%0A%20%20%20%20%0A%20%20%20%20%20%20%20%20%20%20%20%20var%20marker_add45ecca59a46518839e2e80da0e72b%20%3D%20L.marker%28%0A%20%20%20%20%20%20%20%20%20%20%20%20%20%20%20%20%5B37.4745875338795%2C%20126.951062346192%5D%2C%0A%20%20%20%20%20%20%20%20%20%20%20%20%20%20%20%20%7B%7D%0A%20%20%20%20%20%20%20%20%20%20%20%20%29.addTo%28map_650def29cd1449cf9a31904413c7737a%29%3B%0A%20%20%20%20%20%20%20%20%0A%20%20%20%20%0A%20%20%20%20%20%20%20%20%20%20%20%20var%20marker_df4c08170de347849ddcc5bb13ace8e6%20%3D%20L.marker%28%0A%20%20%20%20%20%20%20%20%20%20%20%20%20%20%20%20%5B37.5513470867979%2C%20126.849886071842%5D%2C%0A%20%20%20%20%20%20%20%20%20%20%20%20%20%20%20%20%7B%7D%0A%20%20%20%20%20%20%20%20%20%20%20%20%29.addTo%28map_650def29cd1449cf9a31904413c7737a%29%3B%0A%20%20%20%20%20%20%20%20%0A%20%20%20%20%0A%20%20%20%20%20%20%20%20%20%20%20%20var%20marker_296e424b61b34635bb8ecda2f027cd36%20%3D%20L.marker%28%0A%20%20%20%20%20%20%20%20%20%20%20%20%20%20%20%20%5B37.52867274661258%2C%20127.12688982770433%5D%2C%0A%20%20%20%20%20%20%20%20%20%20%20%20%20%20%20%20%7B%7D%0A%20%20%20%20%20%20%20%20%20%20%20%20%29.addTo%28map_650def29cd1449cf9a31904413c7737a%29%3B%0A%20%20%20%20%20%20%20%20%0A%20%20%20%20%0A%20%20%20%20%20%20%20%20%20%20%20%20var%20marker_636c497eb3df42af9e52a95fb880a1a7%20%3D%20L.marker%28%0A%20%20%20%20%20%20%20%20%20%20%20%20%20%20%20%20%5B37.602095614954%2C%20127.032233767891%5D%2C%0A%20%20%20%20%20%20%20%20%20%20%20%20%20%20%20%20%7B%7D%0A%20%20%20%20%20%20%20%20%20%20%20%20%29.addTo%28map_650def29cd1449cf9a31904413c7737a%29%3B%0A%20%20%20%20%20%20%20%20%0A%20%20%20%20%0A%20%20%20%20%20%20%20%20%20%20%20%20var%20marker_80bc85582f794a9d9bd0331f2c355864%20%3D%20L.marker%28%0A%20%20%20%20%20%20%20%20%20%20%20%20%20%20%20%20%5B37.4948844667899%2C%20126.886660285169%5D%2C%0A%20%20%20%20%20%20%20%20%20%20%20%20%20%20%20%20%7B%7D%0A%20%20%20%20%20%20%20%20%20%20%20%20%29.addTo%28map_650def29cd1449cf9a31904413c7737a%29%3B%0A%20%20%20%20%20%20%20%20%0A%20%20%20%20%0A%20%20%20%20%20%20%20%20%20%20%20%20var%20marker_b827f33fc665430a88d74733c707f350%20%3D%20L.marker%28%0A%20%20%20%20%20%20%20%20%20%20%20%20%20%20%20%20%5B37.49561086789221%2C%20127.00528097622329%5D%2C%0A%20%20%20%20%20%20%20%20%20%20%20%20%20%20%20%20%7B%7D%0A%20%20%20%20%20%20%20%20%20%20%20%20%29.addTo%28map_650def29cd1449cf9a31904413c7737a%29%3B%0A%20%20%20%20%20%20%20%20%0A%20%20%20%20%0A%20%20%20%20%20%20%20%20%20%20%20%20var%20marker_8d6c27b5676e4673a0182418bf6869bd%20%3D%20L.marker%28%0A%20%20%20%20%20%20%20%20%20%20%20%20%20%20%20%20%5B37.5165549067037%2C%20126.865542970902%5D%2C%0A%20%20%20%20%20%20%20%20%20%20%20%20%20%20%20%20%7B%7D%0A%20%20%20%20%20%20%20%20%20%20%20%20%29.addTo%28map_650def29cd1449cf9a31904413c7737a%29%3B%0A%20%20%20%20%20%20%20%20%0A%20%20%20%20%0A%20%20%20%20%20%20%20%20%20%20%20%20var%20marker_ccc205c008f44a9393baf0f9090b0970%20%3D%20L.marker%28%0A%20%20%20%20%20%20%20%20%20%20%20%20%20%20%20%20%5B37.5019757297179%2C%20127.12716129352492%5D%2C%0A%20%20%20%20%20%20%20%20%20%20%20%20%20%20%20%20%7B%7D%0A%20%20%20%20%20%20%20%20%20%20%20%20%29.addTo%28map_650def29cd1449cf9a31904413c7737a%29%3B%0A%20%20%20%20%20%20%20%20%0A%20%20%20%20%0A%20%20%20%20%20%20%20%20%20%20%20%20var%20marker_7364718970d04672b0a72d4ecf73b258%20%3D%20L.marker%28%0A%20%20%20%20%20%20%20%20%20%20%20%20%20%20%20%20%5B37.6423345266253%2C%20127.071404832413%5D%2C%0A%20%20%20%20%20%20%20%20%20%20%20%20%20%20%20%20%7B%7D%0A%20%20%20%20%20%20%20%20%20%20%20%20%29.addTo%28map_650def29cd1449cf9a31904413c7737a%29%3B%0A%20%20%20%20%20%20%20%20%0A%20%20%20%20%0A%20%20%20%20%20%20%20%20%20%20%20%20var%20marker_e0370b1831f74697b2d783ada7b5dde9%20%3D%20L.marker%28%0A%20%20%20%20%20%20%20%20%20%20%20%20%20%20%20%20%5B37.48155944749938%2C%20126.98300906928465%5D%2C%0A%20%20%20%20%20%20%20%20%20%20%20%20%20%20%20%20%7B%7D%0A%20%20%20%20%20%20%20%20%20%20%20%20%29.addTo%28map_650def29cd1449cf9a31904413c7737a%29%3B%0A%20%20%20%20%20%20%20%20%0A%20%20%20%20%0A%20%20%20%20%20%20%20%20%20%20%20%20var%20marker_17de4b6293014191815ec2aca3ef2a08%20%3D%20L.marker%28%0A%20%20%20%20%20%20%20%20%20%20%20%20%20%20%20%20%5B37.6285242467996%2C%20126.928631038584%5D%2C%0A%20%20%20%20%20%20%20%20%20%20%20%20%20%20%20%20%7B%7D%0A%20%20%20%20%20%20%20%20%20%20%20%20%29.addTo%28map_650def29cd1449cf9a31904413c7737a%29%3B%0A%20%20%20%20%20%20%20%20%0A%20%20%20%20%0A%20%20%20%20%20%20%20%20%20%20%20%20var%20marker_cff2959dd5cd42c28076c628fb0b6ea3%20%3D%20L.marker%28%0A%20%20%20%20%20%20%20%20%20%20%20%20%20%20%20%20%5B37.65339041848567%2C%20127.05270598499145%5D%2C%0A%20%20%20%20%20%20%20%20%20%20%20%20%20%20%20%20%7B%7D%0A%20%20%20%20%20%20%20%20%20%20%20%20%29.addTo%28map_650def29cd1449cf9a31904413c7737a%29%3B%0A%20%20%20%20%20%20%20%20%0A%20%20%20%20%0A%20%20%20%20%20%20%20%20%20%20%20%20var%20marker_bc97dc9f675845469d0be0a8d40e4ba6%20%3D%20L.marker%28%0A%20%20%20%20%20%20%20%20%20%20%20%20%20%20%20%20%5B37.4934972653425%2C%20127.077143044327%5D%2C%0A%20%20%20%20%20%20%20%20%20%20%20%20%20%20%20%20%7B%7D%0A%20%20%20%20%20%20%20%20%20%20%20%20%29.addTo%28map_650def29cd1449cf9a31904413c7737a%29%3B%0A%20%20%20%20%20%20%20%20%0A%3C/script%3E onload=\"this.contentDocument.open();this.contentDocument.write(    decodeURIComponent(this.getAttribute('data-html')));this.contentDocument.close();\" allowfullscreen webkitallowfullscreen mozallowfullscreen></iframe></div></div>"
     },
     "metadata": {},
     "execution_count": 96
    }
   ],
   "source": [
    "map = folium.Map(location=[37.5502, 126.982], zoom_start=11)\n",
    "\n",
    "for n in crime_anal_raw.index:\n",
    "    folium.Marker([crime_anal_raw['lat'][n], \n",
    "                   crime_anal_raw['lng'][n]]).add_to(map)\n",
    "    \n",
    "map"
   ]
  },
  {
   "cell_type": "code",
   "execution_count": 97,
   "metadata": {},
   "outputs": [
    {
     "output_type": "execute_result",
     "data": {
      "text/plain": [
       "<folium.folium.Map at 0x7f86d35d4400>"
      ],
      "text/html": "<div style=\"width:100%;\"><div style=\"position:relative;width:100%;height:0;padding-bottom:60%;\"><span style=\"color:#565656\">Make this Notebook Trusted to load map: File -> Trust Notebook</span><iframe src=\"about:blank\" style=\"position:absolute;width:100%;height:100%;left:0;top:0;border:none !important;\" data-html=%3C%21DOCTYPE%20html%3E%0A%3Chead%3E%20%20%20%20%0A%20%20%20%20%3Cmeta%20http-equiv%3D%22content-type%22%20content%3D%22text/html%3B%20charset%3DUTF-8%22%20/%3E%0A%20%20%20%20%0A%20%20%20%20%20%20%20%20%3Cscript%3E%0A%20%20%20%20%20%20%20%20%20%20%20%20L_NO_TOUCH%20%3D%20false%3B%0A%20%20%20%20%20%20%20%20%20%20%20%20L_DISABLE_3D%20%3D%20false%3B%0A%20%20%20%20%20%20%20%20%3C/script%3E%0A%20%20%20%20%0A%20%20%20%20%3Cstyle%3Ehtml%2C%20body%20%7Bwidth%3A%20100%25%3Bheight%3A%20100%25%3Bmargin%3A%200%3Bpadding%3A%200%3B%7D%3C/style%3E%0A%20%20%20%20%3Cstyle%3E%23map%20%7Bposition%3Aabsolute%3Btop%3A0%3Bbottom%3A0%3Bright%3A0%3Bleft%3A0%3B%7D%3C/style%3E%0A%20%20%20%20%3Cscript%20src%3D%22https%3A//cdn.jsdelivr.net/npm/leaflet%401.6.0/dist/leaflet.js%22%3E%3C/script%3E%0A%20%20%20%20%3Cscript%20src%3D%22https%3A//code.jquery.com/jquery-1.12.4.min.js%22%3E%3C/script%3E%0A%20%20%20%20%3Cscript%20src%3D%22https%3A//maxcdn.bootstrapcdn.com/bootstrap/3.2.0/js/bootstrap.min.js%22%3E%3C/script%3E%0A%20%20%20%20%3Cscript%20src%3D%22https%3A//cdnjs.cloudflare.com/ajax/libs/Leaflet.awesome-markers/2.0.2/leaflet.awesome-markers.js%22%3E%3C/script%3E%0A%20%20%20%20%3Clink%20rel%3D%22stylesheet%22%20href%3D%22https%3A//cdn.jsdelivr.net/npm/leaflet%401.6.0/dist/leaflet.css%22/%3E%0A%20%20%20%20%3Clink%20rel%3D%22stylesheet%22%20href%3D%22https%3A//maxcdn.bootstrapcdn.com/bootstrap/3.2.0/css/bootstrap.min.css%22/%3E%0A%20%20%20%20%3Clink%20rel%3D%22stylesheet%22%20href%3D%22https%3A//maxcdn.bootstrapcdn.com/bootstrap/3.2.0/css/bootstrap-theme.min.css%22/%3E%0A%20%20%20%20%3Clink%20rel%3D%22stylesheet%22%20href%3D%22https%3A//maxcdn.bootstrapcdn.com/font-awesome/4.6.3/css/font-awesome.min.css%22/%3E%0A%20%20%20%20%3Clink%20rel%3D%22stylesheet%22%20href%3D%22https%3A//cdnjs.cloudflare.com/ajax/libs/Leaflet.awesome-markers/2.0.2/leaflet.awesome-markers.css%22/%3E%0A%20%20%20%20%3Clink%20rel%3D%22stylesheet%22%20href%3D%22https%3A//cdn.jsdelivr.net/gh/python-visualization/folium/folium/templates/leaflet.awesome.rotate.min.css%22/%3E%0A%20%20%20%20%0A%20%20%20%20%20%20%20%20%20%20%20%20%3Cmeta%20name%3D%22viewport%22%20content%3D%22width%3Ddevice-width%2C%0A%20%20%20%20%20%20%20%20%20%20%20%20%20%20%20%20initial-scale%3D1.0%2C%20maximum-scale%3D1.0%2C%20user-scalable%3Dno%22%20/%3E%0A%20%20%20%20%20%20%20%20%20%20%20%20%3Cstyle%3E%0A%20%20%20%20%20%20%20%20%20%20%20%20%20%20%20%20%23map_6b5914baf0204b2e8a4385393e79290d%20%7B%0A%20%20%20%20%20%20%20%20%20%20%20%20%20%20%20%20%20%20%20%20position%3A%20relative%3B%0A%20%20%20%20%20%20%20%20%20%20%20%20%20%20%20%20%20%20%20%20width%3A%20100.0%25%3B%0A%20%20%20%20%20%20%20%20%20%20%20%20%20%20%20%20%20%20%20%20height%3A%20100.0%25%3B%0A%20%20%20%20%20%20%20%20%20%20%20%20%20%20%20%20%20%20%20%20left%3A%200.0%25%3B%0A%20%20%20%20%20%20%20%20%20%20%20%20%20%20%20%20%20%20%20%20top%3A%200.0%25%3B%0A%20%20%20%20%20%20%20%20%20%20%20%20%20%20%20%20%7D%0A%20%20%20%20%20%20%20%20%20%20%20%20%3C/style%3E%0A%20%20%20%20%20%20%20%20%0A%3C/head%3E%0A%3Cbody%3E%20%20%20%20%0A%20%20%20%20%0A%20%20%20%20%20%20%20%20%20%20%20%20%3Cdiv%20class%3D%22folium-map%22%20id%3D%22map_6b5914baf0204b2e8a4385393e79290d%22%20%3E%3C/div%3E%0A%20%20%20%20%20%20%20%20%0A%3C/body%3E%0A%3Cscript%3E%20%20%20%20%0A%20%20%20%20%0A%20%20%20%20%20%20%20%20%20%20%20%20var%20map_6b5914baf0204b2e8a4385393e79290d%20%3D%20L.map%28%0A%20%20%20%20%20%20%20%20%20%20%20%20%20%20%20%20%22map_6b5914baf0204b2e8a4385393e79290d%22%2C%0A%20%20%20%20%20%20%20%20%20%20%20%20%20%20%20%20%7B%0A%20%20%20%20%20%20%20%20%20%20%20%20%20%20%20%20%20%20%20%20center%3A%20%5B37.5502%2C%20126.982%5D%2C%0A%20%20%20%20%20%20%20%20%20%20%20%20%20%20%20%20%20%20%20%20crs%3A%20L.CRS.EPSG3857%2C%0A%20%20%20%20%20%20%20%20%20%20%20%20%20%20%20%20%20%20%20%20zoom%3A%2011%2C%0A%20%20%20%20%20%20%20%20%20%20%20%20%20%20%20%20%20%20%20%20zoomControl%3A%20true%2C%0A%20%20%20%20%20%20%20%20%20%20%20%20%20%20%20%20%20%20%20%20preferCanvas%3A%20false%2C%0A%20%20%20%20%20%20%20%20%20%20%20%20%20%20%20%20%7D%0A%20%20%20%20%20%20%20%20%20%20%20%20%29%3B%0A%0A%20%20%20%20%20%20%20%20%20%20%20%20%0A%0A%20%20%20%20%20%20%20%20%0A%20%20%20%20%0A%20%20%20%20%20%20%20%20%20%20%20%20var%20tile_layer_77b6e81fcf884faebc27ce4fc5d31f17%20%3D%20L.tileLayer%28%0A%20%20%20%20%20%20%20%20%20%20%20%20%20%20%20%20%22https%3A//%7Bs%7D.tile.openstreetmap.org/%7Bz%7D/%7Bx%7D/%7By%7D.png%22%2C%0A%20%20%20%20%20%20%20%20%20%20%20%20%20%20%20%20%7B%22attribution%22%3A%20%22Data%20by%20%5Cu0026copy%3B%20%5Cu003ca%20href%3D%5C%22http%3A//openstreetmap.org%5C%22%5Cu003eOpenStreetMap%5Cu003c/a%5Cu003e%2C%20under%20%5Cu003ca%20href%3D%5C%22http%3A//www.openstreetmap.org/copyright%5C%22%5Cu003eODbL%5Cu003c/a%5Cu003e.%22%2C%20%22detectRetina%22%3A%20false%2C%20%22maxNativeZoom%22%3A%2018%2C%20%22maxZoom%22%3A%2018%2C%20%22minZoom%22%3A%200%2C%20%22noWrap%22%3A%20false%2C%20%22opacity%22%3A%201%2C%20%22subdomains%22%3A%20%22abc%22%2C%20%22tms%22%3A%20false%7D%0A%20%20%20%20%20%20%20%20%20%20%20%20%29.addTo%28map_6b5914baf0204b2e8a4385393e79290d%29%3B%0A%20%20%20%20%20%20%20%20%0A%20%20%20%20%0A%20%20%20%20%20%20%20%20%20%20%20%20var%20circle_marker_d7ed3e9847ac469789c08cb2d05930cc%20%3D%20L.circleMarker%28%0A%20%20%20%20%20%20%20%20%20%20%20%20%20%20%20%20%5B37.56361812722828%2C%20126.98958691395208%5D%2C%0A%20%20%20%20%20%20%20%20%20%20%20%20%20%20%20%20%7B%22bubblingMouseEvents%22%3A%20true%2C%20%22color%22%3A%20%22%233186cc%22%2C%20%22dashArray%22%3A%20null%2C%20%22dashOffset%22%3A%20null%2C%20%22fill%22%3A%20true%2C%20%22fillColor%22%3A%20%22%233186cc%22%2C%20%22fillOpacity%22%3A%200.2%2C%20%22fillRule%22%3A%20%22evenodd%22%2C%20%22lineCap%22%3A%20%22round%22%2C%20%22lineJoin%22%3A%20%22round%22%2C%20%22opacity%22%3A%201.0%2C%20%22radius%22%3A%2012.754161313990176%2C%20%22stroke%22%3A%20true%2C%20%22weight%22%3A%203%7D%0A%20%20%20%20%20%20%20%20%20%20%20%20%29.addTo%28map_6b5914baf0204b2e8a4385393e79290d%29%3B%0A%20%20%20%20%20%20%20%20%0A%20%20%20%20%0A%20%20%20%20%20%20%20%20%20%20%20%20var%20circle_marker_b0ca47db478e4a8f98ef22baa6b120cf%20%3D%20L.circleMarker%28%0A%20%20%20%20%20%20%20%20%20%20%20%20%20%20%20%20%5B37.57553779077874%2C%20126.98489861889408%5D%2C%0A%20%20%20%20%20%20%20%20%20%20%20%20%20%20%20%20%7B%22bubblingMouseEvents%22%3A%20true%2C%20%22color%22%3A%20%22%233186cc%22%2C%20%22dashArray%22%3A%20null%2C%20%22dashOffset%22%3A%20null%2C%20%22fill%22%3A%20true%2C%20%22fillColor%22%3A%20%22%233186cc%22%2C%20%22fillOpacity%22%3A%200.2%2C%20%22fillRule%22%3A%20%22evenodd%22%2C%20%22lineCap%22%3A%20%22round%22%2C%20%22lineJoin%22%3A%20%22round%22%2C%20%22opacity%22%3A%201.0%2C%20%22radius%22%3A%2015.238474819820112%2C%20%22stroke%22%3A%20true%2C%20%22weight%22%3A%203%7D%0A%20%20%20%20%20%20%20%20%20%20%20%20%29.addTo%28map_6b5914baf0204b2e8a4385393e79290d%29%3B%0A%20%20%20%20%20%20%20%20%0A%20%20%20%20%0A%20%20%20%20%20%20%20%20%20%20%20%20var%20circle_marker_ad8a347d0fb949328d05b10b1dd6baef%20%3D%20L.circleMarker%28%0A%20%20%20%20%20%20%20%20%20%20%20%20%20%20%20%20%5B37.55478043476484%2C%20126.97349729923079%5D%2C%0A%20%20%20%20%20%20%20%20%20%20%20%20%20%20%20%20%7B%22bubblingMouseEvents%22%3A%20true%2C%20%22color%22%3A%20%22%233186cc%22%2C%20%22dashArray%22%3A%20null%2C%20%22dashOffset%22%3A%20null%2C%20%22fill%22%3A%20true%2C%20%22fillColor%22%3A%20%22%233186cc%22%2C%20%22fillOpacity%22%3A%200.2%2C%20%22fillRule%22%3A%20%22evenodd%22%2C%20%22lineCap%22%3A%20%22round%22%2C%20%22lineJoin%22%3A%20%22round%22%2C%20%22opacity%22%3A%201.0%2C%20%22radius%22%3A%209.073722288993594%2C%20%22stroke%22%3A%20true%2C%20%22weight%22%3A%203%7D%0A%20%20%20%20%20%20%20%20%20%20%20%20%29.addTo%28map_6b5914baf0204b2e8a4385393e79290d%29%3B%0A%20%20%20%20%20%20%20%20%0A%20%20%20%20%0A%20%20%20%20%20%20%20%20%20%20%20%20var%20circle_marker_220b4c24c8ff4ac18d8a03f1d985eef0%20%3D%20L.circleMarker%28%0A%20%20%20%20%20%20%20%20%20%20%20%20%20%20%20%20%5B37.5649023404956%2C%20126.966790740735%5D%2C%0A%20%20%20%20%20%20%20%20%20%20%20%20%20%20%20%20%7B%22bubblingMouseEvents%22%3A%20true%2C%20%22color%22%3A%20%22%233186cc%22%2C%20%22dashArray%22%3A%20null%2C%20%22dashOffset%22%3A%20null%2C%20%22fill%22%3A%20true%2C%20%22fillColor%22%3A%20%22%233186cc%22%2C%20%22fillOpacity%22%3A%200.2%2C%20%22fillRule%22%3A%20%22evenodd%22%2C%20%22lineCap%22%3A%20%22round%22%2C%20%22lineJoin%22%3A%20%22round%22%2C%20%22opacity%22%3A%201.0%2C%20%22radius%22%3A%2019.782994274892015%2C%20%22stroke%22%3A%20true%2C%20%22weight%22%3A%203%7D%0A%20%20%20%20%20%20%20%20%20%20%20%20%29.addTo%28map_6b5914baf0204b2e8a4385393e79290d%29%3B%0A%20%20%20%20%20%20%20%20%0A%20%20%20%20%0A%20%20%20%20%20%20%20%20%20%20%20%20var%20circle_marker_15a13d8a7d1146c1b8539567a9c2a9e0%20%3D%20L.circleMarker%28%0A%20%20%20%20%20%20%20%20%20%20%20%20%20%20%20%20%5B37.5718915247338%2C%20126.998935936567%5D%2C%0A%20%20%20%20%20%20%20%20%20%20%20%20%20%20%20%20%7B%22bubblingMouseEvents%22%3A%20true%2C%20%22color%22%3A%20%22%233186cc%22%2C%20%22dashArray%22%3A%20null%2C%20%22dashOffset%22%3A%20null%2C%20%22fill%22%3A%20true%2C%20%22fillColor%22%3A%20%22%233186cc%22%2C%20%22fillOpacity%22%3A%200.2%2C%20%22fillRule%22%3A%20%22evenodd%22%2C%20%22lineCap%22%3A%20%22round%22%2C%20%22lineJoin%22%3A%20%22round%22%2C%20%22opacity%22%3A%201.0%2C%20%22radius%22%3A%2011.983818821745583%2C%20%22stroke%22%3A%20true%2C%20%22weight%22%3A%203%7D%0A%20%20%20%20%20%20%20%20%20%20%20%20%29.addTo%28map_6b5914baf0204b2e8a4385393e79290d%29%3B%0A%20%20%20%20%20%20%20%20%0A%20%20%20%20%0A%20%20%20%20%20%20%20%20%20%20%20%20var%20circle_marker_ebf01a43243846bda917af69c53a66f4%20%3D%20L.circleMarker%28%0A%20%20%20%20%20%20%20%20%20%20%20%20%20%20%20%20%5B37.54117933635974%2C%20126.96777437089538%5D%2C%0A%20%20%20%20%20%20%20%20%20%20%20%20%20%20%20%20%7B%22bubblingMouseEvents%22%3A%20true%2C%20%22color%22%3A%20%22%233186cc%22%2C%20%22dashArray%22%3A%20null%2C%20%22dashOffset%22%3A%20null%2C%20%22fill%22%3A%20true%2C%20%22fillColor%22%3A%20%22%233186cc%22%2C%20%22fillOpacity%22%3A%200.2%2C%20%22fillRule%22%3A%20%22evenodd%22%2C%20%22lineCap%22%3A%20%22round%22%2C%20%22lineJoin%22%3A%20%22round%22%2C%20%22opacity%22%3A%201.0%2C%20%22radius%22%3A%2026.906854239104728%2C%20%22stroke%22%3A%20true%2C%20%22weight%22%3A%203%7D%0A%20%20%20%20%20%20%20%20%20%20%20%20%29.addTo%28map_6b5914baf0204b2e8a4385393e79290d%29%3B%0A%20%20%20%20%20%20%20%20%0A%20%20%20%20%0A%20%20%20%20%20%20%20%20%20%20%20%20var%20circle_marker_e8b73c1c2ead4d579e5f8665a7cb165a%20%3D%20L.circleMarker%28%0A%20%20%20%20%20%20%20%20%20%20%20%20%20%20%20%20%5B37.58989767143614%2C%20127.01625465308534%5D%2C%0A%20%20%20%20%20%20%20%20%20%20%20%20%20%20%20%20%7B%22bubblingMouseEvents%22%3A%20true%2C%20%22color%22%3A%20%22%233186cc%22%2C%20%22dashArray%22%3A%20null%2C%20%22dashOffset%22%3A%20null%2C%20%22fill%22%3A%20true%2C%20%22fillColor%22%3A%20%22%233186cc%22%2C%20%22fillOpacity%22%3A%200.2%2C%20%22fillRule%22%3A%20%22evenodd%22%2C%20%22lineCap%22%3A%20%22round%22%2C%20%22lineJoin%22%3A%20%22round%22%2C%20%22opacity%22%3A%201.0%2C%20%22radius%22%3A%2011.55649106677772%2C%20%22stroke%22%3A%20true%2C%20%22weight%22%3A%203%7D%0A%20%20%20%20%20%20%20%20%20%20%20%20%29.addTo%28map_6b5914baf0204b2e8a4385393e79290d%29%3B%0A%20%20%20%20%20%20%20%20%0A%20%20%20%20%0A%20%20%20%20%20%20%20%20%20%20%20%20var%20circle_marker_4c6a148163ef42adb54c671a1778aa0b%20%3D%20L.circleMarker%28%0A%20%20%20%20%20%20%20%20%20%20%20%20%20%20%20%20%5B37.5850804205685%2C%20127.045762797538%5D%2C%0A%20%20%20%20%20%20%20%20%20%20%20%20%20%20%20%20%7B%22bubblingMouseEvents%22%3A%20true%2C%20%22color%22%3A%20%22%233186cc%22%2C%20%22dashArray%22%3A%20null%2C%20%22dashOffset%22%3A%20null%2C%20%22fill%22%3A%20true%2C%20%22fillColor%22%3A%20%22%233186cc%22%2C%20%22fillOpacity%22%3A%200.2%2C%20%22fillRule%22%3A%20%22evenodd%22%2C%20%22lineCap%22%3A%20%22round%22%2C%20%22lineJoin%22%3A%20%22round%22%2C%20%22opacity%22%3A%201.0%2C%20%22radius%22%3A%2028.973020374942664%2C%20%22stroke%22%3A%20true%2C%20%22weight%22%3A%203%7D%0A%20%20%20%20%20%20%20%20%20%20%20%20%29.addTo%28map_6b5914baf0204b2e8a4385393e79290d%29%3B%0A%20%20%20%20%20%20%20%20%0A%20%20%20%20%0A%20%20%20%20%20%20%20%20%20%20%20%20var%20circle_marker_e3ff1f13bd24475c8f9086f5a387f664%20%3D%20L.circleMarker%28%0A%20%20%20%20%20%20%20%20%20%20%20%20%20%20%20%20%5B37.5510118582052%2C%20126.95394117396%5D%2C%0A%20%20%20%20%20%20%20%20%20%20%20%20%20%20%20%20%7B%22bubblingMouseEvents%22%3A%20true%2C%20%22color%22%3A%20%22%233186cc%22%2C%20%22dashArray%22%3A%20null%2C%20%22dashOffset%22%3A%20null%2C%20%22fill%22%3A%20true%2C%20%22fillColor%22%3A%20%22%233186cc%22%2C%20%22fillOpacity%22%3A%200.2%2C%20%22fillRule%22%3A%20%22evenodd%22%2C%20%22lineCap%22%3A%20%22round%22%2C%20%22lineJoin%22%3A%20%22round%22%2C%20%22opacity%22%3A%201.0%2C%20%22radius%22%3A%2035.386565520023254%2C%20%22stroke%22%3A%20true%2C%20%22weight%22%3A%203%7D%0A%20%20%20%20%20%20%20%20%20%20%20%20%29.addTo%28map_6b5914baf0204b2e8a4385393e79290d%29%3B%0A%20%20%20%20%20%20%20%20%0A%20%20%20%20%0A%20%20%20%20%20%20%20%20%20%20%20%20var%20circle_marker_1918613fc6ab4c1db597d5369852bbc3%20%3D%20L.circleMarker%28%0A%20%20%20%20%20%20%20%20%20%20%20%20%20%20%20%20%5B37.52585220719%2C%20126.90094457988%5D%2C%0A%20%20%20%20%20%20%20%20%20%20%20%20%20%20%20%20%7B%22bubblingMouseEvents%22%3A%20true%2C%20%22color%22%3A%20%22%233186cc%22%2C%20%22dashArray%22%3A%20null%2C%20%22dashOffset%22%3A%20null%2C%20%22fill%22%3A%20true%2C%20%22fillColor%22%3A%20%22%233186cc%22%2C%20%22fillOpacity%22%3A%200.2%2C%20%22fillRule%22%3A%20%22evenodd%22%2C%20%22lineCap%22%3A%20%22round%22%2C%20%22lineJoin%22%3A%20%22round%22%2C%20%22opacity%22%3A%201.0%2C%20%22radius%22%3A%2042.75978935955031%2C%20%22stroke%22%3A%20true%2C%20%22weight%22%3A%203%7D%0A%20%20%20%20%20%20%20%20%20%20%20%20%29.addTo%28map_6b5914baf0204b2e8a4385393e79290d%29%3B%0A%20%20%20%20%20%20%20%20%0A%20%20%20%20%0A%20%20%20%20%20%20%20%20%20%20%20%20var%20circle_marker_6c60b6dfc25443b497ea8f26659f6f1c%20%3D%20L.circleMarker%28%0A%20%20%20%20%20%20%20%20%20%20%20%20%20%20%20%20%5B37.5617947420747%2C%20127.036472076258%5D%2C%0A%20%20%20%20%20%20%20%20%20%20%20%20%20%20%20%20%7B%22bubblingMouseEvents%22%3A%20true%2C%20%22color%22%3A%20%22%233186cc%22%2C%20%22dashArray%22%3A%20null%2C%20%22dashOffset%22%3A%20null%2C%20%22fill%22%3A%20true%2C%20%22fillColor%22%3A%20%22%233186cc%22%2C%20%22fillOpacity%22%3A%200.2%2C%20%22fillRule%22%3A%20%22evenodd%22%2C%20%22lineCap%22%3A%20%22round%22%2C%20%22lineJoin%22%3A%20%22round%22%2C%20%22opacity%22%3A%201.0%2C%20%22radius%22%3A%2020.614335953180408%2C%20%22stroke%22%3A%20true%2C%20%22weight%22%3A%203%7D%0A%20%20%20%20%20%20%20%20%20%20%20%20%29.addTo%28map_6b5914baf0204b2e8a4385393e79290d%29%3B%0A%20%20%20%20%20%20%20%20%0A%20%20%20%20%0A%20%20%20%20%20%20%20%20%20%20%20%20var%20circle_marker_c35b2ba7e946480faa1d4b239c44212a%20%3D%20L.circleMarker%28%0A%20%20%20%20%20%20%20%20%20%20%20%20%20%20%20%20%5B37.5131469479959%2C%20126.942857105642%5D%2C%0A%20%20%20%20%20%20%20%20%20%20%20%20%20%20%20%20%7B%22bubblingMouseEvents%22%3A%20true%2C%20%22color%22%3A%20%22%233186cc%22%2C%20%22dashArray%22%3A%20null%2C%20%22dashOffset%22%3A%20null%2C%20%22fill%22%3A%20true%2C%20%22fillColor%22%3A%20%22%233186cc%22%2C%20%22fillOpacity%22%3A%200.2%2C%20%22fillRule%22%3A%20%22evenodd%22%2C%20%22lineCap%22%3A%20%22round%22%2C%20%22lineJoin%22%3A%20%22round%22%2C%20%22opacity%22%3A%201.0%2C%20%22radius%22%3A%2022.25314394449212%2C%20%22stroke%22%3A%20true%2C%20%22weight%22%3A%203%7D%0A%20%20%20%20%20%20%20%20%20%20%20%20%29.addTo%28map_6b5914baf0204b2e8a4385393e79290d%29%3B%0A%20%20%20%20%20%20%20%20%0A%20%20%20%20%0A%20%20%20%20%20%20%20%20%20%20%20%20var%20circle_marker_f54d1de27fd5404eb509c4dca0ec3754%20%3D%20L.circleMarker%28%0A%20%20%20%20%20%20%20%20%20%20%20%20%20%20%20%20%5B37.54292164557882%2C%20127.08396170505674%5D%2C%0A%20%20%20%20%20%20%20%20%20%20%20%20%20%20%20%20%7B%22bubblingMouseEvents%22%3A%20true%2C%20%22color%22%3A%20%22%233186cc%22%2C%20%22dashArray%22%3A%20null%2C%20%22dashOffset%22%3A%20null%2C%20%22fill%22%3A%20true%2C%20%22fillColor%22%3A%20%22%233186cc%22%2C%20%22fillOpacity%22%3A%200.2%2C%20%22fillRule%22%3A%20%22evenodd%22%2C%20%22lineCap%22%3A%20%22round%22%2C%20%22lineJoin%22%3A%20%22round%22%2C%20%22opacity%22%3A%201.0%2C%20%22radius%22%3A%2039.602593499569984%2C%20%22stroke%22%3A%20true%2C%20%22weight%22%3A%203%7D%0A%20%20%20%20%20%20%20%20%20%20%20%20%29.addTo%28map_6b5914baf0204b2e8a4385393e79290d%29%3B%0A%20%20%20%20%20%20%20%20%0A%20%20%20%20%0A%20%20%20%20%20%20%20%20%20%20%20%20var%20circle_marker_9782539d3dce4b7f89bd847dbac38222%20%3D%20L.circleMarker%28%0A%20%20%20%20%20%20%20%20%20%20%20%20%20%20%20%20%5B37.60215667958602%2C%20126.92131688777927%5D%2C%0A%20%20%20%20%20%20%20%20%20%20%20%20%20%20%20%20%7B%22bubblingMouseEvents%22%3A%20true%2C%20%22color%22%3A%20%22%233186cc%22%2C%20%22dashArray%22%3A%20null%2C%20%22dashOffset%22%3A%20null%2C%20%22fill%22%3A%20true%2C%20%22fillColor%22%3A%20%22%233186cc%22%2C%20%22fillOpacity%22%3A%200.2%2C%20%22fillRule%22%3A%20%22evenodd%22%2C%20%22lineCap%22%3A%20%22round%22%2C%20%22lineJoin%22%3A%20%22round%22%2C%20%22opacity%22%3A%201.0%2C%20%22radius%22%3A%2010.239958554606282%2C%20%22stroke%22%3A%20true%2C%20%22weight%22%3A%203%7D%0A%20%20%20%20%20%20%20%20%20%20%20%20%29.addTo%28map_6b5914baf0204b2e8a4385393e79290d%29%3B%0A%20%20%20%20%20%20%20%20%0A%20%20%20%20%0A%20%20%20%20%20%20%20%20%20%20%20%20var%20circle_marker_a3f553daaca04b8c99f801ed2b2988b8%20%3D%20L.circleMarker%28%0A%20%20%20%20%20%20%20%20%20%20%20%20%20%20%20%20%5B37.637406561393085%2C%20127.02733870040592%5D%2C%0A%20%20%20%20%20%20%20%20%20%20%20%20%20%20%20%20%7B%22bubblingMouseEvents%22%3A%20true%2C%20%22color%22%3A%20%22%233186cc%22%2C%20%22dashArray%22%3A%20null%2C%20%22dashOffset%22%3A%20null%2C%20%22fill%22%3A%20true%2C%20%22fillColor%22%3A%20%22%233186cc%22%2C%20%22fillOpacity%22%3A%200.2%2C%20%22fillRule%22%3A%20%22evenodd%22%2C%20%22lineCap%22%3A%20%22round%22%2C%20%22lineJoin%22%3A%20%22round%22%2C%20%22opacity%22%3A%201.0%2C%20%22radius%22%3A%2029.53710220519152%2C%20%22stroke%22%3A%20true%2C%20%22weight%22%3A%203%7D%0A%20%20%20%20%20%20%20%20%20%20%20%20%29.addTo%28map_6b5914baf0204b2e8a4385393e79290d%29%3B%0A%20%20%20%20%20%20%20%20%0A%20%20%20%20%0A%20%20%20%20%20%20%20%20%20%20%20%20var%20circle_marker_339874baf1ef41b6b8be3be259d12d55%20%3D%20L.circleMarker%28%0A%20%20%20%20%20%20%20%20%20%20%20%20%20%20%20%20%5B37.45725314643252%2C%20126.89674921449215%5D%2C%0A%20%20%20%20%20%20%20%20%20%20%20%20%20%20%20%20%7B%22bubblingMouseEvents%22%3A%20true%2C%20%22color%22%3A%20%22%233186cc%22%2C%20%22dashArray%22%3A%20null%2C%20%22dashOffset%22%3A%20null%2C%20%22fill%22%3A%20true%2C%20%22fillColor%22%3A%20%22%233186cc%22%2C%20%22fillOpacity%22%3A%200.2%2C%20%22fillRule%22%3A%20%22evenodd%22%2C%20%22lineCap%22%3A%20%22round%22%2C%20%22lineJoin%22%3A%20%22round%22%2C%20%22opacity%22%3A%201.0%2C%20%22radius%22%3A%2023.532068517612572%2C%20%22stroke%22%3A%20true%2C%20%22weight%22%3A%203%7D%0A%20%20%20%20%20%20%20%20%20%20%20%20%29.addTo%28map_6b5914baf0204b2e8a4385393e79290d%29%3B%0A%20%20%20%20%20%20%20%20%0A%20%20%20%20%0A%20%20%20%20%20%20%20%20%20%20%20%20var%20circle_marker_5a672b9a0753491294f597f0f0758251%20%3D%20L.circleMarker%28%0A%20%20%20%20%20%20%20%20%20%20%20%20%20%20%20%20%5B37.6182390801576%2C%20127.10454224897%5D%2C%0A%20%20%20%20%20%20%20%20%20%20%20%20%20%20%20%20%7B%22bubblingMouseEvents%22%3A%20true%2C%20%22color%22%3A%20%22%233186cc%22%2C%20%22dashArray%22%3A%20null%2C%20%22dashOffset%22%3A%20null%2C%20%22fill%22%3A%20true%2C%20%22fillColor%22%3A%20%22%233186cc%22%2C%20%22fillOpacity%22%3A%200.2%2C%20%22fillRule%22%3A%20%22evenodd%22%2C%20%22lineCap%22%3A%20%22round%22%2C%20%22lineJoin%22%3A%20%22round%22%2C%20%22opacity%22%3A%201.0%2C%20%22radius%22%3A%2034.07422936874137%2C%20%22stroke%22%3A%20true%2C%20%22weight%22%3A%203%7D%0A%20%20%20%20%20%20%20%20%20%20%20%20%29.addTo%28map_6b5914baf0204b2e8a4385393e79290d%29%3B%0A%20%20%20%20%20%20%20%20%0A%20%20%20%20%0A%20%20%20%20%20%20%20%20%20%20%20%20var%20circle_marker_2469aa14f3cc401a9ff2fccd095ea482%20%3D%20L.circleMarker%28%0A%20%20%20%20%20%20%20%20%20%20%20%20%20%20%20%20%5B37.5093899463715%2C%20127.067070541137%5D%2C%0A%20%20%20%20%20%20%20%20%20%20%20%20%20%20%20%20%7B%22bubblingMouseEvents%22%3A%20true%2C%20%22color%22%3A%20%22%233186cc%22%2C%20%22dashArray%22%3A%20null%2C%20%22dashOffset%22%3A%20null%2C%20%22fill%22%3A%20true%2C%20%22fillColor%22%3A%20%22%233186cc%22%2C%20%22fillOpacity%22%3A%200.2%2C%20%22fillRule%22%3A%20%22evenodd%22%2C%20%22lineCap%22%3A%20%22round%22%2C%20%22lineJoin%22%3A%20%22round%22%2C%20%22opacity%22%3A%201.0%2C%20%22radius%22%3A%2031.177807765175714%2C%20%22stroke%22%3A%20true%2C%20%22weight%22%3A%203%7D%0A%20%20%20%20%20%20%20%20%20%20%20%20%29.addTo%28map_6b5914baf0204b2e8a4385393e79290d%29%3B%0A%20%20%20%20%20%20%20%20%0A%20%20%20%20%0A%20%20%20%20%20%20%20%20%20%20%20%20var%20circle_marker_1e1e4f2211844a3a922a49508cf0f9b2%20%3D%20L.circleMarker%28%0A%20%20%20%20%20%20%20%20%20%20%20%20%20%20%20%20%5B37.4745875338795%2C%20126.951062346192%5D%2C%0A%20%20%20%20%20%20%20%20%20%20%20%20%20%20%20%20%7B%22bubblingMouseEvents%22%3A%20true%2C%20%22color%22%3A%20%22%233186cc%22%2C%20%22dashArray%22%3A%20null%2C%20%22dashOffset%22%3A%20null%2C%20%22fill%22%3A%20true%2C%20%22fillColor%22%3A%20%22%233186cc%22%2C%20%22fillOpacity%22%3A%200.2%2C%20%22fillRule%22%3A%20%22evenodd%22%2C%20%22lineCap%22%3A%20%22round%22%2C%20%22lineJoin%22%3A%20%22round%22%2C%20%22opacity%22%3A%201.0%2C%20%22radius%22%3A%2036.3974276320542%2C%20%22stroke%22%3A%20true%2C%20%22weight%22%3A%203%7D%0A%20%20%20%20%20%20%20%20%20%20%20%20%29.addTo%28map_6b5914baf0204b2e8a4385393e79290d%29%3B%0A%20%20%20%20%20%20%20%20%0A%20%20%20%20%0A%20%20%20%20%20%20%20%20%20%20%20%20var%20circle_marker_57cab5995d0a4aa8a7fad99d6ec37715%20%3D%20L.circleMarker%28%0A%20%20%20%20%20%20%20%20%20%20%20%20%20%20%20%20%5B37.5513470867979%2C%20126.849886071842%5D%2C%0A%20%20%20%20%20%20%20%20%20%20%20%20%20%20%20%20%7B%22bubblingMouseEvents%22%3A%20true%2C%20%22color%22%3A%20%22%233186cc%22%2C%20%22dashArray%22%3A%20null%2C%20%22dashOffset%22%3A%20null%2C%20%22fill%22%3A%20true%2C%20%22fillColor%22%3A%20%22%233186cc%22%2C%20%22fillOpacity%22%3A%200.2%2C%20%22fillRule%22%3A%20%22evenodd%22%2C%20%22lineCap%22%3A%20%22round%22%2C%20%22lineJoin%22%3A%20%22round%22%2C%20%22opacity%22%3A%201.0%2C%20%22radius%22%3A%2038.4456669853531%2C%20%22stroke%22%3A%20true%2C%20%22weight%22%3A%203%7D%0A%20%20%20%20%20%20%20%20%20%20%20%20%29.addTo%28map_6b5914baf0204b2e8a4385393e79290d%29%3B%0A%20%20%20%20%20%20%20%20%0A%20%20%20%20%0A%20%20%20%20%20%20%20%20%20%20%20%20var%20circle_marker_04298004dd1544efb99f3fe48625fe7c%20%3D%20L.circleMarker%28%0A%20%20%20%20%20%20%20%20%20%20%20%20%20%20%20%20%5B37.52867274661258%2C%20127.12688982770433%5D%2C%0A%20%20%20%20%20%20%20%20%20%20%20%20%20%20%20%20%7B%22bubblingMouseEvents%22%3A%20true%2C%20%22color%22%3A%20%22%233186cc%22%2C%20%22dashArray%22%3A%20null%2C%20%22dashOffset%22%3A%20null%2C%20%22fill%22%3A%20true%2C%20%22fillColor%22%3A%20%22%233186cc%22%2C%20%22fillOpacity%22%3A%200.2%2C%20%22fillRule%22%3A%20%22evenodd%22%2C%20%22lineCap%22%3A%20%22round%22%2C%20%22lineJoin%22%3A%20%22round%22%2C%20%22opacity%22%3A%201.0%2C%20%22radius%22%3A%2024.327253342869888%2C%20%22stroke%22%3A%20true%2C%20%22weight%22%3A%203%7D%0A%20%20%20%20%20%20%20%20%20%20%20%20%29.addTo%28map_6b5914baf0204b2e8a4385393e79290d%29%3B%0A%20%20%20%20%20%20%20%20%0A%20%20%20%20%0A%20%20%20%20%20%20%20%20%20%20%20%20var%20circle_marker_e7bb9ab3c4294eedb4d1575d0161a5aa%20%3D%20L.circleMarker%28%0A%20%20%20%20%20%20%20%20%20%20%20%20%20%20%20%20%5B37.602095614954%2C%20127.032233767891%5D%2C%0A%20%20%20%20%20%20%20%20%20%20%20%20%20%20%20%20%7B%22bubblingMouseEvents%22%3A%20true%2C%20%22color%22%3A%20%22%233186cc%22%2C%20%22dashArray%22%3A%20null%2C%20%22dashOffset%22%3A%20null%2C%20%22fill%22%3A%20true%2C%20%22fillColor%22%3A%20%22%233186cc%22%2C%20%22fillOpacity%22%3A%200.2%2C%20%22fillRule%22%3A%20%22evenodd%22%2C%20%22lineCap%22%3A%20%22round%22%2C%20%22lineJoin%22%3A%20%22round%22%2C%20%22opacity%22%3A%201.0%2C%20%22radius%22%3A%2011.23631795725326%2C%20%22stroke%22%3A%20true%2C%20%22weight%22%3A%203%7D%0A%20%20%20%20%20%20%20%20%20%20%20%20%29.addTo%28map_6b5914baf0204b2e8a4385393e79290d%29%3B%0A%20%20%20%20%20%20%20%20%0A%20%20%20%20%0A%20%20%20%20%20%20%20%20%20%20%20%20var%20circle_marker_3ed5b7c6c7a347f1ab373a319d5dc9af%20%3D%20L.circleMarker%28%0A%20%20%20%20%20%20%20%20%20%20%20%20%20%20%20%20%5B37.4948844667899%2C%20126.886660285169%5D%2C%0A%20%20%20%20%20%20%20%20%20%20%20%20%20%20%20%20%7B%22bubblingMouseEvents%22%3A%20true%2C%20%22color%22%3A%20%22%233186cc%22%2C%20%22dashArray%22%3A%20null%2C%20%22dashOffset%22%3A%20null%2C%20%22fill%22%3A%20true%2C%20%22fillColor%22%3A%20%22%233186cc%22%2C%20%22fillOpacity%22%3A%200.2%2C%20%22fillRule%22%3A%20%22evenodd%22%2C%20%22lineCap%22%3A%20%22round%22%2C%20%22lineJoin%22%3A%20%22round%22%2C%20%22opacity%22%3A%201.0%2C%20%22radius%22%3A%2031.045515566601438%2C%20%22stroke%22%3A%20true%2C%20%22weight%22%3A%203%7D%0A%20%20%20%20%20%20%20%20%20%20%20%20%29.addTo%28map_6b5914baf0204b2e8a4385393e79290d%29%3B%0A%20%20%20%20%20%20%20%20%0A%20%20%20%20%0A%20%20%20%20%20%20%20%20%20%20%20%20var%20circle_marker_a4763b36f63b49fa93b4ba2fa37df00a%20%3D%20L.circleMarker%28%0A%20%20%20%20%20%20%20%20%20%20%20%20%20%20%20%20%5B37.49561086789221%2C%20127.00528097622329%5D%2C%0A%20%20%20%20%20%20%20%20%20%20%20%20%20%20%20%20%7B%22bubblingMouseEvents%22%3A%20true%2C%20%22color%22%3A%20%22%233186cc%22%2C%20%22dashArray%22%3A%20null%2C%20%22dashOffset%22%3A%20null%2C%20%22fill%22%3A%20true%2C%20%22fillColor%22%3A%20%22%233186cc%22%2C%20%22fillOpacity%22%3A%200.2%2C%20%22fillRule%22%3A%20%22evenodd%22%2C%20%22lineCap%22%3A%20%22round%22%2C%20%22lineJoin%22%3A%20%22round%22%2C%20%22opacity%22%3A%201.0%2C%20%22radius%22%3A%2025.584318446749734%2C%20%22stroke%22%3A%20true%2C%20%22weight%22%3A%203%7D%0A%20%20%20%20%20%20%20%20%20%20%20%20%29.addTo%28map_6b5914baf0204b2e8a4385393e79290d%29%3B%0A%20%20%20%20%20%20%20%20%0A%20%20%20%20%0A%20%20%20%20%20%20%20%20%20%20%20%20var%20circle_marker_f2b69adaeeca49ee8d67c239affd2788%20%3D%20L.circleMarker%28%0A%20%20%20%20%20%20%20%20%20%20%20%20%20%20%20%20%5B37.5165549067037%2C%20126.865542970902%5D%2C%0A%20%20%20%20%20%20%20%20%20%20%20%20%20%20%20%20%7B%22bubblingMouseEvents%22%3A%20true%2C%20%22color%22%3A%20%22%233186cc%22%2C%20%22dashArray%22%3A%20null%2C%20%22dashOffset%22%3A%20null%2C%20%22fill%22%3A%20true%2C%20%22fillColor%22%3A%20%22%233186cc%22%2C%20%22fillOpacity%22%3A%200.2%2C%20%22fillRule%22%3A%20%22evenodd%22%2C%20%22lineCap%22%3A%20%22round%22%2C%20%22lineJoin%22%3A%20%22round%22%2C%20%22opacity%22%3A%201.0%2C%20%22radius%22%3A%2021.689650522798534%2C%20%22stroke%22%3A%20true%2C%20%22weight%22%3A%203%7D%0A%20%20%20%20%20%20%20%20%20%20%20%20%29.addTo%28map_6b5914baf0204b2e8a4385393e79290d%29%3B%0A%20%20%20%20%20%20%20%20%0A%20%20%20%20%0A%20%20%20%20%20%20%20%20%20%20%20%20var%20circle_marker_60f6c9d1bedc448c857897fa22cfaab7%20%3D%20L.circleMarker%28%0A%20%20%20%20%20%20%20%20%20%20%20%20%20%20%20%20%5B37.5019757297179%2C%20127.12716129352492%5D%2C%0A%20%20%20%20%20%20%20%20%20%20%20%20%20%20%20%20%7B%22bubblingMouseEvents%22%3A%20true%2C%20%22color%22%3A%20%22%233186cc%22%2C%20%22dashArray%22%3A%20null%2C%20%22dashOffset%22%3A%20null%2C%20%22fill%22%3A%20true%2C%20%22fillColor%22%3A%20%22%233186cc%22%2C%20%22fillOpacity%22%3A%200.2%2C%20%22fillRule%22%3A%20%22evenodd%22%2C%20%22lineCap%22%3A%20%22round%22%2C%20%22lineJoin%22%3A%20%22round%22%2C%20%22opacity%22%3A%201.0%2C%20%22radius%22%3A%2037.63598203648766%2C%20%22stroke%22%3A%20true%2C%20%22weight%22%3A%203%7D%0A%20%20%20%20%20%20%20%20%20%20%20%20%29.addTo%28map_6b5914baf0204b2e8a4385393e79290d%29%3B%0A%20%20%20%20%20%20%20%20%0A%20%20%20%20%0A%20%20%20%20%20%20%20%20%20%20%20%20var%20circle_marker_1f538ff0769e42ddb9af15c3ca886391%20%3D%20L.circleMarker%28%0A%20%20%20%20%20%20%20%20%20%20%20%20%20%20%20%20%5B37.6423345266253%2C%20127.071404832413%5D%2C%0A%20%20%20%20%20%20%20%20%20%20%20%20%20%20%20%20%7B%22bubblingMouseEvents%22%3A%20true%2C%20%22color%22%3A%20%22%233186cc%22%2C%20%22dashArray%22%3A%20null%2C%20%22dashOffset%22%3A%20null%2C%20%22fill%22%3A%20true%2C%20%22fillColor%22%3A%20%22%233186cc%22%2C%20%22fillOpacity%22%3A%200.2%2C%20%22fillRule%22%3A%20%22evenodd%22%2C%20%22lineCap%22%3A%20%22round%22%2C%20%22lineJoin%22%3A%20%22round%22%2C%20%22opacity%22%3A%201.0%2C%20%22radius%22%3A%2030.062526105428308%2C%20%22stroke%22%3A%20true%2C%20%22weight%22%3A%203%7D%0A%20%20%20%20%20%20%20%20%20%20%20%20%29.addTo%28map_6b5914baf0204b2e8a4385393e79290d%29%3B%0A%20%20%20%20%20%20%20%20%0A%20%20%20%20%0A%20%20%20%20%20%20%20%20%20%20%20%20var%20circle_marker_6c99bfac617d43639f8f2891f01d026e%20%3D%20L.circleMarker%28%0A%20%20%20%20%20%20%20%20%20%20%20%20%20%20%20%20%5B37.48155944749938%2C%20126.98300906928465%5D%2C%0A%20%20%20%20%20%20%20%20%20%20%20%20%20%20%20%20%7B%22bubblingMouseEvents%22%3A%20true%2C%20%22color%22%3A%20%22%233186cc%22%2C%20%22dashArray%22%3A%20null%2C%20%22dashOffset%22%3A%20null%2C%20%22fill%22%3A%20true%2C%20%22fillColor%22%3A%20%22%233186cc%22%2C%20%22fillOpacity%22%3A%200.2%2C%20%22fillRule%22%3A%20%22evenodd%22%2C%20%22lineCap%22%3A%20%22round%22%2C%20%22lineJoin%22%3A%20%22round%22%2C%20%22opacity%22%3A%201.0%2C%20%22radius%22%3A%207.433250864857172%2C%20%22stroke%22%3A%20true%2C%20%22weight%22%3A%203%7D%0A%20%20%20%20%20%20%20%20%20%20%20%20%29.addTo%28map_6b5914baf0204b2e8a4385393e79290d%29%3B%0A%20%20%20%20%20%20%20%20%0A%20%20%20%20%0A%20%20%20%20%20%20%20%20%20%20%20%20var%20circle_marker_340fc5ca3c3046fc96a7278ed5d063ba%20%3D%20L.circleMarker%28%0A%20%20%20%20%20%20%20%20%20%20%20%20%20%20%20%20%5B37.6285242467996%2C%20126.928631038584%5D%2C%0A%20%20%20%20%20%20%20%20%20%20%20%20%20%20%20%20%7B%22bubblingMouseEvents%22%3A%20true%2C%20%22color%22%3A%20%22%233186cc%22%2C%20%22dashArray%22%3A%20null%2C%20%22dashOffset%22%3A%20null%2C%20%22fill%22%3A%20true%2C%20%22fillColor%22%3A%20%22%233186cc%22%2C%20%22fillOpacity%22%3A%200.2%2C%20%22fillRule%22%3A%20%22evenodd%22%2C%20%22lineCap%22%3A%20%22round%22%2C%20%22lineJoin%22%3A%20%22round%22%2C%20%22opacity%22%3A%201.0%2C%20%22radius%22%3A%2013.631882150734953%2C%20%22stroke%22%3A%20true%2C%20%22weight%22%3A%203%7D%0A%20%20%20%20%20%20%20%20%20%20%20%20%29.addTo%28map_6b5914baf0204b2e8a4385393e79290d%29%3B%0A%20%20%20%20%20%20%20%20%0A%20%20%20%20%0A%20%20%20%20%20%20%20%20%20%20%20%20var%20circle_marker_0ab8e548c4c84c03a46c0e5b071bc078%20%3D%20L.circleMarker%28%0A%20%20%20%20%20%20%20%20%20%20%20%20%20%20%20%20%5B37.65339041848567%2C%20127.05270598499145%5D%2C%0A%20%20%20%20%20%20%20%20%20%20%20%20%20%20%20%20%7B%22bubblingMouseEvents%22%3A%20true%2C%20%22color%22%3A%20%22%233186cc%22%2C%20%22dashArray%22%3A%20null%2C%20%22dashOffset%22%3A%20null%2C%20%22fill%22%3A%20true%2C%20%22fillColor%22%3A%20%22%233186cc%22%2C%20%22fillOpacity%22%3A%200.2%2C%20%22fillRule%22%3A%20%22evenodd%22%2C%20%22lineCap%22%3A%20%22round%22%2C%20%22lineJoin%22%3A%20%22round%22%2C%20%22opacity%22%3A%201.0%2C%20%22radius%22%3A%2018.781340182981857%2C%20%22stroke%22%3A%20true%2C%20%22weight%22%3A%203%7D%0A%20%20%20%20%20%20%20%20%20%20%20%20%29.addTo%28map_6b5914baf0204b2e8a4385393e79290d%29%3B%0A%20%20%20%20%20%20%20%20%0A%20%20%20%20%0A%20%20%20%20%20%20%20%20%20%20%20%20var%20circle_marker_fec1c4a7337f475f82b450029b3020bd%20%3D%20L.circleMarker%28%0A%20%20%20%20%20%20%20%20%20%20%20%20%20%20%20%20%5B37.4934972653425%2C%20127.077143044327%5D%2C%0A%20%20%20%20%20%20%20%20%20%20%20%20%20%20%20%20%7B%22bubblingMouseEvents%22%3A%20true%2C%20%22color%22%3A%20%22%233186cc%22%2C%20%22dashArray%22%3A%20null%2C%20%22dashOffset%22%3A%20null%2C%20%22fill%22%3A%20true%2C%20%22fillColor%22%3A%20%22%233186cc%22%2C%20%22fillOpacity%22%3A%200.2%2C%20%22fillRule%22%3A%20%22evenodd%22%2C%20%22lineCap%22%3A%20%22round%22%2C%20%22lineJoin%22%3A%20%22round%22%2C%20%22opacity%22%3A%201.0%2C%20%22radius%22%3A%2023.641730166442514%2C%20%22stroke%22%3A%20true%2C%20%22weight%22%3A%203%7D%0A%20%20%20%20%20%20%20%20%20%20%20%20%29.addTo%28map_6b5914baf0204b2e8a4385393e79290d%29%3B%0A%20%20%20%20%20%20%20%20%0A%3C/script%3E onload=\"this.contentDocument.open();this.contentDocument.write(    decodeURIComponent(this.getAttribute('data-html')));this.contentDocument.close();\" allowfullscreen webkitallowfullscreen mozallowfullscreen></iframe></div></div>"
     },
     "metadata": {},
     "execution_count": 97
    }
   ],
   "source": [
    "map = folium.Map(location=[37.5502, 126.982], zoom_start=11)\n",
    "\n",
    "for n in crime_anal_raw.index:\n",
    "    folium.CircleMarker([crime_anal_raw['lat'][n], crime_anal_raw['lng'][n]], \n",
    "                        radius = crime_anal_raw['검거'][n]*10, \n",
    "                        color='#3186cc', fill_color='#3186cc', fill=True).add_to(map)\n",
    "    \n",
    "map"
   ]
  },
  {
   "cell_type": "code",
   "execution_count": 14,
   "metadata": {},
   "outputs": [
    {
     "output_type": "error",
     "ename": "NameError",
     "evalue": "name 'folium' is not defined",
     "traceback": [
      "\u001b[0;31m---------------------------------------------------------------------------\u001b[0m",
      "\u001b[0;31mNameError\u001b[0m                                 Traceback (most recent call last)",
      "\u001b[0;32m<ipython-input-14-d3e012d1decb>\u001b[0m in \u001b[0;36m<module>\u001b[0;34m\u001b[0m\n\u001b[0;32m----> 1\u001b[0;31m \u001b[0mmap\u001b[0m \u001b[0;34m=\u001b[0m \u001b[0mfolium\u001b[0m\u001b[0;34m.\u001b[0m\u001b[0mMap\u001b[0m\u001b[0;34m(\u001b[0m\u001b[0mlocation\u001b[0m\u001b[0;34m=\u001b[0m\u001b[0;34m[\u001b[0m\u001b[0;36m37.5502\u001b[0m\u001b[0;34m,\u001b[0m \u001b[0;36m126.982\u001b[0m\u001b[0;34m]\u001b[0m\u001b[0;34m,\u001b[0m \u001b[0mzoom_start\u001b[0m\u001b[0;34m=\u001b[0m\u001b[0;36m11\u001b[0m\u001b[0;34m)\u001b[0m\u001b[0;34m\u001b[0m\u001b[0;34m\u001b[0m\u001b[0m\n\u001b[0m\u001b[1;32m      2\u001b[0m \u001b[0;34m\u001b[0m\u001b[0m\n\u001b[1;32m      3\u001b[0m map.choropleth(geo_data = geo_str,\n\u001b[1;32m      4\u001b[0m                \u001b[0mdata\u001b[0m \u001b[0;34m=\u001b[0m \u001b[0mcrime_anal_norm\u001b[0m\u001b[0;34m[\u001b[0m\u001b[0;34m'범죄'\u001b[0m\u001b[0;34m]\u001b[0m\u001b[0;34m,\u001b[0m\u001b[0;34m\u001b[0m\u001b[0;34m\u001b[0m\u001b[0m\n\u001b[1;32m      5\u001b[0m                \u001b[0mcolumns\u001b[0m \u001b[0;34m=\u001b[0m \u001b[0;34m[\u001b[0m\u001b[0mcrime_anal_norm\u001b[0m\u001b[0;34m.\u001b[0m\u001b[0mindex\u001b[0m\u001b[0;34m,\u001b[0m \u001b[0mcrime_anal_norm\u001b[0m\u001b[0;34m[\u001b[0m\u001b[0;34m'범죄'\u001b[0m\u001b[0;34m]\u001b[0m\u001b[0;34m]\u001b[0m\u001b[0;34m,\u001b[0m\u001b[0;34m\u001b[0m\u001b[0;34m\u001b[0m\u001b[0m\n",
      "\u001b[0;31mNameError\u001b[0m: name 'folium' is not defined"
     ]
    }
   ],
   "source": [
    "map = folium.Map(location=[37.5502, 126.982], zoom_start=11)\n",
    "\n",
    "map.choropleth(geo_data = geo_str,\n",
    "               data = crime_anal_norm['범죄'],\n",
    "               columns = [crime_anal_norm.index, crime_anal_norm['범죄']],\n",
    "               fill_color = 'PuRd', #PuRd, YlGnBu\n",
    "               key_on = 'feature.id')\n",
    "\n",
    "for n in crime_anal_raw.index:\n",
    "    folium.CircleMarker([crime_anal_raw['lat'][n], crime_anal_raw['lng'][n]], \n",
    "                        radius = crime_anal_raw['검거'][n]*10, \n",
    "                        color='#3186cc', fill_color='#3186cc', fill=True).add_to(map)\n",
    "    \n",
    "map"
   ]
  },
  {
   "cell_type": "code",
   "execution_count": null,
   "metadata": {},
   "outputs": [],
   "source": []
  }
 ],
 "metadata": {
  "anaconda-cloud": {},
  "kernelspec": {
   "name": "python388jvsc74a57bd0a4503c66061154845d9feebd31ca779b200feb9d7f34a6bcb97185d9ee5f3fa3",
   "display_name": "Python 3.8.8 64-bit ('base': conda)"
  },
  "language_info": {
   "codemirror_mode": {
    "name": "ipython",
    "version": 3
   },
   "file_extension": ".py",
   "mimetype": "text/x-python",
   "name": "python",
   "nbconvert_exporter": "python",
   "pygments_lexer": "ipython3",
   "version": "3.8.8"
  }
 },
 "nbformat": 4,
 "nbformat_minor": 1
}